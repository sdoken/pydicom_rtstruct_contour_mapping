{
 "cells": [
  {
   "cell_type": "markdown",
   "metadata": {},
   "source": [
    "Goal : to make a python file."
   ]
  },
  {
   "cell_type": "code",
   "execution_count": 1,
   "metadata": {},
   "outputs": [],
   "source": [
    "import numpy as np\n",
    "import pydicom\n",
    "import matplotlib.pyplot as plt\n",
    "%matplotlib inline"
   ]
  },
  {
   "cell_type": "code",
   "execution_count": 2,
   "metadata": {},
   "outputs": [],
   "source": [
    "def calculate_image_seq_on_dicompyler(image_no):\n",
    "    return 136-image_no + 1"
   ]
  },
  {
   "cell_type": "code",
   "execution_count": 3,
   "metadata": {},
   "outputs": [],
   "source": [
    "def display_scan(filename_text):\n",
    "    plt.imshow(pydicom.dcmread(filename_text).pixel_array, cmap=plt.cm.bone)"
   ]
  },
  {
   "cell_type": "code",
   "execution_count": 4,
   "metadata": {},
   "outputs": [],
   "source": [
    "integervalue = 3\n",
    "'{0:03d}'.format(integervalue)\n",
    "# image_uids --> sop_instance_ids_of_136_scans\n",
    "image_uids = [] # data: ids of all images in the dataset\n",
    "#image_locations = [] # data : locations of all slices/images in the dataset\n",
    "uid_to_filename_map = dict()\n",
    "uid_to_location_map = dict()\n",
    "filename = 'data/P1152/P1152_pCT_20140226_'\n",
    "\n",
    "# making a list of UIDs of all images\n",
    "# going through all the files\n",
    "for i in range(1, 137):\n",
    "    current_filename = filename + '{0:03d}'.format(i) + '.dcm'\n",
    "    current_file = pydicom.dcmread(current_filename)\n",
    "    current_uid = current_file.SOPInstanceUID\n",
    "    current_location = current_file.SliceLocation\n",
    "    image_uids.append(current_uid)\n",
    "    uid_to_filename_map[current_uid] = current_filename\n",
    "    uid_to_location_map[current_uid] = current_location # think about merging these 2 dicts\n",
    "    #image_locations.append(current_file.SliceLocation)  # think about using strings vs integers\n",
    "    # computational cost."
   ]
  },
  {
   "cell_type": "markdown",
   "metadata": {},
   "source": [
    "The goal here is to find : the contours and extract them."
   ]
  },
  {
   "cell_type": "code",
   "execution_count": 5,
   "metadata": {},
   "outputs": [],
   "source": [
    "# contour_file_for_all_136_scans --> cffas\n",
    "cffas = pydicom.dcmread('data/P1152/P1152_RTStructure_1.dcm')"
   ]
  },
  {
   "cell_type": "code",
   "execution_count": 6,
   "metadata": {},
   "outputs": [],
   "source": [
    "contours = cffas.ROIContourSequence[9].ContourSequence[6].ContourData"
   ]
  },
  {
   "cell_type": "code",
   "execution_count": 7,
   "metadata": {},
   "outputs": [],
   "source": [
    "def find_correct_image(contoursequence):\n",
    "    \"\"\"\n",
    "    Given an rtstruct.dicom files ROIContourSequence[9].ContourSequence[i],\n",
    "    return the correct filename (using the UID)\n",
    "    \"\"\"\n",
    "    return uid_to_filename_map[contoursequence.ContourImageSequence[0].ReferencedSOPInstanceUID]"
   ]
  },
  {
   "cell_type": "code",
   "execution_count": null,
   "metadata": {},
   "outputs": [],
   "source": [
    "filename_associated_with_contour = find_correct_image(cffas.ROIContourSequence[9].ContourSequence[6])"
   ]
  },
  {
   "cell_type": "code",
   "execution_count": null,
   "metadata": {},
   "outputs": [],
   "source": [
    "no_of_image_in_filename = int(filename_associated_with_contour[-7:-4])\n",
    "print(no_of_image_in_filename)\n",
    "calculate_image_seq_on_dicompyler(no_of_image_in_filename)"
   ]
  },
  {
   "cell_type": "code",
   "execution_count": null,
   "metadata": {},
   "outputs": [],
   "source": [
    "file_of_slice_with_contours = pydicom.dcmread(find_correct_image(cffas.ROIContourSequence[9].ContourSequence[6]))\n",
    "pixel_array = file_of_slice_with_contours.pixel_array"
   ]
  },
  {
   "cell_type": "code",
   "execution_count": null,
   "metadata": {},
   "outputs": [],
   "source": [
    "pixel_spacing = file_of_slice_with_contours.PixelSpacing\n",
    "x_gap = pixel_spacing[0]\n",
    "y_gap = pixel_spacing[1]\n",
    "image_position_starting_points = file_of_slice_with_contours.ImagePositionPatient\n",
    "x_start = float(image_position_starting_points[0])\n",
    "y_start = float(image_position_starting_points[1])"
   ]
  },
  {
   "cell_type": "code",
   "execution_count": null,
   "metadata": {},
   "outputs": [],
   "source": [
    "x_coords_of_contours = [ float(number) for number in contours[0::3] ]"
   ]
  },
  {
   "cell_type": "code",
   "execution_count": null,
   "metadata": {},
   "outputs": [],
   "source": [
    "y_coords_of_contours = [ float(number) for number in contours[1::3] ]"
   ]
  },
  {
   "cell_type": "code",
   "execution_count": null,
   "metadata": {},
   "outputs": [],
   "source": [
    "x_pixel_nos = (np.array(x_coords_of_contours)+300)/x_gap"
   ]
  },
  {
   "cell_type": "code",
   "execution_count": null,
   "metadata": {},
   "outputs": [],
   "source": [
    "y_pixel_nos = (np.array(y_coords_of_contours)+271)/y_gap"
   ]
  },
  {
   "cell_type": "code",
   "execution_count": null,
   "metadata": {},
   "outputs": [],
   "source": [
    "import matplotlib.pyplot as plt\n",
    "plt.figure()\n",
    "plt.imshow(pixel_array, cmap='bone')\n",
    "plt.plot(x_pixel_nos, y_pixel_nos, color='r')\n",
    "plt.figure()"
   ]
  },
  {
   "cell_type": "markdown",
   "metadata": {},
   "source": [
    "At this stage, I try to find the pixels that fall within the contours in x_pixel_nos and y_pixel_nos."
   ]
  },
  {
   "cell_type": "code",
   "execution_count": null,
   "metadata": {},
   "outputs": [],
   "source": [
    "import cv2"
   ]
  },
  {
   "cell_type": "code",
   "execution_count": null,
   "metadata": {},
   "outputs": [],
   "source": []
  },
  {
   "cell_type": "code",
   "execution_count": null,
   "metadata": {},
   "outputs": [],
   "source": [
    "test = np.zeros_like(pixel_array)"
   ]
  },
  {
   "cell_type": "code",
   "execution_count": null,
   "metadata": {},
   "outputs": [],
   "source": [
    "test"
   ]
  },
  {
   "cell_type": "code",
   "execution_count": null,
   "metadata": {},
   "outputs": [],
   "source": [
    "cv2.drawContours(cimg, contours, i, color=255, thickness=-1)"
   ]
  },
  {
   "cell_type": "markdown",
   "metadata": {},
   "source": [
    "Make an array of Nx1x2 as the number of total contours."
   ]
  },
  {
   "cell_type": "code",
   "execution_count": null,
   "metadata": {},
   "outputs": [],
   "source": [
    "cv2.drawContours(cimg, contours, i, color=255, thickness=-1)"
   ]
  },
  {
   "cell_type": "code",
   "execution_count": null,
   "metadata": {},
   "outputs": [],
   "source": []
  },
  {
   "cell_type": "code",
   "execution_count": null,
   "metadata": {},
   "outputs": [],
   "source": [
    "cimg = np.zeros_like(img)"
   ]
  }
 ],
 "metadata": {
  "kernelspec": {
   "display_name": "Python 3",
   "language": "python",
   "name": "python3"
  },
  "language_info": {
   "codemirror_mode": {
    "name": "ipython",
    "version": 3
   },
   "file_extension": ".py",
   "mimetype": "text/x-python",
   "name": "python",
   "nbconvert_exporter": "python",
   "pygments_lexer": "ipython3",
   "version": "3.6.5"
  }
 },
 "nbformat": 4,
 "nbformat_minor": 2
}
