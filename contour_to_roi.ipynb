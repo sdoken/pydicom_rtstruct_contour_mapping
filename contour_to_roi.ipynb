{
 "cells": [
  {
   "cell_type": "code",
   "execution_count": 1,
   "metadata": {},
   "outputs": [],
   "source": [
    "import numpy as np\n",
    "import pydicom\n",
    "import matplotlib.pyplot as plt\n",
    "%matplotlib inline"
   ]
  },
  {
   "cell_type": "code",
   "execution_count": 2,
   "metadata": {},
   "outputs": [],
   "source": [
    "data_file_of_a_slice = pydicom.dcmread('data/P1152/P1152_pCT_20140226_068.dcm')\n",
    "pixel_array = data_file_of_a_slice.pixel_array #pixel array of ct scan"
   ]
  },
  {
   "cell_type": "code",
   "execution_count": 3,
   "metadata": {},
   "outputs": [],
   "source": [
    "integervalue = 3\n",
    "'{0:03d}'.format(integervalue)\n",
    "# image_uids --> sop_instance_ids_of_136_scans\n",
    "image_uids = [] # data: ids of all images in the dataset\n",
    "#image_locations = [] # data : locations of all slices/images in the dataset\n",
    "uid_to_filename_map = dict()\n",
    "uid_to_location_map = dict()\n",
    "filename = 'data/P1152/P1152_pCT_20140226_'\n",
    "\n",
    "# making a list of UIDs of all images\n",
    "# going through all the files\n",
    "for i in range(1, 137):\n",
    "    current_filename = filename + '{0:03d}'.format(i) + '.dcm'\n",
    "    current_file = pydicom.dcmread(current_filename)\n",
    "    current_uid = current_file.SOPInstanceUID\n",
    "    current_location = current_file.SliceLocation\n",
    "    image_uids.append(current_uid)\n",
    "    uid_to_filename_map[current_uid] = current_filename\n",
    "    uid_to_location_map[current_uid] = current_location # think about merging these 2 dicts\n",
    "    #image_locations.append(current_file.SliceLocation)  # think about using strings vs integers\n",
    "    # computational cost."
   ]
  },
  {
   "cell_type": "code",
   "execution_count": 4,
   "metadata": {},
   "outputs": [],
   "source": [
    "# contour_file_for_all_136_scans --> cffas\n",
    "cffas = pydicom.dcmread('data/P1152/P1152_RTStructure_1.dcm')"
   ]
  },
  {
   "cell_type": "code",
   "execution_count": 5,
   "metadata": {},
   "outputs": [],
   "source": [
    "contours = cffas.ROIContourSequence[9].ContourSequence[0].ContourData"
   ]
  },
  {
   "cell_type": "code",
   "execution_count": 6,
   "metadata": {},
   "outputs": [],
   "source": [
    "pixel_spacing = data_file_of_a_slice.PixelSpacing\n",
    "x_gap = pixel_spacing[0]\n",
    "y_gap = pixel_spacing[1]"
   ]
  },
  {
   "cell_type": "code",
   "execution_count": 7,
   "metadata": {},
   "outputs": [],
   "source": [
    "image_position_starting_points = data_file_of_a_slice.ImagePositionPatient"
   ]
  },
  {
   "cell_type": "code",
   "execution_count": 8,
   "metadata": {},
   "outputs": [],
   "source": [
    "x_start = float(image_position_starting_points[0])\n",
    "y_start = float(image_position_starting_points[1])"
   ]
  },
  {
   "cell_type": "code",
   "execution_count": 9,
   "metadata": {},
   "outputs": [],
   "source": [
    "x_coords_of_contours = [ float(number) for number in contours[0::3] ]"
   ]
  },
  {
   "cell_type": "code",
   "execution_count": 10,
   "metadata": {},
   "outputs": [],
   "source": [
    "y_coords_of_contours = [ float(number) for number in contours[1::3] ]"
   ]
  },
  {
   "cell_type": "code",
   "execution_count": 11,
   "metadata": {},
   "outputs": [],
   "source": [
    "z_coords_of_contours = contours[2::3]"
   ]
  },
  {
   "cell_type": "code",
   "execution_count": null,
   "metadata": {},
   "outputs": [],
   "source": []
  },
  {
   "cell_type": "code",
   "execution_count": null,
   "metadata": {},
   "outputs": [],
   "source": []
  },
  {
   "cell_type": "code",
   "execution_count": null,
   "metadata": {},
   "outputs": [],
   "source": []
  },
  {
   "cell_type": "code",
   "execution_count": null,
   "metadata": {},
   "outputs": [],
   "source": []
  },
  {
   "cell_type": "code",
   "execution_count": null,
   "metadata": {},
   "outputs": [],
   "source": []
  },
  {
   "cell_type": "code",
   "execution_count": null,
   "metadata": {},
   "outputs": [],
   "source": []
  },
  {
   "cell_type": "markdown",
   "metadata": {},
   "source": [
    "How do you actually get these contours out?\n",
    "\n"
   ]
  }
 ],
 "metadata": {
  "kernelspec": {
   "display_name": "Python [conda env:anaconda3]",
   "language": "python",
   "name": "conda-env-anaconda3-py"
  },
  "language_info": {
   "codemirror_mode": {
    "name": "ipython",
    "version": 3
   },
   "file_extension": ".py",
   "mimetype": "text/x-python",
   "name": "python",
   "nbconvert_exporter": "python",
   "pygments_lexer": "ipython3",
   "version": "3.5.5"
  }
 },
 "nbformat": 4,
 "nbformat_minor": 2
}
