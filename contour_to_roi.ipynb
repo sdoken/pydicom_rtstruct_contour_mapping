{
 "cells": [
  {
   "cell_type": "code",
   "execution_count": 1,
   "metadata": {},
   "outputs": [],
   "source": [
    "import numpy as np\n",
    "import pydicom\n",
    "import matplotlib.pyplot as plt\n",
    "%matplotlib inline"
   ]
  },
  {
   "cell_type": "code",
   "execution_count": 2,
   "metadata": {},
   "outputs": [],
   "source": [
    "def calculate_image_seq_on_dicompyler(image_no):\n",
    "    return 136-image_no + 1"
   ]
  },
  {
   "cell_type": "code",
   "execution_count": 3,
   "metadata": {},
   "outputs": [],
   "source": [
    "def display_scan(filename_text):\n",
    "    plt.imshow(pydicom.dcmread(filename_text).pixel_array, cmap=plt.cm.bone)"
   ]
  },
  {
   "cell_type": "code",
   "execution_count": 4,
   "metadata": {},
   "outputs": [],
   "source": [
    "integervalue = 3\n",
    "'{0:03d}'.format(integervalue)\n",
    "# image_uids --> sop_instance_ids_of_136_scans\n",
    "image_uids = [] # data: ids of all images in the dataset\n",
    "#image_locations = [] # data : locations of all slices/images in the dataset\n",
    "uid_to_filename_map = dict()\n",
    "uid_to_location_map = dict()\n",
    "filename = 'data/P1152/P1152_pCT_20140226_'\n",
    "\n",
    "# making a list of UIDs of all images\n",
    "# going through all the files\n",
    "for i in range(1, 137):\n",
    "    current_filename = filename + '{0:03d}'.format(i) + '.dcm'\n",
    "    current_file = pydicom.dcmread(current_filename)\n",
    "    current_uid = current_file.SOPInstanceUID\n",
    "    current_location = current_file.SliceLocation\n",
    "    image_uids.append(current_uid)\n",
    "    uid_to_filename_map[current_uid] = current_filename\n",
    "    uid_to_location_map[current_uid] = current_location # think about merging these 2 dicts\n",
    "    #image_locations.append(current_file.SliceLocation)  # think about using strings vs integers\n",
    "    # computational cost."
   ]
  },
  {
   "cell_type": "markdown",
   "metadata": {},
   "source": [
    "The goal here is to find : the contours and extract them."
   ]
  },
  {
   "cell_type": "code",
   "execution_count": 5,
   "metadata": {},
   "outputs": [],
   "source": [
    "# contour_file_for_all_136_scans --> cffas\n",
    "cffas = pydicom.dcmread('data/P1152/P1152_RTStructure_1.dcm')"
   ]
  },
  {
   "cell_type": "code",
   "execution_count": 6,
   "metadata": {},
   "outputs": [],
   "source": [
    "contours = cffas.ROIContourSequence[9].ContourSequence[6].ContourData # just one foset"
   ]
  },
  {
   "cell_type": "code",
   "execution_count": 7,
   "metadata": {},
   "outputs": [
    {
     "ename": "NameError",
     "evalue": "name 'data_file_of_a_slice' is not defined",
     "output_type": "error",
     "traceback": [
      "\u001b[0;31m---------------------------------------------------------------------------\u001b[0m",
      "\u001b[0;31mNameError\u001b[0m                                 Traceback (most recent call last)",
      "\u001b[0;32m<ipython-input-7-0ff23d439977>\u001b[0m in \u001b[0;36m<module>\u001b[0;34m()\u001b[0m\n\u001b[0;32m----> 1\u001b[0;31m \u001b[0mpixel_spacing\u001b[0m \u001b[0;34m=\u001b[0m \u001b[0mdata_file_of_a_slice\u001b[0m\u001b[0;34m.\u001b[0m\u001b[0mPixelSpacing\u001b[0m\u001b[0;34m\u001b[0m\u001b[0m\n\u001b[0m\u001b[1;32m      2\u001b[0m \u001b[0mx_gap\u001b[0m \u001b[0;34m=\u001b[0m \u001b[0mpixel_spacing\u001b[0m\u001b[0;34m[\u001b[0m\u001b[0;36m0\u001b[0m\u001b[0;34m]\u001b[0m\u001b[0;34m\u001b[0m\u001b[0m\n\u001b[1;32m      3\u001b[0m \u001b[0my_gap\u001b[0m \u001b[0;34m=\u001b[0m \u001b[0mpixel_spacing\u001b[0m\u001b[0;34m[\u001b[0m\u001b[0;36m1\u001b[0m\u001b[0;34m]\u001b[0m\u001b[0;34m\u001b[0m\u001b[0m\n",
      "\u001b[0;31mNameError\u001b[0m: name 'data_file_of_a_slice' is not defined"
     ]
    }
   ],
   "source": [
    "pixel_spacing = data_file_of_a_slice.PixelSpacing\n",
    "x_gap = pixel_spacing[0]\n",
    "y_gap = pixel_spacing[1]\n",
    "image_position_starting_points = data_file_of_a_slice.ImagePositionPatient\n",
    "x_start = float(image_position_starting_points[0])\n",
    "y_start = float(image_position_starting_points[1])"
   ]
  },
  {
   "cell_type": "code",
   "execution_count": null,
   "metadata": {},
   "outputs": [],
   "source": [
    "x_coords_of_contours = [ float(number) for number in contours[0::3] ]"
   ]
  },
  {
   "cell_type": "code",
   "execution_count": null,
   "metadata": {},
   "outputs": [],
   "source": [
    "y_coords_of_contours = [ float(number) for number in contours[1::3] ]"
   ]
  },
  {
   "cell_type": "code",
   "execution_count": null,
   "metadata": {},
   "outputs": [],
   "source": [
    "x_pixel_nos = (np.array(x_coords_of_contours)+300)/x_gap"
   ]
  },
  {
   "cell_type": "code",
   "execution_count": null,
   "metadata": {},
   "outputs": [],
   "source": [
    "y_pixel_nos = (np.array(y_coords_of_contours)+271)/y_gap"
   ]
  },
  {
   "cell_type": "code",
   "execution_count": null,
   "metadata": {},
   "outputs": [],
   "source": [
    "import matplotlib.pyplot as plt\n",
    "plt.figure()\n",
    "plt.imshow(pixel_array, cmap='bone')\n",
    "plt.plot(x_pixel_nos, y_pixel_nos, color='r')\n",
    "plt.figure()"
   ]
  },
  {
   "cell_type": "code",
   "execution_count": null,
   "metadata": {},
   "outputs": [],
   "source": [
    "z_coords_of_contours = contours[2::3]"
   ]
  },
  {
   "cell_type": "code",
   "execution_count": null,
   "metadata": {},
   "outputs": [],
   "source": [
    "current_uid = cffas.ROIContourSequence[9].ContourSequence[0].ContourImageSequence[0].ReferencedSOPInstanceUID\n",
    "found_filename = uid_to_filename_map[current_uid] # correct image \n",
    "\n",
    "found_filename"
   ]
  },
  {
   "cell_type": "markdown",
   "metadata": {},
   "source": [
    "How do you actually get these contours out?\n",
    "\n"
   ]
  }
 ],
 "metadata": {
  "kernelspec": {
   "display_name": "Python [conda env:anaconda3]",
   "language": "python",
   "name": "conda-env-anaconda3-py"
  },
  "language_info": {
   "codemirror_mode": {
    "name": "ipython",
    "version": 3
   },
   "file_extension": ".py",
   "mimetype": "text/x-python",
   "name": "python",
   "nbconvert_exporter": "python",
   "pygments_lexer": "ipython3",
   "version": "3.5.5"
  }
 },
 "nbformat": 4,
 "nbformat_minor": 2
}
