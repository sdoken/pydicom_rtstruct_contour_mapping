{
 "cells": [
  {
   "cell_type": "code",
   "execution_count": 1,
   "metadata": {},
   "outputs": [],
   "source": [
    "import numpy as np\n",
    "import pydicom\n",
    "import matplotlib.pyplot as plt\n",
    "%matplotlib inline"
   ]
  },
  {
   "cell_type": "markdown",
   "metadata": {},
   "source": [
    "### Getting the Data In"
   ]
  },
  {
   "cell_type": "code",
   "execution_count": null,
   "metadata": {},
   "outputs": [],
   "source": [
    "data_file_of_last_slice_of_CT_scan = pydicom.dcmread('data/P1152/P1152_pCT_20140226_136.dcm')\n",
    "pixel_array = data_file_of_last_slice_of_CT_scan.pixel_array #pixel array of ct scan"
   ]
  },
  {
   "cell_type": "code",
   "execution_count": 48,
   "metadata": {},
   "outputs": [
    {
     "data": {
      "text/plain": [
       "(0008, 0005) Specific Character Set              CS: 'ISO_IR 100'\n",
       "(0008, 0008) Image Type                          CS: ['ORIGINAL', 'PRIMARY', 'AXIAL', 'HELIX']\n",
       "(0008, 0012) Instance Creation Date              DA: '20140226'\n",
       "(0008, 0013) Instance Creation Time              TM: '145900'\n",
       "(0008, 0016) SOP Class UID                       UI: CT Image Storage\n",
       "(0008, 0018) SOP Instance UID                    UI: 2.16.840.1.114362.1.6.7.5.17616.11849865775.479250700.411.1418\n",
       "(0008, 0020) Study Date                          DA: '20140226'\n",
       "(0008, 0022) Acquisition Date                    DA: '20140226'\n",
       "(0008, 0023) Content Date                        DA: '20140226'\n",
       "(0008, 002a) Acquisition DateTime                DT: '20140226145846-0500'\n",
       "(0008, 0030) Study Time                          TM: '144847'\n",
       "(0008, 0032) Acquisition Time                    TM: '145846'\n",
       "(0008, 0033) Content Time                        TM: '145857.410000'\n",
       "(0008, 0050) Accession Number                    SH: ''\n",
       "(0008, 0060) Modality                            CS: 'CT'\n",
       "(0008, 0070) Manufacturer                        LO: 'Philips'\n",
       "(0008, 0080) Institution Name                    LO: ''\n",
       "(0008, 0090) Referring Physician's Name          PN: ''\n",
       "(0008, 1030) Study Description                   LO: ''\n",
       "(0008, 103e) Series Description                  LO: ''\n",
       "(0008, 1090) Manufacturer's Model Name           LO: 'Brilliance Big Bore'\n",
       "(0008, 1140)  Referenced Image Sequence   1 item(s) ---- \n",
       "   (0008, 1150) Referenced SOP Class UID            UI: CT Image Storage\n",
       "   (0008, 1155) Referenced SOP Instance UID         UI: 2.16.840.1.114362.1.6.7.5.17616.11849865775.479250700.146.1326\n",
       "   ---------\n",
       "(0010, 0010) Patient's Name                      PN: 'Radiomics^P1152'\n",
       "(0010, 0020) Patient ID                          LO: 'P1152'\n",
       "(0010, 0030) Patient's Birth Date                DA: ''\n",
       "(0010, 0040) Patient's Sex                       CS: 'M'\n",
       "(0010, 1010) Patient's Age                       AS: '072Y'\n",
       "(0010, 2000) Medical Alerts                      LO: ''\n",
       "(0012, 0062) Patient Identity Removed            CS: 'YES'\n",
       "(0012, 0063) De-identification Method            LO: 'Limited Data Set: MIM.6.7.5.H616-04'\n",
       "(0018, 0022) Scan Options                        CS: 'HELIX'\n",
       "(0018, 0050) Slice Thickness                     DS: \"3.00\"\n",
       "(0018, 0060) KVP                                 DS: \"120\"\n",
       "(0018, 0088) Spacing Between Slices              DS: \"3.0\"\n",
       "(0018, 0090) Data Collection Diameter            DS: \"600\"\n",
       "(0018, 1020) Software Version(s)                 LO: '3.5.4.17001'\n",
       "(0018, 1030) Protocol Name                       LO: '4D CT/OncoBody'\n",
       "(0018, 1100) Reconstruction Diameter             DS: \"600\"\n",
       "(0018, 1120) Gantry/Detector Tilt                DS: \"0\"\n",
       "(0018, 1130) Table Height                        DS: \"226.000000\"\n",
       "(0018, 1140) Rotation Direction                  CS: 'CW'\n",
       "(0018, 1150) Exposure Time                       IS: '923'\n",
       "(0018, 1151) X-Ray Tube Current                  IS: '304'\n",
       "(0018, 1152) Exposure                            IS: '280'\n",
       "(0018, 1160) Filter Type                         SH: 'C'\n",
       "(0018, 1210) Convolution Kernel                  SH: 'C'\n",
       "(0018, 5100) Patient Position                    CS: 'HFS'\n",
       "(0018, 9321)  CT Exposure Sequence   1 item(s) ---- \n",
       "   (0018, 9323) Exposure Modulation Type            CS: 'NONE'\n",
       "   (0018, 9324) Estimated Dose Saving               FD: 0.0\n",
       "   (0018, 9328) Exposure Time in ms                 FD: 0.9210526315789473\n",
       "   (0018, 9330) X-Ray Tube Current in mA            FD: 304.0\n",
       "   (0018, 9332) Exposure in mAs                     FD: 280.0\n",
       "   (0018, 9345) CTDIvol                             FD: 16.6\n",
       "   ---------\n",
       "(0018, 9323) Exposure Modulation Type            CS: 'NONE'\n",
       "(0018, 9345) CTDIvol                             FD: 16.6\n",
       "(0020, 000d) Study Instance UID                  UI: 2.16.840.1.114362.1.6.7.5.17616.11849865775.479250700.146.1323\n",
       "(0020, 000e) Series Instance UID                 UI: 2.16.840.1.114362.1.6.7.5.17616.11849865775.479250700.146.1324\n",
       "(0020, 0010) Study ID                            SH: ''\n",
       "(0020, 0011) Series Number                       IS: '3'\n",
       "(0020, 0012) Acquisition Number                  IS: ''\n",
       "(0020, 0013) Instance Number                     IS: '93'\n",
       "(0020, 0032) Image Position (Patient)            DS: ['-300', '-271', '-658.5']\n",
       "(0020, 0037) Image Orientation (Patient)         DS: ['1', '0', '0', '0', '1', '0']\n",
       "(0020, 0052) Frame of Reference UID              UI: 2.16.840.1.114362.1.6.7.5.17616.11849865775.479250700.146.1325\n",
       "(0020, 0060) Laterality                          CS: ''\n",
       "(0020, 1040) Position Reference Indicator        LO: ''\n",
       "(0020, 1041) Slice Location                      DS: \"-658.50\"\n",
       "(0028, 0002) Samples per Pixel                   US: 1\n",
       "(0028, 0004) Photometric Interpretation          CS: 'MONOCHROME2'\n",
       "(0028, 0010) Rows                                US: 512\n",
       "(0028, 0011) Columns                             US: 512\n",
       "(0028, 0030) Pixel Spacing                       DS: ['1.171875', '1.171875']\n",
       "(0028, 0100) Bits Allocated                      US: 16\n",
       "(0028, 0101) Bits Stored                         US: 12\n",
       "(0028, 0102) High Bit                            US: 11\n",
       "(0028, 0103) Pixel Representation                US: 0\n",
       "(0028, 1050) Window Center                       DS: ['00060', '00060']\n",
       "(0028, 1051) Window Width                        DS: ['00400', '00400']\n",
       "(0028, 1052) Rescale Intercept                   DS: \"-1024\"\n",
       "(0028, 1053) Rescale Slope                       DS: \"1\"\n",
       "(0032, 1070) Requested Contrast Agent            LO: ''\n",
       "(0040, 0012) Pre-Medication                      LO: ''\n",
       "(7fe0, 0010) Pixel Data                          OW: Array of 524288 bytes"
      ]
     },
     "execution_count": 48,
     "metadata": {},
     "output_type": "execute_result"
    }
   ],
   "source": [
    "data_file_of_last_slice_of_CT_scan"
   ]
  },
  {
   "cell_type": "code",
   "execution_count": 2,
   "metadata": {},
   "outputs": [],
   "source": [
    "data_file_of_last_slice_of_CT_scan = pydicom.dcmread('data/P1152/P1152_pCT_20140226_136.dcm')\n",
    "pixel_array = data_file_of_last_slice_of_CT_scan.pixel_array #pixel array of ct scan"
   ]
  },
  {
   "cell_type": "markdown",
   "metadata": {},
   "source": [
    "May want to also try `read_file` function of pydicom (instead of `dcmread` later to see if that makes finding contours easier."
   ]
  },
  {
   "cell_type": "markdown",
   "metadata": {},
   "source": [
    "### Exploring the Data"
   ]
  },
  {
   "cell_type": "markdown",
   "metadata": {},
   "source": [
    "#### Data Type and Shape"
   ]
  },
  {
   "cell_type": "markdown",
   "metadata": {},
   "source": [
    "This is a **numpy array** of values that indicates the brightness of each pixel. This means all numpy array functions and numpy-compatible libraries (such as sk-image) can be used to analyze."
   ]
  },
  {
   "cell_type": "code",
   "execution_count": 121,
   "metadata": {},
   "outputs": [
    {
     "data": {
      "text/plain": [
       "0"
      ]
     },
     "execution_count": 121,
     "metadata": {},
     "output_type": "execute_result"
    }
   ],
   "source": [
    "pixel_array.min()"
   ]
  },
  {
   "cell_type": "code",
   "execution_count": 3,
   "metadata": {},
   "outputs": [
    {
     "data": {
      "text/plain": [
       "array([[0, 0, 0, ..., 0, 0, 0],\n",
       "       [0, 0, 0, ..., 0, 0, 0],\n",
       "       [0, 0, 0, ..., 0, 0, 0],\n",
       "       ...,\n",
       "       [0, 0, 0, ..., 0, 0, 0],\n",
       "       [0, 0, 0, ..., 0, 0, 0],\n",
       "       [0, 0, 0, ..., 0, 0, 0]], dtype=uint16)"
      ]
     },
     "execution_count": 3,
     "metadata": {},
     "output_type": "execute_result"
    }
   ],
   "source": [
    "pixel_array"
   ]
  },
  {
   "cell_type": "code",
   "execution_count": 4,
   "metadata": {},
   "outputs": [
    {
     "data": {
      "text/plain": [
       "(512, 512)"
      ]
     },
     "execution_count": 4,
     "metadata": {},
     "output_type": "execute_result"
    }
   ],
   "source": [
    "pixel_array.shape"
   ]
  },
  {
   "cell_type": "markdown",
   "metadata": {},
   "source": [
    "#### Exploring the Values of Pixels in the Array"
   ]
  },
  {
   "cell_type": "code",
   "execution_count": 5,
   "metadata": {
    "scrolled": true
   },
   "outputs": [
    {
     "name": "stdout",
     "output_type": "stream",
     "text": [
      "The average value of a pixel in the array is 171\n",
      "The standard deviation of pixel values in the array is 343\n",
      "The minimum value of a pixel in the array 0\n",
      "The maximum value of a pixel in the array 2607\n"
     ]
    }
   ],
   "source": [
    "print('The average value of a pixel in the array is {0:.0f}'.format(pixel_array.mean()))\n",
    "print('The standard deviation of pixel values in the array is {0:.0f}'.format(pixel_array.std()))\n",
    "print('The minimum value of a pixel in the array {}'.format(pixel_array.min()))\n",
    "print('The maximum value of a pixel in the array {}'.format(pixel_array.max()))"
   ]
  },
  {
   "cell_type": "code",
   "execution_count": 6,
   "metadata": {},
   "outputs": [
    {
     "data": {
      "text/plain": [
       "11.348174867535556"
      ]
     },
     "execution_count": 6,
     "metadata": {},
     "output_type": "execute_result"
    }
   ],
   "source": [
    "import math\n",
    "math.log2(2607) # just checking pixel brightness has to do with the no of bits"
   ]
  },
  {
   "cell_type": "markdown",
   "metadata": {},
   "source": [
    "#### Displaying the Image"
   ]
  },
  {
   "cell_type": "code",
   "execution_count": 7,
   "metadata": {
    "scrolled": true
   },
   "outputs": [
    {
     "data": {
      "text/plain": [
       "<matplotlib.colorbar.Colorbar at 0x11afbd4e0>"
      ]
     },
     "execution_count": 7,
     "metadata": {},
     "output_type": "execute_result"
    },
    {
     "data": {
      "image/png": "[encoded data removed]",
      "text/plain": [
       "<Figure size 432x288 with 2 Axes>"
      ]
     },
     "metadata": {},
     "output_type": "display_data"
    }
   ],
   "source": [
    "plt.imshow(pixel_array, cmap=plt.cm.bone)  # i like the cm.heat\n",
    "plt.colorbar()"
   ]
  },
  {
   "cell_type": "markdown",
   "metadata": {},
   "source": [
    "#### Getting UIDs of All Images"
   ]
  },
  {
   "cell_type": "code",
   "execution_count": 8,
   "metadata": {},
   "outputs": [],
   "source": [
    "integervalue = 3\n",
    "'{0:03d}'.format(integervalue)\n",
    "# image_uids --> sop_instance_ids_of_136_scans\n",
    "image_uids = [] # data: ids of all images in the dataset\n",
    "image_locations = [] # data : locations of all slices/images in the dataset\n",
    "uid_to_filename_map = dict()\n",
    "uid_to_location_map = dict()\n",
    "filename = 'data/P1152/P1152_pCT_20140226_'\n",
    "\n",
    "# making a list of UIDs of all images\n",
    "for i in range(1, 137):\n",
    "    current_filename = filename + '{0:03d}'.format(i) + '.dcm'\n",
    "    current_file = pydicom.dcmread(current_filename)\n",
    "    current_uid = current_file.SOPInstanceUID\n",
    "    current_location = current_file.SliceLocation\n",
    "    image_uids.append(current_uid)\n",
    "    uid_to_filename_map[current_uid] = current_filename\n",
    "    uid_to_location_map[current_uid] = current_location # think about merging these 2 dicts\n",
    "    image_locations.append(current_file.SliceLocation)  # think about using strings vs integers\n",
    "    # computational cost."
   ]
  },
  {
   "cell_type": "code",
   "execution_count": 9,
   "metadata": {},
   "outputs": [
    {
     "data": {
      "text/plain": [
       "'2.16.840.1.114362.1.6.7.5.17616.11849865775.479250700.271.1368'"
      ]
     },
     "execution_count": 9,
     "metadata": {},
     "output_type": "execute_result"
    }
   ],
   "source": [
    "# just demo\n",
    "# can use these to match contours to images\n",
    "image = pydicom.dcmread('data/P1152/P1152_pCT_20140226_043.dcm')\n",
    "image.SliceLocation #\n",
    "image.SOPInstanceUID #  can use this to match contours to images"
   ]
  },
  {
   "cell_type": "markdown",
   "metadata": {},
   "source": [
    "### Opening Up Contour Data"
   ]
  },
  {
   "cell_type": "code",
   "execution_count": 10,
   "metadata": {},
   "outputs": [],
   "source": [
    "# contour_file_for_all_136_scans --> cffas\n",
    "cffas = pydicom.dcmread('data/P1152/P1152_RTStructure_1.dcm')"
   ]
  },
  {
   "cell_type": "markdown",
   "metadata": {},
   "source": [
    "The contours we need are contained in a feature called `ROIContourSequence`. It is of type Sequence."
   ]
  },
  {
   "cell_type": "code",
   "execution_count": 11,
   "metadata": {},
   "outputs": [
    {
     "data": {
      "text/plain": [
       "(3006, 002a) ROI Display Color                   IS: ['255', '0', '0']\n",
       "(3006, 0040)  Contour Sequence   1 item(s) ---- \n",
       "   (3006, 0042) Contour Geometric Type              CS: 'POINT'\n",
       "   (3006, 0046) Number of Contour Points            IS: '1'\n",
       "   (3006, 0050) Contour Data                        DS: ['-6.3832092285156', '14.326019287109', '-688.07800292969']\n",
       "   ---------\n",
       "(3006, 0084) Referenced ROI Number               IS: '1'"
      ]
     },
     "execution_count": 11,
     "metadata": {},
     "output_type": "execute_result"
    }
   ],
   "source": [
    "cffas.ROIContourSequence[0]\n",
    "#print(type(cffas.ROIContourSequence))"
   ]
  },
  {
   "cell_type": "code",
   "execution_count": 12,
   "metadata": {},
   "outputs": [
    {
     "data": {
      "text/plain": [
       "(3006, 0042) Contour Geometric Type              CS: 'POINT'\n",
       "(3006, 0046) Number of Contour Points            IS: '1'\n",
       "(3006, 0050) Contour Data                        DS: ['-6.3832092285156', '14.326019287109', '-688.07800292969']"
      ]
     },
     "execution_count": 12,
     "metadata": {},
     "output_type": "execute_result"
    }
   ],
   "source": [
    "cffas.ROIContourSequence[0].ContourSequence[0]\n",
    "# print(type(cffas.ROIContourSequence))\n",
    "# here one can see UID and also SliceLocation as 3rd coordinate/height\n",
    "# metadata on the top, and the contours on the bottom\n",
    "# The coordinates of the contours are inside DS."
   ]
  },
  {
   "cell_type": "code",
   "execution_count": 13,
   "metadata": {},
   "outputs": [
    {
     "data": {
      "text/plain": [
       "(3006, 0016)  Contour Image Sequence   1 item(s) ---- \n",
       "   (0008, 1150) Referenced SOP Class UID            UI: CT Image Storage\n",
       "   (0008, 1155) Referenced SOP Instance UID         UI: 2.16.840.1.114362.1.6.7.5.17616.11849865775.479250700.411.1419\n",
       "   ---------\n",
       "(3006, 0042) Contour Geometric Type              CS: 'CLOSED_PLANAR'\n",
       "(3006, 0046) Number of Contour Points            IS: '68'\n",
       "(3006, 0050) Contour Data                        DS: ['-85.429992675781', '66.031005859375', '-655.5', '-85.31201171875', '65.914001464844', '-655.5', '-83.43798828125', '65.914001464844', '-655.5', '-83.320007324219', '66.031005859375', '-655.5', '-83.203002929688', '66.148010253906', '-655.5', '-82.968994140625', '66.148010253906', '-655.5', '-82.852005004883', '66.265991210938', '-655.5', '-82.733993530273', '66.383026123047', '-655.5', '-82.617004394531', '66.500030517578', '-655.5', '-82.5', '66.617034912109', '-655.5', '-82.382995605469', '66.734008789062', '-655.5', '-82.266006469727', '66.852020263672', '-655.5', '-82.147994995117', '66.968994140625', '-655.5', '-82.031005859375', '67.085998535156', '-655.5', '-81.913986206055', '67.203002929688', '-655.5', '-81.796997070312', '67.319976806641', '-655.5', '-81.679992675781', '67.438018798828', '-655.5', '-81.679992675781', '67.672027587891', '-655.5', '-81.56201171875', '67.789001464844', '-655.5', '-81.445007324219', '67.906005859375', '-655.5', '-81.445007324219', '70.953002929688', '-655.5', '-81.56201171875', '71.069976806641', '-655.5', '-81.679992675781', '71.188018798828', '-655.5', '-81.679992675781', '71.422027587891', '-655.5', '-81.796997070312', '71.539001464844', '-655.5', '-81.913986206055', '71.656005859375', '-655.5', '-82.031005859375', '71.773010253906', '-655.5', '-82.147994995117', '71.890991210938', '-655.5', '-82.266006469727', '72.008026123047', '-655.5', '-82.382995605469', '72.125030517578', '-655.5', '-82.5', '72.242034912109', '-655.5', '-82.617004394531', '72.359008789062', '-655.5', '-82.617004394531', '73.062042236328', '-655.5', '-82.733993530273', '73.180023193359', '-655.5', '-82.852005004883', '73.297027587891', '-655.5', '-82.852005004883', '73.531005859375', '-655.5', '-82.968994140625', '73.648010253906', '-655.5', '-83.086013793945', '73.765991210938', '-655.5', '-83.203002929688', '73.883026123047', '-655.5', '-83.43798828125', '73.883026123047', '-655.5', '-83.554992675781', '74.000030517578', '-655.5', '-83.671997070312', '74.117034912109', '-655.5', '-86.25', '74.117034912109', '-655.5', '-86.367004394531', '74.000030517578', '-655.5', '-86.483993530273', '73.883026123047', '-655.5', '-86.718994140625', '73.883026123047', '-655.5', '-86.836013793945', '73.765991210938', '-655.5', '-86.953002929688', '73.648010253906', '-655.5', '-87.070007324219', '73.531005859375', '-655.5', '-87.070007324219', '73.297027587891', '-655.5', '-87.18798828125', '73.180023193359', '-655.5', '-87.304992675781', '73.062042236328', '-655.5', '-87.304992675781', '67.906005859375', '-655.5', '-87.18798828125', '67.789001464844', '-655.5', '-87.070007324219', '67.672027587891', '-655.5', '-87.070007324219', '67.438018798828', '-655.5', '-86.953002929688', '67.319976806641', '-655.5', '-86.836013793945', '67.203002929688', '-655.5', '-86.718994140625', '67.085998535156', '-655.5', '-86.602005004883', '66.968994140625', '-655.5', '-86.483993530273', '66.852020263672', '-655.5', '-86.367004394531', '66.734008789062', '-655.5', '-86.25', '66.617034912109', '-655.5', '-86.132995605469', '66.500030517578', '-655.5', '-86.016006469727', '66.383026123047', '-655.5', '-85.897994995117', '66.265991210938', '-655.5', '-85.781005859375', '66.148010253906', '-655.5', '-85.546997070312', '66.148010253906', '-655.5']"
      ]
     },
     "execution_count": 13,
     "metadata": {},
     "output_type": "execute_result"
    }
   ],
   "source": [
    "cffas.ROIContourSequence[1].ContourSequence[0]"
   ]
  },
  {
   "cell_type": "markdown",
   "metadata": {},
   "source": [
    "This the first 'set' of contours corresponding to only one point: 'iso LUL'. It seems that the contours sit within 'DS'. How to get at them?"
   ]
  },
  {
   "cell_type": "markdown",
   "metadata": {},
   "source": [
    "Exploring the Different Kinds of Contours:"
   ]
  },
  {
   "cell_type": "code",
   "execution_count": 14,
   "metadata": {},
   "outputs": [
    {
     "name": "stdout",
     "output_type": "stream",
     "text": [
      "['iso LUL', 'RT LUNG', 'LT LUNG', 'HEART', 'CORD', 'ESOPHAGUS', 'TRACHEA', 'PBT', 'IPSI BP', 'GTV FREE', 'GTV IN', 'GTV EX', 'ITV', 'Table Tx', 'PTV', 'ring', 'Total Lung']\n"
     ]
    }
   ],
   "source": [
    "roi_names = []\n",
    "for structure_set_roi_sequence in iter(cffas.StructureSetROISequence):\n",
    "    roi_names.append(structure_set_roi_sequence.ROIName)\n",
    "print(roi_names)"
   ]
  },
  {
   "cell_type": "markdown",
   "metadata": {},
   "source": [
    "The 9th one is 'GTV FREE'"
   ]
  },
  {
   "cell_type": "code",
   "execution_count": 15,
   "metadata": {},
   "outputs": [
    {
     "data": {
      "text/plain": [
       "(3006, 002a) ROI Display Color                   IS: ['0', '255', '0']\n",
       "(3006, 0040)  Contour Sequence   26 item(s) ---- \n",
       "   (3006, 0016)  Contour Image Sequence   1 item(s) ---- \n",
       "      (0008, 1150) Referenced SOP Class UID            UI: CT Image Storage\n",
       "      (0008, 1155) Referenced SOP Instance UID         UI: 2.16.840.1.114362.1.6.7.5.17616.11849865775.479250700.411.1418\n",
       "      ---------\n",
       "   (3006, 0042) Contour Geometric Type              CS: 'CLOSED_PLANAR'\n",
       "   (3006, 0046) Number of Contour Points            IS: '111'\n",
       "   (3006, 0050) Contour Data                        DS: ['13.476989746094', '18.68798828125', '-658.5', '13.593994140625', '18.570007324219', '-658.5', '15.703002929688', '18.570007324219', '-658.5', '15.820007324219', '18.68798828125', '-658.5', '15.820007324219', '18.922027587891', '-658.5', '15.93798828125', '19.039001464844', '-658.5', '16.054992675781', '19.156005859375', '-658.5', '16.054992675781', '19.859008789062', '-658.5', '16.171997070312', '19.977020263672', '-658.5', '16.289001464844', '20.093994140625', '-658.5', '16.406005859375', '20.210998535156', '-658.5', '16.523010253906', '20.328002929688', '-658.5', '16.523010253906', '20.56201171875', '-658.5', '16.406005859375', '20.680023193359', '-658.5', '16.289001464844', '20.797027587891', '-658.5', '16.171997070312', '20.914001464844', '-658.5', '16.054992675781', '21.031005859375', '-658.5', '16.054992675781', '21.266021728516', '-658.5', '15.93798828125', '21.382995605469', '-658.5', '15.820007324219', '21.5', '-658.5', '15.820007324219', '21.734008789062', '-658.5', '15.703002929688', '21.852020263672', '-658.5', '15.585998535156', '21.968994140625', '-658.5', '15.585998535156', '22.203002929688', '-658.5', '15.468994140625', '22.320007324219', '-658.5', '15.351989746094', '22.43798828125', '-658.5', '15.351989746094', '22.672027587891', '-658.5', '15.468994140625', '22.789001464844', '-658.5', '15.585998535156', '22.906005859375', '-658.5', '15.585998535156', '23.141021728516', '-658.5', '15.703002929688', '23.257995605469', '-658.5', '15.820007324219', '23.375', '-658.5', '15.93798828125', '23.492004394531', '-658.5', '16.054992675781', '23.609008789062', '-658.5', '16.171997070312', '23.727020263672', '-658.5', '16.289001464844', '23.843994140625', '-658.5', '16.289001464844', '24.078002929688', '-658.5', '16.406005859375', '24.195007324219', '-658.5', '16.523010253906', '24.31201171875', '-658.5', '16.523010253906', '25.016021728516', '-658.5', '16.406005859375', '25.132995605469', '-658.5', '16.289001464844', '25.25', '-658.5', '16.289001464844', '25.484008789062', '-658.5', '16.171997070312', '25.602020263672', '-658.5', '16.054992675781', '25.718994140625', '-658.5', '15.93798828125', '25.835998535156', '-658.5', '15.820007324219', '25.953002929688', '-658.5', '15.703002929688', '26.070007324219', '-658.5', '14.531005859375', '26.070007324219', '-658.5', '14.414001464844', '25.953002929688', '-658.5', '14.296997070312', '25.835998535156', '-658.5', '14.06201171875', '25.835998535156', '-658.5', '13.945007324219', '25.718994140625', '-658.5', '13.828002929688', '25.602020263672', '-658.5', '13.710998535156', '25.484008789062', '-658.5', '13.593994140625', '25.367004394531', '-658.5', '13.476989746094', '25.25', '-658.5', '13.359008789062', '25.132995605469', '-658.5', '13.242004394531', '25.016021728516', '-658.5', '13.125', '24.898010253906', '-658.5', '13.007995605469', '24.781005859375', '-658.5', '13.007995605469', '24.547027587891', '-658.5', '12.890991210938', '24.430023193359', '-658.5', '12.773010253906', '24.31201171875', '-658.5', '12.773010253906', '23.609008789062', '-658.5', '12.656005859375', '23.492004394531', '-658.5', '12.421997070312', '23.492004394531', '-658.5', '12.304992675781', '23.375', '-658.5', '12.18798828125', '23.257995605469', '-658.5', '12.070007324219', '23.141021728516', '-658.5', '11.953002929688', '23.023010253906', '-658.5', '11.835998535156', '22.906005859375', '-658.5', '11.718994140625', '22.789001464844', '-658.5', '11.601989746094', '22.672027587891', '-658.5', '11.601989746094', '22.43798828125', '-658.5', '11.484008789062', '22.320007324219', '-658.5', '11.367004394531', '22.203002929688', '-658.5', '11.25', '22.085998535156', '-658.5', '11.015991210938', '22.085998535156', '-658.5', '10.898010253906', '22.203002929688', '-658.5', '10.781005859375', '22.320007324219', '-658.5', '10.664001464844', '22.43798828125', '-658.5', '10.546997070312', '22.555023193359', '-658.5', '10.31201171875', '22.555023193359', '-658.5', '10.195007324219', '22.43798828125', '-658.5', '10.31201171875', '22.320007324219', '-658.5', '10.429992675781', '22.203002929688', '-658.5', '10.429992675781', '21.968994140625', '-658.5', '10.546997070312', '21.852020263672', '-658.5', '10.664001464844', '21.734008789062', '-658.5', '10.664001464844', '21.266021728516', '-658.5', '10.781005859375', '21.148010253906', '-658.5', '10.898010253906', '21.031005859375', '-658.5', '10.898010253906', '20.797027587891', '-658.5', '11.015991210938', '20.680023193359', '-658.5', '11.132995605469', '20.56201171875', '-658.5', '11.132995605469', '20.328002929688', '-658.5', '11.25', '20.210998535156', '-658.5', '11.367004394531', '20.093994140625', '-658.5', '11.367004394531', '19.859008789062', '-658.5', '11.484008789062', '19.742004394531', '-658.5', '11.601989746094', '19.625', '-658.5', '11.718994140625', '19.507995605469', '-658.5', '11.953002929688', '19.507995605469', '-658.5', '12.070007324219', '19.391021728516', '-658.5', '12.070007324219', '19.156005859375', '-658.5', '12.18798828125', '19.039001464844', '-658.5', '12.421997070312', '19.039001464844', '-658.5', '12.539001464844', '18.922027587891', '-658.5', '12.656005859375', '18.805023193359', '-658.5', '13.359008789062', '18.805023193359', '-658.5']\n",
       "   ---------\n",
       "   (3006, 0016)  Contour Image Sequence   1 item(s) ---- \n",
       "      (0008, 1150) Referenced SOP Class UID            UI: CT Image Storage\n",
       "      (0008, 1155) Referenced SOP Instance UID         UI: 2.16.840.1.114362.1.6.7.5.17616.11849865775.479250700.411.1417\n",
       "      ---------\n",
       "   (3006, 0042) Contour Geometric Type              CS: 'CLOSED_PLANAR'\n",
       "   (3006, 0046) Number of Contour Points            IS: '167'\n",
       "   (3006, 0050) Contour Data                        DS: ['14.648010253906', '16.109008789062', '-661.5', '14.765991210938', '15.992004394531', '-661.5', '16.171997070312', '15.992004394531', '-661.5', '16.289001464844', '16.109008789062', '-661.5', '16.406005859375', '16.227020263672', '-661.5', '16.640991210938', '16.227020263672', '-661.5', '16.757995605469', '16.343994140625', '-661.5', '16.875', '16.460998535156', '-661.5', '16.992004394531', '16.578002929688', '-661.5', '17.109008789062', '16.695007324219', '-661.5', '17.226989746094', '16.81201171875', '-661.5', '17.343994140625', '16.930023193359', '-661.5', '17.460998535156', '17.047027587891', '-661.5', '17.460998535156', '17.281005859375', '-661.5', '17.578002929688', '17.398010253906', '-661.5', '17.695007324219', '17.516021728516', '-661.5', '17.695007324219', '19.156005859375', '-661.5', '17.578002929688', '19.273010253906', '-661.5', '17.460998535156', '19.391021728516', '-661.5', '17.460998535156', '19.625', '-661.5', '17.343994140625', '19.742004394531', '-661.5', '17.226989746094', '19.859008789062', '-661.5', '17.109008789062', '19.977020263672', '-661.5', '16.992004394531', '20.093994140625', '-661.5', '16.875', '20.210998535156', '-661.5', '16.757995605469', '20.328002929688', '-661.5', '16.640991210938', '20.445007324219', '-661.5', '16.523010253906', '20.56201171875', '-661.5', '16.523010253906', '20.797027587891', '-661.5', '16.406005859375', '20.914001464844', '-661.5', '16.289001464844', '21.031005859375', '-661.5', '16.406005859375', '21.148010253906', '-661.5', '16.523010253906', '21.266021728516', '-661.5', '16.523010253906', '21.5', '-661.5', '16.640991210938', '21.617004394531', '-661.5', '16.757995605469', '21.734008789062', '-661.5', '16.875', '21.852020263672', '-661.5', '16.992004394531', '21.968994140625', '-661.5', '16.992004394531', '22.203002929688', '-661.5', '17.109008789062', '22.320007324219', '-661.5', '17.226989746094', '22.43798828125', '-661.5', '17.343994140625', '22.555023193359', '-661.5', '17.578002929688', '22.555023193359', '-661.5', '17.695007324219', '22.672027587891', '-661.5', '17.81201171875', '22.789001464844', '-661.5', '17.929992675781', '22.906005859375', '-661.5', '18.046997070312', '23.023010253906', '-661.5', '18.164001464844', '23.141021728516', '-661.5', '18.281005859375', '23.257995605469', '-661.5', '18.398010253906', '23.375', '-661.5', '18.515991210938', '23.492004394531', '-661.5', '18.632995605469', '23.609008789062', '-661.5', '18.75', '23.727020263672', '-661.5', '18.867004394531', '23.843994140625', '-661.5', '18.984008789062', '23.960998535156', '-661.5', '19.101989746094', '24.078002929688', '-661.5', '19.101989746094', '24.31201171875', '-661.5', '19.218994140625', '24.430023193359', '-661.5', '19.335998535156', '24.547027587891', '-661.5', '19.335998535156', '25.718994140625', '-661.5', '19.218994140625', '25.835998535156', '-661.5', '19.101989746094', '25.953002929688', '-661.5', '19.101989746094', '26.18798828125', '-661.5', '18.984008789062', '26.305023193359', '-661.5', '18.867004394531', '26.422027587891', '-661.5', '18.75', '26.539001464844', '-661.5', '18.515991210938', '26.539001464844', '-661.5', '18.398010253906', '26.656005859375', '-661.5', '18.281005859375', '26.773010253906', '-661.5', '15.93798828125', '26.773010253906', '-661.5', '15.820007324219', '26.656005859375', '-661.5', '15.703002929688', '26.539001464844', '-661.5', '14.06201171875', '26.539001464844', '-661.5', '13.945007324219', '26.422027587891', '-661.5', '13.828002929688', '26.305023193359', '-661.5', '13.359008789062', '26.305023193359', '-661.5', '13.242004394531', '26.18798828125', '-661.5', '13.125', '26.070007324219', '-661.5', '12.890991210938', '26.070007324219', '-661.5', '12.773010253906', '25.953002929688', '-661.5', '12.656005859375', '25.835998535156', '-661.5', '12.539001464844', '25.718994140625', '-661.5', '12.421997070312', '25.602020263672', '-661.5', '12.304992675781', '25.484008789062', '-661.5', '12.18798828125', '25.367004394531', '-661.5', '12.070007324219', '25.25', '-661.5', '11.953002929688', '25.132995605469', '-661.5', '11.835998535156', '25.016021728516', '-661.5', '11.718994140625', '24.898010253906', '-661.5', '11.601989746094', '24.781005859375', '-661.5', '11.601989746094', '24.547027587891', '-661.5', '11.484008789062', '24.430023193359', '-661.5', '11.25', '24.430023193359', '-661.5', '11.132995605469', '24.31201171875', '-661.5', '11.015991210938', '24.195007324219', '-661.5', '10.078002929688', '24.195007324219', '-661.5', '9.9609985351562', '24.078002929688', '-661.5', '9.843994140625', '23.960998535156', '-661.5', '9.375', '23.960998535156', '-661.5', '9.2579956054688', '23.843994140625', '-661.5', '9.1409912109375', '23.727020263672', '-661.5', '7.7340087890625', '23.727020263672', '-661.5', '7.6170043945312', '23.609008789062', '-661.5', '7.5', '23.492004394531', '-661.5', '5.625', '23.492004394531', '-661.5', '5.5079956054688', '23.375', '-661.5', '5.3909912109375', '23.257995605469', '-661.5', '4.218994140625', '23.257995605469', '-661.5', '4.1019897460938', '23.141021728516', '-661.5', '3.9840087890625', '23.023010253906', '-661.5', '3.75', '23.023010253906', '-661.5', '3.6329956054688', '22.906005859375', '-661.5', '3.5159912109375', '22.789001464844', '-661.5', '3.3980102539062', '22.672027587891', '-661.5', '3.281005859375', '22.555023193359', '-661.5', '3.1640014648438', '22.43798828125', '-661.5', '3.0469970703125', '22.320007324219', '-661.5', '2.9299926757812', '22.203002929688', '-661.5', '2.81201171875', '22.085998535156', '-661.5', '2.6950073242188', '21.968994140625', '-661.5', '2.6950073242188', '21.734008789062', '-661.5', '2.5780029296875', '21.617004394531', '-661.5', '2.4609985351562', '21.5', '-661.5', '2.4609985351562', '21.031005859375', '-661.5', '2.343994140625', '20.914001464844', '-661.5', '2.2269897460938', '20.797027587891', '-661.5', '2.2269897460938', '19.859008789062', '-661.5', '2.343994140625', '19.742004394531', '-661.5', '2.4609985351562', '19.625', '-661.5', '2.4609985351562', '19.156005859375', '-661.5', '2.5780029296875', '19.039001464844', '-661.5', '2.6950073242188', '18.922027587891', '-661.5', '2.6950073242188', '18.68798828125', '-661.5', '2.81201171875', '18.570007324219', '-661.5', '2.9299926757812', '18.453002929688', '-661.5', '3.0469970703125', '18.335998535156', '-661.5', '3.1640014648438', '18.218994140625', '-661.5', '3.281005859375', '18.102020263672', '-661.5', '3.5159912109375', '18.102020263672', '-661.5', '3.6329956054688', '17.984008789062', '-661.5', '3.75', '17.867004394531', '-661.5', '4.218994140625', '17.867004394531', '-661.5', '4.3359985351562', '17.75', '-661.5', '4.4530029296875', '17.632995605469', '-661.5', '5.3909912109375', '17.632995605469', '-661.5', '5.5079956054688', '17.516021728516', '-661.5', '5.625', '17.398010253906', '-661.5', '5.8590087890625', '17.398010253906', '-661.5', '5.9769897460938', '17.281005859375', '-661.5', '6.093994140625', '17.164001464844', '-661.5', '6.7969970703125', '17.164001464844', '-661.5', '6.9140014648438', '17.047027587891', '-661.5', '7.031005859375', '16.930023193359', '-661.5', '8.2030029296875', '16.930023193359', '-661.5', '8.3200073242188', '16.81201171875', '-661.5', '8.43798828125', '16.695007324219', '-661.5', '13.125', '16.695007324219', '-661.5', '13.242004394531', '16.81201171875', '-661.5', '13.359008789062', '16.930023193359', '-661.5', '13.593994140625', '16.930023193359', '-661.5', '13.710998535156', '16.81201171875', '-661.5', '13.828002929688', '16.695007324219', '-661.5', '13.945007324219', '16.578002929688', '-661.5', '14.06201171875', '16.460998535156', '-661.5', '14.179992675781', '16.343994140625', '-661.5', '14.296997070312', '16.227020263672', '-661.5', '14.531005859375', '16.227020263672', '-661.5']\n",
       "   ---------\n",
       "   (3006, 0016)  Contour Image Sequence   1 item(s) ---- \n",
       "      (0008, 1150) Referenced SOP Class UID            UI: CT Image Storage\n",
       "      (0008, 1155) Referenced SOP Instance UID         UI: 2.16.840.1.114362.1.6.7.5.17616.11849865775.479250700.396.1416\n",
       "      ---------\n",
       "   (3006, 0042) Contour Geometric Type              CS: 'CLOSED_PLANAR'\n",
       "   (3006, 0046) Number of Contour Points            IS: '286'\n",
       "   (3006, 0050) Contour Data                        DS: ['12.773010253906', '15.172027587891', '-664.5', '12.890991210938', '15.055023193359', '-664.5', '14.765991210938', '15.055023193359', '-664.5', '14.882995605469', '15.172027587891', '-664.5', '15', '15.289001464844', '-664.5', '15.468994140625', '15.289001464844', '-664.5', '15.585998535156', '15.406005859375', '-664.5', '15.703002929688', '15.523010253906', '-664.5', '15.820007324219', '15.641021728516', '-664.5', '15.93798828125', '15.757995605469', '-664.5', '16.054992675781', '15.875', '-664.5', '16.171997070312', '15.992004394531', '-664.5', '16.289001464844', '16.109008789062', '-664.5', '16.289001464844', '16.578002929688', '-664.5', '16.406005859375', '16.695007324219', '-664.5', '16.523010253906', '16.81201171875', '-664.5', '16.523010253906', '17.75', '-664.5', '16.406005859375', '17.867004394531', '-664.5', '16.289001464844', '17.984008789062', '-664.5', '16.289001464844', '18.68798828125', '-664.5', '16.406005859375', '18.805023193359', '-664.5', '16.523010253906', '18.922027587891', '-664.5', '16.523010253906', '19.391021728516', '-664.5', '16.640991210938', '19.507995605469', '-664.5', '16.757995605469', '19.625', '-664.5', '16.757995605469', '20.093994140625', '-664.5', '16.875', '20.210998535156', '-664.5', '16.992004394531', '20.328002929688', '-664.5', '16.992004394531', '21.266021728516', '-664.5', '17.109008789062', '21.382995605469', '-664.5', '17.226989746094', '21.5', '-664.5', '17.226989746094', '23.375', '-664.5', '17.109008789062', '23.492004394531', '-664.5', '16.992004394531', '23.609008789062', '-664.5', '16.992004394531', '24.078002929688', '-664.5', '16.875', '24.195007324219', '-664.5', '16.757995605469', '24.31201171875', '-664.5', '16.640991210938', '24.430023193359', '-664.5', '16.523010253906', '24.547027587891', '-664.5', '16.406005859375', '24.664001464844', '-664.5', '16.171997070312', '24.664001464844', '-664.5', '16.054992675781', '24.781005859375', '-664.5', '15.93798828125', '24.898010253906', '-664.5', '15.703002929688', '24.898010253906', '-664.5', '15.585998535156', '25.016021728516', '-664.5', '15.468994140625', '25.132995605469', '-664.5', '15', '25.132995605469', '-664.5', '14.882995605469', '25.25', '-664.5', '14.882995605469', '25.484008789062', '-664.5', '14.765991210938', '25.602020263672', '-664.5', '14.648010253906', '25.718994140625', '-664.5', '14.531005859375', '25.835998535156', '-664.5', '14.414001464844', '25.953002929688', '-664.5', '14.296997070312', '26.070007324219', '-664.5', '13.828002929688', '26.070007324219', '-664.5', '13.710998535156', '26.18798828125', '-664.5', '13.593994140625', '26.305023193359', '-664.5', '12.656005859375', '26.305023193359', '-664.5', '12.539001464844', '26.18798828125', '-664.5', '12.421997070312', '26.070007324219', '-664.5', '12.18798828125', '26.070007324219', '-664.5', '12.070007324219', '25.953002929688', '-664.5', '11.953002929688', '25.835998535156', '-664.5', '11.718994140625', '25.835998535156', '-664.5', '11.601989746094', '25.718994140625', '-664.5', '11.484008789062', '25.602020263672', '-664.5', '11.367004394531', '25.484008789062', '-664.5', '11.367004394531', '25.25', '-664.5', '11.25', '25.132995605469', '-664.5', '11.132995605469', '25.016021728516', '-664.5', '11.015991210938', '24.898010253906', '-664.5', '10.781005859375', '24.898010253906', '-664.5', '10.664001464844', '24.781005859375', '-664.5', '10.546997070312', '24.664001464844', '-664.5', '10.429992675781', '24.547027587891', '-664.5', '10.31201171875', '24.430023193359', '-664.5', '10.195007324219', '24.31201171875', '-664.5', '10.078002929688', '24.195007324219', '-664.5', '9.843994140625', '24.195007324219', '-664.5', '9.7269897460938', '24.078002929688', '-664.5', '9.6090087890625', '23.960998535156', '-664.5', '9.4920043945312', '23.843994140625', '-664.5', '9.375', '23.727020263672', '-664.5', '9.2579956054688', '23.609008789062', '-664.5', '9.1409912109375', '23.492004394531', '-664.5', '8.906005859375', '23.492004394531', '-664.5', '8.7890014648438', '23.375', '-664.5', '8.6719970703125', '23.257995605469', '-664.5', '8.5549926757812', '23.141021728516', '-664.5', '8.43798828125', '23.023010253906', '-664.5', '7.968994140625', '23.023010253906', '-664.5', '7.8519897460938', '23.141021728516', '-664.5', '7.7340087890625', '23.257995605469', '-664.5', '7.6170043945312', '23.375', '-664.5', '7.6170043945312', '23.609008789062', '-664.5', '7.5', '23.727020263672', '-664.5', '7.3829956054688', '23.843994140625', '-664.5', '7.3829956054688', '24.31201171875', '-664.5', '7.2659912109375', '24.430023193359', '-664.5', '7.1480102539062', '24.547027587891', '-664.5', '7.1480102539062', '24.781005859375', '-664.5', '7.031005859375', '24.898010253906', '-664.5', '6.9140014648438', '25.016021728516', '-664.5', '6.9140014648438', '25.25', '-664.5', '6.7969970703125', '25.367004394531', '-664.5', '6.6799926757812', '25.484008789062', '-664.5', '6.56201171875', '25.602020263672', '-664.5', '6.4450073242188', '25.718994140625', '-664.5', '6.3280029296875', '25.835998535156', '-664.5', '6.093994140625', '25.835998535156', '-664.5', '5.9769897460938', '25.953002929688', '-664.5', '5.8590087890625', '26.070007324219', '-664.5', '4.68798828125', '26.070007324219', '-664.5', '4.5700073242188', '25.953002929688', '-664.5', '4.4530029296875', '25.835998535156', '-664.5', '4.218994140625', '25.835998535156', '-664.5', '4.1019897460938', '25.718994140625', '-664.5', '3.9840087890625', '25.602020263672', '-664.5', '3.8670043945312', '25.484008789062', '-664.5', '3.75', '25.367004394531', '-664.5', '3.6329956054688', '25.25', '-664.5', '3.5159912109375', '25.132995605469', '-664.5', '3.3980102539062', '25.016021728516', '-664.5', '3.3980102539062', '24.547027587891', '-664.5', '3.5159912109375', '24.430023193359', '-664.5', '3.6329956054688', '24.31201171875', '-664.5', '3.6329956054688', '24.078002929688', '-664.5', '3.75', '23.960998535156', '-664.5', '3.8670043945312', '23.843994140625', '-664.5', '3.8670043945312', '22.906005859375', '-664.5', '3.75', '22.789001464844', '-664.5', '3.6329956054688', '22.672027587891', '-664.5', '3.6329956054688', '22.203002929688', '-664.5', '3.5159912109375', '22.085998535156', '-664.5', '3.3980102539062', '21.968994140625', '-664.5', '3.3980102539062', '20.797027587891', '-664.5', '3.281005859375', '20.680023193359', '-664.5', '3.1640014648438', '20.56201171875', '-664.5', '3.0469970703125', '20.445007324219', '-664.5', '1.6409912109375', '20.445007324219', '-664.5', '1.5230102539062', '20.56201171875', '-664.5', '1.406005859375', '20.680023193359', '-664.5', '1.1719970703125', '20.680023193359', '-664.5', '1.0549926757812', '20.797027587891', '-664.5', '1.0549926757812', '21.031005859375', '-664.5', '0.93798828125', '21.148010253906', '-664.5', '0.82000732421875', '21.266021728516', '-664.5', '0.82000732421875', '22.43798828125', '-664.5', '0.93798828125', '22.555023193359', '-664.5', '1.0549926757812', '22.672027587891', '-664.5', '1.0549926757812', '23.141021728516', '-664.5', '1.1719970703125', '23.257995605469', '-664.5', '1.2890014648438', '23.375', '-664.5', '1.2890014648438', '24.547027587891', '-664.5', '1.1719970703125', '24.664001464844', '-664.5', '1.0549926757812', '24.781005859375', '-664.5', '1.0549926757812', '25.016021728516', '-664.5', '0.93798828125', '25.132995605469', '-664.5', '0.82000732421875', '25.25', '-664.5', '0.82000732421875', '26.422027587891', '-664.5', '0.7030029296875', '26.539001464844', '-664.5', '0.58599853515625', '26.656005859375', '-664.5', '0.58599853515625', '27.359008789062', '-664.5', '0.468994140625', '27.477020263672', '-664.5', '0.35198974609375', '27.593994140625', '-664.5', '0.35198974609375', '27.828002929688', '-664.5', '0.2340087890625', '27.945007324219', '-664.5', '0.11700439453125', '28.06201171875', '-664.5', '0.11700439453125', '28.297027587891', '-664.5', '0', '28.414001464844', '-664.5', '-0.2340087890625', '28.414001464844', '-664.5', '-0.3519897460938', '28.531005859375', '-664.5', '-0.468994140625', '28.648010253906', '-664.5', '-0.7030029296875', '28.648010253906', '-664.5', '-0.8200073242188', '28.766021728516', '-664.5', '-0.93798828125', '28.882995605469', '-664.5', '-2.5780029296875', '28.882995605469', '-664.5', '-2.6950073242188', '28.766021728516', '-664.5', '-2.81201171875', '28.648010253906', '-664.5', '-3.0469970703125', '28.648010253906', '-664.5', '-3.1640014648438', '28.531005859375', '-664.5', '-3.281005859375', '28.414001464844', '-664.5', '-3.3980102539062', '28.297027587891', '-664.5', '-3.5159912109375', '28.180023193359', '-664.5', '-3.6329956054688', '28.06201171875', '-664.5', '-3.75', '27.945007324219', '-664.5', '-3.8670043945312', '27.828002929688', '-664.5', '-3.9840087890625', '27.710998535156', '-664.5', '-4.1019897460938', '27.593994140625', '-664.5', '-4.1019897460938', '27.359008789062', '-664.5', '-4.218994140625', '27.242004394531', '-664.5', '-4.4530029296875', '27.242004394531', '-664.5', '-4.5700073242188', '27.125', '-664.5', '-4.68798828125', '27.007995605469', '-664.5', '-4.8049926757812', '26.891021728516', '-664.5', '-4.9219970703125', '26.773010253906', '-664.5', '-5.0390014648438', '26.656005859375', '-664.5', '-5.156005859375', '26.539001464844', '-664.5', '-5.2730102539062', '26.422027587891', '-664.5', '-5.3909912109375', '26.305023193359', '-664.5', '-5.5079956054688', '26.18798828125', '-664.5', '-5.5079956054688', '25.718994140625', '-664.5', '-5.625', '25.602020263672', '-664.5', '-5.7420043945312', '25.484008789062', '-664.5', '-5.7420043945312', '23.609008789062', '-664.5', '-5.625', '23.492004394531', '-664.5', '-5.5079956054688', '23.375', '-664.5', '-5.5079956054688', '22.906005859375', '-664.5', '-5.3909912109375', '22.789001464844', '-664.5', '-5.2730102539062', '22.672027587891', '-664.5', '-5.2730102539062', '22.43798828125', '-664.5', '-5.156005859375', '22.320007324219', '-664.5', '-5.0390014648438', '22.203002929688', '-664.5', '-5.0390014648438', '21.734008789062', '-664.5', '-4.9219970703125', '21.617004394531', '-664.5', '-4.8049926757812', '21.5', '-664.5', '-4.8049926757812', '21.266021728516', '-664.5', '-4.68798828125', '21.148010253906', '-664.5', '-4.5700073242188', '21.031005859375', '-664.5', '-4.4530029296875', '20.914001464844', '-664.5', '-4.3359985351562', '20.797027587891', '-664.5', '-4.3359985351562', '20.56201171875', '-664.5', '-4.218994140625', '20.445007324219', '-664.5', '-4.1019897460938', '20.328002929688', '-664.5', '-3.9840087890625', '20.210998535156', '-664.5', '-3.8670043945312', '20.093994140625', '-664.5', '-3.75', '19.977020263672', '-664.5', '-3.6329956054688', '19.859008789062', '-664.5', '-3.5159912109375', '19.742004394531', '-664.5', '-3.3980102539062', '19.625', '-664.5', '-3.281005859375', '19.507995605469', '-664.5', '-3.1640014648438', '19.391021728516', '-664.5', '-3.0469970703125', '19.273010253906', '-664.5', '-2.5780029296875', '19.273010253906', '-664.5', '-2.4609985351562', '19.156005859375', '-664.5', '-2.343994140625', '19.039001464844', '-664.5', '-1.875', '19.039001464844', '-664.5', '-1.7579956054688', '19.156005859375', '-664.5', '-1.6409912109375', '19.273010253906', '-664.5', '-1.406005859375', '19.273010253906', '-664.5', '-1.2890014648438', '19.156005859375', '-664.5', '-1.1719970703125', '19.039001464844', '-664.5', '-1.0549926757812', '18.922027587891', '-664.5', '-1.0549926757812', '18.68798828125', '-664.5', '-0.93798828125', '18.570007324219', '-664.5', '-0.8200073242188', '18.453002929688', '-664.5', '-0.8200073242188', '17.984008789062', '-664.5', '-0.7030029296875', '17.867004394531', '-664.5', '-0.5859985351562', '17.75', '-664.5', '-0.5859985351562', '17.516021728516', '-664.5', '-0.468994140625', '17.398010253906', '-664.5', '-0.3519897460938', '17.281005859375', '-664.5', '-0.2340087890625', '17.164001464844', '-664.5', '-0.1170043945312', '17.047027587891', '-664.5', '0', '16.930023193359', '-664.5', '0.11700439453125', '16.81201171875', '-664.5', '0.2340087890625', '16.695007324219', '-664.5', '0.35198974609375', '16.578002929688', '-664.5', '0.468994140625', '16.460998535156', '-664.5', '0.7030029296875', '16.460998535156', '-664.5', '0.82000732421875', '16.343994140625', '-664.5', '0.93798828125', '16.227020263672', '-664.5', '3.0469970703125', '16.227020263672', '-664.5', '3.1640014648438', '16.343994140625', '-664.5', '3.281005859375', '16.460998535156', '-664.5', '3.9840087890625', '16.460998535156', '-664.5', '4.1019897460938', '16.578002929688', '-664.5', '4.218994140625', '16.695007324219', '-664.5', '5.156005859375', '16.695007324219', '-664.5', '5.2730102539062', '16.578002929688', '-664.5', '5.3909912109375', '16.460998535156', '-664.5', '5.5079956054688', '16.343994140625', '-664.5', '5.625', '16.227020263672', '-664.5', '5.8590087890625', '16.227020263672', '-664.5', '5.9769897460938', '16.109008789062', '-664.5', '6.093994140625', '15.992004394531', '-664.5', '6.3280029296875', '15.992004394531', '-664.5', '6.4450073242188', '15.875', '-664.5', '6.56201171875', '15.757995605469', '-664.5', '8.43798828125', '15.757995605469', '-664.5', '8.5549926757812', '15.641021728516', '-664.5', '8.6719970703125', '15.523010253906', '-664.5', '9.1409912109375', '15.523010253906', '-664.5', '9.2579956054688', '15.406005859375', '-664.5', '9.375', '15.289001464844', '-664.5', '12.656005859375', '15.289001464844', '-664.5']\n",
       "   ---------\n",
       "   (3006, 0016)  Contour Image Sequence   1 item(s) ---- \n",
       "      (0008, 1150) Referenced SOP Class UID            UI: CT Image Storage\n",
       "      (0008, 1155) Referenced SOP Instance UID         UI: 2.16.840.1.114362.1.6.7.5.17616.11849865775.479250700.396.1415\n",
       "      ---------\n",
       "   (3006, 0042) Contour Geometric Type              CS: 'CLOSED_PLANAR'\n",
       "   (3006, 0046) Number of Contour Points            IS: '324'\n",
       "   (3006, 0050) Contour Data                        DS: ['20.039001464844', '13.06201171875', '-667.5', '20.155975341797', '12.945007324219', '-667.5', '20.390991210938', '12.945007324219', '-667.5', '20.507995605469', '13.06201171875', '-667.5', '20.625', '13.180023193359', '-667.5', '20.742004394531', '13.297027587891', '-667.5', '20.859008789062', '13.414001464844', '-667.5', '20.977020263672', '13.531005859375', '-667.5', '21.094024658203', '13.648010253906', '-667.5', '21.328002929688', '13.648010253906', '-667.5', '21.445007324219', '13.766021728516', '-667.5', '21.56201171875', '13.882995605469', '-667.5', '21.679992675781', '14', '-667.5', '21.679992675781', '14.234008789062', '-667.5', '21.796997070312', '14.352020263672', '-667.5', '21.914001464844', '14.468994140625', '-667.5', '21.914001464844', '14.703002929688', '-667.5', '22.030975341797', '14.820007324219', '-667.5', '22.147979736328', '14.93798828125', '-667.5', '22.147979736328', '15.172027587891', '-667.5', '22.265991210938', '15.289001464844', '-667.5', '22.382995605469', '15.406005859375', '-667.5', '22.5', '15.523010253906', '-667.5', '22.617004394531', '15.641021728516', '-667.5', '22.617004394531', '15.875', '-667.5', '22.734008789062', '15.992004394531', '-667.5', '22.852020263672', '16.109008789062', '-667.5', '22.852020263672', '16.343994140625', '-667.5', '22.734008789062', '16.460998535156', '-667.5', '22.5', '16.460998535156', '-667.5', '22.382995605469', '16.578002929688', '-667.5', '22.265991210938', '16.695007324219', '-667.5', '21.56201171875', '16.695007324219', '-667.5', '21.445007324219', '16.81201171875', '-667.5', '21.328002929688', '16.930023193359', '-667.5', '20.390991210938', '16.930023193359', '-667.5', '20.272979736328', '17.047027587891', '-667.5', '20.155975341797', '17.164001464844', '-667.5', '20.039001464844', '17.281005859375', '-667.5', '19.921997070312', '17.398010253906', '-667.5', '19.804992675781', '17.516021728516', '-667.5', '19.68798828125', '17.632995605469', '-667.5', '19.570007324219', '17.75', '-667.5', '19.453002929688', '17.867004394531', '-667.5', '19.335998535156', '17.984008789062', '-667.5', '19.218994140625', '18.102020263672', '-667.5', '18.984008789062', '18.102020263672', '-667.5', '18.867004394531', '18.218994140625', '-667.5', '18.75', '18.335998535156', '-667.5', '18.632995605469', '18.453002929688', '-667.5', '18.632995605469', '19.156005859375', '-667.5', '18.75', '19.273010253906', '-667.5', '18.867004394531', '19.391021728516', '-667.5', '18.867004394531', '19.859008789062', '-667.5', '18.75', '19.977020263672', '-667.5', '18.632995605469', '20.093994140625', '-667.5', '18.515991210938', '20.210998535156', '-667.5', '18.398010253906', '20.328002929688', '-667.5', '18.398010253906', '20.56201171875', '-667.5', '18.281005859375', '20.680023193359', '-667.5', '18.164001464844', '20.797027587891', '-667.5', '18.164001464844', '21.031005859375', '-667.5', '18.046997070312', '21.148010253906', '-667.5', '17.929992675781', '21.266021728516', '-667.5', '17.929992675781', '23.141021728516', '-667.5', '17.81201171875', '23.257995605469', '-667.5', '17.578002929688', '23.257995605469', '-667.5', '17.460998535156', '23.375', '-667.5', '17.343994140625', '23.492004394531', '-667.5', '17.226989746094', '23.609008789062', '-667.5', '17.109008789062', '23.727020263672', '-667.5', '16.875', '23.727020263672', '-667.5', '16.757995605469', '23.843994140625', '-667.5', '16.640991210938', '23.960998535156', '-667.5', '16.406005859375', '23.960998535156', '-667.5', '16.289001464844', '24.078002929688', '-667.5', '16.171997070312', '24.195007324219', '-667.5', '14.531005859375', '24.195007324219', '-667.5', '14.414001464844', '24.078002929688', '-667.5', '14.296997070312', '23.960998535156', '-667.5', '13.828002929688', '23.960998535156', '-667.5', '13.710998535156', '23.843994140625', '-667.5', '13.593994140625', '23.727020263672', '-667.5', '13.125', '23.727020263672', '-667.5', '13.007995605469', '23.843994140625', '-667.5', '13.007995605469', '24.078002929688', '-667.5', '12.890991210938', '24.195007324219', '-667.5', '12.773010253906', '24.31201171875', '-667.5', '12.656005859375', '24.430023193359', '-667.5', '12.539001464844', '24.547027587891', '-667.5', '12.421997070312', '24.664001464844', '-667.5', '12.304992675781', '24.781005859375', '-667.5', '12.304992675781', '25.016021728516', '-667.5', '12.18798828125', '25.132995605469', '-667.5', '12.070007324219', '25.25', '-667.5', '11.953002929688', '25.367004394531', '-667.5', '11.835998535156', '25.484008789062', '-667.5', '11.718994140625', '25.602020263672', '-667.5', '11.484008789062', '25.602020263672', '-667.5', '11.367004394531', '25.718994140625', '-667.5', '11.25', '25.835998535156', '-667.5', '11.015991210938', '25.835998535156', '-667.5', '10.898010253906', '25.953002929688', '-667.5', '10.781005859375', '26.070007324219', '-667.5', '10.664001464844', '26.18798828125', '-667.5', '10.546997070312', '26.305023193359', '-667.5', '10.31201171875', '26.305023193359', '-667.5', '10.195007324219', '26.422027587891', '-667.5', '10.078002929688', '26.539001464844', '-667.5', '9.6090087890625', '26.539001464844', '-667.5', '9.4920043945312', '26.656005859375', '-667.5', '9.375', '26.773010253906', '-667.5', '7.5', '26.773010253906', '-667.5', '7.3829956054688', '26.656005859375', '-667.5', '7.2659912109375', '26.539001464844', '-667.5', '6.7969970703125', '26.539001464844', '-667.5', '6.6799926757812', '26.422027587891', '-667.5', '6.56201171875', '26.305023193359', '-667.5', '6.3280029296875', '26.305023193359', '-667.5', '6.2109985351562', '26.18798828125', '-667.5', '6.093994140625', '26.070007324219', '-667.5', '5.9769897460938', '25.953002929688', '-667.5', '5.8590087890625', '25.835998535156', '-667.5', '5.625', '25.835998535156', '-667.5', '5.5079956054688', '25.953002929688', '-667.5', '5.3909912109375', '26.070007324219', '-667.5', '4.9219970703125', '26.070007324219', '-667.5', '4.8049926757812', '26.18798828125', '-667.5', '4.68798828125', '26.305023193359', '-667.5', '3.9840087890625', '26.305023193359', '-667.5', '3.8670043945312', '26.422027587891', '-667.5', '3.75', '26.539001464844', '-667.5', '3.281005859375', '26.539001464844', '-667.5', '3.1640014648438', '26.656005859375', '-667.5', '3.0469970703125', '26.773010253906', '-667.5', '2.81201171875', '26.773010253906', '-667.5', '2.6950073242188', '26.891021728516', '-667.5', '2.5780029296875', '27.007995605469', '-667.5', '2.4609985351562', '27.125', '-667.5', '2.343994140625', '27.242004394531', '-667.5', '2.2269897460938', '27.359008789062', '-667.5', '2.1090087890625', '27.477020263672', '-667.5', '1.9920043945312', '27.593994140625', '-667.5', '1.875', '27.710998535156', '-667.5', '1.6409912109375', '27.710998535156', '-667.5', '1.5230102539062', '27.828002929688', '-667.5', '1.406005859375', '27.945007324219', '-667.5', '1.1719970703125', '27.945007324219', '-667.5', '1.0549926757812', '28.06201171875', '-667.5', '0.93798828125', '28.180023193359', '-667.5', '0.7030029296875', '28.180023193359', '-667.5', '0.58599853515625', '28.297027587891', '-667.5', '0.58599853515625', '29.93798828125', '-667.5', '0.468994140625', '30.055023193359', '-667.5', '0.35198974609375', '30.172027587891', '-667.5', '0.35198974609375', '30.406005859375', '-667.5', '0.2340087890625', '30.523010253906', '-667.5', '0.11700439453125', '30.641021728516', '-667.5', '0.11700439453125', '30.875', '-667.5', '0', '30.992004394531', '-667.5', '-0.1170043945312', '31.109008789062', '-667.5', '-0.2340087890625', '31.227020263672', '-667.5', '-0.468994140625', '31.227020263672', '-667.5', '-0.5859985351562', '31.343994140625', '-667.5', '-0.7030029296875', '31.460998535156', '-667.5', '-2.343994140625', '31.460998535156', '-667.5', '-2.4609985351562', '31.343994140625', '-667.5', '-2.5780029296875', '31.227020263672', '-667.5', '-2.6950073242188', '31.109008789062', '-667.5', '-2.81201171875', '30.992004394531', '-667.5', '-3.0469970703125', '30.992004394531', '-667.5', '-3.1640014648438', '30.875', '-667.5', '-3.281005859375', '30.757995605469', '-667.5', '-3.3980102539062', '30.641021728516', '-667.5', '-3.5159912109375', '30.523010253906', '-667.5', '-3.6329956054688', '30.406005859375', '-667.5', '-3.75', '30.289001464844', '-667.5', '-3.8670043945312', '30.172027587891', '-667.5', '-3.9840087890625', '30.055023193359', '-667.5', '-4.218994140625', '30.055023193359', '-667.5', '-4.3359985351562', '29.93798828125', '-667.5', '-4.4530029296875', '29.820007324219', '-667.5', '-4.5700073242188', '29.703002929688', '-667.5', '-4.68798828125', '29.585998535156', '-667.5', '-4.8049926757812', '29.468994140625', '-667.5', '-4.9219970703125', '29.352020263672', '-667.5', '-5.156005859375', '29.352020263672', '-667.5', '-5.2730102539062', '29.234008789062', '-667.5', '-5.3909912109375', '29.117004394531', '-667.5', '-5.5079956054688', '29', '-667.5', '-5.625', '28.882995605469', '-667.5', '-5.7420043945312', '28.766021728516', '-667.5', '-5.8590087890625', '28.648010253906', '-667.5', '-5.9769897460938', '28.531005859375', '-667.5', '-6.093994140625', '28.414001464844', '-667.5', '-6.3280029296875', '28.414001464844', '-667.5', '-6.4450073242188', '28.297027587891', '-667.5', '-6.4450073242188', '28.06201171875', '-667.5', '-6.56201171875', '27.945007324219', '-667.5', '-6.7969970703125', '27.945007324219', '-667.5', '-6.9140014648438', '27.828002929688', '-667.5', '-7.031005859375', '27.710998535156', '-667.5', '-7.2659912109375', '27.710998535156', '-667.5', '-7.3829956054688', '27.593994140625', '-667.5', '-7.5', '27.477020263672', '-667.5', '-7.6170043945312', '27.359008789062', '-667.5', '-7.7340087890625', '27.242004394531', '-667.5', '-7.8519897460938', '27.125', '-667.5', '-7.968994140625', '27.007995605469', '-667.5', '-8.0859985351562', '26.891021728516', '-667.5', '-8.0859985351562', '26.656005859375', '-667.5', '-8.2030029296875', '26.539001464844', '-667.5', '-8.3200073242188', '26.422027587891', '-667.5', '-8.43798828125', '26.305023193359', '-667.5', '-8.5549926757812', '26.18798828125', '-667.5', '-8.5549926757812', '25.953002929688', '-667.5', '-8.6719970703125', '25.835998535156', '-667.5', '-8.7890014648438', '25.718994140625', '-667.5', '-8.7890014648438', '25.484008789062', '-667.5', '-8.906005859375', '25.367004394531', '-667.5', '-9.0230102539062', '25.25', '-667.5', '-9.0230102539062', '24.781005859375', '-667.5', '-9.1409912109375', '24.664001464844', '-667.5', '-9.2579956054688', '24.547027587891', '-667.5', '-9.2579956054688', '21.266021728516', '-667.5', '-9.1409912109375', '21.148010253906', '-667.5', '-9.0230102539062', '21.031005859375', '-667.5', '-9.0230102539062', '20.56201171875', '-667.5', '-8.906005859375', '20.445007324219', '-667.5', '-8.7890014648438', '20.328002929688', '-667.5', '-8.6719970703125', '20.210998535156', '-667.5', '-8.5549926757812', '20.093994140625', '-667.5', '-8.43798828125', '19.977020263672', '-667.5', '-8.3200073242188', '19.859008789062', '-667.5', '-8.2030029296875', '19.742004394531', '-667.5', '-8.0859985351562', '19.625', '-667.5', '-7.968994140625', '19.507995605469', '-667.5', '-7.8519897460938', '19.391021728516', '-667.5', '-7.7340087890625', '19.273010253906', '-667.5', '-7.5', '19.273010253906', '-667.5', '-7.3829956054688', '19.156005859375', '-667.5', '-7.2659912109375', '19.039001464844', '-667.5', '-7.1480102539062', '18.922027587891', '-667.5', '-7.031005859375', '18.805023193359', '-667.5', '-6.9140014648438', '18.68798828125', '-667.5', '-6.7969970703125', '18.570007324219', '-667.5', '-6.56201171875', '18.570007324219', '-667.5', '-6.4450073242188', '18.453002929688', '-667.5', '-6.3280029296875', '18.335998535156', '-667.5', '-6.093994140625', '18.335998535156', '-667.5', '-5.9769897460938', '18.218994140625', '-667.5', '-5.8590087890625', '18.102020263672', '-667.5', '-5.625', '18.102020263672', '-667.5', '-5.5079956054688', '17.984008789062', '-667.5', '-5.3909912109375', '17.867004394531', '-667.5', '-5.156005859375', '17.867004394531', '-667.5', '-5.0390014648438', '17.75', '-667.5', '-4.9219970703125', '17.632995605469', '-667.5', '-4.8049926757812', '17.516021728516', '-667.5', '-4.68798828125', '17.398010253906', '-667.5', '-4.4530029296875', '17.398010253906', '-667.5', '-4.3359985351562', '17.281005859375', '-667.5', '-4.218994140625', '17.164001464844', '-667.5', '-4.1019897460938', '17.047027587891', '-667.5', '-3.9840087890625', '16.930023193359', '-667.5', '-3.281005859375', '16.930023193359', '-667.5', '-3.1640014648438', '16.81201171875', '-667.5', '-3.0469970703125', '16.695007324219', '-667.5', '-2.9299926757812', '16.578002929688', '-667.5', '-2.81201171875', '16.460998535156', '-667.5', '-2.6950073242188', '16.343994140625', '-667.5', '-2.5780029296875', '16.227020263672', '-667.5', '-2.4609985351562', '16.109008789062', '-667.5', '-2.343994140625', '15.992004394531', '-667.5', '-2.2269897460938', '15.875', '-667.5', '-2.1090087890625', '15.757995605469', '-667.5', '-1.9920043945312', '15.641021728516', '-667.5', '-1.875', '15.523010253906', '-667.5', '-1.7579956054688', '15.406005859375', '-667.5', '-1.6409912109375', '15.289001464844', '-667.5', '-1.5230102539062', '15.172027587891', '-667.5', '-1.406005859375', '15.055023193359', '-667.5', '-1.1719970703125', '15.055023193359', '-667.5', '-1.0549926757812', '14.93798828125', '-667.5', '-0.93798828125', '14.820007324219', '-667.5', '-0.7030029296875', '14.820007324219', '-667.5', '-0.5859985351562', '14.703002929688', '-667.5', '-0.468994140625', '14.585998535156', '-667.5', '0.7030029296875', '14.585998535156', '-667.5', '0.82000732421875', '14.703002929688', '-667.5', '0.93798828125', '14.820007324219', '-667.5', '1.1719970703125', '14.820007324219', '-667.5', '1.2890014648438', '14.93798828125', '-667.5', '1.406005859375', '15.055023193359', '-667.5', '2.1090087890625', '15.055023193359', '-667.5', '2.2269897460938', '14.93798828125', '-667.5', '2.343994140625', '14.820007324219', '-667.5', '3.0469970703125', '14.820007324219', '-667.5', '3.1640014648438', '14.703002929688', '-667.5', '3.281005859375', '14.585998535156', '-667.5', '5.156005859375', '14.585998535156', '-667.5', '5.2730102539062', '14.468994140625', '-667.5', '5.3909912109375', '14.352020263672', '-667.5', '12.656005859375', '14.352020263672', '-667.5', '12.773010253906', '14.468994140625', '-667.5', '12.890991210938', '14.585998535156', '-667.5', '14.765991210938', '14.585998535156', '-667.5', '14.882995605469', '14.468994140625', '-667.5', '15', '14.352020263672', '-667.5', '15.93798828125', '14.352020263672', '-667.5', '16.054992675781', '14.234008789062', '-667.5', '16.171997070312', '14.117004394531', '-667.5', '17.109008789062', '14.117004394531', '-667.5', '17.226989746094', '14', '-667.5', '17.343994140625', '13.882995605469', '-667.5', '17.460998535156', '13.766021728516', '-667.5', '17.578002929688', '13.648010253906', '-667.5', '17.81201171875', '13.648010253906', '-667.5', '17.929992675781', '13.531005859375', '-667.5', '18.046997070312', '13.414001464844', '-667.5', '19.218994140625', '13.414001464844', '-667.5', '19.335998535156', '13.297027587891', '-667.5', '19.453002929688', '13.180023193359', '-667.5', '19.921997070312', '13.180023193359', '-667.5']\n",
       "   ---------\n",
       "   (3006, 0016)  Contour Image Sequence   1 item(s) ---- \n",
       "      (0008, 1150) Referenced SOP Class UID            UI: CT Image Storage\n",
       "      (0008, 1155) Referenced SOP Instance UID         UI: 2.16.840.1.114362.1.6.7.5.17616.11849865775.479250700.396.1414\n",
       "      ---------\n",
       "   (3006, 0042) Contour Geometric Type              CS: 'CLOSED_PLANAR'\n",
       "   (3006, 0046) Number of Contour Points            IS: '268'\n",
       "   (3006, 0050) Contour Data                        DS: ['21.210998535156', '11.891021728516', '-670.5', '21.328002929688', '11.773010253906', '-670.5', '23.905975341797', '11.773010253906', '-670.5', '24.022979736328', '11.891021728516', '-670.5', '24.140991210938', '12.007995605469', '-670.5', '24.609008789062', '12.007995605469', '-670.5', '24.727020263672', '12.125', '-670.5', '24.844024658203', '12.242004394531', '-670.5', '24.960998535156', '12.359008789062', '-670.5', '25.078002929688', '12.477020263672', '-670.5', '25.195007324219', '12.593994140625', '-670.5', '25.31201171875', '12.710998535156', '-670.5', '25.429992675781', '12.828002929688', '-670.5', '25.546997070312', '12.945007324219', '-670.5', '25.664001464844', '13.06201171875', '-670.5', '25.664001464844', '13.297027587891', '-670.5', '25.780975341797', '13.414001464844', '-670.5', '25.897979736328', '13.531005859375', '-670.5', '25.897979736328', '13.766021728516', '-670.5', '26.015991210938', '13.882995605469', '-670.5', '26.132995605469', '14', '-670.5', '26.132995605469', '14.703002929688', '-670.5', '26.015991210938', '14.820007324219', '-670.5', '25.897979736328', '14.93798828125', '-670.5', '25.897979736328', '15.172027587891', '-670.5', '25.780975341797', '15.289001464844', '-670.5', '25.664001464844', '15.406005859375', '-670.5', '25.664001464844', '15.641021728516', '-670.5', '25.546997070312', '15.757995605469', '-670.5', '25.429992675781', '15.875', '-670.5', '25.31201171875', '15.992004394531', '-670.5', '25.078002929688', '15.992004394531', '-670.5', '24.960998535156', '16.109008789062', '-670.5', '24.844024658203', '16.227020263672', '-670.5', '24.727020263672', '16.343994140625', '-670.5', '24.609008789062', '16.460998535156', '-670.5', '23.671997070312', '16.460998535156', '-670.5', '23.554992675781', '16.578002929688', '-670.5', '23.43798828125', '16.695007324219', '-670.5', '23.203002929688', '16.695007324219', '-670.5', '23.085998535156', '16.81201171875', '-670.5', '22.969024658203', '16.930023193359', '-670.5', '22.852020263672', '17.047027587891', '-670.5', '22.734008789062', '17.164001464844', '-670.5', '22.617004394531', '17.281005859375', '-670.5', '22.5', '17.398010253906', '-670.5', '22.382995605469', '17.516021728516', '-670.5', '22.265991210938', '17.632995605469', '-670.5', '22.147979736328', '17.75', '-670.5', '22.147979736328', '17.984008789062', '-670.5', '22.030975341797', '18.102020263672', '-670.5', '21.914001464844', '18.218994140625', '-670.5', '21.914001464844', '18.68798828125', '-670.5', '21.796997070312', '18.805023193359', '-670.5', '21.679992675781', '18.922027587891', '-670.5', '21.56201171875', '19.039001464844', '-670.5', '21.445007324219', '19.156005859375', '-670.5', '21.328002929688', '19.273010253906', '-670.5', '21.210998535156', '19.391021728516', '-670.5', '21.094024658203', '19.507995605469', '-670.5', '20.977020263672', '19.625', '-670.5', '20.859008789062', '19.742004394531', '-670.5', '19.453002929688', '19.742004394531', '-670.5', '19.335998535156', '19.859008789062', '-670.5', '19.218994140625', '19.977020263672', '-670.5', '19.101989746094', '20.093994140625', '-670.5', '18.984008789062', '20.210998535156', '-670.5', '18.867004394531', '20.328002929688', '-670.5', '18.75', '20.445007324219', '-670.5', '18.515991210938', '20.445007324219', '-670.5', '18.398010253906', '20.56201171875', '-670.5', '18.281005859375', '20.680023193359', '-670.5', '17.578002929688', '20.680023193359', '-670.5', '17.460998535156', '20.797027587891', '-670.5', '17.343994140625', '20.914001464844', '-670.5', '12.656005859375', '20.914001464844', '-670.5', '12.539001464844', '20.797027587891', '-670.5', '12.421997070312', '20.680023193359', '-670.5', '12.18798828125', '20.680023193359', '-670.5', '12.070007324219', '20.56201171875', '-670.5', '11.953002929688', '20.445007324219', '-670.5', '11.718994140625', '20.445007324219', '-670.5', '11.601989746094', '20.328002929688', '-670.5', '11.484008789062', '20.210998535156', '-670.5', '11.015991210938', '20.210998535156', '-670.5', '10.898010253906', '20.093994140625', '-670.5', '10.781005859375', '19.977020263672', '-670.5', '10.31201171875', '19.977020263672', '-670.5', '10.195007324219', '19.859008789062', '-670.5', '10.078002929688', '19.742004394531', '-670.5', '9.6090087890625', '19.742004394531', '-670.5', '9.4920043945312', '19.625', '-670.5', '9.375', '19.507995605469', '-670.5', '7.968994140625', '19.507995605469', '-670.5', '7.8519897460938', '19.625', '-670.5', '7.7340087890625', '19.742004394531', '-670.5', '7.6170043945312', '19.859008789062', '-670.5', '7.5', '19.977020263672', '-670.5', '7.3829956054688', '20.093994140625', '-670.5', '7.3829956054688', '20.328002929688', '-670.5', '7.2659912109375', '20.445007324219', '-670.5', '7.1480102539062', '20.56201171875', '-670.5', '7.1480102539062', '21.5', '-670.5', '7.2659912109375', '21.617004394531', '-670.5', '7.3829956054688', '21.734008789062', '-670.5', '7.3829956054688', '24.547027587891', '-670.5', '7.2659912109375', '24.664001464844', '-670.5', '7.1480102539062', '24.781005859375', '-670.5', '7.1480102539062', '25.016021728516', '-670.5', '7.031005859375', '25.132995605469', '-670.5', '6.9140014648438', '25.25', '-670.5', '6.7969970703125', '25.367004394531', '-670.5', '6.56201171875', '25.367004394531', '-670.5', '6.4450073242188', '25.484008789062', '-670.5', '6.3280029296875', '25.602020263672', '-670.5', '6.2109985351562', '25.718994140625', '-670.5', '6.2109985351562', '25.953002929688', '-670.5', '6.093994140625', '26.070007324219', '-670.5', '5.9769897460938', '26.18798828125', '-670.5', '5.8590087890625', '26.305023193359', '-670.5', '5.7420043945312', '26.422027587891', '-670.5', '5.7420043945312', '27.593994140625', '-670.5', '5.625', '27.710998535156', '-670.5', '5.5079956054688', '27.828002929688', '-670.5', '5.5079956054688', '28.297027587891', '-670.5', '5.3909912109375', '28.414001464844', '-670.5', '5.2730102539062', '28.531005859375', '-670.5', '5.156005859375', '28.648010253906', '-670.5', '2.81201171875', '28.648010253906', '-670.5', '2.6950073242188', '28.766021728516', '-670.5', '2.5780029296875', '28.882995605469', '-670.5', '-5.156005859375', '28.882995605469', '-670.5', '-5.2730102539062', '28.766021728516', '-670.5', '-5.3909912109375', '28.648010253906', '-670.5', '-5.5079956054688', '28.531005859375', '-670.5', '-5.5079956054688', '28.297027587891', '-670.5', '-5.625', '28.180023193359', '-670.5', '-5.7420043945312', '28.06201171875', '-670.5', '-5.8590087890625', '27.945007324219', '-670.5', '-5.9769897460938', '27.828002929688', '-670.5', '-5.9769897460938', '27.593994140625', '-670.5', '-6.093994140625', '27.477020263672', '-670.5', '-6.2109985351562', '27.359008789062', '-670.5', '-6.3280029296875', '27.242004394531', '-670.5', '-6.4450073242188', '27.125', '-670.5', '-6.56201171875', '27.007995605469', '-670.5', '-6.6799926757812', '26.891021728516', '-670.5', '-6.7969970703125', '26.773010253906', '-670.5', '-6.9140014648438', '26.656005859375', '-670.5', '-7.031005859375', '26.539001464844', '-670.5', '-7.1480102539062', '26.422027587891', '-670.5', '-7.2659912109375', '26.305023193359', '-670.5', '-7.3829956054688', '26.18798828125', '-670.5', '-7.5', '26.070007324219', '-670.5', '-7.7340087890625', '26.070007324219', '-670.5', '-7.8519897460938', '25.953002929688', '-670.5', '-7.968994140625', '25.835998535156', '-670.5', '-8.43798828125', '25.835998535156', '-670.5', '-8.5549926757812', '25.718994140625', '-670.5', '-8.6719970703125', '25.602020263672', '-670.5', '-8.906005859375', '25.602020263672', '-670.5', '-9.0230102539062', '25.484008789062', '-670.5', '-9.1409912109375', '25.367004394531', '-670.5', '-9.2579956054688', '25.25', '-670.5', '-9.2579956054688', '21.031005859375', '-670.5', '-9.1409912109375', '20.914001464844', '-670.5', '-9.0230102539062', '20.797027587891', '-670.5', '-9.0230102539062', '19.625', '-670.5', '-8.906005859375', '19.507995605469', '-670.5', '-8.43798828125', '19.507995605469', '-670.5', '-8.3200073242188', '19.391021728516', '-670.5', '-8.2030029296875', '19.273010253906', '-670.5', '-7.968994140625', '19.273010253906', '-670.5', '-7.8519897460938', '19.156005859375', '-670.5', '-7.7340087890625', '19.039001464844', '-670.5', '-7.6170043945312', '18.922027587891', '-670.5', '-7.5', '18.805023193359', '-670.5', '-7.2659912109375', '18.805023193359', '-670.5', '-7.1480102539062', '18.68798828125', '-670.5', '-7.031005859375', '18.570007324219', '-670.5', '-6.9140014648438', '18.453002929688', '-670.5', '-6.9140014648438', '18.218994140625', '-670.5', '-6.7969970703125', '18.102020263672', '-670.5', '-6.6799926757812', '17.984008789062', '-670.5', '-6.6799926757812', '17.75', '-670.5', '-6.56201171875', '17.632995605469', '-670.5', '-6.4450073242188', '17.516021728516', '-670.5', '-6.3280029296875', '17.398010253906', '-670.5', '-6.2109985351562', '17.281005859375', '-670.5', '-6.093994140625', '17.164001464844', '-670.5', '-5.8590087890625', '17.164001464844', '-670.5', '-5.7420043945312', '17.047027587891', '-670.5', '-5.7420043945312', '16.81201171875', '-670.5', '-5.625', '16.695007324219', '-670.5', '-5.5079956054688', '16.578002929688', '-670.5', '-5.3909912109375', '16.460998535156', '-670.5', '-5.156005859375', '16.460998535156', '-670.5', '-5.0390014648438', '16.343994140625', '-670.5', '-4.9219970703125', '16.227020263672', '-670.5', '-4.8049926757812', '16.109008789062', '-670.5', '-4.68798828125', '15.992004394531', '-670.5', '-4.4530029296875', '15.992004394531', '-670.5', '-4.3359985351562', '15.875', '-670.5', '-4.218994140625', '15.757995605469', '-670.5', '-3.75', '15.757995605469', '-670.5', '-3.6329956054688', '15.641021728516', '-670.5', '-3.5159912109375', '15.523010253906', '-670.5', '-2.81201171875', '15.523010253906', '-670.5', '-2.6950073242188', '15.406005859375', '-670.5', '-2.5780029296875', '15.289001464844', '-670.5', '-2.1090087890625', '15.289001464844', '-670.5', '-1.9920043945312', '15.172027587891', '-670.5', '-1.875', '15.055023193359', '-670.5', '-1.1719970703125', '15.055023193359', '-670.5', '-1.0549926757812', '14.93798828125', '-670.5', '-0.93798828125', '14.820007324219', '-670.5', '-0.468994140625', '14.820007324219', '-670.5', '-0.3519897460938', '14.703002929688', '-670.5', '-0.2340087890625', '14.585998535156', '-670.5', '0.2340087890625', '14.585998535156', '-670.5', '0.35198974609375', '14.468994140625', '-670.5', '0.468994140625', '14.352020263672', '-670.5', '0.93798828125', '14.352020263672', '-670.5', '1.0549926757812', '14.234008789062', '-670.5', '1.1719970703125', '14.117004394531', '-670.5', '1.6409912109375', '14.117004394531', '-670.5', '1.7579956054688', '14', '-670.5', '1.875', '13.882995605469', '-670.5', '3.281005859375', '13.882995605469', '-670.5', '3.3980102539062', '14', '-670.5', '3.5159912109375', '14.117004394531', '-670.5', '3.6329956054688', '14', '-670.5', '3.75', '13.882995605469', '-670.5', '3.8670043945312', '13.766021728516', '-670.5', '3.9840087890625', '13.648010253906', '-670.5', '4.1019897460938', '13.531005859375', '-670.5', '4.218994140625', '13.414001464844', '-670.5', '4.4530029296875', '13.414001464844', '-670.5', '4.5700073242188', '13.297027587891', '-670.5', '4.68798828125', '13.180023193359', '-670.5', '4.9219970703125', '13.180023193359', '-670.5', '5.0390014648438', '13.06201171875', '-670.5', '5.156005859375', '12.945007324219', '-670.5', '6.093994140625', '12.945007324219', '-670.5', '6.2109985351562', '12.828002929688', '-670.5', '6.3280029296875', '12.710998535156', '-670.5', '7.5', '12.710998535156', '-670.5', '7.6170043945312', '12.828002929688', '-670.5', '7.7340087890625', '12.945007324219', '-670.5', '8.2030029296875', '12.945007324219', '-670.5', '8.3200073242188', '13.06201171875', '-670.5', '8.43798828125', '13.180023193359', '-670.5', '8.906005859375', '13.180023193359', '-670.5', '9.0230102539062', '13.06201171875', '-670.5', '9.1409912109375', '12.945007324219', '-670.5', '17.578002929688', '12.945007324219', '-670.5', '17.695007324219', '12.828002929688', '-670.5', '17.81201171875', '12.710998535156', '-670.5', '18.046997070312', '12.710998535156', '-670.5', '18.164001464844', '12.593994140625', '-670.5', '18.281005859375', '12.477020263672', '-670.5', '18.75', '12.477020263672', '-670.5', '18.867004394531', '12.359008789062', '-670.5', '18.984008789062', '12.242004394531', '-670.5', '19.218994140625', '12.242004394531', '-670.5', '19.335998535156', '12.125', '-670.5', '19.453002929688', '12.007995605469', '-670.5', '21.094024658203', '12.007995605469', '-670.5']\n",
       "   ---------\n",
       "   (3006, 0016)  Contour Image Sequence   1 item(s) ---- \n",
       "      (0008, 1150) Referenced SOP Class UID            UI: CT Image Storage\n",
       "      (0008, 1155) Referenced SOP Instance UID         UI: 2.16.840.1.114362.1.6.7.5.17616.11849865775.479250700.396.1413\n",
       "      ---------\n",
       "   (3006, 0042) Contour Geometric Type              CS: 'CLOSED_PLANAR'\n",
       "   (3006, 0046) Number of Contour Points            IS: '346'\n",
       "   (3006, 0050) Contour Data                        DS: ['5.5079956054688', '10.953002929688', '-673.5', '5.625', '10.835998535156', '-673.5', '12.890991210938', '10.835998535156', '-673.5', '13.007995605469', '10.953002929688', '-673.5', '13.125', '11.070007324219', '-673.5', '13.359008789062', '11.070007324219', '-673.5', '13.476989746094', '11.18798828125', '-673.5', '13.593994140625', '11.305023193359', '-673.5', '21.328002929688', '11.305023193359', '-673.5', '21.445007324219', '11.422027587891', '-673.5', '21.56201171875', '11.539001464844', '-673.5', '21.796997070312', '11.539001464844', '-673.5', '21.914001464844', '11.656005859375', '-673.5', '22.030975341797', '11.773010253906', '-673.5', '22.147979736328', '11.891021728516', '-673.5', '22.265991210938', '12.007995605469', '-673.5', '22.382995605469', '12.125', '-673.5', '22.5', '12.242004394531', '-673.5', '23.43798828125', '12.242004394531', '-673.5', '23.554992675781', '12.359008789062', '-673.5', '23.671997070312', '12.477020263672', '-673.5', '23.905975341797', '12.477020263672', '-673.5', '24.022979736328', '12.593994140625', '-673.5', '24.022979736328', '12.828002929688', '-673.5', '24.140991210938', '12.945007324219', '-673.5', '24.257995605469', '13.06201171875', '-673.5', '24.257995605469', '14.468994140625', '-673.5', '24.140991210938', '14.585998535156', '-673.5', '24.022979736328', '14.703002929688', '-673.5', '24.022979736328', '15.875', '-673.5', '23.905975341797', '15.992004394531', '-673.5', '23.789001464844', '16.109008789062', '-673.5', '23.789001464844', '16.343994140625', '-673.5', '23.671997070312', '16.460998535156', '-673.5', '23.554992675781', '16.578002929688', '-673.5', '23.554992675781', '16.81201171875', '-673.5', '23.43798828125', '16.930023193359', '-673.5', '23.320007324219', '17.047027587891', '-673.5', '23.203002929688', '17.164001464844', '-673.5', '22.969024658203', '17.164001464844', '-673.5', '22.852020263672', '17.281005859375', '-673.5', '22.734008789062', '17.398010253906', '-673.5', '22.617004394531', '17.516021728516', '-673.5', '22.5', '17.632995605469', '-673.5', '22.382995605469', '17.75', '-673.5', '22.382995605469', '17.984008789062', '-673.5', '22.265991210938', '18.102020263672', '-673.5', '22.147979736328', '18.218994140625', '-673.5', '22.147979736328', '18.453002929688', '-673.5', '22.030975341797', '18.570007324219', '-673.5', '21.914001464844', '18.68798828125', '-673.5', '21.796997070312', '18.805023193359', '-673.5', '21.679992675781', '18.922027587891', '-673.5', '21.679992675781', '19.156005859375', '-673.5', '21.56201171875', '19.273010253906', '-673.5', '21.445007324219', '19.391021728516', '-673.5', '21.328002929688', '19.507995605469', '-673.5', '21.210998535156', '19.625', '-673.5', '21.210998535156', '19.859008789062', '-673.5', '21.094024658203', '19.977020263672', '-673.5', '20.977020263672', '20.093994140625', '-673.5', '20.859008789062', '20.210998535156', '-673.5', '20.742004394531', '20.328002929688', '-673.5', '20.625', '20.445007324219', '-673.5', '20.507995605469', '20.56201171875', '-673.5', '20.390991210938', '20.680023193359', '-673.5', '20.272979736328', '20.797027587891', '-673.5', '20.155975341797', '20.914001464844', '-673.5', '20.039001464844', '21.031005859375', '-673.5', '19.921997070312', '21.148010253906', '-673.5', '19.68798828125', '21.148010253906', '-673.5', '19.570007324219', '21.266021728516', '-673.5', '19.453002929688', '21.382995605469', '-673.5', '19.218994140625', '21.382995605469', '-673.5', '19.101989746094', '21.5', '-673.5', '18.984008789062', '21.617004394531', '-673.5', '18.75', '21.617004394531', '-673.5', '18.632995605469', '21.734008789062', '-673.5', '18.515991210938', '21.852020263672', '-673.5', '18.398010253906', '21.968994140625', '-673.5', '18.281005859375', '22.085998535156', '-673.5', '18.164001464844', '22.203002929688', '-673.5', '18.046997070312', '22.320007324219', '-673.5', '17.578002929688', '22.320007324219', '-673.5', '17.460998535156', '22.43798828125', '-673.5', '17.343994140625', '22.555023193359', '-673.5', '15.234008789062', '22.555023193359', '-673.5', '15.117004394531', '22.43798828125', '-673.5', '15', '22.320007324219', '-673.5', '14.765991210938', '22.320007324219', '-673.5', '14.648010253906', '22.203002929688', '-673.5', '14.531005859375', '22.085998535156', '-673.5', '14.296997070312', '22.085998535156', '-673.5', '14.179992675781', '21.968994140625', '-673.5', '14.06201171875', '21.852020263672', '-673.5', '13.945007324219', '21.734008789062', '-673.5', '13.828002929688', '21.617004394531', '-673.5', '13.593994140625', '21.617004394531', '-673.5', '13.476989746094', '21.5', '-673.5', '13.359008789062', '21.382995605469', '-673.5', '13.125', '21.382995605469', '-673.5', '13.007995605469', '21.266021728516', '-673.5', '12.890991210938', '21.148010253906', '-673.5', '12.421997070312', '21.148010253906', '-673.5', '12.304992675781', '21.031005859375', '-673.5', '12.18798828125', '20.914001464844', '-673.5', '11.953002929688', '20.914001464844', '-673.5', '11.835998535156', '20.797027587891', '-673.5', '11.718994140625', '20.680023193359', '-673.5', '11.484008789062', '20.680023193359', '-673.5', '11.367004394531', '20.56201171875', '-673.5', '11.25', '20.445007324219', '-673.5', '11.132995605469', '20.328002929688', '-673.5', '11.015991210938', '20.210998535156', '-673.5', '10.781005859375', '20.210998535156', '-673.5', '10.664001464844', '20.093994140625', '-673.5', '10.546997070312', '19.977020263672', '-673.5', '10.31201171875', '19.977020263672', '-673.5', '10.195007324219', '19.859008789062', '-673.5', '10.078002929688', '19.742004394531', '-673.5', '8.43798828125', '19.742004394531', '-673.5', '8.3200073242188', '19.859008789062', '-673.5', '8.2030029296875', '19.977020263672', '-673.5', '7.968994140625', '19.977020263672', '-673.5', '7.8519897460938', '20.093994140625', '-673.5', '7.7340087890625', '20.210998535156', '-673.5', '7.6170043945312', '20.328002929688', '-673.5', '7.5', '20.445007324219', '-673.5', '7.2659912109375', '20.445007324219', '-673.5', '7.1480102539062', '20.56201171875', '-673.5', '7.031005859375', '20.680023193359', '-673.5', '6.56201171875', '20.680023193359', '-673.5', '6.4450073242188', '20.797027587891', '-673.5', '6.3280029296875', '20.914001464844', '-673.5', '3.75', '20.914001464844', '-673.5', '3.6329956054688', '21.031005859375', '-673.5', '3.5159912109375', '21.148010253906', '-673.5', '3.3980102539062', '21.266021728516', '-673.5', '3.281005859375', '21.382995605469', '-673.5', '3.1640014648438', '21.5', '-673.5', '3.1640014648438', '21.734008789062', '-673.5', '3.0469970703125', '21.852020263672', '-673.5', '2.9299926757812', '21.968994140625', '-673.5', '2.9299926757812', '22.203002929688', '-673.5', '2.81201171875', '22.320007324219', '-673.5', '2.6950073242188', '22.43798828125', '-673.5', '2.6950073242188', '22.906005859375', '-673.5', '2.5780029296875', '23.023010253906', '-673.5', '2.4609985351562', '23.141021728516', '-673.5', '2.343994140625', '23.257995605469', '-673.5', '2.2269897460938', '23.375', '-673.5', '2.1090087890625', '23.492004394531', '-673.5', '1.9920043945312', '23.609008789062', '-673.5', '1.875', '23.727020263672', '-673.5', '1.7579956054688', '23.843994140625', '-673.5', '1.6409912109375', '23.960998535156', '-673.5', '1.5230102539062', '24.078002929688', '-673.5', '1.406005859375', '24.195007324219', '-673.5', '1.2890014648438', '24.31201171875', '-673.5', '1.1719970703125', '24.430023193359', '-673.5', '1.0549926757812', '24.547027587891', '-673.5', '0.93798828125', '24.664001464844', '-673.5', '0.82000732421875', '24.781005859375', '-673.5', '0.7030029296875', '24.898010253906', '-673.5', '0.58599853515625', '25.016021728516', '-673.5', '0.468994140625', '25.132995605469', '-673.5', '0.35198974609375', '25.25', '-673.5', '0.2340087890625', '25.367004394531', '-673.5', '0.11700439453125', '25.484008789062', '-673.5', '0', '25.602020263672', '-673.5', '-0.2340087890625', '25.602020263672', '-673.5', '-0.3519897460938', '25.718994140625', '-673.5', '-0.468994140625', '25.835998535156', '-673.5', '-0.5859985351562', '25.953002929688', '-673.5', '-0.7030029296875', '26.070007324219', '-673.5', '-0.93798828125', '26.070007324219', '-673.5', '-1.0549926757812', '26.18798828125', '-673.5', '-1.1719970703125', '26.305023193359', '-673.5', '-1.2890014648438', '26.422027587891', '-673.5', '-1.406005859375', '26.539001464844', '-673.5', '-1.5230102539062', '26.656005859375', '-673.5', '-1.6409912109375', '26.773010253906', '-673.5', '-1.7579956054688', '26.891021728516', '-673.5', '-1.875', '27.007995605469', '-673.5', '-1.9920043945312', '27.125', '-673.5', '-2.1090087890625', '27.242004394531', '-673.5', '-2.343994140625', '27.242004394531', '-673.5', '-2.4609985351562', '27.359008789062', '-673.5', '-2.5780029296875', '27.477020263672', '-673.5', '-6.7969970703125', '27.477020263672', '-673.5', '-6.9140014648438', '27.359008789062', '-673.5', '-7.031005859375', '27.242004394531', '-673.5', '-7.5', '27.242004394531', '-673.5', '-7.6170043945312', '27.125', '-673.5', '-7.7340087890625', '27.007995605469', '-673.5', '-7.968994140625', '27.007995605469', '-673.5', '-8.0859985351562', '26.891021728516', '-673.5', '-8.2030029296875', '26.773010253906', '-673.5', '-8.43798828125', '26.773010253906', '-673.5', '-8.5549926757812', '26.656005859375', '-673.5', '-8.6719970703125', '26.539001464844', '-673.5', '-8.7890014648438', '26.422027587891', '-673.5', '-8.906005859375', '26.305023193359', '-673.5', '-9.1409912109375', '26.305023193359', '-673.5', '-9.2579956054688', '26.18798828125', '-673.5', '-9.375', '26.070007324219', '-673.5', '-9.6090087890625', '26.070007324219', '-673.5', '-9.7269897460938', '25.953002929688', '-673.5', '-9.843994140625', '25.835998535156', '-673.5', '-9.9609985351562', '25.718994140625', '-673.5', '-10.078002929688', '25.602020263672', '-673.5', '-10.195007324219', '25.484008789062', '-673.5', '-10.31201171875', '25.367004394531', '-673.5', '-10.546997070312', '25.367004394531', '-673.5', '-10.664001464844', '25.25', '-673.5', '-10.781005859375', '25.132995605469', '-673.5', '-10.898010253906', '25.016021728516', '-673.5', '-11.015991210938', '24.898010253906', '-673.5', '-11.25', '24.898010253906', '-673.5', '-11.367004394531', '24.781005859375', '-673.5', '-11.484008789062', '24.664001464844', '-673.5', '-11.601989746094', '24.547027587891', '-673.5', '-11.718994140625', '24.430023193359', '-673.5', '-11.835998535156', '24.31201171875', '-673.5', '-11.953002929688', '24.195007324219', '-673.5', '-12.070007324219', '24.078002929688', '-673.5', '-12.18798828125', '23.960998535156', '-673.5', '-12.304992675781', '23.843994140625', '-673.5', '-12.421997070312', '23.727020263672', '-673.5', '-12.656005859375', '23.727020263672', '-673.5', '-12.773010253906', '23.609008789062', '-673.5', '-12.890991210938', '23.492004394531', '-673.5', '-13.007995605469', '23.375', '-673.5', '-13.125', '23.257995605469', '-673.5', '-13.359008789062', '23.257995605469', '-673.5', '-13.476989746094', '23.141021728516', '-673.5', '-13.593994140625', '23.023010253906', '-673.5', '-13.710998535156', '22.906005859375', '-673.5', '-13.828002929688', '22.789001464844', '-673.5', '-14.06201171875', '22.789001464844', '-673.5', '-14.179992675781', '22.672027587891', '-673.5', '-14.296997070312', '22.555023193359', '-673.5', '-14.531005859375', '22.555023193359', '-673.5', '-14.648010253906', '22.43798828125', '-673.5', '-14.765991210938', '22.320007324219', '-673.5', '-15', '22.320007324219', '-673.5', '-15.117004394531', '22.203002929688', '-673.5', '-15.234008789062', '22.085998535156', '-673.5', '-15.351989746094', '21.968994140625', '-673.5', '-15.468994140625', '21.852020263672', '-673.5', '-15.585998535156', '21.734008789062', '-673.5', '-15.703002929688', '21.617004394531', '-673.5', '-15.820007324219', '21.5', '-673.5', '-15.93798828125', '21.382995605469', '-673.5', '-16.054992675781', '21.266021728516', '-673.5', '-16.171997070312', '21.148010253906', '-673.5', '-16.289001464844', '21.031005859375', '-673.5', '-16.406005859375', '20.914001464844', '-673.5', '-16.523010253906', '20.797027587891', '-673.5', '-16.640991210938', '20.680023193359', '-673.5', '-16.757995605469', '20.56201171875', '-673.5', '-16.757995605469', '18.453002929688', '-673.5', '-16.640991210938', '18.335998535156', '-673.5', '-16.523010253906', '18.218994140625', '-673.5', '-16.523010253906', '17.984008789062', '-673.5', '-16.406005859375', '17.867004394531', '-673.5', '-16.289001464844', '17.75', '-673.5', '-16.171997070312', '17.632995605469', '-673.5', '-16.054992675781', '17.516021728516', '-673.5', '-15.93798828125', '17.398010253906', '-673.5', '-15.820007324219', '17.281005859375', '-673.5', '-15.703002929688', '17.164001464844', '-673.5', '-15.234008789062', '17.164001464844', '-673.5', '-15.117004394531', '17.047027587891', '-673.5', '-15', '16.930023193359', '-673.5', '-14.765991210938', '16.930023193359', '-673.5', '-14.648010253906', '16.81201171875', '-673.5', '-14.531005859375', '16.695007324219', '-673.5', '-14.296997070312', '16.695007324219', '-673.5', '-14.179992675781', '16.578002929688', '-673.5', '-14.06201171875', '16.460998535156', '-673.5', '-12.656005859375', '16.460998535156', '-673.5', '-12.539001464844', '16.343994140625', '-673.5', '-12.421997070312', '16.227020263672', '-673.5', '-12.18798828125', '16.227020263672', '-673.5', '-12.070007324219', '16.109008789062', '-673.5', '-11.953002929688', '15.992004394531', '-673.5', '-11.484008789062', '15.992004394531', '-673.5', '-11.367004394531', '15.875', '-673.5', '-11.25', '15.757995605469', '-673.5', '-11.015991210938', '15.757995605469', '-673.5', '-10.898010253906', '15.641021728516', '-673.5', '-10.781005859375', '15.523010253906', '-673.5', '-10.546997070312', '15.523010253906', '-673.5', '-10.429992675781', '15.406005859375', '-673.5', '-10.31201171875', '15.289001464844', '-673.5', '-10.195007324219', '15.172027587891', '-673.5', '-10.078002929688', '15.055023193359', '-673.5', '-9.9609985351562', '14.93798828125', '-673.5', '-9.843994140625', '14.820007324219', '-673.5', '-9.6090087890625', '14.820007324219', '-673.5', '-9.4920043945312', '14.703002929688', '-673.5', '-9.375', '14.585998535156', '-673.5', '-9.2579956054688', '14.468994140625', '-673.5', '-9.1409912109375', '14.352020263672', '-673.5', '-9.0230102539062', '14.234008789062', '-673.5', '-8.906005859375', '14.117004394531', '-673.5', '-8.6719970703125', '14.117004394531', '-673.5', '-8.5549926757812', '14', '-673.5', '-8.43798828125', '13.882995605469', '-673.5', '-7.5', '13.882995605469', '-673.5', '-7.3829956054688', '13.766021728516', '-673.5', '-7.2659912109375', '13.648010253906', '-673.5', '-6.56201171875', '13.648010253906', '-673.5', '-6.4450073242188', '13.531005859375', '-673.5', '-6.3280029296875', '13.414001464844', '-673.5', '-5.3909912109375', '13.414001464844', '-673.5', '-5.2730102539062', '13.297027587891', '-673.5', '-5.156005859375', '13.180023193359', '-673.5', '-4.68798828125', '13.180023193359', '-673.5', '-4.5700073242188', '13.06201171875', '-673.5', '-4.4530029296875', '12.945007324219', '-673.5', '-3.75', '12.945007324219', '-673.5', '-3.6329956054688', '12.828002929688', '-673.5', '-3.5159912109375', '12.710998535156', '-673.5', '-3.281005859375', '12.710998535156', '-673.5', '-3.1640014648438', '12.593994140625', '-673.5', '-3.0469970703125', '12.477020263672', '-673.5', '-2.5780029296875', '12.477020263672', '-673.5', '-2.4609985351562', '12.359008789062', '-673.5', '-2.343994140625', '12.242004394531', '-673.5', '-2.2269897460938', '12.125', '-673.5', '-2.1090087890625', '12.007995605469', '-673.5', '-1.875', '12.007995605469', '-673.5', '-1.7579956054688', '11.891021728516', '-673.5', '-1.6409912109375', '11.773010253906', '-673.5', '-1.406005859375', '11.773010253906', '-673.5', '-1.2890014648438', '11.656005859375', '-673.5', '-1.1719970703125', '11.539001464844', '-673.5', '-0.7030029296875', '11.539001464844', '-673.5', '-0.5859985351562', '11.422027587891', '-673.5', '-0.468994140625', '11.305023193359', '-673.5', '0.2340087890625', '11.305023193359', '-673.5', '0.35198974609375', '11.18798828125', '-673.5', '0.468994140625', '11.070007324219', '-673.5', '5.3909912109375', '11.070007324219', '-673.5']\n",
       "   ---------\n",
       "   (3006, 0016)  Contour Image Sequence   1 item(s) ---- \n",
       "      (0008, 1150) Referenced SOP Class UID            UI: CT Image Storage\n",
       "      (0008, 1155) Referenced SOP Instance UID         UI: 2.16.840.1.114362.1.6.7.5.17616.11849865775.479250700.396.1412\n",
       "      ---------\n",
       "   (3006, 0042) Contour Geometric Type              CS: 'CLOSED_PLANAR'\n",
       "   (3006, 0046) Number of Contour Points            IS: '551'\n",
       "   (3006, 0050) Contour Data                        DS: ['10.898010253906', '7.6719970703125', '-676.5', '11.015991210938', '7.5549926757812', '-676.5', '12.18798828125', '7.5549926757812', '-676.5', '12.304992675781', '7.6719970703125', '-676.5', '12.421997070312', '7.7890014648438', '-676.5', '12.890991210938', '7.7890014648438', '-676.5', '13.007995605469', '7.906005859375', '-676.5', '13.125', '8.0230102539062', '-676.5', '13.242004394531', '8.1409912109375', '-676.5', '13.359008789062', '8.2579956054688', '-676.5', '13.476989746094', '8.375', '-676.5', '13.593994140625', '8.4920043945312', '-676.5', '13.710998535156', '8.6090087890625', '-676.5', '13.828002929688', '8.7269897460938', '-676.5', '13.945007324219', '8.843994140625', '-676.5', '14.06201171875', '8.9609985351562', '-676.5', '16.171997070312', '8.9609985351562', '-676.5', '16.289001464844', '9.0780029296875', '-676.5', '16.406005859375', '9.1950073242188', '-676.5', '17.109008789062', '9.1950073242188', '-676.5', '17.226989746094', '9.31201171875', '-676.5', '17.343994140625', '9.4299926757812', '-676.5', '17.81201171875', '9.4299926757812', '-676.5', '17.929992675781', '9.5469970703125', '-676.5', '18.046997070312', '9.6640014648438', '-676.5', '18.515991210938', '9.6640014648438', '-676.5', '18.632995605469', '9.781005859375', '-676.5', '18.75', '9.8980102539062', '-676.5', '18.867004394531', '10.016021728516', '-676.5', '18.984008789062', '10.132995605469', '-676.5', '19.101989746094', '10.25', '-676.5', '19.218994140625', '10.367004394531', '-676.5', '19.335998535156', '10.484008789062', '-676.5', '19.453002929688', '10.602020263672', '-676.5', '19.68798828125', '10.602020263672', '-676.5', '19.804992675781', '10.718994140625', '-676.5', '19.921997070312', '10.835998535156', '-676.5', '20.039001464844', '10.953002929688', '-676.5', '20.155975341797', '11.070007324219', '-676.5', '20.625', '11.070007324219', '-676.5', '20.742004394531', '11.18798828125', '-676.5', '20.859008789062', '11.305023193359', '-676.5', '21.094024658203', '11.305023193359', '-676.5', '21.210998535156', '11.422027587891', '-676.5', '21.328002929688', '11.539001464844', '-676.5', '21.56201171875', '11.539001464844', '-676.5', '21.679992675781', '11.656005859375', '-676.5', '21.796997070312', '11.773010253906', '-676.5', '21.914001464844', '11.891021728516', '-676.5', '22.030975341797', '12.007995605469', '-676.5', '22.265991210938', '12.007995605469', '-676.5', '22.382995605469', '12.125', '-676.5', '22.5', '12.242004394531', '-676.5', '22.617004394531', '12.359008789062', '-676.5', '22.734008789062', '12.477020263672', '-676.5', '22.852020263672', '12.593994140625', '-676.5', '22.969024658203', '12.710998535156', '-676.5', '23.085998535156', '12.828002929688', '-676.5', '23.203002929688', '12.945007324219', '-676.5', '23.320007324219', '13.06201171875', '-676.5', '23.320007324219', '13.297027587891', '-676.5', '23.43798828125', '13.414001464844', '-676.5', '23.554992675781', '13.531005859375', '-676.5', '23.554992675781', '13.766021728516', '-676.5', '23.671997070312', '13.882995605469', '-676.5', '23.789001464844', '14', '-676.5', '23.789001464844', '14.234008789062', '-676.5', '23.905975341797', '14.352020263672', '-676.5', '24.022979736328', '14.468994140625', '-676.5', '24.022979736328', '16.343994140625', '-676.5', '23.905975341797', '16.460998535156', '-676.5', '23.789001464844', '16.578002929688', '-676.5', '23.789001464844', '17.047027587891', '-676.5', '23.671997070312', '17.164001464844', '-676.5', '23.554992675781', '17.281005859375', '-676.5', '23.554992675781', '17.516021728516', '-676.5', '23.43798828125', '17.632995605469', '-676.5', '23.320007324219', '17.75', '-676.5', '23.320007324219', '17.984008789062', '-676.5', '23.203002929688', '18.102020263672', '-676.5', '23.085998535156', '18.218994140625', '-676.5', '23.085998535156', '18.453002929688', '-676.5', '22.969024658203', '18.570007324219', '-676.5', '22.852020263672', '18.68798828125', '-676.5', '22.852020263672', '18.922027587891', '-676.5', '22.734008789062', '19.039001464844', '-676.5', '22.617004394531', '19.156005859375', '-676.5', '22.617004394531', '19.391021728516', '-676.5', '22.5', '19.507995605469', '-676.5', '22.382995605469', '19.625', '-676.5', '22.265991210938', '19.742004394531', '-676.5', '22.147979736328', '19.859008789062', '-676.5', '22.030975341797', '19.977020263672', '-676.5', '21.796997070312', '19.977020263672', '-676.5', '21.679992675781', '20.093994140625', '-676.5', '21.56201171875', '20.210998535156', '-676.5', '21.445007324219', '20.328002929688', '-676.5', '21.328002929688', '20.445007324219', '-676.5', '20.625', '20.445007324219', '-676.5', '20.507995605469', '20.56201171875', '-676.5', '20.390991210938', '20.680023193359', '-676.5', '19.453002929688', '20.680023193359', '-676.5', '19.335998535156', '20.56201171875', '-676.5', '19.218994140625', '20.445007324219', '-676.5', '18.75', '20.445007324219', '-676.5', '18.632995605469', '20.328002929688', '-676.5', '18.515991210938', '20.210998535156', '-676.5', '18.281005859375', '20.210998535156', '-676.5', '18.164001464844', '20.093994140625', '-676.5', '18.046997070312', '19.977020263672', '-676.5', '17.929992675781', '19.859008789062', '-676.5', '17.81201171875', '19.742004394531', '-676.5', '17.578002929688', '19.742004394531', '-676.5', '17.460998535156', '19.859008789062', '-676.5', '17.343994140625', '19.977020263672', '-676.5', '16.875', '19.977020263672', '-676.5', '16.757995605469', '20.093994140625', '-676.5', '16.757995605469', '23.141021728516', '-676.5', '16.640991210938', '23.257995605469', '-676.5', '16.523010253906', '23.375', '-676.5', '16.523010253906', '24.078002929688', '-676.5', '16.406005859375', '24.195007324219', '-676.5', '16.289001464844', '24.31201171875', '-676.5', '16.289001464844', '24.547027587891', '-676.5', '16.171997070312', '24.664001464844', '-676.5', '16.054992675781', '24.781005859375', '-676.5', '15.93798828125', '24.898010253906', '-676.5', '15.820007324219', '25.016021728516', '-676.5', '15.703002929688', '25.132995605469', '-676.5', '15.585998535156', '25.25', '-676.5', '15.468994140625', '25.367004394531', '-676.5', '15.351989746094', '25.484008789062', '-676.5', '15.234008789062', '25.602020263672', '-676.5', '15.117004394531', '25.718994140625', '-676.5', '15.117004394531', '26.18798828125', '-676.5', '15', '26.305023193359', '-676.5', '14.882995605469', '26.422027587891', '-676.5', '15', '26.539001464844', '-676.5', '15.117004394531', '26.656005859375', '-676.5', '15', '26.773010253906', '-676.5', '14.882995605469', '26.891021728516', '-676.5', '14.882995605469', '27.125', '-676.5', '14.765991210938', '27.242004394531', '-676.5', '13.828002929688', '27.242004394531', '-676.5', '13.710998535156', '27.125', '-676.5', '13.710998535156', '26.18798828125', '-676.5', '13.593994140625', '26.070007324219', '-676.5', '13.359008789062', '26.070007324219', '-676.5', '13.242004394531', '25.953002929688', '-676.5', '13.242004394531', '25.016021728516', '-676.5', '13.125', '24.898010253906', '-676.5', '13.007995605469', '24.781005859375', '-676.5', '13.007995605469', '23.609008789062', '-676.5', '12.890991210938', '23.492004394531', '-676.5', '12.773010253906', '23.375', '-676.5', '12.773010253906', '23.141021728516', '-676.5', '12.656005859375', '23.023010253906', '-676.5', '12.539001464844', '22.906005859375', '-676.5', '12.421997070312', '22.789001464844', '-676.5', '12.304992675781', '22.672027587891', '-676.5', '12.18798828125', '22.555023193359', '-676.5', '11.484008789062', '22.555023193359', '-676.5', '11.367004394531', '22.672027587891', '-676.5', '11.25', '22.789001464844', '-676.5', '11.132995605469', '22.906005859375', '-676.5', '11.015991210938', '23.023010253906', '-676.5', '10.898010253906', '23.141021728516', '-676.5', '10.898010253906', '23.375', '-676.5', '10.781005859375', '23.492004394531', '-676.5', '10.664001464844', '23.609008789062', '-676.5', '10.546997070312', '23.727020263672', '-676.5', '10.429992675781', '23.843994140625', '-676.5', '10.31201171875', '23.960998535156', '-676.5', '10.195007324219', '24.078002929688', '-676.5', '10.195007324219', '24.31201171875', '-676.5', '10.078002929688', '24.430023193359', '-676.5', '9.9609985351562', '24.547027587891', '-676.5', '9.9609985351562', '24.781005859375', '-676.5', '9.843994140625', '24.898010253906', '-676.5', '9.7269897460938', '25.016021728516', '-676.5', '9.7269897460938', '25.25', '-676.5', '9.6090087890625', '25.367004394531', '-676.5', '9.4920043945312', '25.484008789062', '-676.5', '9.4920043945312', '26.422027587891', '-676.5', '9.6090087890625', '26.539001464844', '-676.5', '9.7269897460938', '26.656005859375', '-676.5', '9.7269897460938', '27.359008789062', '-676.5', '9.6090087890625', '27.477020263672', '-676.5', '9.4920043945312', '27.593994140625', '-676.5', '9.4920043945312', '27.828002929688', '-676.5', '9.375', '27.945007324219', '-676.5', '9.2579956054688', '28.06201171875', '-676.5', '9.2579956054688', '28.297027587891', '-676.5', '9.1409912109375', '28.414001464844', '-676.5', '9.0230102539062', '28.531005859375', '-676.5', '8.906005859375', '28.648010253906', '-676.5', '8.6719970703125', '28.648010253906', '-676.5', '8.5549926757812', '28.766021728516', '-676.5', '8.43798828125', '28.882995605469', '-676.5', '7.968994140625', '28.882995605469', '-676.5', '7.8519897460938', '29', '-676.5', '7.7340087890625', '29.117004394531', '-676.5', '6.7969970703125', '29.117004394531', '-676.5', '6.6799926757812', '29.234008789062', '-676.5', '6.56201171875', '29.352020263672', '-676.5', '6.093994140625', '29.352020263672', '-676.5', '5.9769897460938', '29.234008789062', '-676.5', '5.8590087890625', '29.117004394531', '-676.5', '5.625', '29.117004394531', '-676.5', '5.5079956054688', '29', '-676.5', '5.3909912109375', '28.882995605469', '-676.5', '5.2730102539062', '28.766021728516', '-676.5', '5.156005859375', '28.648010253906', '-676.5', '5.0390014648438', '28.531005859375', '-676.5', '5.0390014648438', '24.781005859375', '-676.5', '5.156005859375', '24.664001464844', '-676.5', '5.2730102539062', '24.547027587891', '-676.5', '5.2730102539062', '24.31201171875', '-676.5', '5.3909912109375', '24.195007324219', '-676.5', '5.5079956054688', '24.078002929688', '-676.5', '5.5079956054688', '23.375', '-676.5', '5.625', '23.257995605469', '-676.5', '5.7420043945312', '23.141021728516', '-676.5', '5.7420043945312', '22.906005859375', '-676.5', '5.8590087890625', '22.789001464844', '-676.5', '5.9769897460938', '22.672027587891', '-676.5', '6.093994140625', '22.555023193359', '-676.5', '6.2109985351562', '22.43798828125', '-676.5', '6.3280029296875', '22.320007324219', '-676.5', '6.4450073242188', '22.203002929688', '-676.5', '6.56201171875', '22.085998535156', '-676.5', '6.6799926757812', '21.968994140625', '-676.5', '6.56201171875', '21.852020263672', '-676.5', '6.4450073242188', '21.734008789062', '-676.5', '6.4450073242188', '21.031005859375', '-676.5', '6.3280029296875', '20.914001464844', '-676.5', '6.2109985351562', '20.797027587891', '-676.5', '6.2109985351562', '20.328002929688', '-676.5', '6.093994140625', '20.210998535156', '-676.5', '5.9769897460938', '20.093994140625', '-676.5', '5.9769897460938', '19.859008789062', '-676.5', '5.8590087890625', '19.742004394531', '-676.5', '5.7420043945312', '19.625', '-676.5', '5.7420043945312', '19.391021728516', '-676.5', '5.625', '19.273010253906', '-676.5', '5.5079956054688', '19.156005859375', '-676.5', '5.5079956054688', '18.922027587891', '-676.5', '5.3909912109375', '18.805023193359', '-676.5', '5.2730102539062', '18.68798828125', '-676.5', '5.2730102539062', '18.453002929688', '-676.5', '5.156005859375', '18.335998535156', '-676.5', '5.0390014648438', '18.218994140625', '-676.5', '4.9219970703125', '18.102020263672', '-676.5', '2.5780029296875', '18.102020263672', '-676.5', '2.4609985351562', '17.984008789062', '-676.5', '2.343994140625', '17.867004394531', '-676.5', '1.406005859375', '17.867004394531', '-676.5', '1.2890014648438', '17.984008789062', '-676.5', '1.1719970703125', '18.102020263672', '-676.5', '0.7030029296875', '18.102020263672', '-676.5', '0.58599853515625', '18.218994140625', '-676.5', '0.468994140625', '18.335998535156', '-676.5', '0', '18.335998535156', '-676.5', '-0.1170043945312', '18.453002929688', '-676.5', '-0.2340087890625', '18.570007324219', '-676.5', '-0.468994140625', '18.570007324219', '-676.5', '-0.5859985351562', '18.68798828125', '-676.5', '-0.7030029296875', '18.805023193359', '-676.5', '-0.93798828125', '18.805023193359', '-676.5', '-1.0549926757812', '18.922027587891', '-676.5', '-1.0549926757812', '19.156005859375', '-676.5', '-1.1719970703125', '19.273010253906', '-676.5', '-1.2890014648438', '19.391021728516', '-676.5', '-1.2890014648438', '19.625', '-676.5', '-1.406005859375', '19.742004394531', '-676.5', '-1.5230102539062', '19.859008789062', '-676.5', '-1.5230102539062', '20.56201171875', '-676.5', '-1.6409912109375', '20.680023193359', '-676.5', '-1.7579956054688', '20.797027587891', '-676.5', '-1.7579956054688', '21.031005859375', '-676.5', '-1.875', '21.148010253906', '-676.5', '-1.9920043945312', '21.266021728516', '-676.5', '-1.9920043945312', '21.5', '-676.5', '-2.1090087890625', '21.617004394531', '-676.5', '-2.2269897460938', '21.734008789062', '-676.5', '-2.2269897460938', '22.203002929688', '-676.5', '-2.343994140625', '22.320007324219', '-676.5', '-2.4609985351562', '22.43798828125', '-676.5', '-2.4609985351562', '22.672027587891', '-676.5', '-2.5780029296875', '22.789001464844', '-676.5', '-2.6950073242188', '22.906005859375', '-676.5', '-2.81201171875', '23.023010253906', '-676.5', '-2.9299926757812', '23.141021728516', '-676.5', '-2.9299926757812', '23.375', '-676.5', '-3.0469970703125', '23.492004394531', '-676.5', '-3.1640014648438', '23.609008789062', '-676.5', '-3.281005859375', '23.727020263672', '-676.5', '-3.3980102539062', '23.843994140625', '-676.5', '-3.5159912109375', '23.960998535156', '-676.5', '-3.6329956054688', '24.078002929688', '-676.5', '-3.75', '24.195007324219', '-676.5', '-3.8670043945312', '24.31201171875', '-676.5', '-3.8670043945312', '25.953002929688', '-676.5', '-3.9840087890625', '26.070007324219', '-676.5', '-4.1019897460938', '26.18798828125', '-676.5', '-4.1019897460938', '26.656005859375', '-676.5', '-4.218994140625', '26.773010253906', '-676.5', '-4.3359985351562', '26.891021728516', '-676.5', '-4.3359985351562', '27.125', '-676.5', '-4.4530029296875', '27.242004394531', '-676.5', '-4.5700073242188', '27.359008789062', '-676.5', '-4.68798828125', '27.477020263672', '-676.5', '-4.9219970703125', '27.477020263672', '-676.5', '-5.0390014648438', '27.593994140625', '-676.5', '-5.156005859375', '27.710998535156', '-676.5', '-5.625', '27.710998535156', '-676.5', '-5.7420043945312', '27.828002929688', '-676.5', '-5.8590087890625', '27.945007324219', '-676.5', '-7.7340087890625', '27.945007324219', '-676.5', '-7.8519897460938', '27.828002929688', '-676.5', '-7.968994140625', '27.710998535156', '-676.5', '-8.43798828125', '27.710998535156', '-676.5', '-8.5549926757812', '27.593994140625', '-676.5', '-8.6719970703125', '27.477020263672', '-676.5', '-8.906005859375', '27.477020263672', '-676.5', '-9.0230102539062', '27.359008789062', '-676.5', '-9.1409912109375', '27.242004394531', '-676.5', '-11.015991210938', '27.242004394531', '-676.5', '-11.132995605469', '27.359008789062', '-676.5', '-11.25', '27.477020263672', '-676.5', '-11.718994140625', '27.477020263672', '-676.5', '-11.835998535156', '27.593994140625', '-676.5', '-11.953002929688', '27.710998535156', '-676.5', '-12.070007324219', '27.828002929688', '-676.5', '-12.18798828125', '27.945007324219', '-676.5', '-12.421997070312', '27.945007324219', '-676.5', '-12.539001464844', '28.06201171875', '-676.5', '-12.656005859375', '28.180023193359', '-676.5', '-12.890991210938', '28.180023193359', '-676.5', '-13.007995605469', '28.297027587891', '-676.5', '-13.125', '28.414001464844', '-676.5', '-13.359008789062', '28.414001464844', '-676.5', '-13.476989746094', '28.531005859375', '-676.5', '-13.593994140625', '28.648010253906', '-676.5', '-13.828002929688', '28.648010253906', '-676.5', '-13.945007324219', '28.766021728516', '-676.5', '-14.06201171875', '28.882995605469', '-676.5', '-14.179992675781', '29', '-676.5', '-14.296997070312', '29.117004394531', '-676.5', '-14.531005859375', '29.117004394531', '-676.5', '-14.648010253906', '29.234008789062', '-676.5', '-14.765991210938', '29.352020263672', '-676.5', '-15', '29.352020263672', '-676.5', '-15.117004394531', '29.468994140625', '-676.5', '-15.234008789062', '29.585998535156', '-676.5', '-15.703002929688', '29.585998535156', '-676.5', '-15.820007324219', '29.703002929688', '-676.5', '-15.93798828125', '29.820007324219', '-676.5', '-18.515991210938', '29.820007324219', '-676.5', '-18.632995605469', '29.703002929688', '-676.5', '-18.75', '29.585998535156', '-676.5', '-19.68798828125', '29.585998535156', '-676.5', '-19.804992675781', '29.468994140625', '-676.5', '-19.921997070312', '29.352020263672', '-676.5', '-20.156005859375', '29.352020263672', '-676.5', '-20.273010253906', '29.234008789062', '-676.5', '-20.390991210938', '29.117004394531', '-676.5', '-20.507995605469', '29', '-676.5', '-20.625', '28.882995605469', '-676.5', '-20.742004394531', '28.766021728516', '-676.5', '-20.859008789062', '28.648010253906', '-676.5', '-20.976989746094', '28.531005859375', '-676.5', '-21.093994140625', '28.414001464844', '-676.5', '-21.210998535156', '28.297027587891', '-676.5', '-21.210998535156', '28.06201171875', '-676.5', '-21.328002929688', '27.945007324219', '-676.5', '-21.445007324219', '27.828002929688', '-676.5', '-21.445007324219', '27.593994140625', '-676.5', '-21.56201171875', '27.477020263672', '-676.5', '-21.679992675781', '27.359008789062', '-676.5', '-21.796997070312', '27.242004394531', '-676.5', '-21.914001464844', '27.125', '-676.5', '-22.031005859375', '27.007995605469', '-676.5', '-22.148010253906', '26.891021728516', '-676.5', '-22.265991210938', '26.773010253906', '-676.5', '-22.382995605469', '26.656005859375', '-676.5', '-22.5', '26.539001464844', '-676.5', '-22.617004394531', '26.422027587891', '-676.5', '-22.734008789062', '26.305023193359', '-676.5', '-22.851989746094', '26.18798828125', '-676.5', '-22.968994140625', '26.070007324219', '-676.5', '-23.085998535156', '25.953002929688', '-676.5', '-23.085998535156', '25.718994140625', '-676.5', '-23.203002929688', '25.602020263672', '-676.5', '-23.320007324219', '25.484008789062', '-676.5', '-23.320007324219', '25.25', '-676.5', '-23.43798828125', '25.132995605469', '-676.5', '-23.554992675781', '25.016021728516', '-676.5', '-23.554992675781', '24.781005859375', '-676.5', '-23.671997070312', '24.664001464844', '-676.5', '-23.789001464844', '24.547027587891', '-676.5', '-23.789001464844', '21.5', '-676.5', '-23.671997070312', '21.382995605469', '-676.5', '-23.554992675781', '21.266021728516', '-676.5', '-23.554992675781', '21.031005859375', '-676.5', '-23.43798828125', '20.914001464844', '-676.5', '-23.320007324219', '20.797027587891', '-676.5', '-23.203002929688', '20.680023193359', '-676.5', '-23.085998535156', '20.56201171875', '-676.5', '-23.085998535156', '20.328002929688', '-676.5', '-22.968994140625', '20.210998535156', '-676.5', '-22.851989746094', '20.093994140625', '-676.5', '-22.851989746094', '19.859008789062', '-676.5', '-22.734008789062', '19.742004394531', '-676.5', '-22.617004394531', '19.625', '-676.5', '-22.5', '19.507995605469', '-676.5', '-22.382995605469', '19.391021728516', '-676.5', '-22.382995605469', '19.156005859375', '-676.5', '-22.265991210938', '19.039001464844', '-676.5', '-22.148010253906', '18.922027587891', '-676.5', '-22.031005859375', '18.805023193359', '-676.5', '-21.914001464844', '18.68798828125', '-676.5', '-21.914001464844', '18.453002929688', '-676.5', '-21.796997070312', '18.335998535156', '-676.5', '-21.679992675781', '18.218994140625', '-676.5', '-21.56201171875', '18.102020263672', '-676.5', '-21.328002929688', '18.102020263672', '-676.5', '-21.210998535156', '17.984008789062', '-676.5', '-21.093994140625', '17.867004394531', '-676.5', '-20.976989746094', '17.75', '-676.5', '-20.859008789062', '17.632995605469', '-676.5', '-20.742004394531', '17.516021728516', '-676.5', '-20.625', '17.398010253906', '-676.5', '-20.390991210938', '17.398010253906', '-676.5', '-20.273010253906', '17.281005859375', '-676.5', '-20.156005859375', '17.164001464844', '-676.5', '-19.921997070312', '17.164001464844', '-676.5', '-19.804992675781', '17.047027587891', '-676.5', '-19.68798828125', '16.930023193359', '-676.5', '-19.453002929688', '16.930023193359', '-676.5', '-19.335998535156', '16.81201171875', '-676.5', '-19.218994140625', '16.695007324219', '-676.5', '-18.75', '16.695007324219', '-676.5', '-18.632995605469', '16.578002929688', '-676.5', '-18.515991210938', '16.460998535156', '-676.5', '-18.046997070312', '16.460998535156', '-676.5', '-17.929992675781', '16.343994140625', '-676.5', '-17.81201171875', '16.227020263672', '-676.5', '-15.93798828125', '16.227020263672', '-676.5', '-15.820007324219', '16.109008789062', '-676.5', '-15.703002929688', '15.992004394531', '-676.5', '-15.234008789062', '15.992004394531', '-676.5', '-15.117004394531', '15.875', '-676.5', '-15', '15.757995605469', '-676.5', '-14.882995605469', '15.641021728516', '-676.5', '-14.765991210938', '15.523010253906', '-676.5', '-14.648010253906', '15.406005859375', '-676.5', '-14.531005859375', '15.289001464844', '-676.5', '-14.414001464844', '15.172027587891', '-676.5', '-14.296997070312', '15.055023193359', '-676.5', '-14.06201171875', '15.055023193359', '-676.5', '-13.945007324219', '14.93798828125', '-676.5', '-13.945007324219', '14.703002929688', '-676.5', '-13.828002929688', '14.585998535156', '-676.5', '-13.710998535156', '14.468994140625', '-676.5', '-13.593994140625', '14.352020263672', '-676.5', '-13.476989746094', '14.234008789062', '-676.5', '-13.359008789062', '14.117004394531', '-676.5', '-13.242004394531', '14', '-676.5', '-13.125', '13.882995605469', '-676.5', '-13.007995605469', '13.766021728516', '-676.5', '-12.890991210938', '13.648010253906', '-676.5', '-12.656005859375', '13.648010253906', '-676.5', '-12.539001464844', '13.531005859375', '-676.5', '-12.421997070312', '13.414001464844', '-676.5', '-12.18798828125', '13.414001464844', '-676.5', '-12.070007324219', '13.297027587891', '-676.5', '-11.953002929688', '13.180023193359', '-676.5', '-11.718994140625', '13.180023193359', '-676.5', '-11.601989746094', '13.06201171875', '-676.5', '-11.484008789062', '12.945007324219', '-676.5', '-11.25', '12.945007324219', '-676.5', '-11.132995605469', '12.828002929688', '-676.5', '-11.015991210938', '12.710998535156', '-676.5', '-10.546997070312', '12.710998535156', '-676.5', '-10.429992675781', '12.593994140625', '-676.5', '-10.31201171875', '12.477020263672', '-676.5', '-9.375', '12.477020263672', '-676.5', '-9.2579956054688', '12.359008789062', '-676.5', '-9.1409912109375', '12.242004394531', '-676.5', '-7.7340087890625', '12.242004394531', '-676.5', '-7.6170043945312', '12.125', '-676.5', '-7.5', '12.007995605469', '-676.5', '-6.7969970703125', '12.007995605469', '-676.5', '-6.6799926757812', '11.891021728516', '-676.5', '-6.56201171875', '11.773010253906', '-676.5', '-5.625', '11.773010253906', '-676.5', '-5.5079956054688', '11.656005859375', '-676.5', '-5.3909912109375', '11.539001464844', '-676.5', '-4.9219970703125', '11.539001464844', '-676.5', '-4.8049926757812', '11.422027587891', '-676.5', '-4.68798828125', '11.305023193359', '-676.5', '-2.1090087890625', '11.305023193359', '-676.5', '-1.9920043945312', '11.422027587891', '-676.5', '-1.875', '11.539001464844', '-676.5', '-0.93798828125', '11.539001464844', '-676.5', '-0.8200073242188', '11.422027587891', '-676.5', '-0.7030029296875', '11.305023193359', '-676.5', '-0.2340087890625', '11.305023193359', '-676.5', '-0.1170043945312', '11.18798828125', '-676.5', '0', '11.070007324219', '-676.5', '0.2340087890625', '11.070007324219', '-676.5', '0.35198974609375', '10.953002929688', '-676.5', '0.468994140625', '10.835998535156', '-676.5', '1.6409912109375', '10.835998535156', '-676.5', '1.7579956054688', '10.718994140625', '-676.5', '1.875', '10.602020263672', '-676.5', '2.1090087890625', '10.602020263672', '-676.5', '2.2269897460938', '10.484008789062', '-676.5', '2.343994140625', '10.367004394531', '-676.5', '3.281005859375', '10.367004394531', '-676.5', '3.3980102539062', '10.25', '-676.5', '3.5159912109375', '10.132995605469', '-676.5', '3.75', '10.132995605469', '-676.5', '3.8670043945312', '10.016021728516', '-676.5', '3.9840087890625', '9.8980102539062', '-676.5', '5.3909912109375', '9.8980102539062', '-676.5', '5.5079956054688', '9.781005859375', '-676.5', '5.625', '9.6640014648438', '-676.5', '7.2659912109375', '9.6640014648438', '-676.5', '7.3829956054688', '9.5469970703125', '-676.5', '7.5', '9.4299926757812', '-676.5', '7.968994140625', '9.4299926757812', '-676.5', '8.0859985351562', '9.31201171875', '-676.5', '8.2030029296875', '9.1950073242188', '-676.5', '8.43798828125', '9.1950073242188', '-676.5', '8.5549926757812', '9.0780029296875', '-676.5', '8.6719970703125', '8.9609985351562', '-676.5', '8.906005859375', '8.9609985351562', '-676.5', '9.0230102539062', '8.843994140625', '-676.5', '9.1409912109375', '8.7269897460938', '-676.5', '9.2579956054688', '8.6090087890625', '-676.5', '9.375', '8.4920043945312', '-676.5', '9.4920043945312', '8.375', '-676.5', '9.6090087890625', '8.2579956054688', '-676.5', '9.7269897460938', '8.1409912109375', '-676.5', '9.843994140625', '8.0230102539062', '-676.5', '10.078002929688', '8.0230102539062', '-676.5', '10.195007324219', '7.906005859375', '-676.5', '10.31201171875', '7.7890014648438', '-676.5', '10.781005859375', '7.7890014648438', '-676.5']\n",
       "   ---------\n",
       "   (3006, 0016)  Contour Image Sequence   1 item(s) ---- \n",
       "      (0008, 1150) Referenced SOP Class UID            UI: CT Image Storage\n",
       "      (0008, 1155) Referenced SOP Instance UID         UI: 2.16.840.1.114362.1.6.7.5.17616.11849865775.479250700.396.1412\n",
       "      ---------\n",
       "   (3006, 0042) Contour Geometric Type              CS: 'CLOSED_PLANAR'\n",
       "   (3006, 0046) Number of Contour Points            IS: '4'\n",
       "   (3006, 0050) Contour Data                        DS: ['11.367004394531', '25.016021728516', '-676.5', '11.484008789062', '24.898010253906', '-676.5', '11.601989746094', '25.016021728516', '-676.5', '11.484008789062', '25.132995605469', '-676.5']\n",
       "   ---------\n",
       "   (3006, 0016)  Contour Image Sequence   1 item(s) ---- \n",
       "      (0008, 1150) Referenced SOP Class UID            UI: CT Image Storage\n",
       "      (0008, 1155) Referenced SOP Instance UID         UI: 2.16.840.1.114362.1.6.7.5.17616.11849865775.479250700.396.1411\n",
       "      ---------\n",
       "   (3006, 0042) Contour Geometric Type              CS: 'CLOSED_PLANAR'\n",
       "   (3006, 0046) Number of Contour Points            IS: '478'\n",
       "   (3006, 0050) Contour Data                        DS: ['12.539001464844', '6.968994140625', '-679.5', '12.656005859375', '6.8519897460938', '-679.5', '15.703002929688', '6.8519897460938', '-679.5', '15.820007324219', '6.968994140625', '-679.5', '15.93798828125', '7.0859985351562', '-679.5', '16.054992675781', '7.2030029296875', '-679.5', '16.171997070312', '7.3200073242188', '-679.5', '17.109008789062', '7.3200073242188', '-679.5', '17.226989746094', '7.43798828125', '-679.5', '17.343994140625', '7.5549926757812', '-679.5', '17.81201171875', '7.5549926757812', '-679.5', '17.929992675781', '7.6719970703125', '-679.5', '18.046997070312', '7.7890014648438', '-679.5', '18.515991210938', '7.7890014648438', '-679.5', '18.632995605469', '7.906005859375', '-679.5', '18.75', '8.0230102539062', '-679.5', '18.984008789062', '8.0230102539062', '-679.5', '19.101989746094', '8.1409912109375', '-679.5', '19.218994140625', '8.2579956054688', '-679.5', '19.335998535156', '8.375', '-679.5', '19.453002929688', '8.4920043945312', '-679.5', '19.570007324219', '8.6090087890625', '-679.5', '19.68798828125', '8.7269897460938', '-679.5', '19.804992675781', '8.843994140625', '-679.5', '19.921997070312', '8.9609985351562', '-679.5', '20.039001464844', '9.0780029296875', '-679.5', '20.155975341797', '9.1950073242188', '-679.5', '20.272979736328', '9.31201171875', '-679.5', '20.390991210938', '9.4299926757812', '-679.5', '20.507995605469', '9.5469970703125', '-679.5', '20.507995605469', '9.781005859375', '-679.5', '20.625', '9.8980102539062', '-679.5', '20.742004394531', '10.016021728516', '-679.5', '20.742004394531', '10.25', '-679.5', '20.859008789062', '10.367004394531', '-679.5', '20.977020263672', '10.484008789062', '-679.5', '20.977020263672', '14', '-679.5', '20.859008789062', '14.117004394531', '-679.5', '20.742004394531', '14.234008789062', '-679.5', '20.742004394531', '14.703002929688', '-679.5', '20.625', '14.820007324219', '-679.5', '20.507995605469', '14.93798828125', '-679.5', '20.507995605469', '15.172027587891', '-679.5', '20.390991210938', '15.289001464844', '-679.5', '20.272979736328', '15.406005859375', '-679.5', '20.155975341797', '15.523010253906', '-679.5', '20.039001464844', '15.641021728516', '-679.5', '19.921997070312', '15.757995605469', '-679.5', '19.804992675781', '15.875', '-679.5', '19.68798828125', '15.992004394531', '-679.5', '19.570007324219', '16.109008789062', '-679.5', '19.453002929688', '16.227020263672', '-679.5', '19.335998535156', '16.343994140625', '-679.5', '19.218994140625', '16.460998535156', '-679.5', '19.101989746094', '16.578002929688', '-679.5', '18.984008789062', '16.695007324219', '-679.5', '18.867004394531', '16.81201171875', '-679.5', '18.75', '16.930023193359', '-679.5', '18.632995605469', '17.047027587891', '-679.5', '18.515991210938', '17.164001464844', '-679.5', '18.398010253906', '17.281005859375', '-679.5', '18.281005859375', '17.398010253906', '-679.5', '18.164001464844', '17.516021728516', '-679.5', '18.046997070312', '17.632995605469', '-679.5', '17.81201171875', '17.632995605469', '-679.5', '17.695007324219', '17.75', '-679.5', '17.578002929688', '17.867004394531', '-679.5', '17.460998535156', '17.984008789062', '-679.5', '17.460998535156', '18.453002929688', '-679.5', '17.343994140625', '18.570007324219', '-679.5', '17.226989746094', '18.68798828125', '-679.5', '17.109008789062', '18.805023193359', '-679.5', '16.992004394531', '18.922027587891', '-679.5', '16.992004394531', '19.156005859375', '-679.5', '16.875', '19.273010253906', '-679.5', '16.757995605469', '19.391021728516', '-679.5', '16.640991210938', '19.507995605469', '-679.5', '16.523010253906', '19.625', '-679.5', '16.523010253906', '19.859008789062', '-679.5', '16.406005859375', '19.977020263672', '-679.5', '16.171997070312', '19.977020263672', '-679.5', '16.054992675781', '20.093994140625', '-679.5', '15.93798828125', '20.210998535156', '-679.5', '15.820007324219', '20.328002929688', '-679.5', '15.703002929688', '20.445007324219', '-679.5', '15.468994140625', '20.445007324219', '-679.5', '15.351989746094', '20.56201171875', '-679.5', '15.234008789062', '20.680023193359', '-679.5', '14.765991210938', '20.680023193359', '-679.5', '14.648010253906', '20.797027587891', '-679.5', '14.531005859375', '20.914001464844', '-679.5', '12.890991210938', '20.914001464844', '-679.5', '12.773010253906', '21.031005859375', '-679.5', '12.656005859375', '21.148010253906', '-679.5', '12.421997070312', '21.148010253906', '-679.5', '12.304992675781', '21.266021728516', '-679.5', '12.18798828125', '21.382995605469', '-679.5', '11.953002929688', '21.382995605469', '-679.5', '11.835998535156', '21.5', '-679.5', '11.718994140625', '21.617004394531', '-679.5', '11.484008789062', '21.617004394531', '-679.5', '11.367004394531', '21.734008789062', '-679.5', '11.25', '21.852020263672', '-679.5', '11.132995605469', '21.968994140625', '-679.5', '11.015991210938', '22.085998535156', '-679.5', '10.898010253906', '22.203002929688', '-679.5', '10.898010253906', '22.906005859375', '-679.5', '10.781005859375', '23.023010253906', '-679.5', '10.664001464844', '23.141021728516', '-679.5', '10.664001464844', '23.375', '-679.5', '10.546997070312', '23.492004394531', '-679.5', '10.429992675781', '23.609008789062', '-679.5', '10.429992675781', '23.843994140625', '-679.5', '10.31201171875', '23.960998535156', '-679.5', '10.195007324219', '24.078002929688', '-679.5', '10.078002929688', '24.195007324219', '-679.5', '9.9609985351562', '24.31201171875', '-679.5', '9.843994140625', '24.430023193359', '-679.5', '9.7269897460938', '24.547027587891', '-679.5', '9.6090087890625', '24.664001464844', '-679.5', '9.4920043945312', '24.781005859375', '-679.5', '9.375', '24.898010253906', '-679.5', '9.1409912109375', '24.898010253906', '-679.5', '9.0230102539062', '25.016021728516', '-679.5', '8.906005859375', '25.132995605469', '-679.5', '6.7969970703125', '25.132995605469', '-679.5', '6.6799926757812', '25.016021728516', '-679.5', '6.56201171875', '24.898010253906', '-679.5', '6.3280029296875', '24.898010253906', '-679.5', '6.2109985351562', '24.781005859375', '-679.5', '6.093994140625', '24.664001464844', '-679.5', '5.8590087890625', '24.664001464844', '-679.5', '5.7420043945312', '24.547027587891', '-679.5', '5.625', '24.430023193359', '-679.5', '5.5079956054688', '24.31201171875', '-679.5', '5.3909912109375', '24.195007324219', '-679.5', '5.2730102539062', '24.078002929688', '-679.5', '5.2730102539062', '23.843994140625', '-679.5', '5.156005859375', '23.727020263672', '-679.5', '5.0390014648438', '23.609008789062', '-679.5', '5.0390014648438', '23.375', '-679.5', '4.9219970703125', '23.257995605469', '-679.5', '4.8049926757812', '23.141021728516', '-679.5', '4.8049926757812', '22.906005859375', '-679.5', '4.68798828125', '22.789001464844', '-679.5', '4.5700073242188', '22.672027587891', '-679.5', '4.5700073242188', '21.968994140625', '-679.5', '4.4530029296875', '21.852020263672', '-679.5', '4.3359985351562', '21.734008789062', '-679.5', '4.3359985351562', '20.328002929688', '-679.5', '4.218994140625', '20.210998535156', '-679.5', '4.1019897460938', '20.093994140625', '-679.5', '4.1019897460938', '19.625', '-679.5', '3.9840087890625', '19.507995605469', '-679.5', '3.8670043945312', '19.391021728516', '-679.5', '3.8670043945312', '18.68798828125', '-679.5', '3.75', '18.570007324219', '-679.5', '3.6329956054688', '18.453002929688', '-679.5', '3.6329956054688', '18.218994140625', '-679.5', '3.5159912109375', '18.102020263672', '-679.5', '3.3980102539062', '17.984008789062', '-679.5', '3.281005859375', '17.867004394531', '-679.5', '3.1640014648438', '17.75', '-679.5', '3.0469970703125', '17.632995605469', '-679.5', '2.9299926757812', '17.516021728516', '-679.5', '2.81201171875', '17.398010253906', '-679.5', '2.5780029296875', '17.398010253906', '-679.5', '2.4609985351562', '17.281005859375', '-679.5', '2.343994140625', '17.164001464844', '-679.5', '2.2269897460938', '17.047027587891', '-679.5', '2.1090087890625', '16.930023193359', '-679.5', '1.9920043945312', '16.81201171875', '-679.5', '1.875', '16.695007324219', '-679.5', '1.7579956054688', '16.578002929688', '-679.5', '1.6409912109375', '16.460998535156', '-679.5', '1.406005859375', '16.460998535156', '-679.5', '1.2890014648438', '16.343994140625', '-679.5', '1.1719970703125', '16.227020263672', '-679.5', '-0.2340087890625', '16.227020263672', '-679.5', '-0.3519897460938', '16.343994140625', '-679.5', '-0.468994140625', '16.460998535156', '-679.5', '-0.7030029296875', '16.460998535156', '-679.5', '-0.8200073242188', '16.578002929688', '-679.5', '-0.8200073242188', '16.81201171875', '-679.5', '-0.93798828125', '16.930023193359', '-679.5', '-1.0549926757812', '17.047027587891', '-679.5', '-1.0549926757812', '17.75', '-679.5', '-1.1719970703125', '17.867004394531', '-679.5', '-1.2890014648438', '17.984008789062', '-679.5', '-1.2890014648438', '19.391021728516', '-679.5', '-1.1719970703125', '19.507995605469', '-679.5', '-1.0549926757812', '19.625', '-679.5', '-1.1719970703125', '19.742004394531', '-679.5', '-1.2890014648438', '19.859008789062', '-679.5', '-1.1719970703125', '19.977020263672', '-679.5', '-1.0549926757812', '20.093994140625', '-679.5', '-1.0549926757812', '20.56201171875', '-679.5', '-1.1719970703125', '20.680023193359', '-679.5', '-1.2890014648438', '20.797027587891', '-679.5', '-1.2890014648438', '21.266021728516', '-679.5', '-1.406005859375', '21.382995605469', '-679.5', '-1.5230102539062', '21.5', '-679.5', '-1.5230102539062', '21.734008789062', '-679.5', '-1.6409912109375', '21.852020263672', '-679.5', '-1.7579956054688', '21.968994140625', '-679.5', '-1.7579956054688', '22.203002929688', '-679.5', '-1.875', '22.320007324219', '-679.5', '-1.9920043945312', '22.43798828125', '-679.5', '-1.9920043945312', '22.672027587891', '-679.5', '-2.1090087890625', '22.789001464844', '-679.5', '-2.2269897460938', '22.906005859375', '-679.5', '-2.2269897460938', '23.141021728516', '-679.5', '-2.343994140625', '23.257995605469', '-679.5', '-2.4609985351562', '23.375', '-679.5', '-2.5780029296875', '23.492004394531', '-679.5', '-2.6950073242188', '23.609008789062', '-679.5', '-2.81201171875', '23.727020263672', '-679.5', '-2.9299926757812', '23.843994140625', '-679.5', '-3.0469970703125', '23.960998535156', '-679.5', '-3.1640014648438', '24.078002929688', '-679.5', '-3.281005859375', '24.195007324219', '-679.5', '-3.3980102539062', '24.31201171875', '-679.5', '-3.5159912109375', '24.430023193359', '-679.5', '-3.6329956054688', '24.547027587891', '-679.5', '-3.75', '24.664001464844', '-679.5', '-3.8670043945312', '24.781005859375', '-679.5', '-3.9840087890625', '24.898010253906', '-679.5', '-4.1019897460938', '25.016021728516', '-679.5', '-4.218994140625', '25.132995605469', '-679.5', '-4.3359985351562', '25.25', '-679.5', '-4.4530029296875', '25.367004394531', '-679.5', '-4.68798828125', '25.367004394531', '-679.5', '-4.8049926757812', '25.484008789062', '-679.5', '-4.9219970703125', '25.602020263672', '-679.5', '-5.0390014648438', '25.718994140625', '-679.5', '-5.0390014648438', '30.406005859375', '-679.5', '-5.156005859375', '30.523010253906', '-679.5', '-5.2730102539062', '30.641021728516', '-679.5', '-5.3909912109375', '30.757995605469', '-679.5', '-5.5079956054688', '30.875', '-679.5', '-5.625', '30.992004394531', '-679.5', '-5.7420043945312', '31.109008789062', '-679.5', '-5.8590087890625', '31.227020263672', '-679.5', '-5.9769897460938', '31.343994140625', '-679.5', '-6.093994140625', '31.460998535156', '-679.5', '-6.3280029296875', '31.460998535156', '-679.5', '-6.4450073242188', '31.578002929688', '-679.5', '-6.56201171875', '31.695007324219', '-679.5', '-9.1409912109375', '31.695007324219', '-679.5', '-9.2579956054688', '31.578002929688', '-679.5', '-9.375', '31.460998535156', '-679.5', '-9.6090087890625', '31.460998535156', '-679.5', '-9.7269897460938', '31.343994140625', '-679.5', '-9.843994140625', '31.227020263672', '-679.5', '-10.078002929688', '31.227020263672', '-679.5', '-10.195007324219', '31.109008789062', '-679.5', '-10.31201171875', '30.992004394531', '-679.5', '-10.546997070312', '30.992004394531', '-679.5', '-10.664001464844', '30.875', '-679.5', '-10.781005859375', '30.757995605469', '-679.5', '-11.25', '30.757995605469', '-679.5', '-11.367004394531', '30.641021728516', '-679.5', '-11.484008789062', '30.523010253906', '-679.5', '-12.890991210938', '30.523010253906', '-679.5', '-13.007995605469', '30.406005859375', '-679.5', '-13.125', '30.289001464844', '-679.5', '-14.296997070312', '30.289001464844', '-679.5', '-14.414001464844', '30.172027587891', '-679.5', '-14.531005859375', '30.055023193359', '-679.5', '-15.468994140625', '30.055023193359', '-679.5', '-15.585998535156', '29.93798828125', '-679.5', '-15.703002929688', '29.820007324219', '-679.5', '-15.93798828125', '29.820007324219', '-679.5', '-16.054992675781', '29.703002929688', '-679.5', '-16.171997070312', '29.585998535156', '-679.5', '-16.406005859375', '29.585998535156', '-679.5', '-16.523010253906', '29.468994140625', '-679.5', '-16.640991210938', '29.352020263672', '-679.5', '-17.109008789062', '29.352020263672', '-679.5', '-17.226989746094', '29.234008789062', '-679.5', '-17.343994140625', '29.117004394531', '-679.5', '-17.578002929688', '29.117004394531', '-679.5', '-17.695007324219', '29', '-679.5', '-17.81201171875', '28.882995605469', '-679.5', '-18.046997070312', '28.882995605469', '-679.5', '-18.164001464844', '28.766021728516', '-679.5', '-18.281005859375', '28.648010253906', '-679.5', '-18.398010253906', '28.531005859375', '-679.5', '-18.515991210938', '28.414001464844', '-679.5', '-18.632995605469', '28.297027587891', '-679.5', '-18.75', '28.180023193359', '-679.5', '-18.867004394531', '28.06201171875', '-679.5', '-18.984008789062', '27.945007324219', '-679.5', '-19.101989746094', '27.828002929688', '-679.5', '-19.218994140625', '27.710998535156', '-679.5', '-19.335998535156', '27.593994140625', '-679.5', '-19.453002929688', '27.477020263672', '-679.5', '-19.570007324219', '27.359008789062', '-679.5', '-19.68798828125', '27.242004394531', '-679.5', '-19.921997070312', '27.242004394531', '-679.5', '-20.039001464844', '27.125', '-679.5', '-20.156005859375', '27.007995605469', '-679.5', '-20.625', '27.007995605469', '-679.5', '-20.742004394531', '26.891021728516', '-679.5', '-20.859008789062', '26.773010253906', '-679.5', '-21.093994140625', '26.773010253906', '-679.5', '-21.210998535156', '26.656005859375', '-679.5', '-21.328002929688', '26.539001464844', '-679.5', '-21.56201171875', '26.539001464844', '-679.5', '-21.679992675781', '26.422027587891', '-679.5', '-21.796997070312', '26.305023193359', '-679.5', '-22.031005859375', '26.305023193359', '-679.5', '-22.148010253906', '26.18798828125', '-679.5', '-22.265991210938', '26.070007324219', '-679.5', '-22.5', '26.070007324219', '-679.5', '-22.617004394531', '25.953002929688', '-679.5', '-22.734008789062', '25.835998535156', '-679.5', '-22.968994140625', '25.835998535156', '-679.5', '-23.085998535156', '25.718994140625', '-679.5', '-23.203002929688', '25.602020263672', '-679.5', '-23.43798828125', '25.602020263672', '-679.5', '-23.554992675781', '25.484008789062', '-679.5', '-23.671997070312', '25.367004394531', '-679.5', '-23.789001464844', '25.25', '-679.5', '-23.906005859375', '25.132995605469', '-679.5', '-24.023010253906', '25.016021728516', '-679.5', '-24.140991210938', '24.898010253906', '-679.5', '-24.257995605469', '24.781005859375', '-679.5', '-24.375', '24.664001464844', '-679.5', '-24.492004394531', '24.547027587891', '-679.5', '-24.609008789062', '24.430023193359', '-679.5', '-24.726989746094', '24.31201171875', '-679.5', '-24.843994140625', '24.195007324219', '-679.5', '-24.960998535156', '24.078002929688', '-679.5', '-25.078002929688', '23.960998535156', '-679.5', '-25.195007324219', '23.843994140625', '-679.5', '-25.31201171875', '23.727020263672', '-679.5', '-25.429992675781', '23.609008789062', '-679.5', '-25.429992675781', '23.375', '-679.5', '-25.546997070312', '23.257995605469', '-679.5', '-25.664001464844', '23.141021728516', '-679.5', '-25.664001464844', '22.906005859375', '-679.5', '-25.781005859375', '22.789001464844', '-679.5', '-25.898010253906', '22.672027587891', '-679.5', '-25.898010253906', '22.43798828125', '-679.5', '-26.015991210938', '22.320007324219', '-679.5', '-26.132995605469', '22.203002929688', '-679.5', '-26.132995605469', '17.75', '-679.5', '-26.015991210938', '17.632995605469', '-679.5', '-25.898010253906', '17.516021728516', '-679.5', '-25.898010253906', '17.281005859375', '-679.5', '-25.781005859375', '17.164001464844', '-679.5', '-25.664001464844', '17.047027587891', '-679.5', '-25.664001464844', '16.81201171875', '-679.5', '-25.546997070312', '16.695007324219', '-679.5', '-25.429992675781', '16.578002929688', '-679.5', '-25.31201171875', '16.460998535156', '-679.5', '-25.195007324219', '16.343994140625', '-679.5', '-25.195007324219', '16.109008789062', '-679.5', '-25.078002929688', '15.992004394531', '-679.5', '-24.960998535156', '15.875', '-679.5', '-24.843994140625', '15.757995605469', '-679.5', '-24.726989746094', '15.641021728516', '-679.5', '-24.609008789062', '15.523010253906', '-679.5', '-24.492004394531', '15.406005859375', '-679.5', '-24.375', '15.289001464844', '-679.5', '-24.257995605469', '15.172027587891', '-679.5', '-24.140991210938', '15.055023193359', '-679.5', '-23.906005859375', '15.055023193359', '-679.5', '-23.789001464844', '14.93798828125', '-679.5', '-23.671997070312', '14.820007324219', '-679.5', '-23.554992675781', '14.703002929688', '-679.5', '-23.43798828125', '14.585998535156', '-679.5', '-23.320007324219', '14.468994140625', '-679.5', '-23.203002929688', '14.352020263672', '-679.5', '-22.968994140625', '14.352020263672', '-679.5', '-22.851989746094', '14.234008789062', '-679.5', '-22.734008789062', '14.117004394531', '-679.5', '-22.5', '14.117004394531', '-679.5', '-22.382995605469', '14', '-679.5', '-22.265991210938', '13.882995605469', '-679.5', '-21.796997070312', '13.882995605469', '-679.5', '-21.679992675781', '13.766021728516', '-679.5', '-21.56201171875', '13.648010253906', '-679.5', '-21.093994140625', '13.648010253906', '-679.5', '-20.976989746094', '13.531005859375', '-679.5', '-20.859008789062', '13.414001464844', '-679.5', '-19.453002929688', '13.414001464844', '-679.5', '-19.335998535156', '13.297027587891', '-679.5', '-19.218994140625', '13.180023193359', '-679.5', '-18.046997070312', '13.180023193359', '-679.5', '-17.929992675781', '13.06201171875', '-679.5', '-17.81201171875', '12.945007324219', '-679.5', '-16.875', '12.945007324219', '-679.5', '-16.757995605469', '12.828002929688', '-679.5', '-16.640991210938', '12.710998535156', '-679.5', '-14.765991210938', '12.710998535156', '-679.5', '-14.648010253906', '12.593994140625', '-679.5', '-14.531005859375', '12.477020263672', '-679.5', '-14.296997070312', '12.477020263672', '-679.5', '-14.179992675781', '12.359008789062', '-679.5', '-14.06201171875', '12.242004394531', '-679.5', '-13.359008789062', '12.242004394531', '-679.5', '-13.242004394531', '12.125', '-679.5', '-13.125', '12.007995605469', '-679.5', '-12.421997070312', '12.007995605469', '-679.5', '-12.304992675781', '11.891021728516', '-679.5', '-12.18798828125', '11.773010253906', '-679.5', '-11.015991210938', '11.773010253906', '-679.5', '-10.898010253906', '11.656005859375', '-679.5', '-10.781005859375', '11.539001464844', '-679.5', '-10.31201171875', '11.539001464844', '-679.5', '-10.195007324219', '11.422027587891', '-679.5', '-10.078002929688', '11.305023193359', '-679.5', '-8.43798828125', '11.305023193359', '-679.5', '-8.3200073242188', '11.18798828125', '-679.5', '-8.2030029296875', '11.070007324219', '-679.5', '-6.7969970703125', '11.070007324219', '-679.5', '-6.6799926757812', '10.953002929688', '-679.5', '-6.56201171875', '10.835998535156', '-679.5', '-6.4450073242188', '10.718994140625', '-679.5', '-6.3280029296875', '10.602020263672', '-679.5', '-6.2109985351562', '10.484008789062', '-679.5', '-6.093994140625', '10.367004394531', '-679.5', '-5.8590087890625', '10.367004394531', '-679.5', '-5.7420043945312', '10.25', '-679.5', '-5.625', '10.132995605469', '-679.5', '-5.5079956054688', '10.016021728516', '-679.5', '-5.3909912109375', '9.8980102539062', '-679.5', '-5.156005859375', '9.8980102539062', '-679.5', '-5.0390014648438', '9.781005859375', '-679.5', '-4.9219970703125', '9.6640014648438', '-679.5', '-4.218994140625', '9.6640014648438', '-679.5', '-4.1019897460938', '9.5469970703125', '-679.5', '-3.9840087890625', '9.4299926757812', '-679.5', '-3.281005859375', '9.4299926757812', '-679.5', '-3.1640014648438', '9.31201171875', '-679.5', '-3.0469970703125', '9.1950073242188', '-679.5', '3.281005859375', '9.1950073242188', '-679.5', '3.3980102539062', '9.31201171875', '-679.5', '3.5159912109375', '9.4299926757812', '-679.5', '3.6329956054688', '9.31201171875', '-679.5', '3.75', '9.1950073242188', '-679.5', '3.8670043945312', '9.0780029296875', '-679.5', '3.9840087890625', '8.9609985351562', '-679.5', '4.1019897460938', '8.843994140625', '-679.5', '4.218994140625', '8.7269897460938', '-679.5', '4.4530029296875', '8.7269897460938', '-679.5', '4.5700073242188', '8.6090087890625', '-679.5', '4.68798828125', '8.4920043945312', '-679.5', '4.9219970703125', '8.4920043945312', '-679.5', '5.0390014648438', '8.375', '-679.5', '5.156005859375', '8.2579956054688', '-679.5', '5.8590087890625', '8.2579956054688', '-679.5', '5.9769897460938', '8.1409912109375', '-679.5', '6.093994140625', '8.0230102539062', '-679.5', '6.56201171875', '8.0230102539062', '-679.5', '6.6799926757812', '7.906005859375', '-679.5', '6.7969970703125', '7.7890014648438', '-679.5', '8.6719970703125', '7.7890014648438', '-679.5', '8.7890014648438', '7.6719970703125', '-679.5', '8.906005859375', '7.5549926757812', '-679.5', '9.1409912109375', '7.5549926757812', '-679.5', '9.2579956054688', '7.6719970703125', '-679.5', '9.375', '7.7890014648438', '-679.5', '9.4920043945312', '7.6719970703125', '-679.5', '9.6090087890625', '7.5549926757812', '-679.5', '10.546997070312', '7.5549926757812', '-679.5', '10.664001464844', '7.6719970703125', '-679.5', '10.781005859375', '7.7890014648438', '-679.5', '11.484008789062', '7.7890014648438', '-679.5', '11.601989746094', '7.6719970703125', '-679.5', '11.718994140625', '7.5549926757812', '-679.5', '11.835998535156', '7.43798828125', '-679.5', '11.953002929688', '7.3200073242188', '-679.5', '12.070007324219', '7.2030029296875', '-679.5', '12.18798828125', '7.0859985351562', '-679.5', '12.421997070312', '7.0859985351562', '-679.5']\n",
       "   ---------\n",
       "   (3006, 0016)  Contour Image Sequence   1 item(s) ---- \n",
       "      (0008, 1150) Referenced SOP Class UID            UI: CT Image Storage\n",
       "      (0008, 1155) Referenced SOP Instance UID         UI: 2.16.840.1.114362.1.6.7.5.17616.11849865775.479250700.380.1410\n",
       "      ---------\n",
       "   (3006, 0042) Contour Geometric Type              CS: 'CLOSED_PLANAR'\n",
       "   (3006, 0046) Number of Contour Points            IS: '447'\n",
       "   (3006, 0050) Contour Data                        DS: ['-4.1019897460938', '7.906005859375', '-682.5', '-3.9840087890625', '7.7890014648438', '-682.5', '-0.2340087890625', '7.7890014648438', '-682.5', '-0.1170043945312', '7.906005859375', '-682.5', '0', '8.0230102539062', '-682.5', '0.7030029296875', '8.0230102539062', '-682.5', '0.82000732421875', '8.1409912109375', '-682.5', '0.93798828125', '8.2579956054688', '-682.5', '1.1719970703125', '8.2579956054688', '-682.5', '1.2890014648438', '8.375', '-682.5', '1.406005859375', '8.4920043945312', '-682.5', '3.0469970703125', '8.4920043945312', '-682.5', '3.1640014648438', '8.6090087890625', '-682.5', '3.281005859375', '8.7269897460938', '-682.5', '3.3980102539062', '8.6090087890625', '-682.5', '3.5159912109375', '8.4920043945312', '-682.5', '5.625', '8.4920043945312', '-682.5', '5.7420043945312', '8.375', '-682.5', '5.8590087890625', '8.2579956054688', '-682.5', '6.093994140625', '8.2579956054688', '-682.5', '6.2109985351562', '8.375', '-682.5', '6.3280029296875', '8.4920043945312', '-682.5', '6.4450073242188', '8.375', '-682.5', '6.56201171875', '8.2579956054688', '-682.5', '8.43798828125', '8.2579956054688', '-682.5', '8.5549926757812', '8.1409912109375', '-682.5', '8.6719970703125', '8.0230102539062', '-682.5', '11.015991210938', '8.0230102539062', '-682.5', '11.132995605469', '7.906005859375', '-682.5', '11.25', '7.7890014648438', '-682.5', '15.93798828125', '7.7890014648438', '-682.5', '16.054992675781', '7.906005859375', '-682.5', '16.171997070312', '8.0230102539062', '-682.5', '17.109008789062', '8.0230102539062', '-682.5', '17.226989746094', '8.1409912109375', '-682.5', '17.343994140625', '8.2579956054688', '-682.5', '17.460998535156', '8.375', '-682.5', '17.578002929688', '8.4920043945312', '-682.5', '17.695007324219', '8.6090087890625', '-682.5', '17.81201171875', '8.7269897460938', '-682.5', '18.281005859375', '8.7269897460938', '-682.5', '18.398010253906', '8.843994140625', '-682.5', '18.515991210938', '8.9609985351562', '-682.5', '18.75', '8.9609985351562', '-682.5', '18.867004394531', '9.0780029296875', '-682.5', '18.867004394531', '9.31201171875', '-682.5', '18.984008789062', '9.4299926757812', '-682.5', '19.101989746094', '9.5469970703125', '-682.5', '19.101989746094', '10.484008789062', '-682.5', '18.984008789062', '10.602020263672', '-682.5', '18.867004394531', '10.718994140625', '-682.5', '18.867004394531', '11.18798828125', '-682.5', '18.75', '11.305023193359', '-682.5', '18.632995605469', '11.422027587891', '-682.5', '18.632995605469', '11.656005859375', '-682.5', '18.515991210938', '11.773010253906', '-682.5', '18.398010253906', '11.891021728516', '-682.5', '18.398010253906', '12.125', '-682.5', '18.281005859375', '12.242004394531', '-682.5', '18.164001464844', '12.359008789062', '-682.5', '18.164001464844', '12.828002929688', '-682.5', '18.046997070312', '12.945007324219', '-682.5', '17.929992675781', '13.06201171875', '-682.5', '17.929992675781', '13.531005859375', '-682.5', '17.81201171875', '13.648010253906', '-682.5', '17.695007324219', '13.766021728516', '-682.5', '17.695007324219', '14', '-682.5', '17.578002929688', '14.117004394531', '-682.5', '17.460998535156', '14.234008789062', '-682.5', '17.460998535156', '14.468994140625', '-682.5', '17.343994140625', '14.585998535156', '-682.5', '17.226989746094', '14.703002929688', '-682.5', '17.109008789062', '14.820007324219', '-682.5', '16.992004394531', '14.93798828125', '-682.5', '16.875', '15.055023193359', '-682.5', '16.757995605469', '15.172027587891', '-682.5', '16.640991210938', '15.289001464844', '-682.5', '16.523010253906', '15.406005859375', '-682.5', '16.406005859375', '15.523010253906', '-682.5', '16.289001464844', '15.641021728516', '-682.5', '16.171997070312', '15.757995605469', '-682.5', '16.054992675781', '15.875', '-682.5', '15.93798828125', '15.992004394531', '-682.5', '15.820007324219', '16.109008789062', '-682.5', '15.703002929688', '16.227020263672', '-682.5', '15.585998535156', '16.343994140625', '-682.5', '15.468994140625', '16.460998535156', '-682.5', '15', '16.460998535156', '-682.5', '14.882995605469', '16.578002929688', '-682.5', '14.765991210938', '16.695007324219', '-682.5', '14.648010253906', '16.81201171875', '-682.5', '14.531005859375', '16.930023193359', '-682.5', '14.06201171875', '16.930023193359', '-682.5', '13.945007324219', '17.047027587891', '-682.5', '13.828002929688', '17.164001464844', '-682.5', '13.710998535156', '17.281005859375', '-682.5', '13.593994140625', '17.398010253906', '-682.5', '13.476989746094', '17.516021728516', '-682.5', '13.359008789062', '17.632995605469', '-682.5', '13.242004394531', '17.75', '-682.5', '13.125', '17.867004394531', '-682.5', '13.007995605469', '17.984008789062', '-682.5', '12.890991210938', '18.102020263672', '-682.5', '12.773010253906', '18.218994140625', '-682.5', '12.656005859375', '18.335998535156', '-682.5', '12.421997070312', '18.335998535156', '-682.5', '12.304992675781', '18.453002929688', '-682.5', '12.18798828125', '18.570007324219', '-682.5', '12.070007324219', '18.68798828125', '-682.5', '11.953002929688', '18.805023193359', '-682.5', '11.835998535156', '18.922027587891', '-682.5', '11.718994140625', '19.039001464844', '-682.5', '11.601989746094', '19.156005859375', '-682.5', '11.484008789062', '19.273010253906', '-682.5', '11.367004394531', '19.391021728516', '-682.5', '11.25', '19.507995605469', '-682.5', '11.132995605469', '19.625', '-682.5', '11.015991210938', '19.742004394531', '-682.5', '10.781005859375', '19.742004394531', '-682.5', '10.664001464844', '19.859008789062', '-682.5', '10.664001464844', '21.266021728516', '-682.5', '10.546997070312', '21.382995605469', '-682.5', '10.429992675781', '21.5', '-682.5', '10.429992675781', '21.968994140625', '-682.5', '10.31201171875', '22.085998535156', '-682.5', '10.195007324219', '22.203002929688', '-682.5', '10.078002929688', '22.320007324219', '-682.5', '9.9609985351562', '22.43798828125', '-682.5', '9.9609985351562', '23.141021728516', '-682.5', '9.843994140625', '23.257995605469', '-682.5', '9.7269897460938', '23.375', '-682.5', '9.7269897460938', '23.843994140625', '-682.5', '9.6090087890625', '23.960998535156', '-682.5', '9.4920043945312', '24.078002929688', '-682.5', '9.4920043945312', '24.31201171875', '-682.5', '9.375', '24.430023193359', '-682.5', '9.2579956054688', '24.547027587891', '-682.5', '9.1409912109375', '24.664001464844', '-682.5', '9.0230102539062', '24.781005859375', '-682.5', '8.906005859375', '24.898010253906', '-682.5', '8.7890014648438', '25.016021728516', '-682.5', '8.6719970703125', '25.132995605469', '-682.5', '7.031005859375', '25.132995605469', '-682.5', '6.9140014648438', '25.016021728516', '-682.5', '6.7969970703125', '24.898010253906', '-682.5', '6.56201171875', '24.898010253906', '-682.5', '6.4450073242188', '24.781005859375', '-682.5', '6.3280029296875', '24.664001464844', '-682.5', '6.2109985351562', '24.547027587891', '-682.5', '6.093994140625', '24.430023193359', '-682.5', '5.9769897460938', '24.31201171875', '-682.5', '5.9769897460938', '24.078002929688', '-682.5', '5.8590087890625', '23.960998535156', '-682.5', '5.7420043945312', '23.843994140625', '-682.5', '5.7420043945312', '23.609008789062', '-682.5', '5.625', '23.492004394531', '-682.5', '5.5079956054688', '23.375', '-682.5', '5.5079956054688', '23.141021728516', '-682.5', '5.3909912109375', '23.023010253906', '-682.5', '4.9219970703125', '23.023010253906', '-682.5', '4.8049926757812', '22.906005859375', '-682.5', '4.68798828125', '22.789001464844', '-682.5', '3.9840087890625', '22.789001464844', '-682.5', '3.8670043945312', '22.672027587891', '-682.5', '3.75', '22.555023193359', '-682.5', '1.6409912109375', '22.555023193359', '-682.5', '1.5230102539062', '22.672027587891', '-682.5', '1.406005859375', '22.789001464844', '-682.5', '0.93798828125', '22.789001464844', '-682.5', '0.82000732421875', '22.906005859375', '-682.5', '0.7030029296875', '23.023010253906', '-682.5', '-0.2340087890625', '23.023010253906', '-682.5', '-0.3519897460938', '23.141021728516', '-682.5', '-0.468994140625', '23.257995605469', '-682.5', '-1.406005859375', '23.257995605469', '-682.5', '-1.5230102539062', '23.375', '-682.5', '-1.6409912109375', '23.492004394531', '-682.5', '-2.1090087890625', '23.492004394531', '-682.5', '-2.2269897460938', '23.609008789062', '-682.5', '-2.343994140625', '23.727020263672', '-682.5', '-2.4609985351562', '23.843994140625', '-682.5', '-2.4609985351562', '24.078002929688', '-682.5', '-2.5780029296875', '24.195007324219', '-682.5', '-2.6950073242188', '24.31201171875', '-682.5', '-2.6950073242188', '24.547027587891', '-682.5', '-2.81201171875', '24.664001464844', '-682.5', '-2.9299926757812', '24.781005859375', '-682.5', '-2.9299926757812', '25.016021728516', '-682.5', '-3.0469970703125', '25.132995605469', '-682.5', '-3.1640014648438', '25.25', '-682.5', '-3.1640014648438', '25.484008789062', '-682.5', '-3.281005859375', '25.602020263672', '-682.5', '-3.3980102539062', '25.718994140625', '-682.5', '-3.3980102539062', '25.953002929688', '-682.5', '-3.5159912109375', '26.070007324219', '-682.5', '-3.75', '26.070007324219', '-682.5', '-3.8670043945312', '26.18798828125', '-682.5', '-3.9840087890625', '26.305023193359', '-682.5', '-4.68798828125', '26.305023193359', '-682.5', '-4.8049926757812', '26.422027587891', '-682.5', '-4.8049926757812', '27.125', '-682.5', '-4.9219970703125', '27.242004394531', '-682.5', '-5.0390014648438', '27.359008789062', '-682.5', '-5.0390014648438', '27.593994140625', '-682.5', '-5.156005859375', '27.710998535156', '-682.5', '-5.2730102539062', '27.828002929688', '-682.5', '-5.2730102539062', '28.06201171875', '-682.5', '-5.3909912109375', '28.180023193359', '-682.5', '-5.5079956054688', '28.297027587891', '-682.5', '-5.625', '28.414001464844', '-682.5', '-5.7420043945312', '28.531005859375', '-682.5', '-5.7420043945312', '28.766021728516', '-682.5', '-5.8590087890625', '28.882995605469', '-682.5', '-5.9769897460938', '29', '-682.5', '-5.9769897460938', '31.343994140625', '-682.5', '-6.093994140625', '31.460998535156', '-682.5', '-6.2109985351562', '31.578002929688', '-682.5', '-6.2109985351562', '31.81201171875', '-682.5', '-6.3280029296875', '31.930023193359', '-682.5', '-6.4450073242188', '32.047027587891', '-682.5', '-6.56201171875', '32.164001464844', '-682.5', '-6.6799926757812', '32.281005859375', '-682.5', '-6.7969970703125', '32.398010253906', '-682.5', '-7.031005859375', '32.398010253906', '-682.5', '-7.1480102539062', '32.516021728516', '-682.5', '-7.2659912109375', '32.632995605469', '-682.5', '-8.43798828125', '32.632995605469', '-682.5', '-8.5549926757812', '32.516021728516', '-682.5', '-8.6719970703125', '32.398010253906', '-682.5', '-8.906005859375', '32.398010253906', '-682.5', '-9.0230102539062', '32.281005859375', '-682.5', '-9.1409912109375', '32.164001464844', '-682.5', '-9.2579956054688', '32.047027587891', '-682.5', '-9.375', '31.930023193359', '-682.5', '-9.6090087890625', '31.930023193359', '-682.5', '-9.7269897460938', '31.81201171875', '-682.5', '-9.843994140625', '31.695007324219', '-682.5', '-9.9609985351562', '31.578002929688', '-682.5', '-10.078002929688', '31.460998535156', '-682.5', '-10.195007324219', '31.343994140625', '-682.5', '-10.31201171875', '31.227020263672', '-682.5', '-10.546997070312', '31.227020263672', '-682.5', '-10.664001464844', '31.109008789062', '-682.5', '-10.781005859375', '30.992004394531', '-682.5', '-10.898010253906', '30.875', '-682.5', '-11.015991210938', '30.757995605469', '-682.5', '-11.132995605469', '30.641021728516', '-682.5', '-11.132995605469', '30.406005859375', '-682.5', '-11.25', '30.289001464844', '-682.5', '-11.367004394531', '30.172027587891', '-682.5', '-11.484008789062', '30.055023193359', '-682.5', '-11.601989746094', '29.93798828125', '-682.5', '-11.601989746094', '29.703002929688', '-682.5', '-11.718994140625', '29.585998535156', '-682.5', '-12.18798828125', '29.585998535156', '-682.5', '-12.304992675781', '29.468994140625', '-682.5', '-12.421997070312', '29.352020263672', '-682.5', '-12.656005859375', '29.352020263672', '-682.5', '-12.773010253906', '29.234008789062', '-682.5', '-12.890991210938', '29.117004394531', '-682.5', '-13.125', '29.117004394531', '-682.5', '-13.242004394531', '29', '-682.5', '-13.359008789062', '28.882995605469', '-682.5', '-13.476989746094', '28.766021728516', '-682.5', '-13.593994140625', '28.648010253906', '-682.5', '-15', '28.648010253906', '-682.5', '-15.117004394531', '28.531005859375', '-682.5', '-15.234008789062', '28.414001464844', '-682.5', '-16.406005859375', '28.414001464844', '-682.5', '-16.523010253906', '28.297027587891', '-682.5', '-16.640991210938', '28.180023193359', '-682.5', '-18.515991210938', '28.180023193359', '-682.5', '-18.632995605469', '28.06201171875', '-682.5', '-18.75', '27.945007324219', '-682.5', '-19.453002929688', '27.945007324219', '-682.5', '-19.570007324219', '27.828002929688', '-682.5', '-19.68798828125', '27.710998535156', '-682.5', '-20.390991210938', '27.710998535156', '-682.5', '-20.507995605469', '27.593994140625', '-682.5', '-20.625', '27.477020263672', '-682.5', '-21.093994140625', '27.477020263672', '-682.5', '-21.210998535156', '27.359008789062', '-682.5', '-21.328002929688', '27.242004394531', '-682.5', '-21.445007324219', '27.125', '-682.5', '-21.56201171875', '27.007995605469', '-682.5', '-21.796997070312', '27.007995605469', '-682.5', '-21.914001464844', '26.891021728516', '-682.5', '-22.031005859375', '26.773010253906', '-682.5', '-22.148010253906', '26.656005859375', '-682.5', '-22.265991210938', '26.539001464844', '-682.5', '-22.5', '26.539001464844', '-682.5', '-22.617004394531', '26.422027587891', '-682.5', '-22.734008789062', '26.305023193359', '-682.5', '-22.851989746094', '26.18798828125', '-682.5', '-22.968994140625', '26.070007324219', '-682.5', '-23.203002929688', '26.070007324219', '-682.5', '-23.320007324219', '25.953002929688', '-682.5', '-23.43798828125', '25.835998535156', '-682.5', '-23.554992675781', '25.718994140625', '-682.5', '-23.671997070312', '25.602020263672', '-682.5', '-23.789001464844', '25.484008789062', '-682.5', '-23.906005859375', '25.367004394531', '-682.5', '-24.023010253906', '25.25', '-682.5', '-24.140991210938', '25.132995605469', '-682.5', '-24.257995605469', '25.016021728516', '-682.5', '-24.375', '24.898010253906', '-682.5', '-24.492004394531', '24.781005859375', '-682.5', '-24.609008789062', '24.664001464844', '-682.5', '-24.726989746094', '24.547027587891', '-682.5', '-24.843994140625', '24.430023193359', '-682.5', '-25.078002929688', '24.430023193359', '-682.5', '-25.195007324219', '24.31201171875', '-682.5', '-25.31201171875', '24.195007324219', '-682.5', '-25.429992675781', '24.078002929688', '-682.5', '-25.546997070312', '23.960998535156', '-682.5', '-25.664001464844', '23.843994140625', '-682.5', '-25.781005859375', '23.727020263672', '-682.5', '-25.898010253906', '23.609008789062', '-682.5', '-26.015991210938', '23.492004394531', '-682.5', '-26.132995605469', '23.375', '-682.5', '-26.132995605469', '23.141021728516', '-682.5', '-26.25', '23.023010253906', '-682.5', '-26.367004394531', '22.906005859375', '-682.5', '-26.484008789062', '22.789001464844', '-682.5', '-26.601989746094', '22.672027587891', '-682.5', '-26.601989746094', '22.203002929688', '-682.5', '-26.718994140625', '22.085998535156', '-682.5', '-26.835998535156', '21.968994140625', '-682.5', '-26.835998535156', '18.218994140625', '-682.5', '-26.718994140625', '18.102020263672', '-682.5', '-26.601989746094', '17.984008789062', '-682.5', '-26.601989746094', '17.516021728516', '-682.5', '-26.484008789062', '17.398010253906', '-682.5', '-26.367004394531', '17.281005859375', '-682.5', '-26.367004394531', '17.047027587891', '-682.5', '-26.25', '16.930023193359', '-682.5', '-26.132995605469', '16.81201171875', '-682.5', '-26.015991210938', '16.695007324219', '-682.5', '-25.898010253906', '16.578002929688', '-682.5', '-25.781005859375', '16.460998535156', '-682.5', '-25.664001464844', '16.343994140625', '-682.5', '-25.546997070312', '16.227020263672', '-682.5', '-25.429992675781', '16.109008789062', '-682.5', '-25.31201171875', '15.992004394531', '-682.5', '-25.195007324219', '15.875', '-682.5', '-25.078002929688', '15.757995605469', '-682.5', '-24.843994140625', '15.757995605469', '-682.5', '-24.726989746094', '15.641021728516', '-682.5', '-24.609008789062', '15.523010253906', '-682.5', '-24.492004394531', '15.406005859375', '-682.5', '-24.375', '15.289001464844', '-682.5', '-23.906005859375', '15.289001464844', '-682.5', '-23.789001464844', '15.172027587891', '-682.5', '-23.671997070312', '15.055023193359', '-682.5', '-23.203002929688', '15.055023193359', '-682.5', '-23.085998535156', '14.93798828125', '-682.5', '-22.968994140625', '14.820007324219', '-682.5', '-22.851989746094', '14.703002929688', '-682.5', '-22.734008789062', '14.585998535156', '-682.5', '-22.617004394531', '14.468994140625', '-682.5', '-22.5', '14.352020263672', '-682.5', '-22.382995605469', '14.234008789062', '-682.5', '-22.265991210938', '14.117004394531', '-682.5', '-22.031005859375', '14.117004394531', '-682.5', '-21.914001464844', '14', '-682.5', '-21.796997070312', '13.882995605469', '-682.5', '-21.56201171875', '13.882995605469', '-682.5', '-21.445007324219', '13.766021728516', '-682.5', '-21.328002929688', '13.648010253906', '-682.5', '-21.093994140625', '13.648010253906', '-682.5', '-20.976989746094', '13.531005859375', '-682.5', '-20.859008789062', '13.414001464844', '-682.5', '-20.625', '13.414001464844', '-682.5', '-20.507995605469', '13.297027587891', '-682.5', '-20.390991210938', '13.180023193359', '-682.5', '-20.273010253906', '13.06201171875', '-682.5', '-20.156005859375', '12.945007324219', '-682.5', '-19.921997070312', '12.945007324219', '-682.5', '-19.804992675781', '12.828002929688', '-682.5', '-19.68798828125', '12.710998535156', '-682.5', '-19.570007324219', '12.593994140625', '-682.5', '-19.453002929688', '12.477020263672', '-682.5', '-19.218994140625', '12.477020263672', '-682.5', '-19.101989746094', '12.359008789062', '-682.5', '-18.984008789062', '12.242004394531', '-682.5', '-18.75', '12.242004394531', '-682.5', '-18.632995605469', '12.125', '-682.5', '-18.515991210938', '12.007995605469', '-682.5', '-18.046997070312', '12.007995605469', '-682.5', '-17.929992675781', '11.891021728516', '-682.5', '-17.81201171875', '11.773010253906', '-682.5', '-17.343994140625', '11.773010253906', '-682.5', '-17.226989746094', '11.656005859375', '-682.5', '-17.109008789062', '11.539001464844', '-682.5', '-14.531005859375', '11.539001464844', '-682.5', '-14.414001464844', '11.656005859375', '-682.5', '-14.296997070312', '11.773010253906', '-682.5', '-13.828002929688', '11.773010253906', '-682.5', '-13.710998535156', '11.891021728516', '-682.5', '-13.593994140625', '12.007995605469', '-682.5', '-13.359008789062', '12.007995605469', '-682.5', '-13.242004394531', '11.891021728516', '-682.5', '-13.125', '11.773010253906', '-682.5', '-12.890991210938', '11.773010253906', '-682.5', '-12.773010253906', '11.656005859375', '-682.5', '-12.656005859375', '11.539001464844', '-682.5', '-12.18798828125', '11.539001464844', '-682.5', '-12.070007324219', '11.422027587891', '-682.5', '-11.953002929688', '11.305023193359', '-682.5', '-11.484008789062', '11.305023193359', '-682.5', '-11.367004394531', '11.18798828125', '-682.5', '-11.25', '11.070007324219', '-682.5', '-11.015991210938', '11.070007324219', '-682.5', '-10.898010253906', '10.953002929688', '-682.5', '-10.781005859375', '10.835998535156', '-682.5', '-10.664001464844', '10.718994140625', '-682.5', '-10.546997070312', '10.602020263672', '-682.5', '-10.429992675781', '10.484008789062', '-682.5', '-10.31201171875', '10.367004394531', '-682.5', '-10.195007324219', '10.25', '-682.5', '-10.078002929688', '10.132995605469', '-682.5', '-9.843994140625', '10.132995605469', '-682.5', '-9.7269897460938', '10.016021728516', '-682.5', '-9.6090087890625', '9.8980102539062', '-682.5', '-9.4920043945312', '9.781005859375', '-682.5', '-9.375', '9.6640014648438', '-682.5', '-9.2579956054688', '9.5469970703125', '-682.5', '-9.1409912109375', '9.4299926757812', '-682.5', '-8.906005859375', '9.4299926757812', '-682.5', '-8.7890014648438', '9.31201171875', '-682.5', '-8.6719970703125', '9.1950073242188', '-682.5', '-8.43798828125', '9.1950073242188', '-682.5', '-8.3200073242188', '9.0780029296875', '-682.5', '-8.2030029296875', '8.9609985351562', '-682.5', '-7.968994140625', '8.9609985351562', '-682.5', '-7.8519897460938', '8.843994140625', '-682.5', '-7.7340087890625', '8.7269897460938', '-682.5', '-7.031005859375', '8.7269897460938', '-682.5', '-6.9140014648438', '8.6090087890625', '-682.5', '-6.7969970703125', '8.4920043945312', '-682.5', '-6.3280029296875', '8.4920043945312', '-682.5', '-6.2109985351562', '8.375', '-682.5', '-6.093994140625', '8.2579956054688', '-682.5', '-5.3909912109375', '8.2579956054688', '-682.5', '-5.2730102539062', '8.1409912109375', '-682.5', '-5.156005859375', '8.0230102539062', '-682.5', '-4.218994140625', '8.0230102539062', '-682.5']\n",
       "   ---------\n",
       "   (3006, 0016)  Contour Image Sequence   1 item(s) ---- \n",
       "      (0008, 1150) Referenced SOP Class UID            UI: CT Image Storage\n",
       "      (0008, 1155) Referenced SOP Instance UID         UI: 2.16.840.1.114362.1.6.7.5.17616.11849865775.479250700.380.1409\n",
       "      ---------\n",
       "   (3006, 0042) Contour Geometric Type              CS: 'CLOSED_PLANAR'\n",
       "   (3006, 0046) Number of Contour Points            IS: '407'\n",
       "   (3006, 0050) Contour Data                        DS: ['12.539001464844', '4.8590087890625', '-685.5', '12.656005859375', '4.7420043945312', '-685.5', '15.234008789062', '4.7420043945312', '-685.5', '15.351989746094', '4.8590087890625', '-685.5', '15.468994140625', '4.9769897460938', '-685.5', '16.406005859375', '4.9769897460938', '-685.5', '16.523010253906', '5.093994140625', '-685.5', '16.640991210938', '5.2109985351562', '-685.5', '16.875', '5.2109985351562', '-685.5', '16.992004394531', '5.3280029296875', '-685.5', '17.109008789062', '5.4450073242188', '-685.5', '17.343994140625', '5.4450073242188', '-685.5', '17.460998535156', '5.56201171875', '-685.5', '17.578002929688', '5.6799926757812', '-685.5', '17.695007324219', '5.7969970703125', '-685.5', '17.81201171875', '5.9140014648438', '-685.5', '17.929992675781', '6.031005859375', '-685.5', '18.046997070312', '6.1480102539062', '-685.5', '18.164001464844', '6.2659912109375', '-685.5', '18.164001464844', '6.5', '-685.5', '18.281005859375', '6.6170043945312', '-685.5', '18.398010253906', '6.7340087890625', '-685.5', '18.398010253906', '7.2030029296875', '-685.5', '18.515991210938', '7.3200073242188', '-685.5', '18.632995605469', '7.43798828125', '-685.5', '18.632995605469', '8.6090087890625', '-685.5', '18.515991210938', '8.7269897460938', '-685.5', '18.398010253906', '8.843994140625', '-685.5', '18.398010253906', '9.31201171875', '-685.5', '18.281005859375', '9.4299926757812', '-685.5', '18.164001464844', '9.5469970703125', '-685.5', '18.164001464844', '9.781005859375', '-685.5', '18.046997070312', '9.8980102539062', '-685.5', '17.929992675781', '10.016021728516', '-685.5', '17.81201171875', '10.132995605469', '-685.5', '17.695007324219', '10.25', '-685.5', '17.578002929688', '10.367004394531', '-685.5', '17.460998535156', '10.484008789062', '-685.5', '17.343994140625', '10.602020263672', '-685.5', '17.226989746094', '10.718994140625', '-685.5', '17.109008789062', '10.835998535156', '-685.5', '16.992004394531', '10.953002929688', '-685.5', '16.875', '11.070007324219', '-685.5', '16.757995605469', '11.18798828125', '-685.5', '16.640991210938', '11.305023193359', '-685.5', '16.523010253906', '11.422027587891', '-685.5', '16.523010253906', '11.656005859375', '-685.5', '16.406005859375', '11.773010253906', '-685.5', '16.289001464844', '11.891021728516', '-685.5', '16.289001464844', '12.125', '-685.5', '16.171997070312', '12.242004394531', '-685.5', '16.054992675781', '12.359008789062', '-685.5', '16.054992675781', '12.593994140625', '-685.5', '15.93798828125', '12.710998535156', '-685.5', '15.820007324219', '12.828002929688', '-685.5', '15.703002929688', '12.945007324219', '-685.5', '15.585998535156', '13.06201171875', '-685.5', '15.468994140625', '13.180023193359', '-685.5', '15.351989746094', '13.297027587891', '-685.5', '15.351989746094', '13.531005859375', '-685.5', '15.234008789062', '13.648010253906', '-685.5', '15.117004394531', '13.766021728516', '-685.5', '15', '13.882995605469', '-685.5', '14.765991210938', '13.882995605469', '-685.5', '14.648010253906', '14', '-685.5', '14.531005859375', '14.117004394531', '-685.5', '14.414001464844', '14.234008789062', '-685.5', '14.296997070312', '14.352020263672', '-685.5', '14.179992675781', '14.468994140625', '-685.5', '14.179992675781', '14.703002929688', '-685.5', '14.06201171875', '14.820007324219', '-685.5', '13.945007324219', '14.93798828125', '-685.5', '13.945007324219', '15.172027587891', '-685.5', '13.828002929688', '15.289001464844', '-685.5', '13.710998535156', '15.406005859375', '-685.5', '13.710998535156', '15.641021728516', '-685.5', '13.593994140625', '15.757995605469', '-685.5', '13.476989746094', '15.875', '-685.5', '13.359008789062', '15.992004394531', '-685.5', '13.242004394531', '16.109008789062', '-685.5', '13.125', '16.227020263672', '-685.5', '13.007995605469', '16.343994140625', '-685.5', '12.890991210938', '16.460998535156', '-685.5', '12.656005859375', '16.460998535156', '-685.5', '12.539001464844', '16.578002929688', '-685.5', '12.421997070312', '16.695007324219', '-685.5', '11.953002929688', '16.695007324219', '-685.5', '11.835998535156', '16.81201171875', '-685.5', '11.718994140625', '16.930023193359', '-685.5', '11.25', '16.930023193359', '-685.5', '11.132995605469', '16.81201171875', '-685.5', '11.015991210938', '16.695007324219', '-685.5', '10.898010253906', '16.578002929688', '-685.5', '10.781005859375', '16.460998535156', '-685.5', '10.664001464844', '16.343994140625', '-685.5', '10.546997070312', '16.227020263672', '-685.5', '10.429992675781', '16.109008789062', '-685.5', '10.31201171875', '15.992004394531', '-685.5', '10.195007324219', '15.875', '-685.5', '10.078002929688', '15.757995605469', '-685.5', '8.906005859375', '15.757995605469', '-685.5', '8.7890014648438', '15.875', '-685.5', '8.6719970703125', '15.992004394531', '-685.5', '8.43798828125', '15.992004394531', '-685.5', '8.3200073242188', '16.109008789062', '-685.5', '8.2030029296875', '16.227020263672', '-685.5', '8.0859985351562', '16.343994140625', '-685.5', '7.968994140625', '16.460998535156', '-685.5', '7.8519897460938', '16.578002929688', '-685.5', '7.8519897460938', '16.81201171875', '-685.5', '7.7340087890625', '16.930023193359', '-685.5', '7.6170043945312', '17.047027587891', '-685.5', '7.6170043945312', '18.68798828125', '-685.5', '7.7340087890625', '18.805023193359', '-685.5', '7.8519897460938', '18.922027587891', '-685.5', '7.8519897460938', '19.156005859375', '-685.5', '7.968994140625', '19.273010253906', '-685.5', '8.0859985351562', '19.391021728516', '-685.5', '8.2030029296875', '19.507995605469', '-685.5', '8.3200073242188', '19.625', '-685.5', '8.43798828125', '19.742004394531', '-685.5', '8.6719970703125', '19.742004394531', '-685.5', '8.7890014648438', '19.859008789062', '-685.5', '8.7890014648438', '20.328002929688', '-685.5', '8.6719970703125', '20.445007324219', '-685.5', '8.5549926757812', '20.56201171875', '-685.5', '8.43798828125', '20.680023193359', '-685.5', '8.3200073242188', '20.797027587891', '-685.5', '8.3200073242188', '21.031005859375', '-685.5', '8.2030029296875', '21.148010253906', '-685.5', '8.0859985351562', '21.266021728516', '-685.5', '7.968994140625', '21.382995605469', '-685.5', '7.8519897460938', '21.5', '-685.5', '7.7340087890625', '21.617004394531', '-685.5', '7.5', '21.617004394531', '-685.5', '7.3829956054688', '21.734008789062', '-685.5', '7.2659912109375', '21.852020263672', '-685.5', '7.031005859375', '21.852020263672', '-685.5', '6.9140014648438', '21.968994140625', '-685.5', '6.7969970703125', '22.085998535156', '-685.5', '4.68798828125', '22.085998535156', '-685.5', '4.5700073242188', '22.203002929688', '-685.5', '4.4530029296875', '22.320007324219', '-685.5', '2.1090087890625', '22.320007324219', '-685.5', '1.9920043945312', '22.203002929688', '-685.5', '1.875', '22.085998535156', '-685.5', '1.406005859375', '22.085998535156', '-685.5', '1.2890014648438', '21.968994140625', '-685.5', '1.1719970703125', '21.852020263672', '-685.5', '0.93798828125', '21.852020263672', '-685.5', '0.82000732421875', '21.734008789062', '-685.5', '0.7030029296875', '21.617004394531', '-685.5', '0.58599853515625', '21.5', '-685.5', '0.468994140625', '21.382995605469', '-685.5', '-1.6409912109375', '21.382995605469', '-685.5', '-1.7579956054688', '21.5', '-685.5', '-1.875', '21.617004394531', '-685.5', '-2.1090087890625', '21.617004394531', '-685.5', '-2.2269897460938', '21.734008789062', '-685.5', '-2.343994140625', '21.852020263672', '-685.5', '-2.5780029296875', '21.852020263672', '-685.5', '-2.6950073242188', '21.968994140625', '-685.5', '-2.81201171875', '22.085998535156', '-685.5', '-3.0469970703125', '22.085998535156', '-685.5', '-3.1640014648438', '22.203002929688', '-685.5', '-3.281005859375', '22.320007324219', '-685.5', '-3.3980102539062', '22.43798828125', '-685.5', '-3.5159912109375', '22.555023193359', '-685.5', '-3.6329956054688', '22.672027587891', '-685.5', '-3.6329956054688', '22.906005859375', '-685.5', '-3.75', '23.023010253906', '-685.5', '-3.8670043945312', '23.141021728516', '-685.5', '-3.9840087890625', '23.257995605469', '-685.5', '-4.1019897460938', '23.375', '-685.5', '-4.1019897460938', '23.609008789062', '-685.5', '-4.218994140625', '23.727020263672', '-685.5', '-4.3359985351562', '23.609008789062', '-685.5', '-4.4530029296875', '23.492004394531', '-685.5', '-4.5700073242188', '23.375', '-685.5', '-4.68798828125', '23.257995605469', '-685.5', '-6.093994140625', '23.257995605469', '-685.5', '-6.2109985351562', '23.375', '-685.5', '-6.3280029296875', '23.492004394531', '-685.5', '-6.4450073242188', '23.609008789062', '-685.5', '-6.56201171875', '23.727020263672', '-685.5', '-6.6799926757812', '23.843994140625', '-685.5', '-6.7969970703125', '23.960998535156', '-685.5', '-6.9140014648438', '24.078002929688', '-685.5', '-7.031005859375', '24.195007324219', '-685.5', '-7.1480102539062', '24.31201171875', '-685.5', '-7.1480102539062', '26.422027587891', '-685.5', '-7.031005859375', '26.539001464844', '-685.5', '-6.9140014648438', '26.656005859375', '-685.5', '-6.9140014648438', '26.891021728516', '-685.5', '-7.031005859375', '27.007995605469', '-685.5', '-7.1480102539062', '27.125', '-685.5', '-7.1480102539062', '28.06201171875', '-685.5', '-7.2659912109375', '28.180023193359', '-685.5', '-7.3829956054688', '28.297027587891', '-685.5', '-7.3829956054688', '29', '-685.5', '-7.5', '29.117004394531', '-685.5', '-7.6170043945312', '29.234008789062', '-685.5', '-7.7340087890625', '29.352020263672', '-685.5', '-7.8519897460938', '29.468994140625', '-685.5', '-7.968994140625', '29.585998535156', '-685.5', '-8.0859985351562', '29.703002929688', '-685.5', '-8.2030029296875', '29.820007324219', '-685.5', '-10.078002929688', '29.820007324219', '-685.5', '-10.195007324219', '29.703002929688', '-685.5', '-10.31201171875', '29.585998535156', '-685.5', '-10.429992675781', '29.468994140625', '-685.5', '-10.546997070312', '29.352020263672', '-685.5', '-10.781005859375', '29.352020263672', '-685.5', '-10.898010253906', '29.234008789062', '-685.5', '-11.015991210938', '29.117004394531', '-685.5', '-11.132995605469', '29', '-685.5', '-11.25', '28.882995605469', '-685.5', '-11.367004394531', '28.766021728516', '-685.5', '-11.484008789062', '28.648010253906', '-685.5', '-11.601989746094', '28.531005859375', '-685.5', '-11.718994140625', '28.414001464844', '-685.5', '-11.835998535156', '28.297027587891', '-685.5', '-11.953002929688', '28.180023193359', '-685.5', '-12.070007324219', '28.06201171875', '-685.5', '-12.18798828125', '27.945007324219', '-685.5', '-12.304992675781', '27.828002929688', '-685.5', '-12.421997070312', '27.710998535156', '-685.5', '-12.539001464844', '27.593994140625', '-685.5', '-12.656005859375', '27.477020263672', '-685.5', '-12.890991210938', '27.477020263672', '-685.5', '-13.007995605469', '27.359008789062', '-685.5', '-13.125', '27.242004394531', '-685.5', '-13.593994140625', '27.242004394531', '-685.5', '-13.710998535156', '27.125', '-685.5', '-13.828002929688', '27.007995605469', '-685.5', '-14.06201171875', '27.007995605469', '-685.5', '-14.179992675781', '26.891021728516', '-685.5', '-14.296997070312', '26.773010253906', '-685.5', '-14.531005859375', '26.773010253906', '-685.5', '-14.648010253906', '26.656005859375', '-685.5', '-14.765991210938', '26.539001464844', '-685.5', '-14.882995605469', '26.422027587891', '-685.5', '-14.882995605469', '26.18798828125', '-685.5', '-15', '26.070007324219', '-685.5', '-15.117004394531', '25.953002929688', '-685.5', '-15.117004394531', '25.718994140625', '-685.5', '-15.234008789062', '25.602020263672', '-685.5', '-15.351989746094', '25.484008789062', '-685.5', '-15.468994140625', '25.367004394531', '-685.5', '-16.171997070312', '25.367004394531', '-685.5', '-16.289001464844', '25.25', '-685.5', '-16.406005859375', '25.132995605469', '-685.5', '-16.875', '25.132995605469', '-685.5', '-16.992004394531', '25.016021728516', '-685.5', '-17.109008789062', '24.898010253906', '-685.5', '-17.81201171875', '24.898010253906', '-685.5', '-17.929992675781', '24.781005859375', '-685.5', '-18.046997070312', '24.664001464844', '-685.5', '-18.984008789062', '24.664001464844', '-685.5', '-19.101989746094', '24.547027587891', '-685.5', '-19.218994140625', '24.430023193359', '-685.5', '-20.156005859375', '24.430023193359', '-685.5', '-20.273010253906', '24.31201171875', '-685.5', '-20.390991210938', '24.195007324219', '-685.5', '-23.906005859375', '24.195007324219', '-685.5', '-24.023010253906', '24.078002929688', '-685.5', '-24.140991210938', '23.960998535156', '-685.5', '-24.609008789062', '23.960998535156', '-685.5', '-24.726989746094', '23.843994140625', '-685.5', '-24.843994140625', '23.727020263672', '-685.5', '-25.078002929688', '23.727020263672', '-685.5', '-25.195007324219', '23.609008789062', '-685.5', '-25.31201171875', '23.492004394531', '-685.5', '-25.429992675781', '23.375', '-685.5', '-25.546997070312', '23.257995605469', '-685.5', '-25.781005859375', '23.257995605469', '-685.5', '-25.898010253906', '23.141021728516', '-685.5', '-26.015991210938', '23.023010253906', '-685.5', '-26.132995605469', '22.906005859375', '-685.5', '-26.25', '22.789001464844', '-685.5', '-26.367004394531', '22.672027587891', '-685.5', '-26.367004394531', '22.43798828125', '-685.5', '-26.484008789062', '22.320007324219', '-685.5', '-26.601989746094', '22.203002929688', '-685.5', '-26.718994140625', '22.085998535156', '-685.5', '-26.835998535156', '21.968994140625', '-685.5', '-26.835998535156', '21.734008789062', '-685.5', '-26.953002929688', '21.617004394531', '-685.5', '-27.070007324219', '21.5', '-685.5', '-27.070007324219', '20.797027587891', '-685.5', '-27.18798828125', '20.680023193359', '-685.5', '-27.304992675781', '20.56201171875', '-685.5', '-27.304992675781', '16.343994140625', '-685.5', '-27.18798828125', '16.227020263672', '-685.5', '-27.070007324219', '16.109008789062', '-685.5', '-27.070007324219', '15.641021728516', '-685.5', '-26.953002929688', '15.523010253906', '-685.5', '-26.835998535156', '15.406005859375', '-685.5', '-26.835998535156', '15.172027587891', '-685.5', '-26.718994140625', '15.055023193359', '-685.5', '-26.601989746094', '14.93798828125', '-685.5', '-26.484008789062', '14.820007324219', '-685.5', '-26.367004394531', '14.703002929688', '-685.5', '-26.367004394531', '14.468994140625', '-685.5', '-26.25', '14.352020263672', '-685.5', '-26.132995605469', '14.234008789062', '-685.5', '-26.015991210938', '14.117004394531', '-685.5', '-25.898010253906', '14', '-685.5', '-25.781005859375', '13.882995605469', '-685.5', '-25.664001464844', '13.766021728516', '-685.5', '-25.664001464844', '13.531005859375', '-685.5', '-25.546997070312', '13.414001464844', '-685.5', '-25.429992675781', '13.297027587891', '-685.5', '-25.31201171875', '13.180023193359', '-685.5', '-25.195007324219', '13.06201171875', '-685.5', '-25.195007324219', '12.828002929688', '-685.5', '-25.078002929688', '12.710998535156', '-685.5', '-24.960998535156', '12.593994140625', '-685.5', '-24.843994140625', '12.477020263672', '-685.5', '-24.726989746094', '12.359008789062', '-685.5', '-24.609008789062', '12.242004394531', '-685.5', '-24.492004394531', '12.125', '-685.5', '-24.375', '12.007995605469', '-685.5', '-24.257995605469', '11.891021728516', '-685.5', '-24.140991210938', '11.773010253906', '-685.5', '-24.023010253906', '11.656005859375', '-685.5', '-23.906005859375', '11.539001464844', '-685.5', '-23.789001464844', '11.422027587891', '-685.5', '-23.671997070312', '11.305023193359', '-685.5', '-23.554992675781', '11.18798828125', '-685.5', '-23.43798828125', '11.070007324219', '-685.5', '-23.320007324219', '10.953002929688', '-685.5', '-23.203002929688', '10.835998535156', '-685.5', '-23.085998535156', '10.718994140625', '-685.5', '-22.968994140625', '10.602020263672', '-685.5', '-22.851989746094', '10.484008789062', '-685.5', '-22.734008789062', '10.367004394531', '-685.5', '-22.617004394531', '10.25', '-685.5', '-22.5', '10.132995605469', '-685.5', '-22.382995605469', '10.016021728516', '-685.5', '-22.265991210938', '9.8980102539062', '-685.5', '-22.148010253906', '9.781005859375', '-685.5', '-22.031005859375', '9.6640014648438', '-685.5', '-21.914001464844', '9.5469970703125', '-685.5', '-21.796997070312', '9.4299926757812', '-685.5', '-21.56201171875', '9.4299926757812', '-685.5', '-21.445007324219', '9.31201171875', '-685.5', '-21.328002929688', '9.1950073242188', '-685.5', '-21.210998535156', '9.0780029296875', '-685.5', '-21.093994140625', '8.9609985351562', '-685.5', '-20.859008789062', '8.9609985351562', '-685.5', '-20.742004394531', '8.843994140625', '-685.5', '-20.625', '8.7269897460938', '-685.5', '-20.390991210938', '8.7269897460938', '-685.5', '-20.273010253906', '8.6090087890625', '-685.5', '-20.156005859375', '8.4920043945312', '-685.5', '-19.68798828125', '8.4920043945312', '-685.5', '-19.570007324219', '8.375', '-685.5', '-19.453002929688', '8.2579956054688', '-685.5', '-18.75', '8.2579956054688', '-685.5', '-18.632995605469', '8.1409912109375', '-685.5', '-18.515991210938', '8.0230102539062', '-685.5', '-17.578002929688', '8.0230102539062', '-685.5', '-17.460998535156', '7.906005859375', '-685.5', '-17.343994140625', '7.7890014648438', '-685.5', '-8.2030029296875', '7.7890014648438', '-685.5', '-8.0859985351562', '7.6719970703125', '-685.5', '-7.968994140625', '7.5549926757812', '-685.5', '-7.7340087890625', '7.5549926757812', '-685.5', '-7.6170043945312', '7.43798828125', '-685.5', '-7.5', '7.3200073242188', '-685.5', '-7.031005859375', '7.3200073242188', '-685.5', '-6.9140014648438', '7.2030029296875', '-685.5', '-6.7969970703125', '7.0859985351562', '-685.5', '-6.3280029296875', '7.0859985351562', '-685.5', '-6.2109985351562', '6.968994140625', '-685.5', '-6.093994140625', '6.8519897460938', '-685.5', '0', '6.8519897460938', '-685.5', '0.11700439453125', '6.7340087890625', '-685.5', '0.2340087890625', '6.6170043945312', '-685.5', '1.1719970703125', '6.6170043945312', '-685.5', '1.2890014648438', '6.5', '-685.5', '1.406005859375', '6.3829956054688', '-685.5', '6.56201171875', '6.3829956054688', '-685.5', '6.6799926757812', '6.5', '-685.5', '6.7969970703125', '6.6170043945312', '-685.5', '6.9140014648438', '6.5', '-685.5', '7.031005859375', '6.3829956054688', '-685.5', '7.2659912109375', '6.3829956054688', '-685.5', '7.3829956054688', '6.2659912109375', '-685.5', '7.5', '6.1480102539062', '-685.5', '7.7340087890625', '6.1480102539062', '-685.5', '7.8519897460938', '6.031005859375', '-685.5', '7.968994140625', '5.9140014648438', '-685.5', '8.6719970703125', '5.9140014648438', '-685.5', '8.7890014648438', '5.7969970703125', '-685.5', '8.906005859375', '5.6799926757812', '-685.5', '9.843994140625', '5.6799926757812', '-685.5', '9.9609985351562', '5.56201171875', '-685.5', '10.078002929688', '5.4450073242188', '-685.5', '10.781005859375', '5.4450073242188', '-685.5', '10.898010253906', '5.3280029296875', '-685.5', '11.015991210938', '5.2109985351562', '-685.5', '11.484008789062', '5.2109985351562', '-685.5', '11.601989746094', '5.093994140625', '-685.5', '11.718994140625', '4.9769897460938', '-685.5', '12.421997070312', '4.9769897460938', '-685.5']\n",
       "   ---------\n",
       "   (3006, 0016)  Contour Image Sequence   1 item(s) ---- \n",
       "      (0008, 1150) Referenced SOP Class UID            UI: CT Image Storage\n",
       "      (0008, 1155) Referenced SOP Instance UID         UI: 2.16.840.1.114362.1.6.7.5.17616.11849865775.479250700.380.1408\n",
       "      ---------\n",
       "   (3006, 0042) Contour Geometric Type              CS: 'CLOSED_PLANAR'\n",
       "   (3006, 0046) Number of Contour Points            IS: '379'\n",
       "   (3006, 0050) Contour Data                        DS: ['10.429992675781', '4.625', '-688.5', '10.546997070312', '4.5079956054688', '-688.5', '11.953002929688', '4.5079956054688', '-688.5', '12.070007324219', '4.625', '-688.5', '12.18798828125', '4.7420043945312', '-688.5', '12.656005859375', '4.7420043945312', '-688.5', '12.773010253906', '4.8590087890625', '-688.5', '12.890991210938', '4.9769897460938', '-688.5', '13.125', '4.9769897460938', '-688.5', '13.242004394531', '5.093994140625', '-688.5', '13.359008789062', '5.2109985351562', '-688.5', '13.476989746094', '5.3280029296875', '-688.5', '13.593994140625', '5.4450073242188', '-688.5', '13.710998535156', '5.56201171875', '-688.5', '13.828002929688', '5.6799926757812', '-688.5', '13.945007324219', '5.7969970703125', '-688.5', '13.945007324219', '6.031005859375', '-688.5', '14.06201171875', '6.1480102539062', '-688.5', '14.179992675781', '6.2659912109375', '-688.5', '14.179992675781', '6.5', '-688.5', '14.296997070312', '6.6170043945312', '-688.5', '14.414001464844', '6.7340087890625', '-688.5', '14.414001464844', '8.6090087890625', '-688.5', '14.296997070312', '8.7269897460938', '-688.5', '14.179992675781', '8.843994140625', '-688.5', '14.179992675781', '9.0780029296875', '-688.5', '14.06201171875', '9.1950073242188', '-688.5', '13.945007324219', '9.31201171875', '-688.5', '13.828002929688', '9.4299926757812', '-688.5', '13.710998535156', '9.5469970703125', '-688.5', '13.710998535156', '9.781005859375', '-688.5', '13.593994140625', '9.8980102539062', '-688.5', '13.359008789062', '9.8980102539062', '-688.5', '13.242004394531', '10.016021728516', '-688.5', '13.125', '10.132995605469', '-688.5', '13.007995605469', '10.25', '-688.5', '12.890991210938', '10.367004394531', '-688.5', '12.656005859375', '10.367004394531', '-688.5', '12.539001464844', '10.484008789062', '-688.5', '12.421997070312', '10.602020263672', '-688.5', '12.18798828125', '10.602020263672', '-688.5', '12.070007324219', '10.718994140625', '-688.5', '11.953002929688', '10.835998535156', '-688.5', '11.718994140625', '10.835998535156', '-688.5', '11.601989746094', '10.953002929688', '-688.5', '11.484008789062', '11.070007324219', '-688.5', '11.367004394531', '11.18798828125', '-688.5', '11.25', '11.305023193359', '-688.5', '11.132995605469', '11.422027587891', '-688.5', '11.015991210938', '11.539001464844', '-688.5', '10.781005859375', '11.539001464844', '-688.5', '10.664001464844', '11.656005859375', '-688.5', '10.546997070312', '11.773010253906', '-688.5', '10.429992675781', '11.891021728516', '-688.5', '10.31201171875', '12.007995605469', '-688.5', '10.195007324219', '12.125', '-688.5', '10.078002929688', '12.242004394531', '-688.5', '9.843994140625', '12.242004394531', '-688.5', '9.7269897460938', '12.359008789062', '-688.5', '9.6090087890625', '12.477020263672', '-688.5', '9.4920043945312', '12.593994140625', '-688.5', '9.375', '12.710998535156', '-688.5', '9.2579956054688', '12.828002929688', '-688.5', '9.2579956054688', '15.406005859375', '-688.5', '9.1409912109375', '15.523010253906', '-688.5', '9.0230102539062', '15.641021728516', '-688.5', '9.0230102539062', '18.453002929688', '-688.5', '8.906005859375', '18.570007324219', '-688.5', '8.7890014648438', '18.68798828125', '-688.5', '8.7890014648438', '18.922027587891', '-688.5', '8.6719970703125', '19.039001464844', '-688.5', '8.5549926757812', '19.156005859375', '-688.5', '8.5549926757812', '19.391021728516', '-688.5', '8.43798828125', '19.507995605469', '-688.5', '8.3200073242188', '19.625', '-688.5', '8.2030029296875', '19.742004394531', '-688.5', '8.0859985351562', '19.859008789062', '-688.5', '7.968994140625', '19.977020263672', '-688.5', '7.8519897460938', '20.093994140625', '-688.5', '7.8519897460938', '20.328002929688', '-688.5', '7.7340087890625', '20.445007324219', '-688.5', '7.6170043945312', '20.56201171875', '-688.5', '7.5', '20.680023193359', '-688.5', '7.3829956054688', '20.797027587891', '-688.5', '7.2659912109375', '20.914001464844', '-688.5', '7.1480102539062', '21.031005859375', '-688.5', '7.031005859375', '21.148010253906', '-688.5', '6.9140014648438', '21.266021728516', '-688.5', '6.7969970703125', '21.382995605469', '-688.5', '6.56201171875', '21.382995605469', '-688.5', '6.4450073242188', '21.5', '-688.5', '6.3280029296875', '21.617004394531', '-688.5', '6.2109985351562', '21.734008789062', '-688.5', '6.093994140625', '21.852020263672', '-688.5', '5.8590087890625', '21.852020263672', '-688.5', '5.7420043945312', '21.968994140625', '-688.5', '5.625', '22.085998535156', '-688.5', '3.5159912109375', '22.085998535156', '-688.5', '3.3980102539062', '21.968994140625', '-688.5', '3.281005859375', '21.852020263672', '-688.5', '3.0469970703125', '21.852020263672', '-688.5', '2.9299926757812', '21.734008789062', '-688.5', '2.81201171875', '21.617004394531', '-688.5', '1.875', '21.617004394531', '-688.5', '1.7579956054688', '21.5', '-688.5', '1.6409912109375', '21.382995605469', '-688.5', '-2.1090087890625', '21.382995605469', '-688.5', '-2.2269897460938', '21.5', '-688.5', '-2.343994140625', '21.617004394531', '-688.5', '-2.5780029296875', '21.617004394531', '-688.5', '-2.6950073242188', '21.734008789062', '-688.5', '-2.81201171875', '21.852020263672', '-688.5', '-3.0469970703125', '21.852020263672', '-688.5', '-3.1640014648438', '21.968994140625', '-688.5', '-3.281005859375', '22.085998535156', '-688.5', '-3.5159912109375', '22.085998535156', '-688.5', '-3.6329956054688', '22.203002929688', '-688.5', '-3.75', '22.320007324219', '-688.5', '-3.9840087890625', '22.320007324219', '-688.5', '-4.1019897460938', '22.43798828125', '-688.5', '-4.218994140625', '22.555023193359', '-688.5', '-4.3359985351562', '22.672027587891', '-688.5', '-4.4530029296875', '22.789001464844', '-688.5', '-4.68798828125', '22.789001464844', '-688.5', '-4.8049926757812', '22.906005859375', '-688.5', '-4.9219970703125', '23.023010253906', '-688.5', '-5.156005859375', '23.023010253906', '-688.5', '-5.2730102539062', '23.141021728516', '-688.5', '-5.3909912109375', '23.257995605469', '-688.5', '-5.625', '23.257995605469', '-688.5', '-5.7420043945312', '23.375', '-688.5', '-5.8590087890625', '23.492004394531', '-688.5', '-5.9769897460938', '23.609008789062', '-688.5', '-5.9769897460938', '23.843994140625', '-688.5', '-6.093994140625', '23.960998535156', '-688.5', '-6.2109985351562', '24.078002929688', '-688.5', '-6.2109985351562', '24.547027587891', '-688.5', '-6.3280029296875', '24.664001464844', '-688.5', '-6.4450073242188', '24.781005859375', '-688.5', '-6.56201171875', '24.898010253906', '-688.5', '-6.6799926757812', '25.016021728516', '-688.5', '-6.6799926757812', '25.484008789062', '-688.5', '-6.7969970703125', '25.602020263672', '-688.5', '-6.9140014648438', '25.718994140625', '-688.5', '-6.9140014648438', '26.18798828125', '-688.5', '-7.031005859375', '26.305023193359', '-688.5', '-7.1480102539062', '26.422027587891', '-688.5', '-7.2659912109375', '26.539001464844', '-688.5', '-7.3829956054688', '26.656005859375', '-688.5', '-7.2659912109375', '26.773010253906', '-688.5', '-7.1480102539062', '26.891021728516', '-688.5', '-7.031005859375', '27.007995605469', '-688.5', '-6.9140014648438', '27.125', '-688.5', '-6.7969970703125', '27.242004394531', '-688.5', '-6.6799926757812', '27.359008789062', '-688.5', '-6.6799926757812', '27.593994140625', '-688.5', '-6.56201171875', '27.710998535156', '-688.5', '-6.4450073242188', '27.828002929688', '-688.5', '-6.4450073242188', '28.297027587891', '-688.5', '-6.56201171875', '28.414001464844', '-688.5', '-11.25', '28.414001464844', '-688.5', '-11.367004394531', '28.297027587891', '-688.5', '-11.484008789062', '28.180023193359', '-688.5', '-11.601989746094', '28.06201171875', '-688.5', '-11.718994140625', '27.945007324219', '-688.5', '-11.835998535156', '27.828002929688', '-688.5', '-11.953002929688', '27.710998535156', '-688.5', '-12.070007324219', '27.593994140625', '-688.5', '-12.18798828125', '27.477020263672', '-688.5', '-12.421997070312', '27.477020263672', '-688.5', '-12.539001464844', '27.359008789062', '-688.5', '-12.656005859375', '27.242004394531', '-688.5', '-12.773010253906', '27.125', '-688.5', '-12.890991210938', '27.007995605469', '-688.5', '-13.359008789062', '27.007995605469', '-688.5', '-13.476989746094', '26.891021728516', '-688.5', '-13.593994140625', '26.773010253906', '-688.5', '-13.828002929688', '26.773010253906', '-688.5', '-13.945007324219', '26.656005859375', '-688.5', '-14.06201171875', '26.539001464844', '-688.5', '-14.296997070312', '26.539001464844', '-688.5', '-14.414001464844', '26.422027587891', '-688.5', '-14.531005859375', '26.305023193359', '-688.5', '-14.765991210938', '26.305023193359', '-688.5', '-14.882995605469', '26.18798828125', '-688.5', '-15', '26.070007324219', '-688.5', '-15.234008789062', '26.070007324219', '-688.5', '-15.351989746094', '25.953002929688', '-688.5', '-15.468994140625', '25.835998535156', '-688.5', '-15.93798828125', '25.835998535156', '-688.5', '-16.054992675781', '25.718994140625', '-688.5', '-16.171997070312', '25.602020263672', '-688.5', '-17.109008789062', '25.602020263672', '-688.5', '-17.226989746094', '25.484008789062', '-688.5', '-17.343994140625', '25.367004394531', '-688.5', '-17.578002929688', '25.367004394531', '-688.5', '-17.695007324219', '25.25', '-688.5', '-17.81201171875', '25.132995605469', '-688.5', '-18.281005859375', '25.132995605469', '-688.5', '-18.398010253906', '25.016021728516', '-688.5', '-18.515991210938', '24.898010253906', '-688.5', '-19.453002929688', '24.898010253906', '-688.5', '-19.570007324219', '24.781005859375', '-688.5', '-19.68798828125', '24.664001464844', '-688.5', '-20.390991210938', '24.664001464844', '-688.5', '-20.507995605469', '24.547027587891', '-688.5', '-20.625', '24.430023193359', '-688.5', '-20.859008789062', '24.430023193359', '-688.5', '-20.976989746094', '24.31201171875', '-688.5', '-21.093994140625', '24.195007324219', '-688.5', '-21.56201171875', '24.195007324219', '-688.5', '-21.679992675781', '24.078002929688', '-688.5', '-21.796997070312', '23.960998535156', '-688.5', '-22.734008789062', '23.960998535156', '-688.5', '-22.851989746094', '23.843994140625', '-688.5', '-22.968994140625', '23.727020263672', '-688.5', '-25.546997070312', '23.727020263672', '-688.5', '-25.664001464844', '23.609008789062', '-688.5', '-25.781005859375', '23.492004394531', '-688.5', '-26.015991210938', '23.492004394531', '-688.5', '-26.132995605469', '23.375', '-688.5', '-26.25', '23.257995605469', '-688.5', '-26.367004394531', '23.141021728516', '-688.5', '-26.484008789062', '23.023010253906', '-688.5', '-26.601989746094', '22.906005859375', '-688.5', '-26.718994140625', '22.789001464844', '-688.5', '-26.835998535156', '22.672027587891', '-688.5', '-26.953002929688', '22.555023193359', '-688.5', '-27.070007324219', '22.43798828125', '-688.5', '-27.070007324219', '22.203002929688', '-688.5', '-27.18798828125', '22.085998535156', '-688.5', '-27.304992675781', '21.968994140625', '-688.5', '-27.304992675781', '21.734008789062', '-688.5', '-27.421997070312', '21.617004394531', '-688.5', '-27.539001464844', '21.5', '-688.5', '-27.539001464844', '19.625', '-688.5', '-27.421997070312', '19.507995605469', '-688.5', '-27.304992675781', '19.391021728516', '-688.5', '-27.304992675781', '19.156005859375', '-688.5', '-27.18798828125', '19.039001464844', '-688.5', '-27.070007324219', '18.922027587891', '-688.5', '-26.953002929688', '18.805023193359', '-688.5', '-26.718994140625', '18.805023193359', '-688.5', '-26.601989746094', '18.68798828125', '-688.5', '-26.484008789062', '18.570007324219', '-688.5', '-26.367004394531', '18.453002929688', '-688.5', '-26.484008789062', '18.335998535156', '-688.5', '-26.601989746094', '18.218994140625', '-688.5', '-26.601989746094', '13.297027587891', '-688.5', '-26.484008789062', '13.180023193359', '-688.5', '-26.367004394531', '13.06201171875', '-688.5', '-26.367004394531', '12.359008789062', '-688.5', '-26.25', '12.242004394531', '-688.5', '-26.132995605469', '12.125', '-688.5', '-26.132995605469', '11.891021728516', '-688.5', '-26.015991210938', '11.773010253906', '-688.5', '-25.898010253906', '11.656005859375', '-688.5', '-25.898010253906', '11.422027587891', '-688.5', '-25.781005859375', '11.305023193359', '-688.5', '-25.664001464844', '11.18798828125', '-688.5', '-25.664001464844', '10.953002929688', '-688.5', '-25.546997070312', '10.835998535156', '-688.5', '-25.429992675781', '10.718994140625', '-688.5', '-25.31201171875', '10.602020263672', '-688.5', '-25.195007324219', '10.484008789062', '-688.5', '-25.195007324219', '10.016021728516', '-688.5', '-25.078002929688', '9.8980102539062', '-688.5', '-24.960998535156', '9.781005859375', '-688.5', '-24.960998535156', '9.5469970703125', '-688.5', '-24.843994140625', '9.4299926757812', '-688.5', '-24.726989746094', '9.31201171875', '-688.5', '-24.609008789062', '9.1950073242188', '-688.5', '-24.492004394531', '9.0780029296875', '-688.5', '-24.375', '8.9609985351562', '-688.5', '-24.257995605469', '8.843994140625', '-688.5', '-24.140991210938', '8.7269897460938', '-688.5', '-24.023010253906', '8.6090087890625', '-688.5', '-23.906005859375', '8.4920043945312', '-688.5', '-23.789001464844', '8.375', '-688.5', '-23.671997070312', '8.2579956054688', '-688.5', '-23.554992675781', '8.1409912109375', '-688.5', '-23.43798828125', '8.0230102539062', '-688.5', '-23.320007324219', '7.906005859375', '-688.5', '-23.203002929688', '7.7890014648438', '-688.5', '-23.085998535156', '7.6719970703125', '-688.5', '-22.968994140625', '7.5549926757812', '-688.5', '-22.734008789062', '7.5549926757812', '-688.5', '-22.617004394531', '7.43798828125', '-688.5', '-22.5', '7.3200073242188', '-688.5', '-22.382995605469', '7.2030029296875', '-688.5', '-22.265991210938', '7.0859985351562', '-688.5', '-21.796997070312', '7.0859985351562', '-688.5', '-21.679992675781', '6.968994140625', '-688.5', '-21.56201171875', '6.8519897460938', '-688.5', '-21.093994140625', '6.8519897460938', '-688.5', '-20.976989746094', '6.7340087890625', '-688.5', '-20.859008789062', '6.6170043945312', '-688.5', '-20.625', '6.6170043945312', '-688.5', '-20.507995605469', '6.5', '-688.5', '-20.390991210938', '6.3829956054688', '-688.5', '-20.273010253906', '6.2659912109375', '-688.5', '-20.156005859375', '6.1480102539062', '-688.5', '-19.921997070312', '6.1480102539062', '-688.5', '-19.804992675781', '6.031005859375', '-688.5', '-19.68798828125', '5.9140014648438', '-688.5', '-19.218994140625', '5.9140014648438', '-688.5', '-19.101989746094', '5.7969970703125', '-688.5', '-18.984008789062', '5.6799926757812', '-688.5', '-16.406005859375', '5.6799926757812', '-688.5', '-16.289001464844', '5.7969970703125', '-688.5', '-16.171997070312', '5.9140014648438', '-688.5', '-15.703002929688', '5.9140014648438', '-688.5', '-15.585998535156', '6.031005859375', '-688.5', '-15.468994140625', '6.1480102539062', '-688.5', '-15.351989746094', '6.2659912109375', '-688.5', '-15.234008789062', '6.3829956054688', '-688.5', '-15', '6.3829956054688', '-688.5', '-14.882995605469', '6.5', '-688.5', '-14.765991210938', '6.6170043945312', '-688.5', '-14.531005859375', '6.6170043945312', '-688.5', '-14.414001464844', '6.7340087890625', '-688.5', '-14.296997070312', '6.8519897460938', '-688.5', '-13.828002929688', '6.8519897460938', '-688.5', '-13.710998535156', '6.968994140625', '-688.5', '-13.593994140625', '7.0859985351562', '-688.5', '-12.890991210938', '7.0859985351562', '-688.5', '-12.773010253906', '7.2030029296875', '-688.5', '-12.656005859375', '7.3200073242188', '-688.5', '-9.375', '7.3200073242188', '-688.5', '-9.2579956054688', '7.43798828125', '-688.5', '-9.1409912109375', '7.5549926757812', '-688.5', '-7.031005859375', '7.5549926757812', '-688.5', '-6.9140014648438', '7.6719970703125', '-688.5', '-6.7969970703125', '7.7890014648438', '-688.5', '-3.281005859375', '7.7890014648438', '-688.5', '-3.1640014648438', '7.6719970703125', '-688.5', '-3.0469970703125', '7.5549926757812', '-688.5', '-2.5780029296875', '7.5549926757812', '-688.5', '-2.4609985351562', '7.43798828125', '-688.5', '-2.343994140625', '7.3200073242188', '-688.5', '-0.93798828125', '7.3200073242188', '-688.5', '-0.8200073242188', '7.2030029296875', '-688.5', '-0.7030029296875', '7.0859985351562', '-688.5', '0.7030029296875', '7.0859985351562', '-688.5', '0.82000732421875', '6.968994140625', '-688.5', '0.93798828125', '6.8519897460938', '-688.5', '3.75', '6.8519897460938', '-688.5', '3.8670043945312', '6.968994140625', '-688.5', '3.9840087890625', '7.0859985351562', '-688.5', '4.1019897460938', '6.968994140625', '-688.5', '4.218994140625', '6.8519897460938', '-688.5', '4.4530029296875', '6.8519897460938', '-688.5', '4.5700073242188', '6.7340087890625', '-688.5', '4.68798828125', '6.6170043945312', '-688.5', '4.9219970703125', '6.6170043945312', '-688.5', '5.0390014648438', '6.5', '-688.5', '5.156005859375', '6.3829956054688', '-688.5', '5.3909912109375', '6.3829956054688', '-688.5', '5.5079956054688', '6.2659912109375', '-688.5', '5.625', '6.1480102539062', '-688.5', '6.3280029296875', '6.1480102539062', '-688.5', '6.4450073242188', '6.031005859375', '-688.5', '6.56201171875', '5.9140014648438', '-688.5', '7.031005859375', '5.9140014648438', '-688.5', '7.1480102539062', '5.7969970703125', '-688.5', '7.2659912109375', '5.6799926757812', '-688.5', '7.968994140625', '5.6799926757812', '-688.5', '8.0859985351562', '5.56201171875', '-688.5', '8.2030029296875', '5.4450073242188', '-688.5', '8.6719970703125', '5.4450073242188', '-688.5', '8.7890014648438', '5.3280029296875', '-688.5', '8.906005859375', '5.2109985351562', '-688.5', '9.375', '5.2109985351562', '-688.5', '9.4920043945312', '5.093994140625', '-688.5', '9.6090087890625', '4.9769897460938', '-688.5', '9.843994140625', '4.9769897460938', '-688.5', '9.9609985351562', '4.8590087890625', '-688.5', '10.078002929688', '4.7420043945312', '-688.5', '10.31201171875', '4.7420043945312', '-688.5']\n",
       "   ---------\n",
       "   (3006, 0016)  Contour Image Sequence   1 item(s) ---- \n",
       "      (0008, 1150) Referenced SOP Class UID            UI: CT Image Storage\n",
       "      (0008, 1155) Referenced SOP Instance UID         UI: 2.16.840.1.114362.1.6.7.5.17616.11849865775.479250700.380.1407\n",
       "      ---------\n",
       "   (3006, 0042) Contour Geometric Type              CS: 'CLOSED_PLANAR'\n",
       "   (3006, 0046) Number of Contour Points            IS: '302'\n",
       "   (3006, 0050) Contour Data                        DS: ['-14.648010253906', '5.56201171875', '-691.5', '-14.531005859375', '5.4450073242188', '-691.5', '-4.4530029296875', '5.4450073242188', '-691.5', '-4.3359985351562', '5.56201171875', '-691.5', '-4.218994140625', '5.6799926757812', '-691.5', '-3.9840087890625', '5.6799926757812', '-691.5', '-3.8670043945312', '5.7969970703125', '-691.5', '-3.75', '5.9140014648438', '-691.5', '-3.281005859375', '5.9140014648438', '-691.5', '-3.1640014648438', '5.7969970703125', '-691.5', '-3.0469970703125', '5.6799926757812', '-691.5', '1.1719970703125', '5.6799926757812', '-691.5', '1.2890014648438', '5.7969970703125', '-691.5', '1.406005859375', '5.9140014648438', '-691.5', '2.81201171875', '5.9140014648438', '-691.5', '2.9299926757812', '6.031005859375', '-691.5', '3.0469970703125', '6.1480102539062', '-691.5', '4.68798828125', '6.1480102539062', '-691.5', '4.8049926757812', '6.2659912109375', '-691.5', '4.8049926757812', '6.5', '-691.5', '4.9219970703125', '6.6170043945312', '-691.5', '5.0390014648438', '6.7340087890625', '-691.5', '5.0390014648438', '6.968994140625', '-691.5', '5.156005859375', '7.0859985351562', '-691.5', '5.2730102539062', '7.2030029296875', '-691.5', '5.2730102539062', '10.484008789062', '-691.5', '5.3909912109375', '10.602020263672', '-691.5', '5.5079956054688', '10.718994140625', '-691.5', '5.5079956054688', '12.359008789062', '-691.5', '5.625', '12.477020263672', '-691.5', '5.7420043945312', '12.593994140625', '-691.5', '5.7420043945312', '15.641021728516', '-691.5', '5.8590087890625', '15.757995605469', '-691.5', '5.9769897460938', '15.875', '-691.5', '5.9769897460938', '18.68798828125', '-691.5', '5.8590087890625', '18.805023193359', '-691.5', '5.7420043945312', '18.922027587891', '-691.5', '5.7420043945312', '19.156005859375', '-691.5', '5.625', '19.273010253906', '-691.5', '5.5079956054688', '19.391021728516', '-691.5', '5.3909912109375', '19.507995605469', '-691.5', '5.2730102539062', '19.625', '-691.5', '5.156005859375', '19.742004394531', '-691.5', '5.0390014648438', '19.859008789062', '-691.5', '4.9219970703125', '19.977020263672', '-691.5', '4.8049926757812', '20.093994140625', '-691.5', '4.68798828125', '20.210998535156', '-691.5', '4.4530029296875', '20.210998535156', '-691.5', '4.3359985351562', '20.328002929688', '-691.5', '4.218994140625', '20.445007324219', '-691.5', '3.75', '20.445007324219', '-691.5', '3.6329956054688', '20.56201171875', '-691.5', '3.5159912109375', '20.680023193359', '-691.5', '2.81201171875', '20.680023193359', '-691.5', '2.6950073242188', '20.56201171875', '-691.5', '2.5780029296875', '20.445007324219', '-691.5', '1.875', '20.445007324219', '-691.5', '1.7579956054688', '20.328002929688', '-691.5', '1.6409912109375', '20.210998535156', '-691.5', '1.5230102539062', '20.093994140625', '-691.5', '1.406005859375', '19.977020263672', '-691.5', '1.1719970703125', '19.977020263672', '-691.5', '1.0549926757812', '19.859008789062', '-691.5', '0.93798828125', '19.742004394531', '-691.5', '0.468994140625', '19.742004394531', '-691.5', '0.35198974609375', '19.859008789062', '-691.5', '0.2340087890625', '19.977020263672', '-691.5', '-0.7030029296875', '19.977020263672', '-691.5', '-0.8200073242188', '20.093994140625', '-691.5', '-0.93798828125', '20.210998535156', '-691.5', '-1.875', '20.210998535156', '-691.5', '-1.9920043945312', '20.328002929688', '-691.5', '-2.1090087890625', '20.445007324219', '-691.5', '-2.81201171875', '20.445007324219', '-691.5', '-2.9299926757812', '20.56201171875', '-691.5', '-3.0469970703125', '20.680023193359', '-691.5', '-3.281005859375', '20.680023193359', '-691.5', '-3.3980102539062', '20.797027587891', '-691.5', '-3.5159912109375', '20.914001464844', '-691.5', '-3.9840087890625', '20.914001464844', '-691.5', '-4.1019897460938', '21.031005859375', '-691.5', '-4.218994140625', '21.148010253906', '-691.5', '-4.4530029296875', '21.148010253906', '-691.5', '-4.5700073242188', '21.266021728516', '-691.5', '-4.68798828125', '21.382995605469', '-691.5', '-4.9219970703125', '21.382995605469', '-691.5', '-5.0390014648438', '21.5', '-691.5', '-5.156005859375', '21.617004394531', '-691.5', '-5.3909912109375', '21.617004394531', '-691.5', '-5.5079956054688', '21.734008789062', '-691.5', '-5.625', '21.852020263672', '-691.5', '-5.7420043945312', '21.968994140625', '-691.5', '-5.8590087890625', '22.085998535156', '-691.5', '-6.093994140625', '22.085998535156', '-691.5', '-6.2109985351562', '22.203002929688', '-691.5', '-6.3280029296875', '22.320007324219', '-691.5', '-6.4450073242188', '22.43798828125', '-691.5', '-6.56201171875', '22.555023193359', '-691.5', '-6.7969970703125', '22.555023193359', '-691.5', '-6.9140014648438', '22.672027587891', '-691.5', '-7.031005859375', '22.789001464844', '-691.5', '-7.2659912109375', '22.789001464844', '-691.5', '-7.3829956054688', '22.906005859375', '-691.5', '-7.5', '23.023010253906', '-691.5', '-7.7340087890625', '23.023010253906', '-691.5', '-7.8519897460938', '23.141021728516', '-691.5', '-7.968994140625', '23.257995605469', '-691.5', '-8.0859985351562', '23.375', '-691.5', '-8.0859985351562', '25.484008789062', '-691.5', '-8.2030029296875', '25.602020263672', '-691.5', '-8.3200073242188', '25.718994140625', '-691.5', '-8.3200073242188', '25.953002929688', '-691.5', '-8.43798828125', '26.070007324219', '-691.5', '-8.5549926757812', '26.18798828125', '-691.5', '-8.5549926757812', '26.422027587891', '-691.5', '-8.6719970703125', '26.539001464844', '-691.5', '-8.7890014648438', '26.656005859375', '-691.5', '-8.906005859375', '26.773010253906', '-691.5', '-9.0230102539062', '26.891021728516', '-691.5', '-9.1409912109375', '27.007995605469', '-691.5', '-9.2579956054688', '27.125', '-691.5', '-9.375', '27.242004394531', '-691.5', '-9.4920043945312', '27.359008789062', '-691.5', '-9.6090087890625', '27.477020263672', '-691.5', '-9.843994140625', '27.477020263672', '-691.5', '-9.9609985351562', '27.593994140625', '-691.5', '-10.078002929688', '27.710998535156', '-691.5', '-10.546997070312', '27.710998535156', '-691.5', '-10.664001464844', '27.828002929688', '-691.5', '-10.781005859375', '27.945007324219', '-691.5', '-11.953002929688', '27.945007324219', '-691.5', '-12.070007324219', '27.828002929688', '-691.5', '-12.18798828125', '27.710998535156', '-691.5', '-12.656005859375', '27.710998535156', '-691.5', '-12.773010253906', '27.593994140625', '-691.5', '-12.890991210938', '27.477020263672', '-691.5', '-13.125', '27.477020263672', '-691.5', '-13.242004394531', '27.359008789062', '-691.5', '-13.359008789062', '27.242004394531', '-691.5', '-13.476989746094', '27.125', '-691.5', '-13.593994140625', '27.007995605469', '-691.5', '-14.06201171875', '27.007995605469', '-691.5', '-14.179992675781', '26.891021728516', '-691.5', '-14.296997070312', '26.773010253906', '-691.5', '-14.765991210938', '26.773010253906', '-691.5', '-14.882995605469', '26.656005859375', '-691.5', '-15', '26.539001464844', '-691.5', '-15.468994140625', '26.539001464844', '-691.5', '-15.585998535156', '26.422027587891', '-691.5', '-15.703002929688', '26.305023193359', '-691.5', '-16.171997070312', '26.305023193359', '-691.5', '-16.289001464844', '26.18798828125', '-691.5', '-16.406005859375', '26.070007324219', '-691.5', '-16.875', '26.070007324219', '-691.5', '-16.992004394531', '25.953002929688', '-691.5', '-17.109008789062', '25.835998535156', '-691.5', '-17.81201171875', '25.835998535156', '-691.5', '-17.929992675781', '25.718994140625', '-691.5', '-18.046997070312', '25.602020263672', '-691.5', '-19.453002929688', '25.602020263672', '-691.5', '-19.570007324219', '25.484008789062', '-691.5', '-19.68798828125', '25.367004394531', '-691.5', '-20.390991210938', '25.367004394531', '-691.5', '-20.507995605469', '25.25', '-691.5', '-20.625', '25.132995605469', '-691.5', '-20.742004394531', '25.016021728516', '-691.5', '-20.859008789062', '24.898010253906', '-691.5', '-20.976989746094', '24.781005859375', '-691.5', '-21.093994140625', '24.664001464844', '-691.5', '-21.210998535156', '24.547027587891', '-691.5', '-21.328002929688', '24.430023193359', '-691.5', '-21.445007324219', '24.31201171875', '-691.5', '-21.56201171875', '24.195007324219', '-691.5', '-21.796997070312', '24.195007324219', '-691.5', '-21.914001464844', '24.078002929688', '-691.5', '-22.031005859375', '23.960998535156', '-691.5', '-22.148010253906', '23.843994140625', '-691.5', '-22.265991210938', '23.727020263672', '-691.5', '-22.382995605469', '23.609008789062', '-691.5', '-22.5', '23.492004394531', '-691.5', '-22.617004394531', '23.375', '-691.5', '-22.734008789062', '23.257995605469', '-691.5', '-22.851989746094', '23.141021728516', '-691.5', '-22.968994140625', '23.023010253906', '-691.5', '-23.203002929688', '23.023010253906', '-691.5', '-23.320007324219', '22.906005859375', '-691.5', '-23.43798828125', '22.789001464844', '-691.5', '-23.554992675781', '22.672027587891', '-691.5', '-23.671997070312', '22.555023193359', '-691.5', '-23.789001464844', '22.43798828125', '-691.5', '-23.906005859375', '22.320007324219', '-691.5', '-24.023010253906', '22.203002929688', '-691.5', '-24.023010253906', '21.968994140625', '-691.5', '-24.140991210938', '21.852020263672', '-691.5', '-24.257995605469', '21.734008789062', '-691.5', '-24.375', '21.617004394531', '-691.5', '-24.492004394531', '21.5', '-691.5', '-24.609008789062', '21.382995605469', '-691.5', '-24.726989746094', '21.266021728516', '-691.5', '-24.843994140625', '21.148010253906', '-691.5', '-24.960998535156', '21.031005859375', '-691.5', '-25.078002929688', '20.914001464844', '-691.5', '-25.195007324219', '20.797027587891', '-691.5', '-25.31201171875', '20.680023193359', '-691.5', '-25.429992675781', '20.56201171875', '-691.5', '-25.546997070312', '20.445007324219', '-691.5', '-25.664001464844', '20.328002929688', '-691.5', '-25.781005859375', '20.210998535156', '-691.5', '-25.898010253906', '20.093994140625', '-691.5', '-25.898010253906', '19.859008789062', '-691.5', '-26.015991210938', '19.742004394531', '-691.5', '-26.132995605469', '19.625', '-691.5', '-26.132995605469', '19.391021728516', '-691.5', '-26.25', '19.273010253906', '-691.5', '-26.367004394531', '19.156005859375', '-691.5', '-26.367004394531', '18.922027587891', '-691.5', '-26.484008789062', '18.805023193359', '-691.5', '-26.601989746094', '18.68798828125', '-691.5', '-26.601989746094', '18.218994140625', '-691.5', '-26.718994140625', '18.102020263672', '-691.5', '-26.835998535156', '17.984008789062', '-691.5', '-26.835998535156', '14.468994140625', '-691.5', '-26.718994140625', '14.352020263672', '-691.5', '-26.601989746094', '14.234008789062', '-691.5', '-26.601989746094', '13.766021728516', '-691.5', '-26.484008789062', '13.648010253906', '-691.5', '-26.367004394531', '13.531005859375', '-691.5', '-26.367004394531', '13.06201171875', '-691.5', '-26.25', '12.945007324219', '-691.5', '-26.132995605469', '12.828002929688', '-691.5', '-26.015991210938', '12.710998535156', '-691.5', '-25.898010253906', '12.593994140625', '-691.5', '-25.781005859375', '12.477020263672', '-691.5', '-25.664001464844', '12.359008789062', '-691.5', '-25.546997070312', '12.242004394531', '-691.5', '-25.429992675781', '12.125', '-691.5', '-25.31201171875', '12.007995605469', '-691.5', '-25.195007324219', '11.891021728516', '-691.5', '-25.078002929688', '11.773010253906', '-691.5', '-24.960998535156', '11.656005859375', '-691.5', '-24.843994140625', '11.539001464844', '-691.5', '-24.726989746094', '11.422027587891', '-691.5', '-24.609008789062', '11.305023193359', '-691.5', '-24.492004394531', '11.18798828125', '-691.5', '-24.375', '11.070007324219', '-691.5', '-24.257995605469', '10.953002929688', '-691.5', '-24.140991210938', '10.835998535156', '-691.5', '-24.023010253906', '10.718994140625', '-691.5', '-23.906005859375', '10.602020263672', '-691.5', '-23.789001464844', '10.484008789062', '-691.5', '-23.671997070312', '10.367004394531', '-691.5', '-23.554992675781', '10.25', '-691.5', '-23.43798828125', '10.132995605469', '-691.5', '-23.320007324219', '10.016021728516', '-691.5', '-23.203002929688', '9.8980102539062', '-691.5', '-23.085998535156', '9.781005859375', '-691.5', '-22.968994140625', '9.6640014648438', '-691.5', '-22.734008789062', '9.6640014648438', '-691.5', '-22.617004394531', '9.5469970703125', '-691.5', '-22.5', '9.4299926757812', '-691.5', '-22.382995605469', '9.31201171875', '-691.5', '-22.265991210938', '9.1950073242188', '-691.5', '-22.148010253906', '9.0780029296875', '-691.5', '-22.031005859375', '8.9609985351562', '-691.5', '-21.914001464844', '8.843994140625', '-691.5', '-21.796997070312', '8.7269897460938', '-691.5', '-21.679992675781', '8.6090087890625', '-691.5', '-21.56201171875', '8.4920043945312', '-691.5', '-21.445007324219', '8.375', '-691.5', '-21.328002929688', '8.2579956054688', '-691.5', '-21.210998535156', '8.1409912109375', '-691.5', '-21.093994140625', '8.0230102539062', '-691.5', '-20.859008789062', '8.0230102539062', '-691.5', '-20.742004394531', '7.906005859375', '-691.5', '-20.625', '7.7890014648438', '-691.5', '-20.390991210938', '7.7890014648438', '-691.5', '-20.273010253906', '7.6719970703125', '-691.5', '-20.156005859375', '7.5549926757812', '-691.5', '-19.921997070312', '7.5549926757812', '-691.5', '-19.804992675781', '7.43798828125', '-691.5', '-19.68798828125', '7.3200073242188', '-691.5', '-19.570007324219', '7.2030029296875', '-691.5', '-19.453002929688', '7.0859985351562', '-691.5', '-19.218994140625', '7.0859985351562', '-691.5', '-19.101989746094', '6.968994140625', '-691.5', '-18.984008789062', '6.8519897460938', '-691.5', '-18.75', '6.8519897460938', '-691.5', '-18.632995605469', '6.7340087890625', '-691.5', '-18.515991210938', '6.6170043945312', '-691.5', '-18.281005859375', '6.6170043945312', '-691.5', '-18.164001464844', '6.5', '-691.5', '-18.046997070312', '6.3829956054688', '-691.5', '-17.343994140625', '6.3829956054688', '-691.5', '-17.226989746094', '6.2659912109375', '-691.5', '-17.109008789062', '6.1480102539062', '-691.5', '-16.406005859375', '6.1480102539062', '-691.5', '-16.289001464844', '6.031005859375', '-691.5', '-16.171997070312', '5.9140014648438', '-691.5', '-15.468994140625', '5.9140014648438', '-691.5', '-15.351989746094', '5.7969970703125', '-691.5', '-15.234008789062', '5.6799926757812', '-691.5', '-14.765991210938', '5.6799926757812', '-691.5']\n",
       "   ---------\n",
       "   (3006, 0016)  Contour Image Sequence   1 item(s) ---- \n",
       "      (0008, 1150) Referenced SOP Class UID            UI: CT Image Storage\n",
       "      (0008, 1155) Referenced SOP Instance UID         UI: 2.16.840.1.114362.1.6.7.5.17616.11849865775.479250700.380.1406\n",
       "      ---------\n",
       "   (3006, 0042) Contour Geometric Type              CS: 'CLOSED_PLANAR'\n",
       "   (3006, 0046) Number of Contour Points            IS: '312'\n",
       "   (3006, 0050) Contour Data                        DS: ['-13.007995605469', '3.9219970703125', '-694.5', '-12.890991210938', '3.8049926757812', '-694.5', '-11.25', '3.8049926757812', '-694.5', '-11.132995605469', '3.9219970703125', '-694.5', '-11.015991210938', '4.0390014648438', '-694.5', '-7.2659912109375', '4.0390014648438', '-694.5', '-7.1480102539062', '4.156005859375', '-694.5', '-7.031005859375', '4.2730102539062', '-694.5', '-6.56201171875', '4.2730102539062', '-694.5', '-6.4450073242188', '4.3909912109375', '-694.5', '-6.3280029296875', '4.5079956054688', '-694.5', '-6.093994140625', '4.5079956054688', '-694.5', '-5.9769897460938', '4.625', '-694.5', '-5.8590087890625', '4.7420043945312', '-694.5', '-5.7420043945312', '4.8590087890625', '-694.5', '-5.625', '4.9769897460938', '-694.5', '-5.3909912109375', '4.9769897460938', '-694.5', '-5.2730102539062', '5.093994140625', '-694.5', '-5.156005859375', '5.2109985351562', '-694.5', '-4.9219970703125', '5.2109985351562', '-694.5', '-4.8049926757812', '5.3280029296875', '-694.5', '-4.68798828125', '5.4450073242188', '-694.5', '-4.4530029296875', '5.4450073242188', '-694.5', '-4.3359985351562', '5.56201171875', '-694.5', '-4.218994140625', '5.6799926757812', '-694.5', '-3.9840087890625', '5.6799926757812', '-694.5', '-3.8670043945312', '5.7969970703125', '-694.5', '-3.75', '5.9140014648438', '-694.5', '-3.5159912109375', '5.9140014648438', '-694.5', '-3.3980102539062', '6.031005859375', '-694.5', '-3.281005859375', '6.1480102539062', '-694.5', '-3.0469970703125', '6.1480102539062', '-694.5', '-2.9299926757812', '6.2659912109375', '-694.5', '-2.81201171875', '6.3829956054688', '-694.5', '-2.5780029296875', '6.3829956054688', '-694.5', '-2.4609985351562', '6.5', '-694.5', '-2.343994140625', '6.6170043945312', '-694.5', '-2.2269897460938', '6.7340087890625', '-694.5', '-2.1090087890625', '6.8519897460938', '-694.5', '-1.9920043945312', '6.968994140625', '-694.5', '-1.875', '7.0859985351562', '-694.5', '-1.7579956054688', '7.2030029296875', '-694.5', '-1.6409912109375', '7.3200073242188', '-694.5', '-1.5230102539062', '7.43798828125', '-694.5', '-1.5230102539062', '7.6719970703125', '-694.5', '-1.406005859375', '7.7890014648438', '-694.5', '-1.2890014648438', '7.906005859375', '-694.5', '-1.2890014648438', '8.1409912109375', '-694.5', '-1.1719970703125', '8.2579956054688', '-694.5', '-1.0549926757812', '8.375', '-694.5', '-1.0549926757812', '8.6090087890625', '-694.5', '-0.93798828125', '8.7269897460938', '-694.5', '-0.8200073242188', '8.843994140625', '-694.5', '-0.8200073242188', '11.18798828125', '-694.5', '-0.93798828125', '11.305023193359', '-694.5', '-1.0549926757812', '11.422027587891', '-694.5', '-1.0549926757812', '11.656005859375', '-694.5', '-1.1719970703125', '11.773010253906', '-694.5', '-1.2890014648438', '11.891021728516', '-694.5', '-1.2890014648438', '12.125', '-694.5', '-1.406005859375', '12.242004394531', '-694.5', '-1.5230102539062', '12.359008789062', '-694.5', '-1.6409912109375', '12.477020263672', '-694.5', '-1.7579956054688', '12.593994140625', '-694.5', '-1.875', '12.710998535156', '-694.5', '-1.9920043945312', '12.828002929688', '-694.5', '-2.1090087890625', '12.945007324219', '-694.5', '-2.2269897460938', '13.06201171875', '-694.5', '-2.343994140625', '13.180023193359', '-694.5', '-2.4609985351562', '13.297027587891', '-694.5', '-2.5780029296875', '13.414001464844', '-694.5', '-2.81201171875', '13.414001464844', '-694.5', '-2.9299926757812', '13.531005859375', '-694.5', '-3.0469970703125', '13.648010253906', '-694.5', '-3.281005859375', '13.648010253906', '-694.5', '-3.3980102539062', '13.766021728516', '-694.5', '-3.5159912109375', '13.882995605469', '-694.5', '-4.4530029296875', '13.882995605469', '-694.5', '-4.5700073242188', '14', '-694.5', '-4.5700073242188', '14.468994140625', '-694.5', '-4.4530029296875', '14.585998535156', '-694.5', '-4.3359985351562', '14.703002929688', '-694.5', '-4.3359985351562', '14.93798828125', '-694.5', '-4.218994140625', '15.055023193359', '-694.5', '-4.1019897460938', '15.172027587891', '-694.5', '-4.1019897460938', '17.984008789062', '-694.5', '-4.218994140625', '18.102020263672', '-694.5', '-4.3359985351562', '18.218994140625', '-694.5', '-4.3359985351562', '18.68798828125', '-694.5', '-4.4530029296875', '18.805023193359', '-694.5', '-4.5700073242188', '18.922027587891', '-694.5', '-4.5700073242188', '19.156005859375', '-694.5', '-4.68798828125', '19.273010253906', '-694.5', '-4.8049926757812', '19.391021728516', '-694.5', '-4.9219970703125', '19.507995605469', '-694.5', '-5.0390014648438', '19.625', '-694.5', '-5.156005859375', '19.742004394531', '-694.5', '-5.2730102539062', '19.859008789062', '-694.5', '-5.2730102539062', '20.093994140625', '-694.5', '-5.3909912109375', '20.210998535156', '-694.5', '-5.5079956054688', '20.328002929688', '-694.5', '-5.625', '20.445007324219', '-694.5', '-5.8590087890625', '20.445007324219', '-694.5', '-5.9769897460938', '20.56201171875', '-694.5', '-6.093994140625', '20.680023193359', '-694.5', '-6.2109985351562', '20.797027587891', '-694.5', '-6.3280029296875', '20.914001464844', '-694.5', '-6.4450073242188', '21.031005859375', '-694.5', '-6.4450073242188', '21.266021728516', '-694.5', '-6.56201171875', '21.382995605469', '-694.5', '-6.6799926757812', '21.5', '-694.5', '-6.7969970703125', '21.617004394531', '-694.5', '-6.9140014648438', '21.734008789062', '-694.5', '-7.031005859375', '21.852020263672', '-694.5', '-7.1480102539062', '21.968994140625', '-694.5', '-7.1480102539062', '22.672027587891', '-694.5', '-7.2659912109375', '22.789001464844', '-694.5', '-7.3829956054688', '22.906005859375', '-694.5', '-7.3829956054688', '24.31201171875', '-694.5', '-7.5', '24.430023193359', '-694.5', '-7.6170043945312', '24.547027587891', '-694.5', '-7.6170043945312', '24.781005859375', '-694.5', '-7.7340087890625', '24.898010253906', '-694.5', '-7.8519897460938', '25.016021728516', '-694.5', '-7.8519897460938', '25.25', '-694.5', '-7.968994140625', '25.367004394531', '-694.5', '-8.0859985351562', '25.484008789062', '-694.5', '-8.2030029296875', '25.602020263672', '-694.5', '-8.3200073242188', '25.718994140625', '-694.5', '-8.43798828125', '25.835998535156', '-694.5', '-8.5549926757812', '25.953002929688', '-694.5', '-8.6719970703125', '26.070007324219', '-694.5', '-8.7890014648438', '26.18798828125', '-694.5', '-8.906005859375', '26.305023193359', '-694.5', '-9.1409912109375', '26.305023193359', '-694.5', '-9.2579956054688', '26.422027587891', '-694.5', '-9.375', '26.539001464844', '-694.5', '-9.843994140625', '26.539001464844', '-694.5', '-9.9609985351562', '26.656005859375', '-694.5', '-10.078002929688', '26.773010253906', '-694.5', '-12.421997070312', '26.773010253906', '-694.5', '-12.539001464844', '26.656005859375', '-694.5', '-12.656005859375', '26.539001464844', '-694.5', '-12.890991210938', '26.539001464844', '-694.5', '-13.007995605469', '26.422027587891', '-694.5', '-13.125', '26.305023193359', '-694.5', '-13.359008789062', '26.305023193359', '-694.5', '-13.476989746094', '26.18798828125', '-694.5', '-13.593994140625', '26.070007324219', '-694.5', '-13.828002929688', '26.070007324219', '-694.5', '-13.945007324219', '25.953002929688', '-694.5', '-14.06201171875', '25.835998535156', '-694.5', '-14.296997070312', '25.835998535156', '-694.5', '-14.414001464844', '25.718994140625', '-694.5', '-14.531005859375', '25.602020263672', '-694.5', '-14.765991210938', '25.602020263672', '-694.5', '-14.882995605469', '25.484008789062', '-694.5', '-15', '25.367004394531', '-694.5', '-15.468994140625', '25.367004394531', '-694.5', '-15.585998535156', '25.25', '-694.5', '-15.703002929688', '25.132995605469', '-694.5', '-16.171997070312', '25.132995605469', '-694.5', '-16.289001464844', '25.016021728516', '-694.5', '-16.406005859375', '24.898010253906', '-694.5', '-16.875', '24.898010253906', '-694.5', '-16.992004394531', '24.781005859375', '-694.5', '-17.109008789062', '24.664001464844', '-694.5', '-17.343994140625', '24.664001464844', '-694.5', '-17.460998535156', '24.547027587891', '-694.5', '-17.578002929688', '24.430023193359', '-694.5', '-18.281005859375', '24.430023193359', '-694.5', '-18.398010253906', '24.31201171875', '-694.5', '-18.515991210938', '24.195007324219', '-694.5', '-18.984008789062', '24.195007324219', '-694.5', '-19.101989746094', '24.078002929688', '-694.5', '-19.218994140625', '23.960998535156', '-694.5', '-19.921997070312', '23.960998535156', '-694.5', '-20.039001464844', '23.843994140625', '-694.5', '-20.156005859375', '23.727020263672', '-694.5', '-20.625', '23.727020263672', '-694.5', '-20.742004394531', '23.609008789062', '-694.5', '-20.859008789062', '23.492004394531', '-694.5', '-21.093994140625', '23.492004394531', '-694.5', '-21.210998535156', '23.375', '-694.5', '-21.328002929688', '23.257995605469', '-694.5', '-21.56201171875', '23.257995605469', '-694.5', '-21.679992675781', '23.141021728516', '-694.5', '-21.796997070312', '23.023010253906', '-694.5', '-22.031005859375', '23.023010253906', '-694.5', '-22.148010253906', '22.906005859375', '-694.5', '-22.265991210938', '22.789001464844', '-694.5', '-22.382995605469', '22.672027587891', '-694.5', '-22.5', '22.555023193359', '-694.5', '-22.617004394531', '22.43798828125', '-694.5', '-22.734008789062', '22.320007324219', '-694.5', '-22.968994140625', '22.320007324219', '-694.5', '-23.085998535156', '22.203002929688', '-694.5', '-23.203002929688', '22.085998535156', '-694.5', '-23.43798828125', '22.085998535156', '-694.5', '-23.554992675781', '21.968994140625', '-694.5', '-23.671997070312', '21.852020263672', '-694.5', '-23.789001464844', '21.734008789062', '-694.5', '-23.906005859375', '21.617004394531', '-694.5', '-24.140991210938', '21.617004394531', '-694.5', '-24.257995605469', '21.5', '-694.5', '-24.375', '21.382995605469', '-694.5', '-24.492004394531', '21.266021728516', '-694.5', '-24.609008789062', '21.148010253906', '-694.5', '-24.726989746094', '21.031005859375', '-694.5', '-24.843994140625', '20.914001464844', '-694.5', '-24.960998535156', '20.797027587891', '-694.5', '-24.960998535156', '20.56201171875', '-694.5', '-25.078002929688', '20.445007324219', '-694.5', '-25.195007324219', '20.328002929688', '-694.5', '-25.31201171875', '20.210998535156', '-694.5', '-25.429992675781', '20.093994140625', '-694.5', '-25.429992675781', '19.859008789062', '-694.5', '-25.546997070312', '19.742004394531', '-694.5', '-25.664001464844', '19.625', '-694.5', '-25.664001464844', '19.391021728516', '-694.5', '-25.781005859375', '19.273010253906', '-694.5', '-25.898010253906', '19.156005859375', '-694.5', '-25.898010253906', '18.68798828125', '-694.5', '-26.015991210938', '18.570007324219', '-694.5', '-26.132995605469', '18.453002929688', '-694.5', '-26.132995605469', '17.281005859375', '-694.5', '-26.25', '17.164001464844', '-694.5', '-26.367004394531', '17.047027587891', '-694.5', '-26.367004394531', '15.406005859375', '-694.5', '-26.484008789062', '15.289001464844', '-694.5', '-26.601989746094', '15.172027587891', '-694.5', '-26.601989746094', '12.828002929688', '-694.5', '-26.484008789062', '12.710998535156', '-694.5', '-26.367004394531', '12.593994140625', '-694.5', '-26.367004394531', '12.125', '-694.5', '-26.25', '12.007995605469', '-694.5', '-26.132995605469', '11.891021728516', '-694.5', '-26.132995605469', '11.656005859375', '-694.5', '-26.015991210938', '11.539001464844', '-694.5', '-25.898010253906', '11.422027587891', '-694.5', '-25.898010253906', '11.18798828125', '-694.5', '-25.781005859375', '11.070007324219', '-694.5', '-25.664001464844', '10.953002929688', '-694.5', '-25.664001464844', '10.718994140625', '-694.5', '-25.546997070312', '10.602020263672', '-694.5', '-25.429992675781', '10.484008789062', '-694.5', '-25.31201171875', '10.367004394531', '-694.5', '-25.195007324219', '10.25', '-694.5', '-25.078002929688', '10.132995605469', '-694.5', '-24.960998535156', '10.016021728516', '-694.5', '-24.843994140625', '9.8980102539062', '-694.5', '-24.726989746094', '9.781005859375', '-694.5', '-24.726989746094', '9.5469970703125', '-694.5', '-24.609008789062', '9.4299926757812', '-694.5', '-24.492004394531', '9.31201171875', '-694.5', '-24.492004394531', '9.0780029296875', '-694.5', '-24.375', '8.9609985351562', '-694.5', '-24.257995605469', '8.843994140625', '-694.5', '-24.257995605469', '8.6090087890625', '-694.5', '-24.140991210938', '8.4920043945312', '-694.5', '-24.023010253906', '8.375', '-694.5', '-23.906005859375', '8.2579956054688', '-694.5', '-23.789001464844', '8.1409912109375', '-694.5', '-23.671997070312', '8.0230102539062', '-694.5', '-23.554992675781', '7.906005859375', '-694.5', '-23.43798828125', '7.7890014648438', '-694.5', '-23.320007324219', '7.6719970703125', '-694.5', '-23.203002929688', '7.5549926757812', '-694.5', '-23.085998535156', '7.43798828125', '-694.5', '-22.968994140625', '7.3200073242188', '-694.5', '-22.734008789062', '7.3200073242188', '-694.5', '-22.617004394531', '7.2030029296875', '-694.5', '-22.5', '7.0859985351562', '-694.5', '-22.265991210938', '7.0859985351562', '-694.5', '-22.148010253906', '6.968994140625', '-694.5', '-22.031005859375', '6.8519897460938', '-694.5', '-21.796997070312', '6.8519897460938', '-694.5', '-21.679992675781', '6.7340087890625', '-694.5', '-21.56201171875', '6.6170043945312', '-694.5', '-21.445007324219', '6.5', '-694.5', '-21.328002929688', '6.3829956054688', '-694.5', '-21.093994140625', '6.3829956054688', '-694.5', '-20.976989746094', '6.2659912109375', '-694.5', '-20.859008789062', '6.1480102539062', '-694.5', '-20.625', '6.1480102539062', '-694.5', '-20.507995605469', '6.031005859375', '-694.5', '-20.390991210938', '5.9140014648438', '-694.5', '-19.921997070312', '5.9140014648438', '-694.5', '-19.804992675781', '5.7969970703125', '-694.5', '-19.68798828125', '5.6799926757812', '-694.5', '-18.984008789062', '5.6799926757812', '-694.5', '-18.867004394531', '5.56201171875', '-694.5', '-18.75', '5.4450073242188', '-694.5', '-18.281005859375', '5.4450073242188', '-694.5', '-18.164001464844', '5.3280029296875', '-694.5', '-18.046997070312', '5.2109985351562', '-694.5', '-17.109008789062', '5.2109985351562', '-694.5', '-16.992004394531', '5.093994140625', '-694.5', '-16.875', '4.9769897460938', '-694.5', '-16.171997070312', '4.9769897460938', '-694.5', '-16.054992675781', '4.8590087890625', '-694.5', '-15.93798828125', '4.7420043945312', '-694.5', '-15.703002929688', '4.7420043945312', '-694.5', '-15.585998535156', '4.625', '-694.5', '-15.468994140625', '4.5079956054688', '-694.5', '-14.531005859375', '4.5079956054688', '-694.5', '-14.414001464844', '4.3909912109375', '-694.5', '-14.296997070312', '4.2730102539062', '-694.5', '-14.06201171875', '4.2730102539062', '-694.5', '-13.945007324219', '4.156005859375', '-694.5', '-13.828002929688', '4.0390014648438', '-694.5', '-13.125', '4.0390014648438', '-694.5']\n",
       "   ---------\n",
       "   (3006, 0016)  Contour Image Sequence   1 item(s) ---- \n",
       "      (0008, 1150) Referenced SOP Class UID            UI: CT Image Storage\n",
       "      (0008, 1155) Referenced SOP Instance UID         UI: 2.16.840.1.114362.1.6.7.5.17616.11849865775.479250700.380.1405\n",
       "      ---------\n",
       "   (3006, 0042) Contour Geometric Type              CS: 'CLOSED_PLANAR'\n",
       "   (3006, 0046) Number of Contour Points            IS: '288'\n",
       "   (3006, 0050) Contour Data                        DS: ['-11.367004394531', '1.5780029296875', '-697.5', '-11.25', '1.4609985351562', '-697.5', '-7.031005859375', '1.4609985351562', '-697.5', '-6.9140014648438', '1.5780029296875', '-697.5', '-6.7969970703125', '1.6950073242188', '-697.5', '-6.56201171875', '1.6950073242188', '-697.5', '-6.4450073242188', '1.81201171875', '-697.5', '-6.3280029296875', '1.9299926757812', '-697.5', '-6.093994140625', '1.9299926757812', '-697.5', '-5.9769897460938', '2.0469970703125', '-697.5', '-5.8590087890625', '2.1640014648438', '-697.5', '-5.625', '2.1640014648438', '-697.5', '-5.5079956054688', '2.281005859375', '-697.5', '-5.3909912109375', '2.3980102539062', '-697.5', '-5.2730102539062', '2.5159912109375', '-697.5', '-5.156005859375', '2.6329956054688', '-697.5', '-5.0390014648438', '2.75', '-697.5', '-4.9219970703125', '2.8670043945312', '-697.5', '-4.8049926757812', '2.9840087890625', '-697.5', '-4.68798828125', '3.1019897460938', '-697.5', '-4.5700073242188', '3.218994140625', '-697.5', '-4.5700073242188', '3.4530029296875', '-697.5', '-4.4530029296875', '3.5700073242188', '-697.5', '-4.3359985351562', '3.68798828125', '-697.5', '-4.3359985351562', '3.9219970703125', '-697.5', '-4.218994140625', '4.0390014648438', '-697.5', '-4.1019897460938', '4.156005859375', '-697.5', '-4.1019897460938', '4.625', '-697.5', '-3.9840087890625', '4.7420043945312', '-697.5', '-3.8670043945312', '4.8590087890625', '-697.5', '-3.8670043945312', '6.968994140625', '-697.5', '-3.75', '7.0859985351562', '-697.5', '-3.6329956054688', '7.2030029296875', '-697.5', '-3.5159912109375', '7.3200073242188', '-697.5', '-3.3980102539062', '7.43798828125', '-697.5', '-3.3980102539062', '7.6719970703125', '-697.5', '-3.281005859375', '7.7890014648438', '-697.5', '-3.1640014648438', '7.906005859375', '-697.5', '-3.1640014648438', '10.25', '-697.5', '-3.281005859375', '10.367004394531', '-697.5', '-3.3980102539062', '10.484008789062', '-697.5', '-3.3980102539062', '10.718994140625', '-697.5', '-3.5159912109375', '10.835998535156', '-697.5', '-3.6329956054688', '10.953002929688', '-697.5', '-3.75', '11.070007324219', '-697.5', '-3.8670043945312', '11.18798828125', '-697.5', '-3.8670043945312', '11.422027587891', '-697.5', '-3.9840087890625', '11.539001464844', '-697.5', '-4.1019897460938', '11.656005859375', '-697.5', '-4.218994140625', '11.773010253906', '-697.5', '-4.4530029296875', '11.773010253906', '-697.5', '-4.5700073242188', '11.891021728516', '-697.5', '-4.68798828125', '12.007995605469', '-697.5', '-4.8049926757812', '12.125', '-697.5', '-4.9219970703125', '12.242004394531', '-697.5', '-5.156005859375', '12.242004394531', '-697.5', '-5.2730102539062', '12.359008789062', '-697.5', '-5.3909912109375', '12.477020263672', '-697.5', '-5.5079956054688', '12.593994140625', '-697.5', '-5.625', '12.710998535156', '-697.5', '-5.7420043945312', '12.828002929688', '-697.5', '-5.8590087890625', '12.945007324219', '-697.5', '-5.9769897460938', '13.06201171875', '-697.5', '-5.9769897460938', '15.641021728516', '-697.5', '-5.8590087890625', '15.757995605469', '-697.5', '-5.7420043945312', '15.875', '-697.5', '-5.7420043945312', '17.516021728516', '-697.5', '-5.8590087890625', '17.632995605469', '-697.5', '-5.9769897460938', '17.75', '-697.5', '-5.9769897460938', '18.218994140625', '-697.5', '-6.093994140625', '18.335998535156', '-697.5', '-6.2109985351562', '18.453002929688', '-697.5', '-6.2109985351562', '18.68798828125', '-697.5', '-6.3280029296875', '18.805023193359', '-697.5', '-6.4450073242188', '18.922027587891', '-697.5', '-6.4450073242188', '19.156005859375', '-697.5', '-6.56201171875', '19.273010253906', '-697.5', '-6.6799926757812', '19.391021728516', '-697.5', '-6.7969970703125', '19.507995605469', '-697.5', '-6.9140014648438', '19.625', '-697.5', '-6.9140014648438', '23.375', '-697.5', '-7.031005859375', '23.492004394531', '-697.5', '-7.1480102539062', '23.609008789062', '-697.5', '-7.1480102539062', '24.078002929688', '-697.5', '-7.2659912109375', '24.195007324219', '-697.5', '-7.3829956054688', '24.31201171875', '-697.5', '-7.5', '24.430023193359', '-697.5', '-7.6170043945312', '24.547027587891', '-697.5', '-7.7340087890625', '24.664001464844', '-697.5', '-7.8519897460938', '24.781005859375', '-697.5', '-7.968994140625', '24.898010253906', '-697.5', '-8.0859985351562', '25.016021728516', '-697.5', '-8.2030029296875', '25.132995605469', '-697.5', '-8.3200073242188', '25.25', '-697.5', '-8.43798828125', '25.367004394531', '-697.5', '-8.5549926757812', '25.484008789062', '-697.5', '-8.6719970703125', '25.602020263672', '-697.5', '-8.906005859375', '25.602020263672', '-697.5', '-9.0230102539062', '25.718994140625', '-697.5', '-9.1409912109375', '25.835998535156', '-697.5', '-9.843994140625', '25.835998535156', '-697.5', '-9.9609985351562', '25.953002929688', '-697.5', '-10.078002929688', '26.070007324219', '-697.5', '-10.781005859375', '26.070007324219', '-697.5', '-10.898010253906', '25.953002929688', '-697.5', '-11.015991210938', '25.835998535156', '-697.5', '-11.132995605469', '25.718994140625', '-697.5', '-11.25', '25.602020263672', '-697.5', '-11.367004394531', '25.484008789062', '-697.5', '-11.484008789062', '25.367004394531', '-697.5', '-11.718994140625', '25.367004394531', '-697.5', '-11.835998535156', '25.25', '-697.5', '-11.953002929688', '25.132995605469', '-697.5', '-12.070007324219', '25.016021728516', '-697.5', '-12.18798828125', '24.898010253906', '-697.5', '-12.421997070312', '24.898010253906', '-697.5', '-12.539001464844', '24.781005859375', '-697.5', '-12.656005859375', '24.664001464844', '-697.5', '-13.359008789062', '24.664001464844', '-697.5', '-13.476989746094', '24.547027587891', '-697.5', '-13.593994140625', '24.430023193359', '-697.5', '-14.06201171875', '24.430023193359', '-697.5', '-14.179992675781', '24.31201171875', '-697.5', '-14.296997070312', '24.195007324219', '-697.5', '-14.531005859375', '24.195007324219', '-697.5', '-14.648010253906', '24.078002929688', '-697.5', '-14.765991210938', '23.960998535156', '-697.5', '-15', '23.960998535156', '-697.5', '-15.117004394531', '23.843994140625', '-697.5', '-15.234008789062', '23.727020263672', '-697.5', '-15.351989746094', '23.609008789062', '-697.5', '-15.468994140625', '23.492004394531', '-697.5', '-15.93798828125', '23.492004394531', '-697.5', '-16.054992675781', '23.375', '-697.5', '-16.171997070312', '23.257995605469', '-697.5', '-16.289001464844', '23.141021728516', '-697.5', '-16.406005859375', '23.023010253906', '-697.5', '-16.875', '23.023010253906', '-697.5', '-16.992004394531', '22.906005859375', '-697.5', '-17.109008789062', '22.789001464844', '-697.5', '-21.328002929688', '22.789001464844', '-697.5', '-21.445007324219', '22.672027587891', '-697.5', '-21.56201171875', '22.555023193359', '-697.5', '-21.796997070312', '22.555023193359', '-697.5', '-21.914001464844', '22.43798828125', '-697.5', '-22.031005859375', '22.320007324219', '-697.5', '-22.265991210938', '22.320007324219', '-697.5', '-22.382995605469', '22.203002929688', '-697.5', '-22.5', '22.085998535156', '-697.5', '-22.617004394531', '21.968994140625', '-697.5', '-22.734008789062', '21.852020263672', '-697.5', '-22.968994140625', '21.852020263672', '-697.5', '-23.085998535156', '21.734008789062', '-697.5', '-23.203002929688', '21.617004394531', '-697.5', '-23.320007324219', '21.5', '-697.5', '-23.43798828125', '21.382995605469', '-697.5', '-23.671997070312', '21.382995605469', '-697.5', '-23.789001464844', '21.266021728516', '-697.5', '-23.906005859375', '21.148010253906', '-697.5', '-24.023010253906', '21.031005859375', '-697.5', '-24.140991210938', '20.914001464844', '-697.5', '-24.257995605469', '20.797027587891', '-697.5', '-24.375', '20.680023193359', '-697.5', '-24.492004394531', '20.56201171875', '-697.5', '-24.492004394531', '20.328002929688', '-697.5', '-24.609008789062', '20.210998535156', '-697.5', '-24.726989746094', '20.093994140625', '-697.5', '-24.843994140625', '19.977020263672', '-697.5', '-24.960998535156', '19.859008789062', '-697.5', '-25.078002929688', '19.742004394531', '-697.5', '-25.195007324219', '19.625', '-697.5', '-25.195007324219', '19.391021728516', '-697.5', '-25.31201171875', '19.273010253906', '-697.5', '-25.429992675781', '19.156005859375', '-697.5', '-25.546997070312', '19.039001464844', '-697.5', '-25.664001464844', '18.922027587891', '-697.5', '-25.664001464844', '18.68798828125', '-697.5', '-25.781005859375', '18.570007324219', '-697.5', '-25.898010253906', '18.453002929688', '-697.5', '-26.015991210938', '18.335998535156', '-697.5', '-26.132995605469', '18.218994140625', '-697.5', '-26.132995605469', '17.984008789062', '-697.5', '-26.25', '17.867004394531', '-697.5', '-26.367004394531', '17.75', '-697.5', '-26.484008789062', '17.632995605469', '-697.5', '-26.601989746094', '17.516021728516', '-697.5', '-26.718994140625', '17.398010253906', '-697.5', '-26.835998535156', '17.281005859375', '-697.5', '-26.835998535156', '17.047027587891', '-697.5', '-26.953002929688', '16.930023193359', '-697.5', '-27.070007324219', '16.81201171875', '-697.5', '-27.070007324219', '16.578002929688', '-697.5', '-27.18798828125', '16.460998535156', '-697.5', '-27.304992675781', '16.343994140625', '-697.5', '-27.304992675781', '16.109008789062', '-697.5', '-27.421997070312', '15.992004394531', '-697.5', '-27.539001464844', '15.875', '-697.5', '-27.539001464844', '15.406005859375', '-697.5', '-27.656005859375', '15.289001464844', '-697.5', '-27.773010253906', '15.172027587891', '-697.5', '-27.773010253906', '12.359008789062', '-697.5', '-27.656005859375', '12.242004394531', '-697.5', '-27.539001464844', '12.125', '-697.5', '-27.539001464844', '11.656005859375', '-697.5', '-27.421997070312', '11.539001464844', '-697.5', '-27.304992675781', '11.422027587891', '-697.5', '-27.304992675781', '11.18798828125', '-697.5', '-27.18798828125', '11.070007324219', '-697.5', '-27.070007324219', '10.953002929688', '-697.5', '-26.953002929688', '10.835998535156', '-697.5', '-26.835998535156', '10.718994140625', '-697.5', '-26.835998535156', '10.484008789062', '-697.5', '-26.718994140625', '10.367004394531', '-697.5', '-26.601989746094', '10.25', '-697.5', '-26.601989746094', '10.016021728516', '-697.5', '-26.484008789062', '9.8980102539062', '-697.5', '-26.367004394531', '9.781005859375', '-697.5', '-26.25', '9.6640014648438', '-697.5', '-26.132995605469', '9.5469970703125', '-697.5', '-26.132995605469', '9.31201171875', '-697.5', '-26.015991210938', '9.1950073242188', '-697.5', '-25.898010253906', '9.0780029296875', '-697.5', '-25.781005859375', '8.9609985351562', '-697.5', '-25.664001464844', '8.843994140625', '-697.5', '-25.546997070312', '8.7269897460938', '-697.5', '-25.429992675781', '8.6090087890625', '-697.5', '-25.429992675781', '8.375', '-697.5', '-25.31201171875', '8.2579956054688', '-697.5', '-25.195007324219', '8.1409912109375', '-697.5', '-25.195007324219', '7.906005859375', '-697.5', '-25.078002929688', '7.7890014648438', '-697.5', '-24.960998535156', '7.6719970703125', '-697.5', '-24.960998535156', '7.2030029296875', '-697.5', '-24.843994140625', '7.0859985351562', '-697.5', '-24.726989746094', '6.968994140625', '-697.5', '-24.609008789062', '6.8519897460938', '-697.5', '-24.492004394531', '6.7340087890625', '-697.5', '-24.492004394531', '6.5', '-697.5', '-24.375', '6.3829956054688', '-697.5', '-24.257995605469', '6.2659912109375', '-697.5', '-24.140991210938', '6.1480102539062', '-697.5', '-24.023010253906', '6.031005859375', '-697.5', '-24.023010253906', '5.7969970703125', '-697.5', '-23.906005859375', '5.6799926757812', '-697.5', '-23.789001464844', '5.56201171875', '-697.5', '-23.671997070312', '5.4450073242188', '-697.5', '-23.554992675781', '5.3280029296875', '-697.5', '-23.43798828125', '5.2109985351562', '-697.5', '-23.320007324219', '5.093994140625', '-697.5', '-23.203002929688', '4.9769897460938', '-697.5', '-23.085998535156', '4.8590087890625', '-697.5', '-22.968994140625', '4.7420043945312', '-697.5', '-22.851989746094', '4.625', '-697.5', '-22.734008789062', '4.5079956054688', '-697.5', '-22.617004394531', '4.3909912109375', '-697.5', '-22.5', '4.2730102539062', '-697.5', '-22.382995605469', '4.156005859375', '-697.5', '-22.265991210938', '4.0390014648438', '-697.5', '-22.148010253906', '3.9219970703125', '-697.5', '-22.031005859375', '3.8049926757812', '-697.5', '-21.796997070312', '3.8049926757812', '-697.5', '-21.679992675781', '3.68798828125', '-697.5', '-21.56201171875', '3.5700073242188', '-697.5', '-21.328002929688', '3.5700073242188', '-697.5', '-21.210998535156', '3.4530029296875', '-697.5', '-21.093994140625', '3.3359985351562', '-697.5', '-20.859008789062', '3.3359985351562', '-697.5', '-20.742004394531', '3.218994140625', '-697.5', '-20.625', '3.1019897460938', '-697.5', '-20.156005859375', '3.1019897460938', '-697.5', '-20.039001464844', '2.9840087890625', '-697.5', '-19.921997070312', '2.8670043945312', '-697.5', '-19.453002929688', '2.8670043945312', '-697.5', '-19.335998535156', '2.75', '-697.5', '-19.218994140625', '2.6329956054688', '-697.5', '-18.515991210938', '2.6329956054688', '-697.5', '-18.398010253906', '2.5159912109375', '-697.5', '-18.281005859375', '2.3980102539062', '-697.5', '-15.234008789062', '2.3980102539062', '-697.5', '-15.117004394531', '2.281005859375', '-697.5', '-15', '2.1640014648438', '-697.5', '-14.531005859375', '2.1640014648438', '-697.5', '-14.414001464844', '2.0469970703125', '-697.5', '-14.296997070312', '1.9299926757812', '-697.5', '-13.593994140625', '1.9299926757812', '-697.5', '-13.476989746094', '1.81201171875', '-697.5', '-13.359008789062', '1.6950073242188', '-697.5', '-11.484008789062', '1.6950073242188', '-697.5']\n",
       "   ---------\n",
       "   (3006, 0016)  Contour Image Sequence   1 item(s) ---- \n",
       "      (0008, 1150) Referenced SOP Class UID            UI: CT Image Storage\n",
       "      (0008, 1155) Referenced SOP Instance UID         UI: 2.16.840.1.114362.1.6.7.5.17616.11849865775.479250700.364.1404\n",
       "      ---------\n",
       "   (3006, 0042) Contour Geometric Type              CS: 'CLOSED_PLANAR'\n",
       "   (3006, 0046) Number of Contour Points            IS: '241'\n",
       "   (3006, 0050) Contour Data                        DS: ['-12.539001464844', '0.875', '-700.5', '-12.421997070312', '0.75799560546875', '-700.5', '-9.1409912109375', '0.75799560546875', '-700.5', '-9.0230102539062', '0.875', '-700.5', '-8.906005859375', '0.99200439453125', '-700.5', '-8.43798828125', '0.99200439453125', '-700.5', '-8.3200073242188', '1.1090087890625', '-700.5', '-8.2030029296875', '1.2269897460938', '-700.5', '-8.0859985351562', '1.343994140625', '-700.5', '-7.968994140625', '1.4609985351562', '-700.5', '-7.7340087890625', '1.4609985351562', '-700.5', '-7.6170043945312', '1.5780029296875', '-700.5', '-7.5', '1.6950073242188', '-700.5', '-7.3829956054688', '1.81201171875', '-700.5', '-7.2659912109375', '1.9299926757812', '-700.5', '-7.1480102539062', '2.0469970703125', '-700.5', '-7.031005859375', '2.1640014648438', '-700.5', '-6.9140014648438', '2.281005859375', '-700.5', '-6.7969970703125', '2.3980102539062', '-700.5', '-6.6799926757812', '2.5159912109375', '-700.5', '-6.6799926757812', '2.75', '-700.5', '-6.56201171875', '2.8670043945312', '-700.5', '-6.4450073242188', '2.9840087890625', '-700.5', '-6.4450073242188', '3.218994140625', '-700.5', '-6.3280029296875', '3.3359985351562', '-700.5', '-6.2109985351562', '3.4530029296875', '-700.5', '-6.2109985351562', '3.68798828125', '-700.5', '-6.093994140625', '3.8049926757812', '-700.5', '-5.9769897460938', '3.9219970703125', '-700.5', '-5.9769897460938', '10.718994140625', '-700.5', '-6.093994140625', '10.835998535156', '-700.5', '-6.2109985351562', '10.953002929688', '-700.5', '-6.2109985351562', '11.422027587891', '-700.5', '-6.3280029296875', '11.539001464844', '-700.5', '-6.4450073242188', '11.656005859375', '-700.5', '-6.4450073242188', '11.891021728516', '-700.5', '-6.56201171875', '12.007995605469', '-700.5', '-6.6799926757812', '12.125', '-700.5', '-6.6799926757812', '12.593994140625', '-700.5', '-6.7969970703125', '12.710998535156', '-700.5', '-6.9140014648438', '12.828002929688', '-700.5', '-6.9140014648438', '14.234008789062', '-700.5', '-7.031005859375', '14.352020263672', '-700.5', '-7.1480102539062', '14.468994140625', '-700.5', '-7.1480102539062', '15.406005859375', '-700.5', '-7.2659912109375', '15.523010253906', '-700.5', '-7.3829956054688', '15.641021728516', '-700.5', '-7.3829956054688', '16.109008789062', '-700.5', '-7.5', '16.227020263672', '-700.5', '-7.6170043945312', '16.343994140625', '-700.5', '-7.6170043945312', '16.578002929688', '-700.5', '-7.7340087890625', '16.695007324219', '-700.5', '-7.8519897460938', '16.81201171875', '-700.5', '-7.968994140625', '16.930023193359', '-700.5', '-8.0859985351562', '17.047027587891', '-700.5', '-8.0859985351562', '18.922027587891', '-700.5', '-8.2030029296875', '19.039001464844', '-700.5', '-8.3200073242188', '19.156005859375', '-700.5', '-8.3200073242188', '19.625', '-700.5', '-8.43798828125', '19.742004394531', '-700.5', '-8.5549926757812', '19.859008789062', '-700.5', '-8.5549926757812', '20.093994140625', '-700.5', '-8.6719970703125', '20.210998535156', '-700.5', '-8.7890014648438', '20.328002929688', '-700.5', '-8.906005859375', '20.445007324219', '-700.5', '-9.0230102539062', '20.56201171875', '-700.5', '-9.1409912109375', '20.680023193359', '-700.5', '-9.2579956054688', '20.797027587891', '-700.5', '-9.375', '20.914001464844', '-700.5', '-9.4920043945312', '21.031005859375', '-700.5', '-9.6090087890625', '21.148010253906', '-700.5', '-9.7269897460938', '21.266021728516', '-700.5', '-9.843994140625', '21.382995605469', '-700.5', '-10.31201171875', '21.382995605469', '-700.5', '-10.429992675781', '21.5', '-700.5', '-10.546997070312', '21.617004394531', '-700.5', '-11.25', '21.617004394531', '-700.5', '-11.367004394531', '21.734008789062', '-700.5', '-11.484008789062', '21.852020263672', '-700.5', '-11.953002929688', '21.852020263672', '-700.5', '-12.070007324219', '21.734008789062', '-700.5', '-12.18798828125', '21.617004394531', '-700.5', '-13.125', '21.617004394531', '-700.5', '-13.242004394531', '21.5', '-700.5', '-13.359008789062', '21.382995605469', '-700.5', '-13.593994140625', '21.382995605469', '-700.5', '-13.710998535156', '21.266021728516', '-700.5', '-13.828002929688', '21.148010253906', '-700.5', '-13.945007324219', '21.031005859375', '-700.5', '-14.06201171875', '20.914001464844', '-700.5', '-14.296997070312', '20.914001464844', '-700.5', '-14.414001464844', '20.797027587891', '-700.5', '-14.531005859375', '20.680023193359', '-700.5', '-14.765991210938', '20.680023193359', '-700.5', '-14.882995605469', '20.56201171875', '-700.5', '-15', '20.445007324219', '-700.5', '-15.468994140625', '20.445007324219', '-700.5', '-15.585998535156', '20.328002929688', '-700.5', '-15.703002929688', '20.210998535156', '-700.5', '-16.171997070312', '20.210998535156', '-700.5', '-16.289001464844', '20.093994140625', '-700.5', '-16.406005859375', '19.977020263672', '-700.5', '-16.875', '19.977020263672', '-700.5', '-16.992004394531', '20.093994140625', '-700.5', '-17.109008789062', '20.210998535156', '-700.5', '-18.75', '20.210998535156', '-700.5', '-18.867004394531', '20.093994140625', '-700.5', '-18.984008789062', '19.977020263672', '-700.5', '-20.859008789062', '19.977020263672', '-700.5', '-20.976989746094', '19.859008789062', '-700.5', '-21.093994140625', '19.742004394531', '-700.5', '-21.328002929688', '19.742004394531', '-700.5', '-21.445007324219', '19.625', '-700.5', '-21.56201171875', '19.507995605469', '-700.5', '-21.796997070312', '19.507995605469', '-700.5', '-21.914001464844', '19.391021728516', '-700.5', '-22.031005859375', '19.273010253906', '-700.5', '-22.265991210938', '19.273010253906', '-700.5', '-22.382995605469', '19.156005859375', '-700.5', '-22.5', '19.039001464844', '-700.5', '-22.617004394531', '18.922027587891', '-700.5', '-22.734008789062', '18.805023193359', '-700.5', '-22.851989746094', '18.68798828125', '-700.5', '-22.968994140625', '18.570007324219', '-700.5', '-23.085998535156', '18.453002929688', '-700.5', '-23.085998535156', '18.218994140625', '-700.5', '-23.203002929688', '18.102020263672', '-700.5', '-23.320007324219', '17.984008789062', '-700.5', '-23.320007324219', '17.75', '-700.5', '-23.43798828125', '17.632995605469', '-700.5', '-23.554992675781', '17.516021728516', '-700.5', '-23.554992675781', '17.047027587891', '-700.5', '-23.671997070312', '16.930023193359', '-700.5', '-23.789001464844', '16.81201171875', '-700.5', '-23.789001464844', '15.875', '-700.5', '-23.906005859375', '15.757995605469', '-700.5', '-24.023010253906', '15.641021728516', '-700.5', '-24.140991210938', '15.523010253906', '-700.5', '-24.257995605469', '15.406005859375', '-700.5', '-24.375', '15.289001464844', '-700.5', '-24.492004394531', '15.172027587891', '-700.5', '-24.609008789062', '15.055023193359', '-700.5', '-24.726989746094', '14.93798828125', '-700.5', '-24.843994140625', '14.820007324219', '-700.5', '-24.960998535156', '14.703002929688', '-700.5', '-25.078002929688', '14.585998535156', '-700.5', '-25.195007324219', '14.468994140625', '-700.5', '-25.31201171875', '14.352020263672', '-700.5', '-25.429992675781', '14.234008789062', '-700.5', '-25.546997070312', '14.117004394531', '-700.5', '-25.664001464844', '14', '-700.5', '-25.781005859375', '13.882995605469', '-700.5', '-25.898010253906', '13.766021728516', '-700.5', '-25.898010253906', '13.531005859375', '-700.5', '-26.015991210938', '13.414001464844', '-700.5', '-26.132995605469', '13.297027587891', '-700.5', '-26.132995605469', '12.828002929688', '-700.5', '-26.25', '12.710998535156', '-700.5', '-26.367004394531', '12.593994140625', '-700.5', '-26.367004394531', '11.891021728516', '-700.5', '-26.484008789062', '11.773010253906', '-700.5', '-26.601989746094', '11.656005859375', '-700.5', '-26.601989746094', '8.843994140625', '-700.5', '-26.484008789062', '8.7269897460938', '-700.5', '-26.367004394531', '8.6090087890625', '-700.5', '-26.367004394531', '8.1409912109375', '-700.5', '-26.25', '8.0230102539062', '-700.5', '-26.132995605469', '7.906005859375', '-700.5', '-26.132995605469', '7.6719970703125', '-700.5', '-26.015991210938', '7.5549926757812', '-700.5', '-25.898010253906', '7.43798828125', '-700.5', '-25.898010253906', '7.2030029296875', '-700.5', '-25.781005859375', '7.0859985351562', '-700.5', '-25.664001464844', '6.968994140625', '-700.5', '-25.546997070312', '6.8519897460938', '-700.5', '-25.429992675781', '6.7340087890625', '-700.5', '-25.31201171875', '6.6170043945312', '-700.5', '-25.195007324219', '6.5', '-700.5', '-25.078002929688', '6.3829956054688', '-700.5', '-24.960998535156', '6.2659912109375', '-700.5', '-24.843994140625', '6.1480102539062', '-700.5', '-24.726989746094', '6.031005859375', '-700.5', '-24.609008789062', '5.9140014648438', '-700.5', '-24.375', '5.9140014648438', '-700.5', '-24.257995605469', '5.7969970703125', '-700.5', '-24.140991210938', '5.6799926757812', '-700.5', '-23.671997070312', '5.6799926757812', '-700.5', '-23.554992675781', '5.56201171875', '-700.5', '-23.43798828125', '5.4450073242188', '-700.5', '-22.734008789062', '5.4450073242188', '-700.5', '-22.617004394531', '5.3280029296875', '-700.5', '-22.5', '5.2109985351562', '-700.5', '-22.031005859375', '5.2109985351562', '-700.5', '-21.914001464844', '5.093994140625', '-700.5', '-21.796997070312', '4.9769897460938', '-700.5', '-21.679992675781', '4.8590087890625', '-700.5', '-21.56201171875', '4.7420043945312', '-700.5', '-21.328002929688', '4.7420043945312', '-700.5', '-21.210998535156', '4.625', '-700.5', '-21.093994140625', '4.5079956054688', '-700.5', '-20.625', '4.5079956054688', '-700.5', '-20.507995605469', '4.3909912109375', '-700.5', '-20.390991210938', '4.2730102539062', '-700.5', '-20.273010253906', '4.156005859375', '-700.5', '-20.156005859375', '4.0390014648438', '-700.5', '-19.921997070312', '4.0390014648438', '-700.5', '-19.804992675781', '3.9219970703125', '-700.5', '-19.68798828125', '3.8049926757812', '-700.5', '-19.570007324219', '3.68798828125', '-700.5', '-19.453002929688', '3.5700073242188', '-700.5', '-19.335998535156', '3.4530029296875', '-700.5', '-19.218994140625', '3.3359985351562', '-700.5', '-18.984008789062', '3.3359985351562', '-700.5', '-18.867004394531', '3.218994140625', '-700.5', '-18.75', '3.1019897460938', '-700.5', '-18.632995605469', '2.9840087890625', '-700.5', '-18.515991210938', '2.8670043945312', '-700.5', '-18.281005859375', '2.8670043945312', '-700.5', '-18.164001464844', '2.75', '-700.5', '-18.046997070312', '2.6329956054688', '-700.5', '-17.929992675781', '2.5159912109375', '-700.5', '-17.81201171875', '2.3980102539062', '-700.5', '-17.578002929688', '2.3980102539062', '-700.5', '-17.460998535156', '2.281005859375', '-700.5', '-17.343994140625', '2.1640014648438', '-700.5', '-17.109008789062', '2.1640014648438', '-700.5', '-16.992004394531', '2.0469970703125', '-700.5', '-16.875', '1.9299926757812', '-700.5', '-16.640991210938', '1.9299926757812', '-700.5', '-16.523010253906', '1.81201171875', '-700.5', '-16.406005859375', '1.6950073242188', '-700.5', '-16.171997070312', '1.6950073242188', '-700.5', '-16.054992675781', '1.5780029296875', '-700.5', '-15.93798828125', '1.4609985351562', '-700.5', '-15.468994140625', '1.4609985351562', '-700.5', '-15.351989746094', '1.343994140625', '-700.5', '-15.234008789062', '1.2269897460938', '-700.5', '-14.531005859375', '1.2269897460938', '-700.5', '-14.414001464844', '1.1090087890625', '-700.5', '-14.296997070312', '0.99200439453125', '-700.5', '-12.656005859375', '0.99200439453125', '-700.5']\n",
       "   ---------\n",
       "   (3006, 0016)  Contour Image Sequence   1 item(s) ---- \n",
       "      (0008, 1150) Referenced SOP Class UID            UI: CT Image Storage\n",
       "      (0008, 1155) Referenced SOP Instance UID         UI: 2.16.840.1.114362.1.6.7.5.17616.11849865775.479250700.364.1403\n",
       "      ---------\n",
       "   (3006, 0042) Contour Geometric Type              CS: 'CLOSED_PLANAR'\n",
       "   (3006, 0046) Number of Contour Points            IS: '244'\n",
       "   (3006, 0050) Contour Data                        DS: ['-18.632995605469', '0.6409912109375', '-703.5', '-18.515991210938', '0.52301025390625', '-703.5', '-14.296997070312', '0.52301025390625', '-703.5', '-14.179992675781', '0.6409912109375', '-703.5', '-14.06201171875', '0.75799560546875', '-703.5', '-13.593994140625', '0.75799560546875', '-703.5', '-13.476989746094', '0.875', '-703.5', '-13.359008789062', '0.99200439453125', '-703.5', '-13.242004394531', '1.1090087890625', '-703.5', '-13.125', '1.2269897460938', '-703.5', '-12.18798828125', '1.2269897460938', '-703.5', '-12.070007324219', '1.343994140625', '-703.5', '-11.953002929688', '1.4609985351562', '-703.5', '-11.484008789062', '1.4609985351562', '-703.5', '-11.367004394531', '1.5780029296875', '-703.5', '-11.25', '1.6950073242188', '-703.5', '-11.132995605469', '1.81201171875', '-703.5', '-11.015991210938', '1.9299926757812', '-703.5', '-10.898010253906', '2.0469970703125', '-703.5', '-10.781005859375', '2.1640014648438', '-703.5', '-10.664001464844', '2.281005859375', '-703.5', '-10.546997070312', '2.3980102539062', '-703.5', '-10.429992675781', '2.5159912109375', '-703.5', '-10.31201171875', '2.6329956054688', '-703.5', '-10.195007324219', '2.75', '-703.5', '-10.078002929688', '2.8670043945312', '-703.5', '-9.9609985351562', '2.9840087890625', '-703.5', '-9.9609985351562', '3.218994140625', '-703.5', '-9.843994140625', '3.3359985351562', '-703.5', '-9.7269897460938', '3.4530029296875', '-703.5', '-9.6090087890625', '3.5700073242188', '-703.5', '-9.4920043945312', '3.68798828125', '-703.5', '-9.4920043945312', '3.9219970703125', '-703.5', '-9.375', '4.0390014648438', '-703.5', '-9.2579956054688', '4.156005859375', '-703.5', '-9.2579956054688', '4.3909912109375', '-703.5', '-9.1409912109375', '4.5079956054688', '-703.5', '-9.0230102539062', '4.625', '-703.5', '-8.906005859375', '4.7420043945312', '-703.5', '-8.7890014648438', '4.8590087890625', '-703.5', '-8.7890014648438', '5.3280029296875', '-703.5', '-8.6719970703125', '5.4450073242188', '-703.5', '-8.5549926757812', '5.56201171875', '-703.5', '-8.5549926757812', '5.7969970703125', '-703.5', '-8.43798828125', '5.9140014648438', '-703.5', '-8.3200073242188', '6.031005859375', '-703.5', '-8.3200073242188', '6.5', '-703.5', '-8.2030029296875', '6.6170043945312', '-703.5', '-8.0859985351562', '6.7340087890625', '-703.5', '-8.0859985351562', '6.968994140625', '-703.5', '-7.968994140625', '7.0859985351562', '-703.5', '-7.8519897460938', '7.2030029296875', '-703.5', '-7.8519897460938', '7.43798828125', '-703.5', '-7.7340087890625', '7.5549926757812', '-703.5', '-7.6170043945312', '7.6719970703125', '-703.5', '-7.6170043945312', '7.906005859375', '-703.5', '-7.5', '8.0230102539062', '-703.5', '-7.3829956054688', '8.1409912109375', '-703.5', '-7.3829956054688', '13.297027587891', '-703.5', '-7.5', '13.414001464844', '-703.5', '-7.6170043945312', '13.531005859375', '-703.5', '-7.6170043945312', '13.766021728516', '-703.5', '-7.7340087890625', '13.882995605469', '-703.5', '-7.8519897460938', '14', '-703.5', '-7.8519897460938', '14.234008789062', '-703.5', '-7.968994140625', '14.352020263672', '-703.5', '-8.0859985351562', '14.468994140625', '-703.5', '-8.0859985351562', '14.703002929688', '-703.5', '-8.2030029296875', '14.820007324219', '-703.5', '-8.3200073242188', '14.93798828125', '-703.5', '-8.3200073242188', '15.172027587891', '-703.5', '-8.43798828125', '15.289001464844', '-703.5', '-8.5549926757812', '15.406005859375', '-703.5', '-8.5549926757812', '15.875', '-703.5', '-8.6719970703125', '15.992004394531', '-703.5', '-8.7890014648438', '16.109008789062', '-703.5', '-8.7890014648438', '16.81201171875', '-703.5', '-8.906005859375', '16.930023193359', '-703.5', '-9.0230102539062', '17.047027587891', '-703.5', '-9.1409912109375', '17.164001464844', '-703.5', '-9.2579956054688', '17.281005859375', '-703.5', '-9.2579956054688', '17.516021728516', '-703.5', '-9.375', '17.632995605469', '-703.5', '-9.4920043945312', '17.75', '-703.5', '-9.6090087890625', '17.867004394531', '-703.5', '-9.7269897460938', '17.984008789062', '-703.5', '-9.843994140625', '18.102020263672', '-703.5', '-9.9609985351562', '18.218994140625', '-703.5', '-10.078002929688', '18.335998535156', '-703.5', '-10.31201171875', '18.335998535156', '-703.5', '-10.429992675781', '18.453002929688', '-703.5', '-10.546997070312', '18.570007324219', '-703.5', '-10.781005859375', '18.570007324219', '-703.5', '-10.898010253906', '18.68798828125', '-703.5', '-11.015991210938', '18.805023193359', '-703.5', '-13.828002929688', '18.805023193359', '-703.5', '-13.945007324219', '18.68798828125', '-703.5', '-14.06201171875', '18.570007324219', '-703.5', '-15.703002929688', '18.570007324219', '-703.5', '-15.820007324219', '18.453002929688', '-703.5', '-15.93798828125', '18.335998535156', '-703.5', '-16.171997070312', '18.335998535156', '-703.5', '-16.289001464844', '18.218994140625', '-703.5', '-16.406005859375', '18.102020263672', '-703.5', '-16.875', '18.102020263672', '-703.5', '-16.992004394531', '17.984008789062', '-703.5', '-17.109008789062', '17.867004394531', '-703.5', '-17.578002929688', '17.867004394531', '-703.5', '-17.695007324219', '17.75', '-703.5', '-17.81201171875', '17.632995605469', '-703.5', '-18.281005859375', '17.632995605469', '-703.5', '-18.398010253906', '17.516021728516', '-703.5', '-18.515991210938', '17.398010253906', '-703.5', '-18.984008789062', '17.398010253906', '-703.5', '-19.101989746094', '17.281005859375', '-703.5', '-19.218994140625', '17.164001464844', '-703.5', '-19.921997070312', '17.164001464844', '-703.5', '-20.039001464844', '17.047027587891', '-703.5', '-20.156005859375', '16.930023193359', '-703.5', '-20.859008789062', '16.930023193359', '-703.5', '-20.976989746094', '16.81201171875', '-703.5', '-21.093994140625', '16.695007324219', '-703.5', '-21.796997070312', '16.695007324219', '-703.5', '-21.914001464844', '16.578002929688', '-703.5', '-22.031005859375', '16.460998535156', '-703.5', '-22.265991210938', '16.460998535156', '-703.5', '-22.382995605469', '16.343994140625', '-703.5', '-22.5', '16.227020263672', '-703.5', '-22.968994140625', '16.227020263672', '-703.5', '-23.085998535156', '16.109008789062', '-703.5', '-23.203002929688', '15.992004394531', '-703.5', '-23.671997070312', '15.992004394531', '-703.5', '-23.789001464844', '15.875', '-703.5', '-23.906005859375', '15.757995605469', '-703.5', '-24.140991210938', '15.757995605469', '-703.5', '-24.257995605469', '15.641021728516', '-703.5', '-24.375', '15.523010253906', '-703.5', '-24.492004394531', '15.406005859375', '-703.5', '-24.609008789062', '15.289001464844', '-703.5', '-24.843994140625', '15.289001464844', '-703.5', '-24.960998535156', '15.172027587891', '-703.5', '-25.078002929688', '15.055023193359', '-703.5', '-25.31201171875', '15.055023193359', '-703.5', '-25.429992675781', '14.93798828125', '-703.5', '-25.546997070312', '14.820007324219', '-703.5', '-25.664001464844', '14.703002929688', '-703.5', '-25.781005859375', '14.585998535156', '-703.5', '-25.898010253906', '14.468994140625', '-703.5', '-26.015991210938', '14.352020263672', '-703.5', '-26.132995605469', '14.234008789062', '-703.5', '-26.25', '14.117004394531', '-703.5', '-26.367004394531', '14', '-703.5', '-26.484008789062', '13.882995605469', '-703.5', '-26.601989746094', '13.766021728516', '-703.5', '-26.718994140625', '13.648010253906', '-703.5', '-26.835998535156', '13.531005859375', '-703.5', '-26.953002929688', '13.414001464844', '-703.5', '-27.070007324219', '13.297027587891', '-703.5', '-27.18798828125', '13.180023193359', '-703.5', '-27.304992675781', '13.06201171875', '-703.5', '-27.304992675781', '12.828002929688', '-703.5', '-27.421997070312', '12.710998535156', '-703.5', '-27.539001464844', '12.593994140625', '-703.5', '-27.539001464844', '12.359008789062', '-703.5', '-27.656005859375', '12.242004394531', '-703.5', '-27.773010253906', '12.125', '-703.5', '-27.773010253906', '11.891021728516', '-703.5', '-27.890991210938', '11.773010253906', '-703.5', '-28.007995605469', '11.656005859375', '-703.5', '-28.007995605469', '11.18798828125', '-703.5', '-28.125', '11.070007324219', '-703.5', '-28.242004394531', '10.953002929688', '-703.5', '-28.242004394531', '10.016021728516', '-703.5', '-28.359008789062', '9.8980102539062', '-703.5', '-28.476989746094', '9.781005859375', '-703.5', '-28.476989746094', '9.0780029296875', '-703.5', '-28.359008789062', '8.9609985351562', '-703.5', '-28.242004394531', '8.843994140625', '-703.5', '-28.242004394531', '7.906005859375', '-703.5', '-28.125', '7.7890014648438', '-703.5', '-28.007995605469', '7.6719970703125', '-703.5', '-28.007995605469', '7.43798828125', '-703.5', '-27.890991210938', '7.3200073242188', '-703.5', '-27.773010253906', '7.2030029296875', '-703.5', '-27.656005859375', '7.0859985351562', '-703.5', '-27.539001464844', '6.968994140625', '-703.5', '-27.539001464844', '6.7340087890625', '-703.5', '-27.421997070312', '6.6170043945312', '-703.5', '-27.304992675781', '6.5', '-703.5', '-27.18798828125', '6.3829956054688', '-703.5', '-26.953002929688', '6.3829956054688', '-703.5', '-26.835998535156', '6.2659912109375', '-703.5', '-26.718994140625', '6.1480102539062', '-703.5', '-26.601989746094', '6.031005859375', '-703.5', '-26.601989746094', '5.7969970703125', '-703.5', '-26.484008789062', '5.6799926757812', '-703.5', '-26.367004394531', '5.56201171875', '-703.5', '-26.367004394531', '5.3280029296875', '-703.5', '-26.25', '5.2109985351562', '-703.5', '-26.132995605469', '5.093994140625', '-703.5', '-26.015991210938', '4.9769897460938', '-703.5', '-25.898010253906', '4.8590087890625', '-703.5', '-25.898010253906', '4.625', '-703.5', '-25.781005859375', '4.5079956054688', '-703.5', '-25.664001464844', '4.3909912109375', '-703.5', '-25.546997070312', '4.2730102539062', '-703.5', '-25.429992675781', '4.156005859375', '-703.5', '-25.31201171875', '4.0390014648438', '-703.5', '-25.195007324219', '3.9219970703125', '-703.5', '-25.078002929688', '3.8049926757812', '-703.5', '-24.960998535156', '3.68798828125', '-703.5', '-24.843994140625', '3.5700073242188', '-703.5', '-24.726989746094', '3.4530029296875', '-703.5', '-24.609008789062', '3.3359985351562', '-703.5', '-24.375', '3.3359985351562', '-703.5', '-24.257995605469', '3.218994140625', '-703.5', '-24.140991210938', '3.1019897460938', '-703.5', '-23.906005859375', '3.1019897460938', '-703.5', '-23.789001464844', '2.9840087890625', '-703.5', '-23.671997070312', '2.8670043945312', '-703.5', '-23.554992675781', '2.75', '-703.5', '-23.43798828125', '2.6329956054688', '-703.5', '-23.203002929688', '2.6329956054688', '-703.5', '-23.085998535156', '2.5159912109375', '-703.5', '-22.968994140625', '2.3980102539062', '-703.5', '-22.851989746094', '2.281005859375', '-703.5', '-22.734008789062', '2.1640014648438', '-703.5', '-22.617004394531', '2.0469970703125', '-703.5', '-22.5', '1.9299926757812', '-703.5', '-22.265991210938', '1.9299926757812', '-703.5', '-22.148010253906', '1.81201171875', '-703.5', '-22.031005859375', '1.6950073242188', '-703.5', '-21.56201171875', '1.6950073242188', '-703.5', '-21.445007324219', '1.5780029296875', '-703.5', '-21.328002929688', '1.4609985351562', '-703.5', '-21.210998535156', '1.343994140625', '-703.5', '-21.093994140625', '1.2269897460938', '-703.5', '-20.859008789062', '1.2269897460938', '-703.5', '-20.742004394531', '1.1090087890625', '-703.5', '-20.625', '0.99200439453125', '-703.5', '-19.68798828125', '0.99200439453125', '-703.5', '-19.570007324219', '0.875', '-703.5', '-19.453002929688', '0.75799560546875', '-703.5', '-18.75', '0.75799560546875', '-703.5']\n",
       "   ---------\n",
       "   (3006, 0016)  Contour Image Sequence   1 item(s) ---- \n",
       "      (0008, 1150) Referenced SOP Class UID            UI: CT Image Storage\n",
       "      (0008, 1155) Referenced SOP Instance UID         UI: 2.16.840.1.114362.1.6.7.5.17616.11849865775.479250700.364.1402\n",
       "      ---------\n",
       "   (3006, 0042) Contour Geometric Type              CS: 'CLOSED_PLANAR'\n",
       "   (3006, 0046) Number of Contour Points            IS: '239'\n",
       "   (3006, 0050) Contour Data                        DS: ['-18.398010253906', '-1.2340087890625', '-706.5', '-18.281005859375', '-1.3519897460938', '-706.5', '-16.171997070312', '-1.3519897460938', '-706.5', '-16.054992675781', '-1.2340087890625', '-706.5', '-15.93798828125', '-1.1170043945312', '-706.5', '-15.234008789062', '-1.1170043945312', '-706.5', '-15.117004394531', '-1', '-706.5', '-15', '-0.8829956054688', '-706.5', '-14.765991210938', '-0.8829956054688', '-706.5', '-14.648010253906', '-0.7659912109375', '-706.5', '-14.531005859375', '-0.6480102539062', '-706.5', '-14.414001464844', '-0.531005859375', '-706.5', '-14.296997070312', '-0.4140014648438', '-706.5', '-14.179992675781', '-0.2969970703125', '-706.5', '-14.06201171875', '-0.1799926757812', '-706.5', '-12.421997070312', '-0.1799926757812', '-706.5', '-12.304992675781', '-0.06201171875', '-706.5', '-12.18798828125', '0.05499267578125', '-706.5', '-11.953002929688', '0.05499267578125', '-706.5', '-11.835998535156', '0.1719970703125', '-706.5', '-11.718994140625', '0.28900146484375', '-706.5', '-11.601989746094', '0.406005859375', '-706.5', '-11.484008789062', '0.52301025390625', '-706.5', '-11.367004394531', '0.6409912109375', '-706.5', '-11.367004394531', '0.875', '-706.5', '-11.25', '0.99200439453125', '-706.5', '-11.132995605469', '1.1090087890625', '-706.5', '-11.132995605469', '1.343994140625', '-706.5', '-11.015991210938', '1.4609985351562', '-706.5', '-10.898010253906', '1.5780029296875', '-706.5', '-10.898010253906', '2.281005859375', '-706.5', '-10.781005859375', '2.3980102539062', '-706.5', '-10.664001464844', '2.5159912109375', '-706.5', '-10.664001464844', '2.75', '-706.5', '-10.546997070312', '2.8670043945312', '-706.5', '-10.429992675781', '2.9840087890625', '-706.5', '-10.429992675781', '4.156005859375', '-706.5', '-10.31201171875', '4.2730102539062', '-706.5', '-10.195007324219', '4.3909912109375', '-706.5', '-10.195007324219', '10.484008789062', '-706.5', '-10.078002929688', '10.602020263672', '-706.5', '-9.843994140625', '10.602020263672', '-706.5', '-9.7269897460938', '10.718994140625', '-706.5', '-9.6090087890625', '10.835998535156', '-706.5', '-9.4920043945312', '10.953002929688', '-706.5', '-9.375', '11.070007324219', '-706.5', '-9.2579956054688', '11.18798828125', '-706.5', '-9.1409912109375', '11.305023193359', '-706.5', '-9.0230102539062', '11.422027587891', '-706.5', '-8.906005859375', '11.539001464844', '-706.5', '-8.7890014648438', '11.656005859375', '-706.5', '-8.6719970703125', '11.773010253906', '-706.5', '-8.5549926757812', '11.891021728516', '-706.5', '-8.43798828125', '12.007995605469', '-706.5', '-8.3200073242188', '12.125', '-706.5', '-8.3200073242188', '12.593994140625', '-706.5', '-8.2030029296875', '12.710998535156', '-706.5', '-8.0859985351562', '12.828002929688', '-706.5', '-8.0859985351562', '13.531005859375', '-706.5', '-7.968994140625', '13.648010253906', '-706.5', '-7.8519897460938', '13.766021728516', '-706.5', '-7.968994140625', '13.882995605469', '-706.5', '-8.0859985351562', '14', '-706.5', '-8.0859985351562', '14.93798828125', '-706.5', '-8.2030029296875', '15.055023193359', '-706.5', '-8.3200073242188', '15.172027587891', '-706.5', '-8.3200073242188', '15.406005859375', '-706.5', '-8.43798828125', '15.523010253906', '-706.5', '-8.5549926757812', '15.641021728516', '-706.5', '-8.5549926757812', '15.875', '-706.5', '-8.6719970703125', '15.992004394531', '-706.5', '-8.7890014648438', '16.109008789062', '-706.5', '-8.906005859375', '16.227020263672', '-706.5', '-9.0230102539062', '16.343994140625', '-706.5', '-9.1409912109375', '16.460998535156', '-706.5', '-9.2579956054688', '16.578002929688', '-706.5', '-9.375', '16.695007324219', '-706.5', '-9.4920043945312', '16.81201171875', '-706.5', '-9.6090087890625', '16.930023193359', '-706.5', '-9.843994140625', '16.930023193359', '-706.5', '-9.9609985351562', '17.047027587891', '-706.5', '-10.078002929688', '17.164001464844', '-706.5', '-10.195007324219', '17.281005859375', '-706.5', '-10.31201171875', '17.398010253906', '-706.5', '-10.429992675781', '17.516021728516', '-706.5', '-10.546997070312', '17.632995605469', '-706.5', '-10.781005859375', '17.632995605469', '-706.5', '-10.898010253906', '17.75', '-706.5', '-11.015991210938', '17.867004394531', '-706.5', '-12.18798828125', '17.867004394531', '-706.5', '-12.304992675781', '17.75', '-706.5', '-12.421997070312', '17.632995605469', '-706.5', '-12.656005859375', '17.632995605469', '-706.5', '-12.773010253906', '17.516021728516', '-706.5', '-12.890991210938', '17.398010253906', '-706.5', '-13.007995605469', '17.281005859375', '-706.5', '-13.125', '17.164001464844', '-706.5', '-13.242004394531', '17.047027587891', '-706.5', '-13.359008789062', '16.930023193359', '-706.5', '-13.476989746094', '16.81201171875', '-706.5', '-13.593994140625', '16.695007324219', '-706.5', '-13.828002929688', '16.695007324219', '-706.5', '-13.945007324219', '16.578002929688', '-706.5', '-14.06201171875', '16.460998535156', '-706.5', '-14.296997070312', '16.460998535156', '-706.5', '-14.414001464844', '16.343994140625', '-706.5', '-14.531005859375', '16.227020263672', '-706.5', '-14.765991210938', '16.227020263672', '-706.5', '-14.882995605469', '16.109008789062', '-706.5', '-15', '15.992004394531', '-706.5', '-15.234008789062', '15.992004394531', '-706.5', '-15.351989746094', '15.875', '-706.5', '-15.468994140625', '15.757995605469', '-706.5', '-15.93798828125', '15.757995605469', '-706.5', '-16.054992675781', '15.641021728516', '-706.5', '-16.171997070312', '15.523010253906', '-706.5', '-16.875', '15.523010253906', '-706.5', '-16.992004394531', '15.406005859375', '-706.5', '-17.109008789062', '15.289001464844', '-706.5', '-18.515991210938', '15.289001464844', '-706.5', '-18.632995605469', '15.172027587891', '-706.5', '-18.75', '15.055023193359', '-706.5', '-19.218994140625', '15.055023193359', '-706.5', '-19.335998535156', '14.93798828125', '-706.5', '-19.453002929688', '14.820007324219', '-706.5', '-19.921997070312', '14.820007324219', '-706.5', '-20.039001464844', '14.703002929688', '-706.5', '-20.156005859375', '14.585998535156', '-706.5', '-20.625', '14.585998535156', '-706.5', '-20.742004394531', '14.468994140625', '-706.5', '-20.859008789062', '14.352020263672', '-706.5', '-21.093994140625', '14.352020263672', '-706.5', '-21.210998535156', '14.234008789062', '-706.5', '-21.328002929688', '14.117004394531', '-706.5', '-21.445007324219', '14', '-706.5', '-21.56201171875', '13.882995605469', '-706.5', '-21.796997070312', '13.882995605469', '-706.5', '-21.914001464844', '13.766021728516', '-706.5', '-22.031005859375', '13.648010253906', '-706.5', '-22.148010253906', '13.531005859375', '-706.5', '-22.265991210938', '13.414001464844', '-706.5', '-22.382995605469', '13.297027587891', '-706.5', '-22.5', '13.180023193359', '-706.5', '-22.617004394531', '13.06201171875', '-706.5', '-22.734008789062', '12.945007324219', '-706.5', '-22.968994140625', '12.945007324219', '-706.5', '-23.085998535156', '12.828002929688', '-706.5', '-23.203002929688', '12.710998535156', '-706.5', '-23.671997070312', '12.710998535156', '-706.5', '-23.789001464844', '12.593994140625', '-706.5', '-23.906005859375', '12.477020263672', '-706.5', '-24.375', '12.477020263672', '-706.5', '-24.492004394531', '12.359008789062', '-706.5', '-24.609008789062', '12.242004394531', '-706.5', '-24.843994140625', '12.242004394531', '-706.5', '-24.960998535156', '12.125', '-706.5', '-25.078002929688', '12.007995605469', '-706.5', '-25.195007324219', '11.891021728516', '-706.5', '-25.31201171875', '11.773010253906', '-706.5', '-25.546997070312', '11.773010253906', '-706.5', '-25.664001464844', '11.656005859375', '-706.5', '-25.781005859375', '11.539001464844', '-706.5', '-25.898010253906', '11.422027587891', '-706.5', '-26.015991210938', '11.305023193359', '-706.5', '-26.132995605469', '11.18798828125', '-706.5', '-26.25', '11.070007324219', '-706.5', '-26.484008789062', '11.070007324219', '-706.5', '-26.601989746094', '10.953002929688', '-706.5', '-26.718994140625', '10.835998535156', '-706.5', '-26.835998535156', '10.718994140625', '-706.5', '-26.953002929688', '10.602020263672', '-706.5', '-27.070007324219', '10.484008789062', '-706.5', '-27.18798828125', '10.367004394531', '-706.5', '-27.304992675781', '10.25', '-706.5', '-27.304992675781', '10.016021728516', '-706.5', '-27.421997070312', '9.8980102539062', '-706.5', '-27.539001464844', '9.781005859375', '-706.5', '-27.539001464844', '9.31201171875', '-706.5', '-27.656005859375', '9.1950073242188', '-706.5', '-27.773010253906', '9.0780029296875', '-706.5', '-27.773010253906', '5.3280029296875', '-706.5', '-27.656005859375', '5.2109985351562', '-706.5', '-27.539001464844', '5.093994140625', '-706.5', '-27.539001464844', '4.625', '-706.5', '-27.421997070312', '4.5079956054688', '-706.5', '-27.304992675781', '4.3909912109375', '-706.5', '-27.18798828125', '4.2730102539062', '-706.5', '-27.070007324219', '4.156005859375', '-706.5', '-27.070007324219', '3.9219970703125', '-706.5', '-26.953002929688', '3.8049926757812', '-706.5', '-26.835998535156', '3.68798828125', '-706.5', '-26.718994140625', '3.5700073242188', '-706.5', '-26.601989746094', '3.4530029296875', '-706.5', '-26.484008789062', '3.3359985351562', '-706.5', '-26.367004394531', '3.218994140625', '-706.5', '-26.25', '3.1019897460938', '-706.5', '-26.132995605469', '2.9840087890625', '-706.5', '-26.015991210938', '2.8670043945312', '-706.5', '-25.898010253906', '2.75', '-706.5', '-25.781005859375', '2.6329956054688', '-706.5', '-25.664001464844', '2.5159912109375', '-706.5', '-25.546997070312', '2.3980102539062', '-706.5', '-25.429992675781', '2.281005859375', '-706.5', '-25.31201171875', '2.1640014648438', '-706.5', '-25.195007324219', '2.0469970703125', '-706.5', '-25.078002929688', '1.9299926757812', '-706.5', '-24.843994140625', '1.9299926757812', '-706.5', '-24.726989746094', '1.81201171875', '-706.5', '-24.609008789062', '1.6950073242188', '-706.5', '-24.140991210938', '1.6950073242188', '-706.5', '-24.023010253906', '1.5780029296875', '-706.5', '-23.906005859375', '1.4609985351562', '-706.5', '-23.43798828125', '1.4609985351562', '-706.5', '-23.320007324219', '1.343994140625', '-706.5', '-23.203002929688', '1.2269897460938', '-706.5', '-22.734008789062', '1.2269897460938', '-706.5', '-22.617004394531', '1.1090087890625', '-706.5', '-22.5', '0.99200439453125', '-706.5', '-21.796997070312', '0.99200439453125', '-706.5', '-21.679992675781', '0.875', '-706.5', '-21.56201171875', '0.75799560546875', '-706.5', '-21.445007324219', '0.6409912109375', '-706.5', '-21.328002929688', '0.52301025390625', '-706.5', '-21.210998535156', '0.406005859375', '-706.5', '-21.093994140625', '0.28900146484375', '-706.5', '-20.976989746094', '0.1719970703125', '-706.5', '-20.859008789062', '0.05499267578125', '-706.5', '-20.742004394531', '-0.06201171875', '-706.5', '-20.625', '-0.1799926757812', '-706.5', '-20.507995605469', '-0.2969970703125', '-706.5', '-20.390991210938', '-0.4140014648438', '-706.5', '-20.273010253906', '-0.531005859375', '-706.5', '-20.156005859375', '-0.6480102539062', '-706.5', '-20.039001464844', '-0.7659912109375', '-706.5', '-19.921997070312', '-0.8829956054688', '-706.5', '-19.68798828125', '-0.8829956054688', '-706.5', '-19.570007324219', '-1', '-706.5', '-19.453002929688', '-1.1170043945312', '-706.5', '-18.515991210938', '-1.1170043945312', '-706.5']\n",
       "   ---------\n",
       "   (3006, 0016)  Contour Image Sequence   1 item(s) ---- \n",
       "      (0008, 1150) Referenced SOP Class UID            UI: CT Image Storage\n",
       "      (0008, 1155) Referenced SOP Instance UID         UI: 2.16.840.1.114362.1.6.7.5.17616.11849865775.479250700.364.1401\n",
       "      ---------\n",
       "   (3006, 0042) Contour Geometric Type              CS: 'CLOSED_PLANAR'\n",
       "   (3006, 0046) Number of Contour Points            IS: '238'\n",
       "   (3006, 0050) Contour Data                        DS: ['-21.445007324219', '-2.6409912109375', '-709.5', '-21.328002929688', '-2.7579956054688', '-709.5', '-17.81201171875', '-2.7579956054688', '-709.5', '-17.695007324219', '-2.6409912109375', '-709.5', '-17.578002929688', '-2.5230102539062', '-709.5', '-17.460998535156', '-2.406005859375', '-709.5', '-17.343994140625', '-2.2890014648438', '-709.5', '-17.226989746094', '-2.1719970703125', '-709.5', '-17.109008789062', '-2.0549926757812', '-709.5', '-16.992004394531', '-1.93798828125', '-709.5', '-16.992004394531', '-1.7030029296875', '-709.5', '-16.875', '-1.5859985351562', '-709.5', '-16.406005859375', '-1.5859985351562', '-709.5', '-16.289001464844', '-1.7030029296875', '-709.5', '-16.171997070312', '-1.8200073242188', '-709.5', '-14.765991210938', '-1.8200073242188', '-709.5', '-14.648010253906', '-1.7030029296875', '-709.5', '-14.531005859375', '-1.5859985351562', '-709.5', '-14.296997070312', '-1.5859985351562', '-709.5', '-14.179992675781', '-1.468994140625', '-709.5', '-14.06201171875', '-1.3519897460938', '-709.5', '-13.945007324219', '-1.2340087890625', '-709.5', '-13.828002929688', '-1.1170043945312', '-709.5', '-13.710998535156', '-1', '-709.5', '-13.710998535156', '-0.7659912109375', '-709.5', '-13.593994140625', '-0.6480102539062', '-709.5', '-13.476989746094', '-0.531005859375', '-709.5', '-13.476989746094', '0.875', '-709.5', '-13.593994140625', '0.99200439453125', '-709.5', '-13.710998535156', '1.1090087890625', '-709.5', '-13.710998535156', '1.343994140625', '-709.5', '-13.828002929688', '1.4609985351562', '-709.5', '-13.945007324219', '1.5780029296875', '-709.5', '-14.06201171875', '1.6950073242188', '-709.5', '-14.179992675781', '1.81201171875', '-709.5', '-14.296997070312', '1.9299926757812', '-709.5', '-14.414001464844', '2.0469970703125', '-709.5', '-14.414001464844', '3.218994140625', '-709.5', '-14.296997070312', '3.3359985351562', '-709.5', '-14.179992675781', '3.4530029296875', '-709.5', '-14.179992675781', '3.9219970703125', '-709.5', '-14.06201171875', '4.0390014648438', '-709.5', '-13.945007324219', '4.156005859375', '-709.5', '-13.945007324219', '4.625', '-709.5', '-13.828002929688', '4.7420043945312', '-709.5', '-13.710998535156', '4.8590087890625', '-709.5', '-13.710998535156', '6.7340087890625', '-709.5', '-13.828002929688', '6.8519897460938', '-709.5', '-13.945007324219', '6.968994140625', '-709.5', '-13.945007324219', '7.6719970703125', '-709.5', '-14.06201171875', '7.7890014648438', '-709.5', '-14.179992675781', '7.906005859375', '-709.5', '-14.179992675781', '8.1409912109375', '-709.5', '-14.06201171875', '8.2579956054688', '-709.5', '-13.828002929688', '8.2579956054688', '-709.5', '-13.710998535156', '8.375', '-709.5', '-13.593994140625', '8.4920043945312', '-709.5', '-13.476989746094', '8.6090087890625', '-709.5', '-13.359008789062', '8.7269897460938', '-709.5', '-13.125', '8.7269897460938', '-709.5', '-13.007995605469', '8.843994140625', '-709.5', '-12.890991210938', '8.9609985351562', '-709.5', '-12.773010253906', '9.0780029296875', '-709.5', '-12.656005859375', '9.1950073242188', '-709.5', '-12.539001464844', '9.31201171875', '-709.5', '-12.421997070312', '9.4299926757812', '-709.5', '-12.304992675781', '9.5469970703125', '-709.5', '-12.304992675781', '9.781005859375', '-709.5', '-12.18798828125', '9.8980102539062', '-709.5', '-12.070007324219', '10.016021728516', '-709.5', '-12.070007324219', '10.25', '-709.5', '-11.953002929688', '10.367004394531', '-709.5', '-11.835998535156', '10.484008789062', '-709.5', '-11.835998535156', '10.953002929688', '-709.5', '-11.718994140625', '11.070007324219', '-709.5', '-11.601989746094', '11.18798828125', '-709.5', '-11.601989746094', '11.422027587891', '-709.5', '-11.484008789062', '11.539001464844', '-709.5', '-11.367004394531', '11.656005859375', '-709.5', '-11.367004394531', '11.891021728516', '-709.5', '-11.25', '12.007995605469', '-709.5', '-11.132995605469', '12.125', '-709.5', '-11.132995605469', '14.234008789062', '-709.5', '-11.25', '14.352020263672', '-709.5', '-11.367004394531', '14.468994140625', '-709.5', '-11.367004394531', '14.703002929688', '-709.5', '-11.484008789062', '14.820007324219', '-709.5', '-11.601989746094', '14.93798828125', '-709.5', '-11.601989746094', '15.172027587891', '-709.5', '-11.718994140625', '15.289001464844', '-709.5', '-11.835998535156', '15.406005859375', '-709.5', '-11.953002929688', '15.523010253906', '-709.5', '-12.070007324219', '15.641021728516', '-709.5', '-12.18798828125', '15.757995605469', '-709.5', '-12.304992675781', '15.875', '-709.5', '-12.421997070312', '15.992004394531', '-709.5', '-12.539001464844', '16.109008789062', '-709.5', '-12.656005859375', '16.227020263672', '-709.5', '-12.890991210938', '16.227020263672', '-709.5', '-13.007995605469', '16.343994140625', '-709.5', '-13.125', '16.460998535156', '-709.5', '-13.359008789062', '16.460998535156', '-709.5', '-13.476989746094', '16.578002929688', '-709.5', '-13.593994140625', '16.695007324219', '-709.5', '-15.468994140625', '16.695007324219', '-709.5', '-15.585998535156', '16.578002929688', '-709.5', '-15.703002929688', '16.460998535156', '-709.5', '-16.171997070312', '16.460998535156', '-709.5', '-16.289001464844', '16.343994140625', '-709.5', '-16.406005859375', '16.227020263672', '-709.5', '-16.640991210938', '16.227020263672', '-709.5', '-16.757995605469', '16.109008789062', '-709.5', '-16.875', '15.992004394531', '-709.5', '-16.992004394531', '15.875', '-709.5', '-17.109008789062', '15.757995605469', '-709.5', '-17.226989746094', '15.641021728516', '-709.5', '-17.343994140625', '15.523010253906', '-709.5', '-17.460998535156', '15.406005859375', '-709.5', '-17.578002929688', '15.289001464844', '-709.5', '-17.695007324219', '15.172027587891', '-709.5', '-17.695007324219', '14.93798828125', '-709.5', '-17.81201171875', '14.820007324219', '-709.5', '-17.929992675781', '14.703002929688', '-709.5', '-17.929992675781', '14.468994140625', '-709.5', '-18.046997070312', '14.352020263672', '-709.5', '-18.164001464844', '14.234008789062', '-709.5', '-18.164001464844', '14', '-709.5', '-18.281005859375', '13.882995605469', '-709.5', '-18.515991210938', '13.882995605469', '-709.5', '-18.632995605469', '13.766021728516', '-709.5', '-18.75', '13.648010253906', '-709.5', '-18.867004394531', '13.531005859375', '-709.5', '-18.984008789062', '13.414001464844', '-709.5', '-19.101989746094', '13.297027587891', '-709.5', '-19.218994140625', '13.180023193359', '-709.5', '-19.335998535156', '13.06201171875', '-709.5', '-19.453002929688', '12.945007324219', '-709.5', '-19.570007324219', '12.828002929688', '-709.5', '-19.68798828125', '12.710998535156', '-709.5', '-19.804992675781', '12.593994140625', '-709.5', '-19.921997070312', '12.477020263672', '-709.5', '-20.039001464844', '12.359008789062', '-709.5', '-20.039001464844', '12.125', '-709.5', '-20.156005859375', '12.007995605469', '-709.5', '-20.273010253906', '11.891021728516', '-709.5', '-20.273010253906', '11.656005859375', '-709.5', '-20.390991210938', '11.539001464844', '-709.5', '-20.507995605469', '11.422027587891', '-709.5', '-20.507995605469', '11.18798828125', '-709.5', '-20.625', '11.070007324219', '-709.5', '-22.968994140625', '11.070007324219', '-709.5', '-23.085998535156', '10.953002929688', '-709.5', '-23.203002929688', '10.835998535156', '-709.5', '-24.609008789062', '10.835998535156', '-709.5', '-24.726989746094', '10.718994140625', '-709.5', '-24.843994140625', '10.602020263672', '-709.5', '-25.546997070312', '10.602020263672', '-709.5', '-25.664001464844', '10.484008789062', '-709.5', '-25.781005859375', '10.367004394531', '-709.5', '-26.015991210938', '10.367004394531', '-709.5', '-26.132995605469', '10.25', '-709.5', '-26.25', '10.132995605469', '-709.5', '-26.484008789062', '10.132995605469', '-709.5', '-26.601989746094', '10.016021728516', '-709.5', '-26.718994140625', '9.8980102539062', '-709.5', '-26.835998535156', '9.781005859375', '-709.5', '-26.953002929688', '9.6640014648438', '-709.5', '-27.070007324219', '9.5469970703125', '-709.5', '-27.18798828125', '9.4299926757812', '-709.5', '-27.304992675781', '9.31201171875', '-709.5', '-27.421997070312', '9.1950073242188', '-709.5', '-27.539001464844', '9.0780029296875', '-709.5', '-27.656005859375', '8.9609985351562', '-709.5', '-27.773010253906', '8.843994140625', '-709.5', '-27.890991210938', '8.7269897460938', '-709.5', '-28.007995605469', '8.6090087890625', '-709.5', '-28.125', '8.4920043945312', '-709.5', '-28.242004394531', '8.375', '-709.5', '-28.242004394531', '8.1409912109375', '-709.5', '-28.359008789062', '8.0230102539062', '-709.5', '-28.476989746094', '7.906005859375', '-709.5', '-28.476989746094', '7.2030029296875', '-709.5', '-28.593994140625', '7.0859985351562', '-709.5', '-28.710998535156', '6.968994140625', '-709.5', '-28.710998535156', '6.7340087890625', '-709.5', '-28.828002929688', '6.6170043945312', '-709.5', '-28.945007324219', '6.5', '-709.5', '-28.945007324219', '2.9840087890625', '-709.5', '-28.828002929688', '2.8670043945312', '-709.5', '-28.710998535156', '2.75', '-709.5', '-28.710998535156', '2.281005859375', '-709.5', '-28.593994140625', '2.1640014648438', '-709.5', '-28.476989746094', '2.0469970703125', '-709.5', '-28.476989746094', '1.81201171875', '-709.5', '-28.359008789062', '1.6950073242188', '-709.5', '-28.242004394531', '1.5780029296875', '-709.5', '-28.242004394531', '1.343994140625', '-709.5', '-28.125', '1.2269897460938', '-709.5', '-28.007995605469', '1.1090087890625', '-709.5', '-28.007995605469', '0.875', '-709.5', '-27.890991210938', '0.75799560546875', '-709.5', '-27.773010253906', '0.6409912109375', '-709.5', '-27.656005859375', '0.52301025390625', '-709.5', '-27.539001464844', '0.406005859375', '-709.5', '-27.421997070312', '0.28900146484375', '-709.5', '-27.304992675781', '0.1719970703125', '-709.5', '-27.18798828125', '0.05499267578125', '-709.5', '-27.070007324219', '-0.06201171875', '-709.5', '-26.953002929688', '-0.1799926757812', '-709.5', '-26.835998535156', '-0.2969970703125', '-709.5', '-26.718994140625', '-0.4140014648438', '-709.5', '-26.484008789062', '-0.4140014648438', '-709.5', '-26.367004394531', '-0.531005859375', '-709.5', '-26.25', '-0.6480102539062', '-709.5', '-26.015991210938', '-0.6480102539062', '-709.5', '-25.898010253906', '-0.7659912109375', '-709.5', '-25.781005859375', '-0.8829956054688', '-709.5', '-25.546997070312', '-0.8829956054688', '-709.5', '-25.429992675781', '-1', '-709.5', '-25.31201171875', '-1.1170043945312', '-709.5', '-25.078002929688', '-1.1170043945312', '-709.5', '-24.960998535156', '-1.2340087890625', '-709.5', '-24.843994140625', '-1.3519897460938', '-709.5', '-24.609008789062', '-1.3519897460938', '-709.5', '-24.492004394531', '-1.468994140625', '-709.5', '-24.375', '-1.5859985351562', '-709.5', '-23.906005859375', '-1.5859985351562', '-709.5', '-23.789001464844', '-1.7030029296875', '-709.5', '-23.671997070312', '-1.8200073242188', '-709.5', '-22.968994140625', '-1.8200073242188', '-709.5', '-22.851989746094', '-1.93798828125', '-709.5', '-22.734008789062', '-2.0549926757812', '-709.5', '-22.5', '-2.0549926757812', '-709.5', '-22.382995605469', '-2.1719970703125', '-709.5', '-22.265991210938', '-2.2890014648438', '-709.5', '-21.796997070312', '-2.2890014648438', '-709.5', '-21.679992675781', '-2.406005859375', '-709.5', '-21.56201171875', '-2.5230102539062', '-709.5']\n",
       "   ---------\n",
       "   (3006, 0016)  Contour Image Sequence   1 item(s) ---- \n",
       "      (0008, 1150) Referenced SOP Class UID            UI: CT Image Storage\n",
       "      (0008, 1155) Referenced SOP Instance UID         UI: 2.16.840.1.114362.1.6.7.5.17616.11849865775.479250700.364.1400\n",
       "      ---------\n",
       "   (3006, 0042) Contour Geometric Type              CS: 'CLOSED_PLANAR'\n",
       "   (3006, 0046) Number of Contour Points            IS: '150'\n",
       "   (3006, 0050) Contour Data                        DS: ['-20.273010253906', '-2.875', '-712.5', '-20.156005859375', '-2.9920043945312', '-712.5', '-18.984008789062', '-2.9920043945312', '-712.5', '-18.867004394531', '-2.875', '-712.5', '-18.75', '-2.7579956054688', '-712.5', '-18.515991210938', '-2.7579956054688', '-712.5', '-18.398010253906', '-2.6409912109375', '-712.5', '-18.281005859375', '-2.5230102539062', '-712.5', '-18.164001464844', '-2.406005859375', '-712.5', '-18.046997070312', '-2.2890014648438', '-712.5', '-17.929992675781', '-2.1719970703125', '-712.5', '-17.81201171875', '-2.0549926757812', '-712.5', '-17.695007324219', '-1.93798828125', '-712.5', '-17.695007324219', '-1.2340087890625', '-712.5', '-17.578002929688', '-1.1170043945312', '-712.5', '-17.460998535156', '-1', '-712.5', '-17.460998535156', '-0.7659912109375', '-712.5', '-17.578002929688', '-0.6480102539062', '-712.5', '-17.695007324219', '-0.531005859375', '-712.5', '-17.695007324219', '-0.06201171875', '-712.5', '-17.81201171875', '0.05499267578125', '-712.5', '-17.929992675781', '0.1719970703125', '-712.5', '-17.929992675781', '0.406005859375', '-712.5', '-18.046997070312', '0.52301025390625', '-712.5', '-18.164001464844', '0.6409912109375', '-712.5', '-18.281005859375', '0.75799560546875', '-712.5', '-18.515991210938', '0.75799560546875', '-712.5', '-18.632995605469', '0.875', '-712.5', '-18.632995605469', '1.5780029296875', '-712.5', '-18.75', '1.6950073242188', '-712.5', '-18.867004394531', '1.81201171875', '-712.5', '-18.867004394531', '3.4530029296875', '-712.5', '-18.75', '3.5700073242188', '-712.5', '-18.632995605469', '3.68798828125', '-712.5', '-18.632995605469', '4.3909912109375', '-712.5', '-18.515991210938', '4.5079956054688', '-712.5', '-18.398010253906', '4.625', '-712.5', '-18.398010253906', '7.906005859375', '-712.5', '-18.281005859375', '8.0230102539062', '-712.5', '-18.164001464844', '8.1409912109375', '-712.5', '-18.164001464844', '8.6090087890625', '-712.5', '-18.281005859375', '8.7269897460938', '-712.5', '-18.398010253906', '8.843994140625', '-712.5', '-18.398010253906', '9.31201171875', '-712.5', '-18.515991210938', '9.4299926757812', '-712.5', '-18.632995605469', '9.5469970703125', '-712.5', '-18.632995605469', '9.781005859375', '-712.5', '-18.75', '9.8980102539062', '-712.5', '-18.867004394531', '10.016021728516', '-712.5', '-18.984008789062', '10.132995605469', '-712.5', '-19.101989746094', '10.25', '-712.5', '-19.218994140625', '10.367004394531', '-712.5', '-19.68798828125', '10.367004394531', '-712.5', '-19.804992675781', '10.484008789062', '-712.5', '-19.921997070312', '10.602020263672', '-712.5', '-21.56201171875', '10.602020263672', '-712.5', '-21.679992675781', '10.484008789062', '-712.5', '-21.796997070312', '10.367004394531', '-712.5', '-22.265991210938', '10.367004394531', '-712.5', '-22.382995605469', '10.25', '-712.5', '-22.5', '10.132995605469', '-712.5', '-22.734008789062', '10.132995605469', '-712.5', '-22.851989746094', '10.016021728516', '-712.5', '-22.968994140625', '9.8980102539062', '-712.5', '-23.085998535156', '9.781005859375', '-712.5', '-23.203002929688', '9.6640014648438', '-712.5', '-23.43798828125', '9.6640014648438', '-712.5', '-23.554992675781', '9.5469970703125', '-712.5', '-23.671997070312', '9.4299926757812', '-712.5', '-23.906005859375', '9.4299926757812', '-712.5', '-24.023010253906', '9.31201171875', '-712.5', '-24.140991210938', '9.1950073242188', '-712.5', '-25.31201171875', '9.1950073242188', '-712.5', '-25.429992675781', '9.0780029296875', '-712.5', '-25.546997070312', '8.9609985351562', '-712.5', '-27.18798828125', '8.9609985351562', '-712.5', '-27.304992675781', '8.843994140625', '-712.5', '-27.421997070312', '8.7269897460938', '-712.5', '-28.125', '8.7269897460938', '-712.5', '-28.242004394531', '8.6090087890625', '-712.5', '-28.359008789062', '8.4920043945312', '-712.5', '-28.593994140625', '8.4920043945312', '-712.5', '-28.710998535156', '8.375', '-712.5', '-28.828002929688', '8.2579956054688', '-712.5', '-28.945007324219', '8.1409912109375', '-712.5', '-29.06201171875', '8.0230102539062', '-712.5', '-29.179992675781', '7.906005859375', '-712.5', '-29.296997070312', '7.7890014648438', '-712.5', '-29.414001464844', '7.6719970703125', '-712.5', '-29.531005859375', '7.5549926757812', '-712.5', '-29.648010253906', '7.43798828125', '-712.5', '-29.648010253906', '7.2030029296875', '-712.5', '-29.765991210938', '7.0859985351562', '-712.5', '-29.882995605469', '6.968994140625', '-712.5', '-29.882995605469', '2.75', '-712.5', '-29.765991210938', '2.6329956054688', '-712.5', '-29.648010253906', '2.5159912109375', '-712.5', '-29.648010253906', '2.0469970703125', '-712.5', '-29.531005859375', '1.9299926757812', '-712.5', '-29.414001464844', '1.81201171875', '-712.5', '-29.414001464844', '1.5780029296875', '-712.5', '-29.296997070312', '1.4609985351562', '-712.5', '-29.179992675781', '1.343994140625', '-712.5', '-29.179992675781', '1.1090087890625', '-712.5', '-29.06201171875', '0.99200439453125', '-712.5', '-28.945007324219', '0.875', '-712.5', '-28.828002929688', '0.75799560546875', '-712.5', '-28.710998535156', '0.6409912109375', '-712.5', '-28.593994140625', '0.52301025390625', '-712.5', '-28.476989746094', '0.406005859375', '-712.5', '-28.359008789062', '0.28900146484375', '-712.5', '-28.242004394531', '0.1719970703125', '-712.5', '-28.125', '0.05499267578125', '-712.5', '-28.007995605469', '-0.06201171875', '-712.5', '-27.890991210938', '-0.1799926757812', '-712.5', '-27.773010253906', '-0.2969970703125', '-712.5', '-27.656005859375', '-0.4140014648438', '-712.5', '-27.539001464844', '-0.531005859375', '-712.5', '-27.421997070312', '-0.6480102539062', '-712.5', '-27.304992675781', '-0.7659912109375', '-712.5', '-27.18798828125', '-0.8829956054688', '-712.5', '-26.718994140625', '-0.8829956054688', '-712.5', '-26.601989746094', '-1', '-712.5', '-26.484008789062', '-1.1170043945312', '-712.5', '-26.25', '-1.1170043945312', '-712.5', '-26.132995605469', '-1.2340087890625', '-712.5', '-26.015991210938', '-1.3519897460938', '-712.5', '-25.898010253906', '-1.468994140625', '-712.5', '-25.781005859375', '-1.5859985351562', '-712.5', '-25.31201171875', '-1.5859985351562', '-712.5', '-25.195007324219', '-1.7030029296875', '-712.5', '-25.078002929688', '-1.8200073242188', '-712.5', '-24.375', '-1.8200073242188', '-712.5', '-24.257995605469', '-1.93798828125', '-712.5', '-24.140991210938', '-2.0549926757812', '-712.5', '-23.906005859375', '-2.0549926757812', '-712.5', '-23.789001464844', '-2.1719970703125', '-712.5', '-23.671997070312', '-2.2890014648438', '-712.5', '-22.265991210938', '-2.2890014648438', '-712.5', '-22.148010253906', '-2.1719970703125', '-712.5', '-22.031005859375', '-2.0549926757812', '-712.5', '-21.56201171875', '-2.0549926757812', '-712.5', '-21.445007324219', '-2.1719970703125', '-712.5', '-21.328002929688', '-2.2890014648438', '-712.5', '-21.210998535156', '-2.406005859375', '-712.5', '-21.093994140625', '-2.5230102539062', '-712.5', '-20.859008789062', '-2.5230102539062', '-712.5', '-20.742004394531', '-2.6409912109375', '-712.5', '-20.625', '-2.7579956054688', '-712.5', '-20.390991210938', '-2.7579956054688', '-712.5']\n",
       "   ---------\n",
       "   (3006, 0016)  Contour Image Sequence   1 item(s) ---- \n",
       "      (0008, 1150) Referenced SOP Class UID            UI: CT Image Storage\n",
       "      (0008, 1155) Referenced SOP Instance UID         UI: 2.16.840.1.114362.1.6.7.5.17616.11849865775.479250700.349.1399\n",
       "      ---------\n",
       "   (3006, 0042) Contour Geometric Type              CS: 'CLOSED_PLANAR'\n",
       "   (3006, 0046) Number of Contour Points            IS: '108'\n",
       "   (3006, 0050) Contour Data                        DS: ['-27.070007324219', '-0.7659912109375', '-715.5', '-26.953002929688', '-0.8829956054688', '-715.5', '-22.734008789062', '-0.8829956054688', '-715.5', '-22.617004394531', '-0.7659912109375', '-715.5', '-22.5', '-0.6480102539062', '-715.5', '-22.382995605469', '-0.531005859375', '-715.5', '-22.265991210938', '-0.4140014648438', '-715.5', '-22.148010253906', '-0.2969970703125', '-715.5', '-22.031005859375', '-0.1799926757812', '-715.5', '-21.796997070312', '-0.1799926757812', '-715.5', '-21.679992675781', '-0.06201171875', '-715.5', '-21.56201171875', '0.05499267578125', '-715.5', '-21.328002929688', '0.05499267578125', '-715.5', '-21.210998535156', '0.1719970703125', '-715.5', '-21.093994140625', '0.28900146484375', '-715.5', '-20.976989746094', '0.406005859375', '-715.5', '-20.976989746094', '0.875', '-715.5', '-20.859008789062', '0.99200439453125', '-715.5', '-20.742004394531', '1.1090087890625', '-715.5', '-20.742004394531', '2.0469970703125', '-715.5', '-20.625', '2.1640014648438', '-715.5', '-20.507995605469', '2.281005859375', '-715.5', '-20.507995605469', '2.75', '-715.5', '-20.390991210938', '2.8670043945312', '-715.5', '-20.273010253906', '2.9840087890625', '-715.5', '-20.156005859375', '3.1019897460938', '-715.5', '-20.039001464844', '3.218994140625', '-715.5', '-20.039001464844', '5.7969970703125', '-715.5', '-19.921997070312', '5.9140014648438', '-715.5', '-19.804992675781', '6.031005859375', '-715.5', '-19.804992675781', '8.6090087890625', '-715.5', '-19.921997070312', '8.7269897460938', '-715.5', '-20.039001464844', '8.843994140625', '-715.5', '-20.156005859375', '8.9609985351562', '-715.5', '-20.273010253906', '9.0780029296875', '-715.5', '-20.390991210938', '9.1950073242188', '-715.5', '-21.796997070312', '9.1950073242188', '-715.5', '-21.914001464844', '9.0780029296875', '-715.5', '-22.031005859375', '8.9609985351562', '-715.5', '-22.968994140625', '8.9609985351562', '-715.5', '-23.085998535156', '8.843994140625', '-715.5', '-23.203002929688', '8.7269897460938', '-715.5', '-23.43798828125', '8.7269897460938', '-715.5', '-23.554992675781', '8.6090087890625', '-715.5', '-23.671997070312', '8.4920043945312', '-715.5', '-23.906005859375', '8.4920043945312', '-715.5', '-24.023010253906', '8.375', '-715.5', '-24.140991210938', '8.2579956054688', '-715.5', '-24.375', '8.2579956054688', '-715.5', '-24.492004394531', '8.1409912109375', '-715.5', '-24.492004394531', '7.906005859375', '-715.5', '-24.609008789062', '7.7890014648438', '-715.5', '-24.726989746094', '7.6719970703125', '-715.5', '-24.843994140625', '7.5549926757812', '-715.5', '-24.960998535156', '7.43798828125', '-715.5', '-25.078002929688', '7.3200073242188', '-715.5', '-25.195007324219', '7.2030029296875', '-715.5', '-25.31201171875', '7.0859985351562', '-715.5', '-25.546997070312', '7.0859985351562', '-715.5', '-25.664001464844', '6.968994140625', '-715.5', '-25.781005859375', '6.8519897460938', '-715.5', '-25.898010253906', '6.7340087890625', '-715.5', '-26.015991210938', '6.6170043945312', '-715.5', '-26.484008789062', '6.6170043945312', '-715.5', '-26.601989746094', '6.5', '-715.5', '-26.718994140625', '6.3829956054688', '-715.5', '-26.953002929688', '6.3829956054688', '-715.5', '-27.070007324219', '6.2659912109375', '-715.5', '-27.18798828125', '6.1480102539062', '-715.5', '-27.421997070312', '6.1480102539062', '-715.5', '-27.539001464844', '6.031005859375', '-715.5', '-27.656005859375', '5.9140014648438', '-715.5', '-27.890991210938', '5.9140014648438', '-715.5', '-28.007995605469', '5.7969970703125', '-715.5', '-28.125', '5.6799926757812', '-715.5', '-28.359008789062', '5.6799926757812', '-715.5', '-28.476989746094', '5.56201171875', '-715.5', '-28.593994140625', '5.4450073242188', '-715.5', '-28.710998535156', '5.3280029296875', '-715.5', '-28.828002929688', '5.2109985351562', '-715.5', '-28.945007324219', '5.093994140625', '-715.5', '-29.06201171875', '4.9769897460938', '-715.5', '-29.179992675781', '4.8590087890625', '-715.5', '-29.296997070312', '4.7420043945312', '-715.5', '-29.414001464844', '4.625', '-715.5', '-29.531005859375', '4.5079956054688', '-715.5', '-29.648010253906', '4.3909912109375', '-715.5', '-29.648010253906', '4.156005859375', '-715.5', '-29.765991210938', '4.0390014648438', '-715.5', '-29.882995605469', '3.9219970703125', '-715.5', '-29.882995605469', '1.81201171875', '-715.5', '-29.765991210938', '1.6950073242188', '-715.5', '-29.648010253906', '1.5780029296875', '-715.5', '-29.648010253906', '1.1090087890625', '-715.5', '-29.531005859375', '0.99200439453125', '-715.5', '-29.414001464844', '0.875', '-715.5', '-29.414001464844', '0.6409912109375', '-715.5', '-29.296997070312', '0.52301025390625', '-715.5', '-29.179992675781', '0.406005859375', '-715.5', '-29.179992675781', '0.1719970703125', '-715.5', '-29.06201171875', '0.05499267578125', '-715.5', '-28.945007324219', '-0.06201171875', '-715.5', '-28.828002929688', '-0.1799926757812', '-715.5', '-28.710998535156', '-0.2969970703125', '-715.5', '-28.593994140625', '-0.4140014648438', '-715.5', '-28.476989746094', '-0.531005859375', '-715.5', '-28.359008789062', '-0.6480102539062', '-715.5', '-27.18798828125', '-0.6480102539062', '-715.5']\n",
       "   ---------\n",
       "   (3006, 0016)  Contour Image Sequence   1 item(s) ---- \n",
       "      (0008, 1150) Referenced SOP Class UID            UI: CT Image Storage\n",
       "      (0008, 1155) Referenced SOP Instance UID         UI: 2.16.840.1.114362.1.6.7.5.17616.11849865775.479250700.349.1398\n",
       "      ---------\n",
       "   (3006, 0042) Contour Geometric Type              CS: 'CLOSED_PLANAR'\n",
       "   (3006, 0046) Number of Contour Points            IS: '121'\n",
       "   (3006, 0050) Contour Data                        DS: ['-25.664001464844', '-1.2340087890625', '-718.5', '-25.546997070312', '-1.3519897460938', '-718.5', '-22.734008789062', '-1.3519897460938', '-718.5', '-22.617004394531', '-1.2340087890625', '-718.5', '-22.5', '-1.1170043945312', '-718.5', '-22.382995605469', '-1', '-718.5', '-22.265991210938', '-0.8829956054688', '-718.5', '-22.148010253906', '-0.7659912109375', '-718.5', '-22.031005859375', '-0.6480102539062', '-718.5', '-21.914001464844', '-0.531005859375', '-718.5', '-21.796997070312', '-0.4140014648438', '-718.5', '-21.679992675781', '-0.2969970703125', '-718.5', '-21.679992675781', '-0.06201171875', '-718.5', '-21.56201171875', '0.05499267578125', '-718.5', '-21.445007324219', '0.1719970703125', '-718.5', '-21.445007324219', '0.875', '-718.5', '-21.328002929688', '0.99200439453125', '-718.5', '-21.210998535156', '1.1090087890625', '-718.5', '-21.210998535156', '2.0469970703125', '-718.5', '-21.093994140625', '2.1640014648438', '-718.5', '-20.976989746094', '2.281005859375', '-718.5', '-20.976989746094', '2.5159912109375', '-718.5', '-20.859008789062', '2.6329956054688', '-718.5', '-20.742004394531', '2.75', '-718.5', '-20.742004394531', '4.8590087890625', '-718.5', '-20.625', '4.9769897460938', '-718.5', '-20.507995605469', '5.093994140625', '-718.5', '-20.507995605469', '7.43798828125', '-718.5', '-20.625', '7.5549926757812', '-718.5', '-20.742004394531', '7.6719970703125', '-718.5', '-20.859008789062', '7.7890014648438', '-718.5', '-21.796997070312', '7.7890014648438', '-718.5', '-21.914001464844', '7.6719970703125', '-718.5', '-22.031005859375', '7.5549926757812', '-718.5', '-22.148010253906', '7.43798828125', '-718.5', '-22.265991210938', '7.3200073242188', '-718.5', '-22.5', '7.3200073242188', '-718.5', '-22.617004394531', '7.2030029296875', '-718.5', '-22.734008789062', '7.0859985351562', '-718.5', '-22.968994140625', '7.0859985351562', '-718.5', '-23.085998535156', '6.968994140625', '-718.5', '-23.203002929688', '6.8519897460938', '-718.5', '-24.609008789062', '6.8519897460938', '-718.5', '-24.726989746094', '6.7340087890625', '-718.5', '-24.843994140625', '6.6170043945312', '-718.5', '-24.960998535156', '6.7340087890625', '-718.5', '-25.078002929688', '6.8519897460938', '-718.5', '-25.195007324219', '6.7340087890625', '-718.5', '-25.31201171875', '6.6170043945312', '-718.5', '-25.781005859375', '6.6170043945312', '-718.5', '-25.898010253906', '6.5', '-718.5', '-26.015991210938', '6.3829956054688', '-718.5', '-26.953002929688', '6.3829956054688', '-718.5', '-27.070007324219', '6.2659912109375', '-718.5', '-27.18798828125', '6.1480102539062', '-718.5', '-27.656005859375', '6.1480102539062', '-718.5', '-27.773010253906', '6.031005859375', '-718.5', '-27.890991210938', '5.9140014648438', '-718.5', '-28.007995605469', '5.7969970703125', '-718.5', '-28.125', '5.6799926757812', '-718.5', '-28.359008789062', '5.6799926757812', '-718.5', '-28.476989746094', '5.56201171875', '-718.5', '-28.593994140625', '5.4450073242188', '-718.5', '-28.710998535156', '5.3280029296875', '-718.5', '-28.828002929688', '5.2109985351562', '-718.5', '-28.945007324219', '5.093994140625', '-718.5', '-29.06201171875', '4.9769897460938', '-718.5', '-29.179992675781', '4.8590087890625', '-718.5', '-29.296997070312', '4.7420043945312', '-718.5', '-29.414001464844', '4.625', '-718.5', '-29.531005859375', '4.5079956054688', '-718.5', '-29.648010253906', '4.3909912109375', '-718.5', '-29.765991210938', '4.2730102539062', '-718.5', '-30', '4.2730102539062', '-718.5', '-30.117004394531', '4.156005859375', '-718.5', '-30.234008789062', '4.0390014648438', '-718.5', '-30.351989746094', '3.9219970703125', '-718.5', '-30.468994140625', '3.8049926757812', '-718.5', '-30.585998535156', '3.68798828125', '-718.5', '-30.703002929688', '3.5700073242188', '-718.5', '-31.171997070312', '3.5700073242188', '-718.5', '-31.289001464844', '3.4530029296875', '-718.5', '-31.289001464844', '3.218994140625', '-718.5', '-31.406005859375', '3.1019897460938', '-718.5', '-31.640991210938', '3.1019897460938', '-718.5', '-31.757995605469', '2.9840087890625', '-718.5', '-31.875', '2.8670043945312', '-718.5', '-31.992004394531', '2.75', '-718.5', '-32.109008789062', '2.6329956054688', '-718.5', '-32.226989746094', '2.5159912109375', '-718.5', '-32.226989746094', '2.281005859375', '-718.5', '-32.343994140625', '2.1640014648438', '-718.5', '-32.460998535156', '2.0469970703125', '-718.5', '-32.460998535156', '0.875', '-718.5', '-32.343994140625', '0.75799560546875', '-718.5', '-32.226989746094', '0.6409912109375', '-718.5', '-32.226989746094', '0.406005859375', '-718.5', '-32.109008789062', '0.28900146484375', '-718.5', '-31.992004394531', '0.1719970703125', '-718.5', '-31.992004394531', '-0.06201171875', '-718.5', '-31.875', '-0.1799926757812', '-718.5', '-31.757995605469', '-0.2969970703125', '-718.5', '-31.640991210938', '-0.4140014648438', '-718.5', '-31.523010253906', '-0.531005859375', '-718.5', '-31.406005859375', '-0.6480102539062', '-718.5', '-30.703002929688', '-0.6480102539062', '-718.5', '-30.585998535156', '-0.7659912109375', '-718.5', '-30.468994140625', '-0.8829956054688', '-718.5', '-30', '-0.8829956054688', '-718.5', '-29.882995605469', '-1', '-718.5', '-29.765991210938', '-1.1170043945312', '-718.5', '-26.953002929688', '-1.1170043945312', '-718.5', '-26.835998535156', '-1', '-718.5', '-26.718994140625', '-0.8829956054688', '-718.5', '-26.601989746094', '-1', '-718.5', '-26.484008789062', '-1.1170043945312', '-718.5', '-26.25', '-1.1170043945312', '-718.5', '-26.132995605469', '-1', '-718.5', '-26.015991210938', '-0.8829956054688', '-718.5', '-25.898010253906', '-1', '-718.5', '-25.781005859375', '-1.1170043945312', '-718.5']\n",
       "   ---------\n",
       "   (3006, 0016)  Contour Image Sequence   1 item(s) ---- \n",
       "      (0008, 1150) Referenced SOP Class UID            UI: CT Image Storage\n",
       "      (0008, 1155) Referenced SOP Instance UID         UI: 2.16.840.1.114362.1.6.7.5.17616.11849865775.479250700.349.1397\n",
       "      ---------\n",
       "   (3006, 0042) Contour Geometric Type              CS: 'CLOSED_PLANAR'\n",
       "   (3006, 0046) Number of Contour Points            IS: '88'\n",
       "   (3006, 0050) Contour Data                        DS: ['-30.117004394531', '-2.406005859375', '-721.5', '-30', '-2.5230102539062', '-721.5', '-27.18798828125', '-2.5230102539062', '-721.5', '-27.070007324219', '-2.406005859375', '-721.5', '-26.953002929688', '-2.2890014648438', '-721.5', '-26.015991210938', '-2.2890014648438', '-721.5', '-25.898010253906', '-2.1719970703125', '-721.5', '-25.781005859375', '-2.0549926757812', '-721.5', '-24.609008789062', '-2.0549926757812', '-721.5', '-24.492004394531', '-1.93798828125', '-721.5', '-24.375', '-1.8200073242188', '-721.5', '-24.257995605469', '-1.7030029296875', '-721.5', '-24.140991210938', '-1.5859985351562', '-721.5', '-23.203002929688', '-1.5859985351562', '-721.5', '-23.085998535156', '-1.468994140625', '-721.5', '-22.968994140625', '-1.3519897460938', '-721.5', '-22.5', '-1.3519897460938', '-721.5', '-22.382995605469', '-1.2340087890625', '-721.5', '-22.265991210938', '-1.1170043945312', '-721.5', '-22.148010253906', '-1', '-721.5', '-22.031005859375', '-0.8829956054688', '-721.5', '-21.914001464844', '-0.7659912109375', '-721.5', '-21.914001464844', '1.81201171875', '-721.5', '-21.796997070312', '1.9299926757812', '-721.5', '-21.679992675781', '2.0469970703125', '-721.5', '-21.679992675781', '2.5159912109375', '-721.5', '-21.56201171875', '2.6329956054688', '-721.5', '-21.445007324219', '2.75', '-721.5', '-21.445007324219', '5.093994140625', '-721.5', '-21.56201171875', '5.2109985351562', '-721.5', '-21.679992675781', '5.3280029296875', '-721.5', '-21.796997070312', '5.4450073242188', '-721.5', '-21.914001464844', '5.56201171875', '-721.5', '-22.031005859375', '5.6799926757812', '-721.5', '-22.968994140625', '5.6799926757812', '-721.5', '-23.085998535156', '5.56201171875', '-721.5', '-23.203002929688', '5.4450073242188', '-721.5', '-23.43798828125', '5.4450073242188', '-721.5', '-23.554992675781', '5.3280029296875', '-721.5', '-23.671997070312', '5.2109985351562', '-721.5', '-24.609008789062', '5.2109985351562', '-721.5', '-24.726989746094', '5.093994140625', '-721.5', '-24.843994140625', '4.9769897460938', '-721.5', '-25.31201171875', '4.9769897460938', '-721.5', '-25.429992675781', '4.8590087890625', '-721.5', '-25.546997070312', '4.7420043945312', '-721.5', '-25.781005859375', '4.7420043945312', '-721.5', '-25.898010253906', '4.625', '-721.5', '-26.015991210938', '4.5079956054688', '-721.5', '-26.484008789062', '4.5079956054688', '-721.5', '-26.601989746094', '4.3909912109375', '-721.5', '-26.718994140625', '4.2730102539062', '-721.5', '-26.835998535156', '4.156005859375', '-721.5', '-26.953002929688', '4.0390014648438', '-721.5', '-27.070007324219', '3.9219970703125', '-721.5', '-27.18798828125', '3.8049926757812', '-721.5', '-27.421997070312', '3.8049926757812', '-721.5', '-27.539001464844', '3.68798828125', '-721.5', '-27.656005859375', '3.5700073242188', '-721.5', '-27.890991210938', '3.5700073242188', '-721.5', '-28.007995605469', '3.4530029296875', '-721.5', '-28.125', '3.3359985351562', '-721.5', '-28.242004394531', '3.218994140625', '-721.5', '-28.359008789062', '3.1019897460938', '-721.5', '-28.593994140625', '3.1019897460938', '-721.5', '-28.710998535156', '2.9840087890625', '-721.5', '-28.828002929688', '2.8670043945312', '-721.5', '-29.06201171875', '2.8670043945312', '-721.5', '-29.179992675781', '2.75', '-721.5', '-29.296997070312', '2.6329956054688', '-721.5', '-29.531005859375', '2.6329956054688', '-721.5', '-29.648010253906', '2.5159912109375', '-721.5', '-29.765991210938', '2.3980102539062', '-721.5', '-29.882995605469', '2.281005859375', '-721.5', '-30', '2.1640014648438', '-721.5', '-30.117004394531', '2.0469970703125', '-721.5', '-30.234008789062', '1.9299926757812', '-721.5', '-30.351989746094', '1.81201171875', '-721.5', '-30.468994140625', '1.6950073242188', '-721.5', '-30.585998535156', '1.5780029296875', '-721.5', '-30.585998535156', '1.343994140625', '-721.5', '-30.703002929688', '1.2269897460938', '-721.5', '-30.820007324219', '1.1090087890625', '-721.5', '-30.820007324219', '-1.93798828125', '-721.5', '-30.703002929688', '-2.0549926757812', '-721.5', '-30.585998535156', '-2.1719970703125', '-721.5', '-30.468994140625', '-2.2890014648438', '-721.5', '-30.234008789062', '-2.2890014648438', '-721.5']\n",
       "   ---------\n",
       "   (3006, 0016)  Contour Image Sequence   1 item(s) ---- \n",
       "      (0008, 1150) Referenced SOP Class UID            UI: CT Image Storage\n",
       "      (0008, 1155) Referenced SOP Instance UID         UI: 2.16.840.1.114362.1.6.7.5.17616.11849865775.479250700.349.1396\n",
       "      ---------\n",
       "   (3006, 0042) Contour Geometric Type              CS: 'CLOSED_PLANAR'\n",
       "   (3006, 0046) Number of Contour Points            IS: '60'\n",
       "   (3006, 0050) Contour Data                        DS: ['-24.960998535156', '-2.1719970703125', '-724.5', '-24.843994140625', '-2.2890014648438', '-724.5', '-23.906005859375', '-2.2890014648438', '-724.5', '-23.789001464844', '-2.1719970703125', '-724.5', '-23.671997070312', '-2.0549926757812', '-724.5', '-22.265991210938', '-2.0549926757812', '-724.5', '-22.148010253906', '-1.93798828125', '-724.5', '-22.031005859375', '-1.8200073242188', '-724.5', '-21.914001464844', '-1.7030029296875', '-724.5', '-21.914001464844', '-0.531005859375', '-724.5', '-22.031005859375', '-0.4140014648438', '-724.5', '-22.148010253906', '-0.2969970703125', '-724.5', '-22.148010253906', '0.6409912109375', '-724.5', '-22.031005859375', '0.75799560546875', '-724.5', '-21.914001464844', '0.875', '-724.5', '-21.914001464844', '1.81201171875', '-724.5', '-21.796997070312', '1.9299926757812', '-724.5', '-21.679992675781', '2.0469970703125', '-724.5', '-21.679992675781', '2.75', '-724.5', '-21.796997070312', '2.8670043945312', '-724.5', '-21.914001464844', '2.9840087890625', '-724.5', '-22.031005859375', '3.1019897460938', '-724.5', '-22.148010253906', '3.218994140625', '-724.5', '-22.265991210938', '3.3359985351562', '-724.5', '-22.968994140625', '3.3359985351562', '-724.5', '-23.085998535156', '3.218994140625', '-724.5', '-23.203002929688', '3.1019897460938', '-724.5', '-23.43798828125', '3.1019897460938', '-724.5', '-23.554992675781', '2.9840087890625', '-724.5', '-23.671997070312', '2.8670043945312', '-724.5', '-24.843994140625', '2.8670043945312', '-724.5', '-24.960998535156', '2.75', '-724.5', '-25.078002929688', '2.6329956054688', '-724.5', '-26.484008789062', '2.6329956054688', '-724.5', '-26.601989746094', '2.5159912109375', '-724.5', '-26.718994140625', '2.3980102539062', '-724.5', '-28.828002929688', '2.3980102539062', '-724.5', '-28.945007324219', '2.281005859375', '-724.5', '-29.06201171875', '2.1640014648438', '-724.5', '-29.531005859375', '2.1640014648438', '-724.5', '-29.648010253906', '2.0469970703125', '-724.5', '-29.765991210938', '1.9299926757812', '-724.5', '-30', '1.9299926757812', '-724.5', '-30.117004394531', '1.81201171875', '-724.5', '-30.234008789062', '1.6950073242188', '-724.5', '-30.468994140625', '1.6950073242188', '-724.5', '-30.585998535156', '1.5780029296875', '-724.5', '-30.703002929688', '1.4609985351562', '-724.5', '-30.820007324219', '1.343994140625', '-724.5', '-30.820007324219', '1.1090087890625', '-724.5', '-30.93798828125', '0.99200439453125', '-724.5', '-31.054992675781', '0.875', '-724.5', '-31.054992675781', '-1.2340087890625', '-724.5', '-30.93798828125', '-1.3519897460938', '-724.5', '-30.820007324219', '-1.468994140625', '-724.5', '-30.820007324219', '-1.7030029296875', '-724.5', '-30.703002929688', '-1.8200073242188', '-724.5', '-30.585998535156', '-1.93798828125', '-724.5', '-30.468994140625', '-2.0549926757812', '-724.5', '-25.078002929688', '-2.0549926757812', '-724.5']\n",
       "   ---------\n",
       "   (3006, 0016)  Contour Image Sequence   1 item(s) ---- \n",
       "      (0008, 1150) Referenced SOP Class UID            UI: CT Image Storage\n",
       "      (0008, 1155) Referenced SOP Instance UID         UI: 2.16.840.1.114362.1.6.7.5.17616.11849865775.479250700.349.1395\n",
       "      ---------\n",
       "   (3006, 0042) Contour Geometric Type              CS: 'CLOSED_PLANAR'\n",
       "   (3006, 0046) Number of Contour Points            IS: '68'\n",
       "   (3006, 0050) Contour Data                        DS: ['-27.304992675781', '-3.343994140625', '-727.5', '-27.18798828125', '-3.4609985351562', '-727.5', '-24.375', '-3.4609985351562', '-727.5', '-24.257995605469', '-3.343994140625', '-727.5', '-24.140991210938', '-3.2269897460938', '-727.5', '-22.265991210938', '-3.2269897460938', '-727.5', '-22.148010253906', '-3.1090087890625', '-727.5', '-22.031005859375', '-2.9920043945312', '-727.5', '-21.328002929688', '-2.9920043945312', '-727.5', '-21.210998535156', '-2.875', '-727.5', '-21.093994140625', '-2.7579956054688', '-727.5', '-20.859008789062', '-2.7579956054688', '-727.5', '-20.742004394531', '-2.6409912109375', '-727.5', '-20.742004394531', '-1.7030029296875', '-727.5', '-20.859008789062', '-1.5859985351562', '-727.5', '-20.976989746094', '-1.468994140625', '-727.5', '-20.976989746094', '-1.2340087890625', '-727.5', '-21.093994140625', '-1.1170043945312', '-727.5', '-21.210998535156', '-1', '-727.5', '-21.328002929688', '-0.8829956054688', '-727.5', '-21.445007324219', '-0.7659912109375', '-727.5', '-21.56201171875', '-0.6480102539062', '-727.5', '-21.796997070312', '-0.6480102539062', '-727.5', '-21.914001464844', '-0.531005859375', '-727.5', '-22.031005859375', '-0.4140014648438', '-727.5', '-22.148010253906', '-0.2969970703125', '-727.5', '-22.265991210938', '-0.1799926757812', '-727.5', '-22.382995605469', '-0.06201171875', '-727.5', '-22.5', '0.05499267578125', '-727.5', '-22.617004394531', '0.1719970703125', '-727.5', '-22.617004394531', '0.406005859375', '-727.5', '-22.734008789062', '0.52301025390625', '-727.5', '-22.851989746094', '0.6409912109375', '-727.5', '-22.968994140625', '0.75799560546875', '-727.5', '-23.085998535156', '0.875', '-727.5', '-23.203002929688', '0.99200439453125', '-727.5', '-23.320007324219', '1.1090087890625', '-727.5', '-23.320007324219', '1.343994140625', '-727.5', '-23.43798828125', '1.4609985351562', '-727.5', '-23.554992675781', '1.5780029296875', '-727.5', '-23.671997070312', '1.6950073242188', '-727.5', '-23.906005859375', '1.6950073242188', '-727.5', '-24.023010253906', '1.81201171875', '-727.5', '-24.140991210938', '1.9299926757812', '-727.5', '-24.609008789062', '1.9299926757812', '-727.5', '-24.726989746094', '2.0469970703125', '-727.5', '-24.843994140625', '2.1640014648438', '-727.5', '-28.359008789062', '2.1640014648438', '-727.5', '-28.476989746094', '2.0469970703125', '-727.5', '-28.593994140625', '1.9299926757812', '-727.5', '-29.765991210938', '1.9299926757812', '-727.5', '-29.882995605469', '1.81201171875', '-727.5', '-30', '1.6950073242188', '-727.5', '-30.117004394531', '1.5780029296875', '-727.5', '-30.234008789062', '1.4609985351562', '-727.5', '-30.351989746094', '1.343994140625', '-727.5', '-30.351989746094', '-1.93798828125', '-727.5', '-30.234008789062', '-2.0549926757812', '-727.5', '-30.117004394531', '-2.1719970703125', '-727.5', '-30.117004394531', '-2.406005859375', '-727.5', '-30', '-2.5230102539062', '-727.5', '-29.882995605469', '-2.6409912109375', '-727.5', '-29.765991210938', '-2.7579956054688', '-727.5', '-29.648010253906', '-2.875', '-727.5', '-29.531005859375', '-2.9920043945312', '-727.5', '-29.414001464844', '-3.1090087890625', '-727.5', '-29.296997070312', '-3.2269897460938', '-727.5', '-27.421997070312', '-3.2269897460938', '-727.5']\n",
       "   ---------\n",
       "   (3006, 0016)  Contour Image Sequence   1 item(s) ---- \n",
       "      (0008, 1150) Referenced SOP Class UID            UI: CT Image Storage\n",
       "      (0008, 1155) Referenced SOP Instance UID         UI: 2.16.840.1.114362.1.6.7.5.17616.11849865775.479250700.349.1394\n",
       "      ---------\n",
       "   (3006, 0042) Contour Geometric Type              CS: 'CLOSED_PLANAR'\n",
       "   (3006, 0046) Number of Contour Points            IS: '89'\n",
       "   (3006, 0050) Contour Data                        DS: ['-24.023010253906', '-4.0469970703125', '-730.5', '-23.906005859375', '-4.1640014648438', '-730.5', '-22.968994140625', '-4.1640014648438', '-730.5', '-22.851989746094', '-4.0469970703125', '-730.5', '-22.734008789062', '-3.9299926757812', '-730.5', '-22.5', '-3.9299926757812', '-730.5', '-22.382995605469', '-3.81201171875', '-730.5', '-22.382995605469', '-3.5780029296875', '-730.5', '-22.265991210938', '-3.4609985351562', '-730.5', '-22.148010253906', '-3.343994140625', '-730.5', '-22.148010253906', '-2.1719970703125', '-730.5', '-22.265991210938', '-2.0549926757812', '-730.5', '-22.382995605469', '-1.93798828125', '-730.5', '-22.5', '-1.8200073242188', '-730.5', '-22.617004394531', '-1.7030029296875', '-730.5', '-22.734008789062', '-1.5859985351562', '-730.5', '-22.851989746094', '-1.468994140625', '-730.5', '-22.968994140625', '-1.3519897460938', '-730.5', '-23.203002929688', '-1.3519897460938', '-730.5', '-23.320007324219', '-1.2340087890625', '-730.5', '-23.43798828125', '-1.1170043945312', '-730.5', '-23.554992675781', '-1', '-730.5', '-23.671997070312', '-0.8829956054688', '-730.5', '-23.906005859375', '-0.8829956054688', '-730.5', '-24.023010253906', '-0.7659912109375', '-730.5', '-24.140991210938', '-0.6480102539062', '-730.5', '-24.257995605469', '-0.531005859375', '-730.5', '-24.375', '-0.4140014648438', '-730.5', '-24.492004394531', '-0.2969970703125', '-730.5', '-24.609008789062', '-0.1799926757812', '-730.5', '-24.843994140625', '-0.1799926757812', '-730.5', '-24.960998535156', '-0.06201171875', '-730.5', '-25.078002929688', '0.05499267578125', '-730.5', '-25.31201171875', '0.05499267578125', '-730.5', '-25.429992675781', '0.1719970703125', '-730.5', '-25.546997070312', '0.28900146484375', '-730.5', '-25.781005859375', '0.28900146484375', '-730.5', '-25.898010253906', '0.406005859375', '-730.5', '-26.015991210938', '0.52301025390625', '-730.5', '-26.25', '0.52301025390625', '-730.5', '-26.367004394531', '0.6409912109375', '-730.5', '-26.484008789062', '0.75799560546875', '-730.5', '-26.718994140625', '0.75799560546875', '-730.5', '-26.835998535156', '0.875', '-730.5', '-26.953002929688', '0.99200439453125', '-730.5', '-29.06201171875', '0.99200439453125', '-730.5', '-29.179992675781', '0.875', '-730.5', '-29.296997070312', '0.75799560546875', '-730.5', '-29.414001464844', '0.6409912109375', '-730.5', '-29.531005859375', '0.52301025390625', '-730.5', '-29.765991210938', '0.52301025390625', '-730.5', '-29.882995605469', '0.406005859375', '-730.5', '-30', '0.28900146484375', '-730.5', '-30.117004394531', '0.1719970703125', '-730.5', '-30.234008789062', '0.05499267578125', '-730.5', '-30.351989746094', '-0.06201171875', '-730.5', '-30.468994140625', '-0.1799926757812', '-730.5', '-30.585998535156', '-0.2969970703125', '-730.5', '-30.585998535156', '-1.468994140625', '-730.5', '-30.468994140625', '-1.5859985351562', '-730.5', '-30.351989746094', '-1.7030029296875', '-730.5', '-30.234008789062', '-1.8200073242188', '-730.5', '-30.117004394531', '-1.93798828125', '-730.5', '-30', '-2.0549926757812', '-730.5', '-29.765991210938', '-2.0549926757812', '-730.5', '-29.648010253906', '-2.1719970703125', '-730.5', '-29.531005859375', '-2.2890014648438', '-730.5', '-29.296997070312', '-2.2890014648438', '-730.5', '-29.179992675781', '-2.406005859375', '-730.5', '-29.06201171875', '-2.5230102539062', '-730.5', '-28.828002929688', '-2.5230102539062', '-730.5', '-28.710998535156', '-2.6409912109375', '-730.5', '-28.593994140625', '-2.7579956054688', '-730.5', '-28.359008789062', '-2.7579956054688', '-730.5', '-28.242004394531', '-2.875', '-730.5', '-28.125', '-2.9920043945312', '-730.5', '-27.890991210938', '-2.9920043945312', '-730.5', '-27.773010253906', '-3.1090087890625', '-730.5', '-27.656005859375', '-3.2269897460938', '-730.5', '-27.421997070312', '-3.2269897460938', '-730.5', '-27.304992675781', '-3.343994140625', '-730.5', '-27.18798828125', '-3.4609985351562', '-730.5', '-26.484008789062', '-3.4609985351562', '-730.5', '-26.367004394531', '-3.5780029296875', '-730.5', '-26.25', '-3.6950073242188', '-730.5', '-25.31201171875', '-3.6950073242188', '-730.5', '-25.195007324219', '-3.81201171875', '-730.5', '-25.078002929688', '-3.9299926757812', '-730.5', '-24.140991210938', '-3.9299926757812', '-730.5']\n",
       "   ---------\n",
       "(3006, 0084) Referenced ROI Number               IS: '10'"
      ]
     },
     "execution_count": 15,
     "metadata": {},
     "output_type": "execute_result"
    }
   ],
   "source": [
    "cffas.ROIContourSequence[9] #.ContourSequence[0]"
   ]
  },
  {
   "cell_type": "markdown",
   "metadata": {},
   "source": [
    "I am going to find the pixel that is closest to this:"
   ]
  },
  {
   "cell_type": "code",
   "execution_count": null,
   "metadata": {},
   "outputs": [],
   "source": []
  },
  {
   "cell_type": "code",
   "execution_count": null,
   "metadata": {},
   "outputs": [],
   "source": []
  },
  {
   "cell_type": "code",
   "execution_count": null,
   "metadata": {},
   "outputs": [],
   "source": []
  },
  {
   "cell_type": "code",
   "execution_count": null,
   "metadata": {},
   "outputs": [],
   "source": []
  },
  {
   "cell_type": "code",
   "execution_count": null,
   "metadata": {},
   "outputs": [],
   "source": []
  },
  {
   "cell_type": "markdown",
   "metadata": {},
   "source": [
    "Look at the image:"
   ]
  },
  {
   "cell_type": "code",
   "execution_count": 16,
   "metadata": {},
   "outputs": [
    {
     "data": {
      "text/plain": [
       "pydicom.uid.UID"
      ]
     },
     "execution_count": 16,
     "metadata": {},
     "output_type": "execute_result"
    }
   ],
   "source": [
    "type(cffas.ROIContourSequence[9].ContourSequence[0].ContourImageSequence[0].ReferencedSOPInstanceUID)"
   ]
  },
  {
   "cell_type": "code",
   "execution_count": 17,
   "metadata": {},
   "outputs": [],
   "source": [
    "current_uid = cffas.ROIContourSequence[9].ContourSequence[0].ContourImageSequence[0].ReferencedSOPInstanceUID\n",
    "found_filename = uid_to_filename_map[current_uid] # correct image \n",
    "\n",
    "found_filename"
   ]
  },
  {
   "cell_type": "code",
   "execution_count": 92,
   "metadata": {},
   "outputs": [
    {
     "data": {
      "text/plain": [
       "array([[0, 0, 0, ..., 0, 0, 0],\n",
       "       [0, 0, 0, ..., 0, 0, 0],\n",
       "       [0, 0, 0, ..., 0, 0, 0],\n",
       "       ...,\n",
       "       [0, 0, 0, ..., 0, 0, 0],\n",
       "       [0, 0, 0, ..., 0, 0, 0],\n",
       "       [0, 0, 0, ..., 0, 0, 0]], dtype=uint16)"
      ]
     },
     "execution_count": 92,
     "metadata": {},
     "output_type": "execute_result"
    }
   ],
   "source": [
    "data_file_of_CT_scan_with_first_contour = pydicom.dcmread(found_filename)\n",
    "pixel_array_of_first_contour = data_file_of_CT_scan_with_first_contour.pixel_array\n",
    "pixel_array_of_first_contour"
   ]
  },
  {
   "cell_type": "code",
   "execution_count": 96,
   "metadata": {},
   "outputs": [
    {
     "data": {
      "text/plain": [
       "(512, 512)"
      ]
     },
     "execution_count": 96,
     "metadata": {},
     "output_type": "execute_result"
    }
   ],
   "source": [
    "pixel_array_of_first_contour.shape"
   ]
  },
  {
   "cell_type": "code",
   "execution_count": 124,
   "metadata": {},
   "outputs": [
    {
     "data": {
      "text/plain": [
       "'data/P1152/P1152_pCT_20140226_093.dcm'"
      ]
     },
     "execution_count": 124,
     "metadata": {},
     "output_type": "execute_result"
    }
   ],
   "source": [
    "found_filename"
   ]
  },
  {
   "cell_type": "code",
   "execution_count": 122,
   "metadata": {},
   "outputs": [],
   "source": [
    "data_file_of_last_slice_of_CT_scan = pydicom.dcmread(found_filename)\n",
    "pixel_array = data_file_of_last_slice_of_CT_scan.pixel_array #pixel array of ct scan"
   ]
  },
  {
   "cell_type": "code",
   "execution_count": 125,
   "metadata": {},
   "outputs": [
    {
     "data": {
      "text/plain": [
       "<matplotlib.colorbar.Colorbar at 0x11c1e8160>"
      ]
     },
     "execution_count": 125,
     "metadata": {},
     "output_type": "execute_result"
    },
    {
     "data": {
      "image/png": "[encoded data removed]",
      "text/plain": [
       "<Figure size 432x288 with 2 Axes>"
      ]
     },
     "metadata": {},
     "output_type": "display_data"
    }
   ],
   "source": [
    "pixel_array\n",
    "\n",
    "plt.imshow(pixel_array, cmap=plt.cm.bone)  # i like the cm.heat\n",
    "plt.colorbar()"
   ]
  },
  {
   "cell_type": "code",
   "execution_count": 30,
   "metadata": {},
   "outputs": [
    {
     "data": {
      "text/plain": [
       "333"
      ]
     },
     "execution_count": 30,
     "metadata": {},
     "output_type": "execute_result"
    }
   ],
   "source": [
    "len(cffas.ROIContourSequence[9].ContourSequence[0].ContourData)"
   ]
  },
  {
   "cell_type": "markdown",
   "metadata": {},
   "source": [
    "How to convert the coordinates to other coordinates:"
   ]
  },
  {
   "cell_type": "markdown",
   "metadata": {},
   "source": [
    "Two things left: \n",
    "\n",
    "* Convert the coordinates to pixels.\n",
    "* Check that these are the correct pixels. (well I already checked)\n",
    "* Here I used the dicompyler UI to figure out what the ends are for the images. Will this always work?\n",
    "* Also are these all the pixels that fall within the contours or just the boundary?"
   ]
  },
  {
   "cell_type": "markdown",
   "metadata": {},
   "source": [
    "##### Observing that \n",
    "for X coordinates:\n",
    "0th pixel is -300mm.\n",
    "511th pixel is 298.83mm.\n",
    "\n",
    "for Y coordinates:\n",
    "0th pixel is -271mm.\n",
    "511th pixel is 327.83mm"
   ]
  },
  {
   "cell_type": "code",
   "execution_count": 21,
   "metadata": {},
   "outputs": [
    {
     "data": {
      "text/plain": [
       "598.8299999999999"
      ]
     },
     "execution_count": 21,
     "metadata": {},
     "output_type": "execute_result"
    }
   ],
   "source": [
    "min_x = -300\n",
    "max_x = 298.83\n",
    "298.83+300"
   ]
  },
  {
   "cell_type": "code",
   "execution_count": 49,
   "metadata": {},
   "outputs": [
    {
     "data": {
      "text/plain": [
       "1.1718786692759293"
      ]
     },
     "execution_count": 49,
     "metadata": {},
     "output_type": "execute_result"
    }
   ],
   "source": [
    "gap"
   ]
  },
  {
   "cell_type": "code",
   "execution_count": 22,
   "metadata": {},
   "outputs": [
    {
     "data": {
      "text/plain": [
       "598.8299999999999"
      ]
     },
     "execution_count": 22,
     "metadata": {},
     "output_type": "execute_result"
    }
   ],
   "source": [
    "327.83+271"
   ]
  },
  {
   "cell_type": "markdown",
   "metadata": {},
   "source": [
    "The sum is that."
   ]
  },
  {
   "cell_type": "code",
   "execution_count": 23,
   "metadata": {},
   "outputs": [],
   "source": [
    "total_length = 298.83+300"
   ]
  },
  {
   "cell_type": "code",
   "execution_count": 25,
   "metadata": {},
   "outputs": [],
   "source": [
    "gap = total_length/511 # ~1.17"
   ]
  },
  {
   "cell_type": "markdown",
   "metadata": {},
   "source": [
    "Of course there is going to be some rounding issues."
   ]
  },
  {
   "cell_type": "markdown",
   "metadata": {},
   "source": [
    "Let's convert an x coordinate to a pixel number:"
   ]
  },
  {
   "cell_type": "markdown",
   "metadata": {},
   "source": [
    "Starts with -300, and ends with 298.83"
   ]
  },
  {
   "cell_type": "code",
   "execution_count": 35,
   "metadata": {},
   "outputs": [],
   "source": [
    "sample_3d_coordinates = cffas.ROIContourSequence[9].ContourSequence[0].ContourData[:3]"
   ]
  },
  {
   "cell_type": "code",
   "execution_count": 38,
   "metadata": {},
   "outputs": [
    {
     "data": {
      "text/plain": [
       "[\"13.476989746094\", \"18.68798828125\", \"-658.5\"]"
      ]
     },
     "execution_count": 38,
     "metadata": {},
     "output_type": "execute_result"
    }
   ],
   "source": [
    "sample_3d_coordinates"
   ]
  },
  {
   "cell_type": "code",
   "execution_count": 36,
   "metadata": {},
   "outputs": [],
   "source": [
    "sample_3d_coordinates_digits = [float(n) for n in sample_3d_coordinates ]"
   ]
  },
  {
   "cell_type": "code",
   "execution_count": 37,
   "metadata": {},
   "outputs": [
    {
     "data": {
      "text/plain": [
       "[13.476989746094, 18.68798828125, -658.5]"
      ]
     },
     "execution_count": 37,
     "metadata": {},
     "output_type": "execute_result"
    }
   ],
   "source": [
    "sample_3d_coordinates_digits"
   ]
  },
  {
   "cell_type": "code",
   "execution_count": 41,
   "metadata": {},
   "outputs": [
    {
     "data": {
      "text/plain": [
       "271.94623183828264"
      ]
     },
     "execution_count": 41,
     "metadata": {},
     "output_type": "execute_result"
    }
   ],
   "source": [
    "(sample_3d_coordinates_digits[1]+300)/gap"
   ]
  },
  {
   "cell_type": "code",
   "execution_count": 63,
   "metadata": {},
   "outputs": [
    {
     "data": {
      "text/plain": [
       "['13.476989746094', '18.68798828125', '-658.5', '13.593994140625', '18.570007324219', '-658.5', '15.703002929688', '18.570007324219', '-658.5', '15.820007324219', '18.68798828125', '-658.5', '15.820007324219', '18.922027587891', '-658.5', '15.93798828125', '19.039001464844', '-658.5', '16.054992675781', '19.156005859375', '-658.5', '16.054992675781', '19.859008789062', '-658.5', '16.171997070312', '19.977020263672', '-658.5', '16.289001464844', '20.093994140625', '-658.5', '16.406005859375', '20.210998535156', '-658.5', '16.523010253906', '20.328002929688', '-658.5', '16.523010253906', '20.56201171875', '-658.5', '16.406005859375', '20.680023193359', '-658.5', '16.289001464844', '20.797027587891', '-658.5', '16.171997070312', '20.914001464844', '-658.5', '16.054992675781', '21.031005859375', '-658.5', '16.054992675781', '21.266021728516', '-658.5', '15.93798828125', '21.382995605469', '-658.5', '15.820007324219', '21.5', '-658.5', '15.820007324219', '21.734008789062', '-658.5', '15.703002929688', '21.852020263672', '-658.5', '15.585998535156', '21.968994140625', '-658.5', '15.585998535156', '22.203002929688', '-658.5', '15.468994140625', '22.320007324219', '-658.5', '15.351989746094', '22.43798828125', '-658.5', '15.351989746094', '22.672027587891', '-658.5', '15.468994140625', '22.789001464844', '-658.5', '15.585998535156', '22.906005859375', '-658.5', '15.585998535156', '23.141021728516', '-658.5', '15.703002929688', '23.257995605469', '-658.5', '15.820007324219', '23.375', '-658.5', '15.93798828125', '23.492004394531', '-658.5', '16.054992675781', '23.609008789062', '-658.5', '16.171997070312', '23.727020263672', '-658.5', '16.289001464844', '23.843994140625', '-658.5', '16.289001464844', '24.078002929688', '-658.5', '16.406005859375', '24.195007324219', '-658.5', '16.523010253906', '24.31201171875', '-658.5', '16.523010253906', '25.016021728516', '-658.5', '16.406005859375', '25.132995605469', '-658.5', '16.289001464844', '25.25', '-658.5', '16.289001464844', '25.484008789062', '-658.5', '16.171997070312', '25.602020263672', '-658.5', '16.054992675781', '25.718994140625', '-658.5', '15.93798828125', '25.835998535156', '-658.5', '15.820007324219', '25.953002929688', '-658.5', '15.703002929688', '26.070007324219', '-658.5', '14.531005859375', '26.070007324219', '-658.5', '14.414001464844', '25.953002929688', '-658.5', '14.296997070312', '25.835998535156', '-658.5', '14.06201171875', '25.835998535156', '-658.5', '13.945007324219', '25.718994140625', '-658.5', '13.828002929688', '25.602020263672', '-658.5', '13.710998535156', '25.484008789062', '-658.5', '13.593994140625', '25.367004394531', '-658.5', '13.476989746094', '25.25', '-658.5', '13.359008789062', '25.132995605469', '-658.5', '13.242004394531', '25.016021728516', '-658.5', '13.125', '24.898010253906', '-658.5', '13.007995605469', '24.781005859375', '-658.5', '13.007995605469', '24.547027587891', '-658.5', '12.890991210938', '24.430023193359', '-658.5', '12.773010253906', '24.31201171875', '-658.5', '12.773010253906', '23.609008789062', '-658.5', '12.656005859375', '23.492004394531', '-658.5', '12.421997070312', '23.492004394531', '-658.5', '12.304992675781', '23.375', '-658.5', '12.18798828125', '23.257995605469', '-658.5', '12.070007324219', '23.141021728516', '-658.5', '11.953002929688', '23.023010253906', '-658.5', '11.835998535156', '22.906005859375', '-658.5', '11.718994140625', '22.789001464844', '-658.5', '11.601989746094', '22.672027587891', '-658.5', '11.601989746094', '22.43798828125', '-658.5', '11.484008789062', '22.320007324219', '-658.5', '11.367004394531', '22.203002929688', '-658.5', '11.25', '22.085998535156', '-658.5', '11.015991210938', '22.085998535156', '-658.5', '10.898010253906', '22.203002929688', '-658.5', '10.781005859375', '22.320007324219', '-658.5', '10.664001464844', '22.43798828125', '-658.5', '10.546997070312', '22.555023193359', '-658.5', '10.31201171875', '22.555023193359', '-658.5', '10.195007324219', '22.43798828125', '-658.5', '10.31201171875', '22.320007324219', '-658.5', '10.429992675781', '22.203002929688', '-658.5', '10.429992675781', '21.968994140625', '-658.5', '10.546997070312', '21.852020263672', '-658.5', '10.664001464844', '21.734008789062', '-658.5', '10.664001464844', '21.266021728516', '-658.5', '10.781005859375', '21.148010253906', '-658.5', '10.898010253906', '21.031005859375', '-658.5', '10.898010253906', '20.797027587891', '-658.5', '11.015991210938', '20.680023193359', '-658.5', '11.132995605469', '20.56201171875', '-658.5', '11.132995605469', '20.328002929688', '-658.5', '11.25', '20.210998535156', '-658.5', '11.367004394531', '20.093994140625', '-658.5', '11.367004394531', '19.859008789062', '-658.5', '11.484008789062', '19.742004394531', '-658.5', '11.601989746094', '19.625', '-658.5', '11.718994140625', '19.507995605469', '-658.5', '11.953002929688', '19.507995605469', '-658.5', '12.070007324219', '19.391021728516', '-658.5', '12.070007324219', '19.156005859375', '-658.5', '12.18798828125', '19.039001464844', '-658.5', '12.421997070312', '19.039001464844', '-658.5', '12.539001464844', '18.922027587891', '-658.5', '12.656005859375', '18.805023193359', '-658.5', '13.359008789062', '18.805023193359', '-658.5']"
      ]
     },
     "execution_count": 63,
     "metadata": {},
     "output_type": "execute_result"
    }
   ],
   "source": [
    "cffas.ROIContourSequence[9].ContourSequence[0].ContourData"
   ]
  },
  {
   "cell_type": "code",
   "execution_count": 66,
   "metadata": {},
   "outputs": [],
   "source": [
    "gap = 1.171875"
   ]
  },
  {
   "cell_type": "code",
   "execution_count": 67,
   "metadata": {},
   "outputs": [
    {
     "data": {
      "text/plain": [
       "267.5003645833335"
      ]
     },
     "execution_count": 67,
     "metadata": {},
     "output_type": "execute_result"
    }
   ],
   "source": [
    "(13.476989746094 + 300)/gap"
   ]
  },
  {
   "cell_type": "code",
   "execution_count": 68,
   "metadata": {},
   "outputs": [],
   "source": [
    "all_contours = cffas.ROIContourSequence[9].ContourSequence[0].ContourData"
   ]
  },
  {
   "cell_type": "code",
   "execution_count": 69,
   "metadata": {},
   "outputs": [],
   "source": [
    "all_x_contours = all_contours[0::3]"
   ]
  },
  {
   "cell_type": "code",
   "execution_count": 70,
   "metadata": {},
   "outputs": [],
   "source": [
    "all_y_contours = all_contours[1::3]"
   ]
  },
  {
   "cell_type": "code",
   "execution_count": 71,
   "metadata": {},
   "outputs": [
    {
     "data": {
      "text/plain": [
       "\"-658.5\""
      ]
     },
     "execution_count": 71,
     "metadata": {},
     "output_type": "execute_result"
    }
   ],
   "source": [
    "all_contours[2]"
   ]
  },
  {
   "cell_type": "code",
   "execution_count": 72,
   "metadata": {},
   "outputs": [
    {
     "data": {
      "text/plain": [
       "267.3996874999996"
      ]
     },
     "execution_count": 72,
     "metadata": {},
     "output_type": "execute_result"
    }
   ],
   "source": [
    "(x_coord - x_start)/gap"
   ]
  },
  {
   "cell_type": "code",
   "execution_count": 45,
   "metadata": {},
   "outputs": [
    {
     "data": {
      "text/plain": [
       "[\"13.476989746094\",\n",
       " \"13.593994140625\",\n",
       " \"15.703002929688\",\n",
       " \"15.820007324219\",\n",
       " \"15.820007324219\",\n",
       " \"15.93798828125\",\n",
       " \"16.054992675781\",\n",
       " \"16.054992675781\",\n",
       " \"16.171997070312\",\n",
       " \"16.289001464844\",\n",
       " \"16.406005859375\",\n",
       " \"16.523010253906\",\n",
       " \"16.523010253906\",\n",
       " \"16.406005859375\",\n",
       " \"16.289001464844\",\n",
       " \"16.171997070312\",\n",
       " \"16.054992675781\",\n",
       " \"16.054992675781\",\n",
       " \"15.93798828125\",\n",
       " \"15.820007324219\",\n",
       " \"15.820007324219\",\n",
       " \"15.703002929688\",\n",
       " \"15.585998535156\",\n",
       " \"15.585998535156\",\n",
       " \"15.468994140625\",\n",
       " \"15.351989746094\",\n",
       " \"15.351989746094\",\n",
       " \"15.468994140625\",\n",
       " \"15.585998535156\",\n",
       " \"15.585998535156\",\n",
       " \"15.703002929688\",\n",
       " \"15.820007324219\",\n",
       " \"15.93798828125\",\n",
       " \"16.054992675781\",\n",
       " \"16.171997070312\",\n",
       " \"16.289001464844\",\n",
       " \"16.289001464844\",\n",
       " \"16.406005859375\",\n",
       " \"16.523010253906\",\n",
       " \"16.523010253906\",\n",
       " \"16.406005859375\",\n",
       " \"16.289001464844\",\n",
       " \"16.289001464844\",\n",
       " \"16.171997070312\",\n",
       " \"16.054992675781\",\n",
       " \"15.93798828125\",\n",
       " \"15.820007324219\",\n",
       " \"15.703002929688\",\n",
       " \"14.531005859375\",\n",
       " \"14.414001464844\",\n",
       " \"14.296997070312\",\n",
       " \"14.06201171875\",\n",
       " \"13.945007324219\",\n",
       " \"13.828002929688\",\n",
       " \"13.710998535156\",\n",
       " \"13.593994140625\",\n",
       " \"13.476989746094\",\n",
       " \"13.359008789062\",\n",
       " \"13.242004394531\",\n",
       " \"13.125\",\n",
       " \"13.007995605469\",\n",
       " \"13.007995605469\",\n",
       " \"12.890991210938\",\n",
       " \"12.773010253906\",\n",
       " \"12.773010253906\",\n",
       " \"12.656005859375\",\n",
       " \"12.421997070312\",\n",
       " \"12.304992675781\",\n",
       " \"12.18798828125\",\n",
       " \"12.070007324219\",\n",
       " \"11.953002929688\",\n",
       " \"11.835998535156\",\n",
       " \"11.718994140625\",\n",
       " \"11.601989746094\",\n",
       " \"11.601989746094\",\n",
       " \"11.484008789062\",\n",
       " \"11.367004394531\",\n",
       " \"11.25\",\n",
       " \"11.015991210938\",\n",
       " \"10.898010253906\",\n",
       " \"10.781005859375\",\n",
       " \"10.664001464844\",\n",
       " \"10.546997070312\",\n",
       " \"10.31201171875\",\n",
       " \"10.195007324219\",\n",
       " \"10.31201171875\",\n",
       " \"10.429992675781\",\n",
       " \"10.429992675781\",\n",
       " \"10.546997070312\",\n",
       " \"10.664001464844\",\n",
       " \"10.664001464844\",\n",
       " \"10.781005859375\",\n",
       " \"10.898010253906\",\n",
       " \"10.898010253906\",\n",
       " \"11.015991210938\",\n",
       " \"11.132995605469\",\n",
       " \"11.132995605469\",\n",
       " \"11.25\",\n",
       " \"11.367004394531\",\n",
       " \"11.367004394531\",\n",
       " \"11.484008789062\",\n",
       " \"11.601989746094\",\n",
       " \"11.718994140625\",\n",
       " \"11.953002929688\",\n",
       " \"12.070007324219\",\n",
       " \"12.070007324219\",\n",
       " \"12.18798828125\",\n",
       " \"12.421997070312\",\n",
       " \"12.539001464844\",\n",
       " \"12.656005859375\",\n",
       " \"13.359008789062\"]"
      ]
     },
     "execution_count": 45,
     "metadata": {},
     "output_type": "execute_result"
    }
   ],
   "source": [
    "all_x_contours"
   ]
  },
  {
   "cell_type": "code",
   "execution_count": null,
   "metadata": {},
   "outputs": [],
   "source": [
    "all_x_contours + "
   ]
  },
  {
   "cell_type": "code",
   "execution_count": 83,
   "metadata": {},
   "outputs": [],
   "source": [
    "x_pixels = []\n",
    "for x_coord in all_x_contours:\n",
    "    x_pixels.append(round((x_coord - x_start)/gap))"
   ]
  },
  {
   "cell_type": "code",
   "execution_count": 126,
   "metadata": {},
   "outputs": [
    {
     "data": {
      "text/plain": [
       "\"18.805023193359\""
      ]
     },
     "execution_count": 126,
     "metadata": {},
     "output_type": "execute_result"
    }
   ],
   "source": [
    "all_y_"
   ]
  },
  {
   "cell_type": "code",
   "execution_count": 84,
   "metadata": {},
   "outputs": [],
   "source": [
    "y_pixels = []\n",
    "for y_coord in all_y_contours:\n",
    "    y_pixels.append(round((y_coord - y_start)/gap))"
   ]
  },
  {
   "cell_type": "code",
   "execution_count": 86,
   "metadata": {},
   "outputs": [
    {
     "data": {
      "text/plain": [
       "[247,\n",
       " 247,\n",
       " 247,\n",
       " 247,\n",
       " 247,\n",
       " 247,\n",
       " 248,\n",
       " 248,\n",
       " 248,\n",
       " 248,\n",
       " 249,\n",
       " 249,\n",
       " 249,\n",
       " 249,\n",
       " 249,\n",
       " 249,\n",
       " 249,\n",
       " 249,\n",
       " 250,\n",
       " 250,\n",
       " 250,\n",
       " 250,\n",
       " 250,\n",
       " 250,\n",
       " 250,\n",
       " 250,\n",
       " 251,\n",
       " 251,\n",
       " 251,\n",
       " 251,\n",
       " 251,\n",
       " 251,\n",
       " 251,\n",
       " 251,\n",
       " 252,\n",
       " 252,\n",
       " 252,\n",
       " 252,\n",
       " 252,\n",
       " 253,\n",
       " 253,\n",
       " 253,\n",
       " 253,\n",
       " 253,\n",
       " 253,\n",
       " 253,\n",
       " 253,\n",
       " 253,\n",
       " 253,\n",
       " 253,\n",
       " 253,\n",
       " 253,\n",
       " 253,\n",
       " 253,\n",
       " 253,\n",
       " 253,\n",
       " 253,\n",
       " 253,\n",
       " 253,\n",
       " 252,\n",
       " 252,\n",
       " 252,\n",
       " 252,\n",
       " 252,\n",
       " 251,\n",
       " 251,\n",
       " 251,\n",
       " 251,\n",
       " 251,\n",
       " 251,\n",
       " 251,\n",
       " 251,\n",
       " 251,\n",
       " 251,\n",
       " 250,\n",
       " 250,\n",
       " 250,\n",
       " 250,\n",
       " 250,\n",
       " 250,\n",
       " 250,\n",
       " 250,\n",
       " 251,\n",
       " 251,\n",
       " 250,\n",
       " 250,\n",
       " 250,\n",
       " 250,\n",
       " 250,\n",
       " 250,\n",
       " 249,\n",
       " 249,\n",
       " 249,\n",
       " 249,\n",
       " 249,\n",
       " 249,\n",
       " 249,\n",
       " 249,\n",
       " 248,\n",
       " 248,\n",
       " 248,\n",
       " 248,\n",
       " 248,\n",
       " 248,\n",
       " 248,\n",
       " 248,\n",
       " 247,\n",
       " 247,\n",
       " 247,\n",
       " 247,\n",
       " 247]"
      ]
     },
     "execution_count": 86,
     "metadata": {},
     "output_type": "execute_result"
    }
   ],
   "source": [
    "y_pixels"
   ]
  },
  {
   "cell_type": "code",
   "execution_count": 89,
   "metadata": {},
   "outputs": [],
   "source": [
    "all_pixels = list(zip(x_pixels, y_pixels))"
   ]
  },
  {
   "cell_type": "markdown",
   "metadata": {},
   "source": [
    "What I need to do here is to display the matrix so that these coordinates are multiplied by 1, and the others are multiplied by 0."
   ]
  },
  {
   "cell_type": "code",
   "execution_count": 90,
   "metadata": {},
   "outputs": [
    {
     "data": {
      "text/plain": [
       "[(268, 247),\n",
       " (268, 247),\n",
       " (269, 247),\n",
       " (269, 247),\n",
       " (269, 247),\n",
       " (270, 247),\n",
       " (270, 248),\n",
       " (270, 248),\n",
       " (270, 248),\n",
       " (270, 248),\n",
       " (270, 249),\n",
       " (270, 249),\n",
       " (270, 249),\n",
       " (270, 249),\n",
       " (270, 249),\n",
       " (270, 249),\n",
       " (270, 249),\n",
       " (270, 249),\n",
       " (270, 250),\n",
       " (269, 250),\n",
       " (269, 250),\n",
       " (269, 250),\n",
       " (269, 250),\n",
       " (269, 250),\n",
       " (269, 250),\n",
       " (269, 250),\n",
       " (269, 251),\n",
       " (269, 251),\n",
       " (269, 251),\n",
       " (269, 251),\n",
       " (269, 251),\n",
       " (269, 251),\n",
       " (270, 251),\n",
       " (270, 251),\n",
       " (270, 252),\n",
       " (270, 252),\n",
       " (270, 252),\n",
       " (270, 252),\n",
       " (270, 252),\n",
       " (270, 253),\n",
       " (270, 253),\n",
       " (270, 253),\n",
       " (270, 253),\n",
       " (270, 253),\n",
       " (270, 253),\n",
       " (270, 253),\n",
       " (269, 253),\n",
       " (269, 253),\n",
       " (268, 253),\n",
       " (268, 253),\n",
       " (268, 253),\n",
       " (268, 253),\n",
       " (268, 253),\n",
       " (268, 253),\n",
       " (268, 253),\n",
       " (268, 253),\n",
       " (268, 253),\n",
       " (267, 253),\n",
       " (267, 253),\n",
       " (267, 252),\n",
       " (267, 252),\n",
       " (267, 252),\n",
       " (267, 252),\n",
       " (267, 252),\n",
       " (267, 251),\n",
       " (267, 251),\n",
       " (267, 251),\n",
       " (267, 251),\n",
       " (266, 251),\n",
       " (266, 251),\n",
       " (266, 251),\n",
       " (266, 251),\n",
       " (266, 251),\n",
       " (266, 251),\n",
       " (266, 250),\n",
       " (266, 250),\n",
       " (266, 250),\n",
       " (266, 250),\n",
       " (265, 250),\n",
       " (265, 250),\n",
       " (265, 250),\n",
       " (265, 250),\n",
       " (265, 251),\n",
       " (265, 251),\n",
       " (265, 250),\n",
       " (265, 250),\n",
       " (265, 250),\n",
       " (265, 250),\n",
       " (265, 250),\n",
       " (265, 250),\n",
       " (265, 249),\n",
       " (265, 249),\n",
       " (265, 249),\n",
       " (265, 249),\n",
       " (265, 249),\n",
       " (266, 249),\n",
       " (266, 249),\n",
       " (266, 249),\n",
       " (266, 248),\n",
       " (266, 248),\n",
       " (266, 248),\n",
       " (266, 248),\n",
       " (266, 248),\n",
       " (266, 248),\n",
       " (266, 248),\n",
       " (266, 248),\n",
       " (266, 247),\n",
       " (267, 247),\n",
       " (267, 247),\n",
       " (267, 247),\n",
       " (267, 247)]"
      ]
     },
     "execution_count": 90,
     "metadata": {},
     "output_type": "execute_result"
    }
   ],
   "source": [
    "all_pixels"
   ]
  },
  {
   "cell_type": "code",
   "execution_count": 105,
   "metadata": {},
   "outputs": [],
   "source": [
    "import numpy as np\n",
    "test_array = np.zeros([512,512])"
   ]
  },
  {
   "cell_type": "code",
   "execution_count": 106,
   "metadata": {},
   "outputs": [
    {
     "data": {
      "text/plain": [
       "0.0"
      ]
     },
     "execution_count": 106,
     "metadata": {},
     "output_type": "execute_result"
    }
   ],
   "source": [
    "test_array[0,0]"
   ]
  },
  {
   "cell_type": "code",
   "execution_count": 119,
   "metadata": {},
   "outputs": [
    {
     "data": {
      "text/plain": [
       "array([[  0.,   0.,   0.,   0.,   0.,   0.,   0.,   0.,   0.,   0.,   0.,\n",
       "          0.,   0.,   0.,   0.,   0.,   0.,   0.,   0.,   0.,   0.,   0.,\n",
       "          0.,   0.,   0.,   0.,   0.,   0.,   0.,   0.,   0.,   0.,   0.,\n",
       "          0.,   0.,   0.,   0.,   0.,   0.,   0.],\n",
       "       [  0.,   0.,   0.,   0.,   0.,   0.,   0.,   0.,   0.,   0.,   0.,\n",
       "          0.,   0.,   0.,   0.,   0.,   0.,   0.,   0.,   0.,   0.,   0.,\n",
       "          0.,   0.,   0.,   0.,   0.,   0.,   0.,   0.,   0.,   0.,   0.,\n",
       "          0.,   0.,   0.,   0.,   0.,   0.,   0.],\n",
       "       [  0.,   0.,   0.,   0.,   0.,   0.,   0.,   0.,   0.,   0.,   0.,\n",
       "          0.,   0.,   0.,   0.,   0.,   0.,   0.,   0.,   0.,   0.,   0.,\n",
       "          0.,   0.,   0.,   0.,   0.,   0.,   0.,   0.,   0.,   0.,   0.,\n",
       "          0.,   0.,   0.,   0.,   0.,   0.,   0.],\n",
       "       [  0.,   0.,   0.,   0.,   0.,   0.,   0.,   0.,   0.,   0.,   0.,\n",
       "          0.,   0.,   0.,   0.,   0.,   0.,   0.,   0.,   0.,   0.,   0.,\n",
       "          0.,   0.,   0.,   0.,   0.,   0.,   0.,   0.,   0.,   0.,   0.,\n",
       "          0.,   0.,   0.,   0.,   0.,   0.,   0.],\n",
       "       [  0.,   0.,   0.,   0.,   0.,   0.,   0.,   0.,   0.,   0.,   0.,\n",
       "          0.,   0.,   0.,   0.,   0.,   0.,   0.,   0.,   0.,   0.,   0.,\n",
       "          0.,   0.,   0.,   0.,   0.,   0.,   0.,   0.,   0.,   0.,   0.,\n",
       "          0.,   0.,   0.,   0.,   0.,   0.,   0.],\n",
       "       [  0.,   0.,   0.,   0.,   0.,   0.,   0.,   0.,   0., 912., 915.,\n",
       "        916.,   0.,   0.,   0.,   0.,   0.,   0.,   0.,   0.,   0.,   0.,\n",
       "          0.,   0.,   0.,   0.,   0.,   0.,   0.,   0.,   0.,   0.,   0.,\n",
       "          0.,   0.,   0.,   0.,   0.,   0.,   0.],\n",
       "       [  0.,   0.,   0.,   0.,   0.,   0.,   0., 924., 919., 918., 915.,\n",
       "        925.,   0.,   0.,   0.,   0.,   0.,   0.,   0.,   0.,   0.,   0.,\n",
       "          0.,   0.,   0.,   0.,   0.,   0.,   0.,   0.,   0.,   0.,   0.,\n",
       "          0.,   0.,   0.,   0.,   0.,   0.,   0.],\n",
       "       [  0.,   0.,   0.,   0.,   0.,   0.,   0., 951.,   0.,   0.,   0.,\n",
       "        925., 925., 917.,   0.,   0.,   0.,   0.,   0.,   0.,   0.,   0.,\n",
       "          0.,   0.,   0.,   0.,   0.,   0.,   0.,   0.,   0.,   0.,   0.,\n",
       "          0.,   0.,   0.,   0.,   0.,   0.,   0.],\n",
       "       [  0.,   0.,   0.,   0.,   0.,   0.,   0., 956.,   0.,   0.,   0.,\n",
       "          0.,   0., 916.,   0.,   0.,   0.,   0.,   0.,   0.,   0.,   0.,\n",
       "          0.,   0.,   0.,   0.,   0.,   0.,   0.,   0.,   0.,   0.,   0.,\n",
       "          0.,   0.,   0.,   0.,   0.,   0.,   0.],\n",
       "       [  0.,   0.,   0.,   0.,   0.,   0.,   0., 989.,   0.,   0., 933.,\n",
       "        939.,   0., 934.,   0.,   0.,   0.,   0.,   0.,   0.,   0.,   0.,\n",
       "          0.,   0.,   0.,   0.,   0.,   0.,   0.,   0.,   0.,   0.,   0.,\n",
       "          0.,   0.,   0.,   0.,   0.,   0.,   0.]])"
      ]
     },
     "execution_count": 119,
     "metadata": {},
     "output_type": "execute_result"
    }
   ],
   "source": [
    "test_array[260:270, 240:280]"
   ]
  },
  {
   "cell_type": "code",
   "execution_count": 111,
   "metadata": {},
   "outputs": [],
   "source": [
    "np.zeros(5)\n",
    "for a_pixel in all_pixels:\n",
    "    test_array[a_pixel[0], a_pixel[1]] = pixel_array_of_first_contour[a_pixel[0], a_pixel[1]]"
   ]
  },
  {
   "cell_type": "code",
   "execution_count": 108,
   "metadata": {},
   "outputs": [
    {
     "data": {
      "text/plain": [
       "array([[0., 0., 0., ..., 0., 0., 0.],\n",
       "       [0., 0., 0., ..., 0., 0., 0.],\n",
       "       [0., 0., 0., ..., 0., 0., 0.],\n",
       "       ...,\n",
       "       [0., 0., 0., ..., 0., 0., 0.],\n",
       "       [0., 0., 0., ..., 0., 0., 0.],\n",
       "       [0., 0., 0., ..., 0., 0., 0.]])"
      ]
     },
     "execution_count": 108,
     "metadata": {},
     "output_type": "execute_result"
    }
   ],
   "source": [
    "test_array"
   ]
  },
  {
   "cell_type": "code",
   "execution_count": 120,
   "metadata": {},
   "outputs": [
    {
     "data": {
      "text/plain": [
       "<matplotlib.colorbar.Colorbar at 0x11c6e3ef0>"
      ]
     },
     "execution_count": 120,
     "metadata": {},
     "output_type": "execute_result"
    },
    {
     "data": {
      "image/png": "[encoded data removed]",
      "text/plain": [
       "<Figure size 432x288 with 2 Axes>"
      ]
     },
     "metadata": {},
     "output_type": "display_data"
    }
   ],
   "source": [
    "plt.imshow(test_array[260:280, 230:260], cmap=plt.cm.bone)  "
   ]
  },
  {
   "cell_type": "markdown",
   "metadata": {},
   "source": [
    "Are these the boundaries or the pixels themselves?"
   ]
  },
  {
   "cell_type": "markdown",
   "metadata": {},
   "source": [
    "I think I came to the point where I need to figure out the points that fall within a boundary... using distance function....\n",
    "\n",
    "But first let's see what happens to these coordinates when we plot them?"
   ]
  },
  {
   "cell_type": "code",
   "execution_count": 91,
   "metadata": {},
   "outputs": [
    {
     "data": {
      "text/plain": [
       "[(268, 247),\n",
       " (268, 247),\n",
       " (269, 247),\n",
       " (269, 247),\n",
       " (269, 247),\n",
       " (270, 247),\n",
       " (270, 248),\n",
       " (270, 248),\n",
       " (270, 248),\n",
       " (270, 248),\n",
       " (270, 249),\n",
       " (270, 249),\n",
       " (270, 249),\n",
       " (270, 249),\n",
       " (270, 249),\n",
       " (270, 249),\n",
       " (270, 249),\n",
       " (270, 249),\n",
       " (270, 250),\n",
       " (269, 250),\n",
       " (269, 250),\n",
       " (269, 250),\n",
       " (269, 250),\n",
       " (269, 250),\n",
       " (269, 250),\n",
       " (269, 250),\n",
       " (269, 251),\n",
       " (269, 251),\n",
       " (269, 251),\n",
       " (269, 251),\n",
       " (269, 251),\n",
       " (269, 251),\n",
       " (270, 251),\n",
       " (270, 251),\n",
       " (270, 252),\n",
       " (270, 252),\n",
       " (270, 252),\n",
       " (270, 252),\n",
       " (270, 252),\n",
       " (270, 253),\n",
       " (270, 253),\n",
       " (270, 253),\n",
       " (270, 253),\n",
       " (270, 253),\n",
       " (270, 253),\n",
       " (270, 253),\n",
       " (269, 253),\n",
       " (269, 253),\n",
       " (268, 253),\n",
       " (268, 253),\n",
       " (268, 253),\n",
       " (268, 253),\n",
       " (268, 253),\n",
       " (268, 253),\n",
       " (268, 253),\n",
       " (268, 253),\n",
       " (268, 253),\n",
       " (267, 253),\n",
       " (267, 253),\n",
       " (267, 252),\n",
       " (267, 252),\n",
       " (267, 252),\n",
       " (267, 252),\n",
       " (267, 252),\n",
       " (267, 251),\n",
       " (267, 251),\n",
       " (267, 251),\n",
       " (267, 251),\n",
       " (266, 251),\n",
       " (266, 251),\n",
       " (266, 251),\n",
       " (266, 251),\n",
       " (266, 251),\n",
       " (266, 251),\n",
       " (266, 250),\n",
       " (266, 250),\n",
       " (266, 250),\n",
       " (266, 250),\n",
       " (265, 250),\n",
       " (265, 250),\n",
       " (265, 250),\n",
       " (265, 250),\n",
       " (265, 251),\n",
       " (265, 251),\n",
       " (265, 250),\n",
       " (265, 250),\n",
       " (265, 250),\n",
       " (265, 250),\n",
       " (265, 250),\n",
       " (265, 250),\n",
       " (265, 249),\n",
       " (265, 249),\n",
       " (265, 249),\n",
       " (265, 249),\n",
       " (265, 249),\n",
       " (266, 249),\n",
       " (266, 249),\n",
       " (266, 249),\n",
       " (266, 248),\n",
       " (266, 248),\n",
       " (266, 248),\n",
       " (266, 248),\n",
       " (266, 248),\n",
       " (266, 248),\n",
       " (266, 248),\n",
       " (266, 248),\n",
       " (266, 247),\n",
       " (267, 247),\n",
       " (267, 247),\n",
       " (267, 247),\n",
       " (267, 247)]"
      ]
     },
     "execution_count": 91,
     "metadata": {},
     "output_type": "execute_result"
    }
   ],
   "source": [
    "all_pixels"
   ]
  },
  {
   "cell_type": "code",
   "execution_count": null,
   "metadata": {},
   "outputs": [],
   "source": [
    "a"
   ]
  },
  {
   "cell_type": "code",
   "execution_count": null,
   "metadata": {},
   "outputs": [],
   "source": []
  },
  {
   "cell_type": "code",
   "execution_count": 56,
   "metadata": {},
   "outputs": [],
   "source": [
    "gap = 1.71875"
   ]
  },
  {
   "cell_type": "code",
   "execution_count": 53,
   "metadata": {},
   "outputs": [],
   "source": [
    "x_start = -300\n",
    "y_start = -271"
   ]
  },
  {
   "cell_type": "code",
   "execution_count": null,
   "metadata": {},
   "outputs": [],
   "source": []
  },
  {
   "cell_type": "markdown",
   "metadata": {},
   "source": [
    "So each pixel is associated with an x and a y."
   ]
  },
  {
   "cell_type": "code",
   "execution_count": null,
   "metadata": {},
   "outputs": [],
   "source": [
    "cffas.ROIContourSequence[9].ContourSequence[0].ContourData"
   ]
  },
  {
   "cell_type": "code",
   "execution_count": null,
   "metadata": {},
   "outputs": [],
   "source": [
    "cffas.ROIContourSequence[9] #.ContourSequence[0]"
   ]
  },
  {
   "cell_type": "code",
   "execution_count": null,
   "metadata": {},
   "outputs": [],
   "source": [
    "dir(cffas.ROIContourSequence[9].ContourSequence[0].ContourImageSequence[0].ReferencedSOPInstanceUID[0])"
   ]
  },
  {
   "cell_type": "code",
   "execution_count": null,
   "metadata": {},
   "outputs": [],
   "source": [
    "cffas.ROIContourSequence[9].ContourSequence[0].ContourImageSequence[0].ReferencedSOPInstanceUID"
   ]
  },
  {
   "cell_type": "code",
   "execution_count": null,
   "metadata": {},
   "outputs": [],
   "source": [
    "cffas.ROIContourSequence[9].ContourSequence[0]"
   ]
  },
  {
   "cell_type": "code",
   "execution_count": null,
   "metadata": {},
   "outputs": [],
   "source": []
  },
  {
   "cell_type": "code",
   "execution_count": null,
   "metadata": {},
   "outputs": [],
   "source": []
  },
  {
   "cell_type": "code",
   "execution_count": null,
   "metadata": {},
   "outputs": [],
   "source": []
  },
  {
   "cell_type": "code",
   "execution_count": null,
   "metadata": {},
   "outputs": [],
   "source": []
  },
  {
   "cell_type": "code",
   "execution_count": null,
   "metadata": {},
   "outputs": [],
   "source": [
    "cffas.ROIContourSequence[9].ContourSequence[0]"
   ]
  },
  {
   "cell_type": "code",
   "execution_count": null,
   "metadata": {},
   "outputs": [],
   "source": [
    "cffas.ROIContourSequence[9].ContourSequence[0]"
   ]
  },
  {
   "cell_type": "code",
   "execution_count": null,
   "metadata": {},
   "outputs": [],
   "source": []
  },
  {
   "cell_type": "code",
   "execution_count": null,
   "metadata": {},
   "outputs": [],
   "source": []
  },
  {
   "cell_type": "markdown",
   "metadata": {},
   "source": [
    "#### Let's Match the Contours to the Slices"
   ]
  },
  {
   "cell_type": "markdown",
   "metadata": {},
   "source": [
    "Contours"
   ]
  },
  {
   "cell_type": "markdown",
   "metadata": {},
   "source": [
    "It seems that this is a sequence of contours, and I can access individual units of these by calling `ContourSequence[i]`"
   ]
  },
  {
   "cell_type": "code",
   "execution_count": null,
   "metadata": {},
   "outputs": [],
   "source": [
    "#aics1 --> \"All Images in ContourSequence[1]\"\n",
    "aics1 = []\n",
    "for structure in iter(cffas.ROIContourSequence[1].ContourSequence):\n",
    "    aics1.append(structure.ContourImageSequence[0].ReferencedSOPInstanceUID)"
   ]
  },
  {
   "cell_type": "code",
   "execution_count": null,
   "metadata": {},
   "outputs": [],
   "source": [
    "len(set(aics1))"
   ]
  },
  {
   "cell_type": "markdown",
   "metadata": {},
   "source": [
    "Checking if all the images associated with the contours are ones we know"
   ]
  },
  {
   "cell_type": "code",
   "execution_count": null,
   "metadata": {},
   "outputs": [],
   "source": [
    "among_images = True\n",
    "for image_name in aics1:\n",
    "    if image_name not in image_uids:\n",
    "        among_images = False\n",
    "        print('problem')"
   ]
  },
  {
   "cell_type": "markdown",
   "metadata": {},
   "source": [
    "#### Let's do this check for all Contour Sets:"
   ]
  },
  {
   "cell_type": "code",
   "execution_count": null,
   "metadata": {},
   "outputs": [],
   "source": [
    "len(cffas.ROIContourSequence[2].ContourSequence)"
   ]
  },
  {
   "cell_type": "code",
   "execution_count": null,
   "metadata": {},
   "outputs": [],
   "source": [
    "cffas.ROIContourSequence[i].ContourSequence[27].ContourImageSequence[0].ReferencedSOPInstanceUID"
   ]
  },
  {
   "cell_type": "code",
   "execution_count": null,
   "metadata": {},
   "outputs": [],
   "source": [
    "# def check_contour_images_known(contour_index):\n",
    "#     aics = []\n",
    "#     for structure in iter(cffas.ROIContourSequence[contour_index].ContourSequence):\n",
    "#         aics.append(structure.ContourImageSequence[0].ReferencedSOPInstanceUID)"
   ]
  },
  {
   "cell_type": "code",
   "execution_count": null,
   "metadata": {},
   "outputs": [],
   "source": [
    "#for cs in iter(cffas.ROIContourSequence[2].ContourSequence):\n",
    "#    print(cs.ContourImageSequence[0].ReferencedSOPInstanceUID)"
   ]
  },
  {
   "cell_type": "code",
   "execution_count": null,
   "metadata": {},
   "outputs": [],
   "source": [
    "cffas.ROIContourSequence[1].ContourSequence[0].ContourImageSequence[0].ReferencedSOPInstanceUID\n",
    "\n",
    "# ROIContourSequence has the different colors/kinds of sequences.\n",
    "# ContourSequence ; has the different contours that correspond to different images/structures on images + metadata"
   ]
  },
  {
   "cell_type": "markdown",
   "metadata": {},
   "source": [
    "#### ContourData Itself"
   ]
  },
  {
   "cell_type": "code",
   "execution_count": null,
   "metadata": {},
   "outputs": [],
   "source": [
    "type(cffas.ROIContourSequence[1].ContourSequence[26].ContourData)"
   ]
  },
  {
   "cell_type": "code",
   "execution_count": null,
   "metadata": {
    "scrolled": false
   },
   "outputs": [],
   "source": [
    "# How to access the coordinates\n",
    "cffas.ROIContourSequence[1].ContourSequence[26].ContourData[:6]"
   ]
  },
  {
   "cell_type": "code",
   "execution_count": null,
   "metadata": {},
   "outputs": [],
   "source": [
    "cffas.ROIContourSequence[1].ContourSequence[26].ContourData[2]"
   ]
  },
  {
   "cell_type": "markdown",
   "metadata": {},
   "source": [
    "This is a way of accessing the contour data. They are not organized the best way, with no recognition of the fact that these are 3D coordinates. Need to be converted to floats and probably to coordinates. "
   ]
  },
  {
   "cell_type": "code",
   "execution_count": null,
   "metadata": {},
   "outputs": [],
   "source": [
    "# ContourData is like a list of coordinates\n",
    "print(\"How many Contour Points do we have? {}\".format(\n",
    "      cffas.\n",
    "      ROIContourSequence[1].ContourSequence[26].NumberOfContourPoints))\n",
    "print(\"How many coordinates are expected for {} contour points? {}\".format(\n",
    "      cffas.\n",
    "      ROIContourSequence[1].ContourSequence[26].NumberOfContourPoints,\n",
    "      3*int(cffas.\n",
    "            ROIContourSequence[1].ContourSequence[26].NumberOfContourPoints)))\n",
    "print(\"How many coordinates do we have in ContourData? {}\".format(\n",
    "        len(cffas.\n",
    "            ROIContourSequence[1].ContourSequence[26].ContourData)))"
   ]
  },
  {
   "cell_type": "code",
   "execution_count": null,
   "metadata": {},
   "outputs": [],
   "source": [
    "len(cffas.ROIContourSequence[1].ContourSequence[27].ContourData)"
   ]
  },
  {
   "cell_type": "code",
   "execution_count": null,
   "metadata": {},
   "outputs": [],
   "source": [
    "cffas.ROIContourSequence[1].ContourSequence[27].ContourImageSequence[0]"
   ]
  },
  {
   "cell_type": "code",
   "execution_count": null,
   "metadata": {},
   "outputs": [],
   "source": [
    "cffas.ROIContourSequence[1].ContourSequence[27].ContourImageSequence[0].ReferencedSOPInstanceUID"
   ]
  },
  {
   "cell_type": "markdown",
   "metadata": {},
   "source": [
    "How to map the contours to the images?"
   ]
  },
  {
   "cell_type": "markdown",
   "metadata": {},
   "source": [
    "data_file_of_last_slice_of_CT_scan.SOPInstanceUID"
   ]
  },
  {
   "cell_type": "markdown",
   "metadata": {},
   "source": [
    "Note that `ContourSequence[26]` and `27` both have the same slice height, and the `ContourImageSequence[0]` gives the same value for both of them."
   ]
  },
  {
   "cell_type": "markdown",
   "metadata": {},
   "source": [
    "How to match the slices to the images\n",
    "Is it true that the ContourSequences refer to the same z-height sometimes because they are multiple structures.\n",
    "Check the images and get the contours.\n",
    "also if there so multiple structures on an image, there should be way more than 29 images right?"
   ]
  },
  {
   "cell_type": "markdown",
   "metadata": {},
   "source": [
    "\n",
    "#### Outstanding Questions\n",
    "\n",
    "* Why are there 32 of these Sequences?\n",
    "    * One would have thought that there are 32 slices for the first ContourSequence but that is not the case.\n",
    "\n",
    "* Check if the metadata `ContourImageSequence[0]` matches metadata of images themselves. That would enable mapping.\n",
    "\n",
    "* How to look at dicompyler source code to see how it solves this problem of matching contours to images."
   ]
  },
  {
   "cell_type": "markdown",
   "metadata": {},
   "source": [
    "**** Check Assumptions:\n",
    "Are all the z-coordinates in a ContourSequence dataset/list the same? If they are, that is great.\n",
    "Print the SOIP UID of all images.\n",
    "\n",
    "*Try to find the mapping of the ROIContourSequences to the Contours such as RT LUNG, GTV FREE etc."
   ]
  },
  {
   "cell_type": "markdown",
   "metadata": {},
   "source": [
    "MetaData Analysis"
   ]
  },
  {
   "cell_type": "markdown",
   "metadata": {},
   "source": [
    "ReferencedStudySequence"
   ]
  },
  {
   "cell_type": "code",
   "execution_count": null,
   "metadata": {},
   "outputs": [],
   "source": [
    "cffas.ReferencedStudySequence[0]"
   ]
  },
  {
   "cell_type": "markdown",
   "metadata": {},
   "source": [
    "The SOPInstanceUID is different from others but very close! (Ask Mohamed what this may mean?)"
   ]
  },
  {
   "cell_type": "code",
   "execution_count": null,
   "metadata": {},
   "outputs": [],
   "source": [
    "cffas.SOPClassUID #we do not need this. this is something completely different."
   ]
  },
  {
   "cell_type": "code",
   "execution_count": null,
   "metadata": {},
   "outputs": [],
   "source": [
    "cffas.SOPInstanceUID"
   ]
  },
  {
   "cell_type": "markdown",
   "metadata": {},
   "source": [
    "*What is Reference 'Study' and Is Its SOP Instance one of the Scans?*"
   ]
  },
  {
   "cell_type": "markdown",
   "metadata": {},
   "source": [
    "Find a way to make 3d visualizations of the contours. Irem's idea."
   ]
  },
  {
   "cell_type": "code",
   "execution_count": null,
   "metadata": {},
   "outputs": [],
   "source": [
    "test = cffas.ReferencedStudySequence[0].ReferencedSOPInstanceUID\n",
    "#test in sop_instance_ids_of_136_scans"
   ]
  },
  {
   "cell_type": "markdown",
   "metadata": {},
   "source": [
    "Combine multiple slices / contours so that the structure/tumor (etc 'lung') is visible as a 3d object."
   ]
  },
  {
   "cell_type": "markdown",
   "metadata": {},
   "source": [
    "#### Let's Draw the Contours on One Image"
   ]
  },
  {
   "cell_type": "code",
   "execution_count": null,
   "metadata": {},
   "outputs": [],
   "source": [
    "dir(cffas.ROIContourSequence[1].ContourSequence[0])"
   ]
  },
  {
   "cell_type": "code",
   "execution_count": null,
   "metadata": {},
   "outputs": [],
   "source": [
    "cffas.ROIContourSequence[1].ContourSequence[0].ContourImageSequence[0]"
   ]
  },
  {
   "cell_type": "code",
   "execution_count": null,
   "metadata": {},
   "outputs": [],
   "source": [
    "image_id = cffas.ROIContourSequence[1].ContourSequence[0].ContourImageSequence[0].ReferencedSOPInstanceUID\n",
    "#dir(cffas.ROIContourSequence[1].ContourSequence[0].ContourImageSequence)"
   ]
  },
  {
   "cell_type": "code",
   "execution_count": null,
   "metadata": {},
   "outputs": [],
   "source": [
    "image_id"
   ]
  },
  {
   "cell_type": "markdown",
   "metadata": {},
   "source": [
    "How am I going to find the average brightness of pixels within the "
   ]
  },
  {
   "cell_type": "code",
   "execution_count": null,
   "metadata": {},
   "outputs": [],
   "source": []
  },
  {
   "cell_type": "code",
   "execution_count": null,
   "metadata": {},
   "outputs": [],
   "source": []
  },
  {
   "cell_type": "code",
   "execution_count": null,
   "metadata": {},
   "outputs": [],
   "source": []
  },
  {
   "cell_type": "code",
   "execution_count": null,
   "metadata": {},
   "outputs": [],
   "source": []
  },
  {
   "cell_type": "markdown",
   "metadata": {},
   "source": [
    "Check why the brightness is not the same in dicompyler as in the program."
   ]
  },
  {
   "cell_type": "code",
   "execution_count": null,
   "metadata": {},
   "outputs": [],
   "source": []
  }
 ],
 "metadata": {
  "kernelspec": {
   "display_name": "Python [default]",
   "language": "python",
   "name": "python3"
  },
  "language_info": {
   "codemirror_mode": {
    "name": "ipython",
    "version": 3
   },
   "file_extension": ".py",
   "mimetype": "text/x-python",
   "name": "python",
   "nbconvert_exporter": "python",
   "pygments_lexer": "ipython3",
   "version": "3.5.5"
  }
 },
 "nbformat": 4,
 "nbformat_minor": 2
}
