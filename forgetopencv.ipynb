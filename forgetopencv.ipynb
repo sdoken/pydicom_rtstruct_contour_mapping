{
 "cells": [
  {
   "cell_type": "code",
   "execution_count": 8,
   "metadata": {},
   "outputs": [],
   "source": [
    "%run extract_contours"
   ]
  },
  {
   "cell_type": "code",
   "execution_count": 4,
   "metadata": {},
   "outputs": [
    {
     "name": "stdout",
     "output_type": "stream",
     "text": [
      "calculate_image_seq_on_dicompyler\t cffas\t contours\t current_file\t current_filename\t current_uid\t display_scan\t file_of_slice_with_contours\t filename\t \n",
      "find_correct_image\t i\t image_uids\t integervalue\t math\t matplotlib\t np\t pixel_array\t plt\t \n",
      "pydicom\t uid_to_filename_map\t uid_to_location_map\t x_coords_of_contours\t y_coords_of_contours\t \n"
     ]
    }
   ],
   "source": [
    "%who"
   ]
  },
  {
   "cell_type": "code",
   "execution_count": 1,
   "metadata": {},
   "outputs": [],
   "source": [
    "def find_correct_image(contoursequence):\n",
    "    \"\"\"\n",
    "    Given an rtstruct.dicom files ROIContourSequence[9].ContourSequence[i],\n",
    "    return the correct filename (using the UID)\n",
    "    \"\"\"\n",
    "    return uid_to_filename_map[contoursequence.ContourImageSequence[0].ReferencedSOPInstanceUID]"
   ]
  },
  {
   "cell_type": "code",
   "execution_count": null,
   "metadata": {},
   "outputs": [],
   "source": [
    "import math\n",
    "import numpy as np\n",
    "import pydicom\n",
    "import matplotlib.pyplot as plt\n",
    "import matplotlib.path\n",
    "%matplotlib inline"
   ]
  },
  {
   "cell_type": "code",
   "execution_count": null,
   "metadata": {},
   "outputs": [],
   "source": [
    "def calculate_image_seq_on_dicompyler(image_no):\n",
    "    return 136-image_no + 1"
   ]
  },
  {
   "cell_type": "code",
   "execution_count": null,
   "metadata": {},
   "outputs": [],
   "source": [
    "def display_scan(filename_text):\n",
    "    plt.imshow(pydicom.dcmread(filename_text).pixel_array, cmap=plt.cm.bone)"
   ]
  },
  {
   "cell_type": "code",
   "execution_count": null,
   "metadata": {},
   "outputs": [],
   "source": [
    "integervalue = 3\n",
    "'{0:03d}'.format(integervalue)\n",
    "# image_uids --> sop_instance_ids_of_136_scans\n",
    "image_uids = [] # data: ids of all images in the dataset\n",
    "#image_locations = [] # data : locations of all slices/images in the dataset\n",
    "uid_to_filename_map = dict()\n",
    "uid_to_location_map = dict()\n",
    "filename = 'data/P1152/P1152_pCT_20140226_'\n",
    "\n",
    "# making a list of UIDs of all images\n",
    "# going through all the files\n",
    "for i in range(1, 137):\n",
    "    current_filename = filename + '{0:03d}'.format(i) + '.dcm'\n",
    "    current_file = pydicom.dcmread(current_filename)\n",
    "    current_uid = current_file.SOPInstanceUID\n",
    "    current_location = current_file.SliceLocation\n",
    "    image_uids.append(current_uid)\n",
    "    uid_to_filename_map[current_uid] = current_filename\n",
    "    uid_to_location_map[current_uid] = current_location # think about merging these 2 dicts\n",
    "    #image_locations.append(current_file.SliceLocation)  # think about using strings vs integers\n",
    "    # computational cost."
   ]
  },
  {
   "cell_type": "code",
   "execution_count": null,
   "metadata": {},
   "outputs": [],
   "source": [
    "def find_correct_image(contoursequence):\n",
    "    \"\"\"\n",
    "    Given an rtstruct.dicom files ROIContourSequence[9].ContourSequence[i],\n",
    "    return the correct filename (using the UID)\n",
    "    \"\"\"\n",
    "    return uid_to_filename_map[contoursequence.ContourImageSequence[0].ReferencedSOPInstanceUID]"
   ]
  },
  {
   "cell_type": "code",
   "execution_count": null,
   "metadata": {},
   "outputs": [],
   "source": [
    "# contour_file_for_all_136_scans --> cffas\n",
    "cffas = pydicom.dcmread('data/P1152/P1152_RTStructure_1.dcm')\n",
    "\n",
    "file_of_slice_with_contours = pydicom.dcmread(find_correct_image(cffas.ROIContourSequence[9].ContourSequence[6]))\n",
    "pixel_array = file_of_slice_with_contours.pixel_array\n",
    "\n",
    "contours = cffas.ROIContourSequence[9].ContourSequence[6].ContourData\n",
    "x_coords_of_contours = [ float(number) for number in contours[0::3] ]\n",
    "y_coords_of_contours = [ float(number) for number in contours[1::3] ]"
   ]
  },
  {
   "cell_type": "code",
   "execution_count": null,
   "metadata": {},
   "outputs": [],
   "source": [
    "pixel_spacing = file_of_slice_with_contours.PixelSpacing\n",
    "x_gap = pixel_spacing[0]\n",
    "y_gap = pixel_spacing[1]\n",
    "image_position_starting_points = file_of_slice_with_contours.ImagePositionPatient\n",
    "x_start = float(image_position_starting_points[0])\n",
    "y_start = float(image_position_starting_points[1])\n",
    "x_pixel_nos = (np.array(x_coords_of_contours)-x_start)/x_gap\n",
    "y_pixel_nos = (np.array(y_coords_of_contours)-y_start)/y_gap"
   ]
  },
  {
   "cell_type": "code",
   "execution_count": null,
   "metadata": {},
   "outputs": [],
   "source": [
    "plt.figure()\n",
    "plt.imshow(pixel_array, cmap='bone')\n",
    "plt.plot(x_pixel_nos, y_pixel_nos, color='r')\n",
    "plt.figure()"
   ]
  },
  {
   "cell_type": "code",
   "execution_count": null,
   "metadata": {},
   "outputs": [],
   "source": [
    "# created a list of Nx1x2 numpy arrays\n",
    "temp_list = []\n",
    "for a, b in zip(x_pixel_nos, y_pixel_nos):\n",
    "    temp_list.append([[a, b]])\n",
    "temp_array = np.array(temp_list)\n",
    "temp_array_list = []\n",
    "temp_array_list.append(temp_array)"
   ]
  },
  {
   "cell_type": "code",
   "execution_count": null,
   "metadata": {},
   "outputs": [],
   "source": [
    "temp_array_list[0].shape"
   ]
  },
  {
   "cell_type": "code",
   "execution_count": null,
   "metadata": {},
   "outputs": [],
   "source": [
    "len(contours[0::3])"
   ]
  },
  {
   "cell_type": "code",
   "execution_count": null,
   "metadata": {},
   "outputs": [],
   "source": [
    "#x_pixel_nos = [...]\n",
    "#y_pixel_nos = [...] # Data from https://gist.github.com/sdoken/173fae1f9d8673ffff5b481b3872a69d\n",
    "\n",
    "temp_list = []\n",
    "for a, b in zip(x_pixel_nos, y_pixel_nos):\n",
    "   temp_list.append([a, b])\n",
    "\n",
    "polygon = np.array(temp_list)\n",
    "print(polygon.shape)\n",
    "np.min(polygon, axis=0) # np.min takes the minimum value in each column (across axis=0 rows), \n",
    "# not sure why this is called left and right\n",
    "left = np.min(polygon, axis=0)   # i think left and right are misnomers here?\n",
    "right = np.max(polygon, axis=0)  \n",
    "\n",
    "# i think this just creates a range between the lowest x and highest\n",
    "x = np.arange(math.ceil(left[0]), math.floor(right[0]) + 1) \n",
    "y = np.arange(math.ceil(left[1]), math.floor(right[1]) + 1)\n",
    "\n",
    "xv, yv = np.meshgrid(x, y, indexing='xy') # do not understand meshgrid...\n",
    "points = np.hstack((xv.reshape((-1,1)), yv.reshape((-1,1)))) # points created \n",
    "\n",
    "path = matplotlib.path.Path(polygon)  # path created from polygon\n",
    "mask = path.contains_points(points)   # i think what is going on here is that we are getting to see what points \n",
    "# are within the path/polygon and what points are not within the \n",
    "#mask.shape = xv.shapes"
   ]
  },
  {
   "cell_type": "code",
   "execution_count": null,
   "metadata": {},
   "outputs": [],
   "source": [
    "mesh_matrix = np.meshgrid(x, y, indexing='xy')"
   ]
  },
  {
   "cell_type": "code",
   "execution_count": null,
   "metadata": {},
   "outputs": [],
   "source": [
    "len(mesh_matrix)"
   ]
  },
  {
   "cell_type": "code",
   "execution_count": null,
   "metadata": {},
   "outputs": [],
   "source": [
    "mesh_matrix[0].shape"
   ]
  },
  {
   "cell_type": "code",
   "execution_count": null,
   "metadata": {},
   "outputs": [],
   "source": [
    "help(np.meshgrid)"
   ]
  },
  {
   "cell_type": "code",
   "execution_count": null,
   "metadata": {},
   "outputs": [],
   "source": [
    "temp_list = []\n",
    "for a, b in zip(x_pixel_nos, y_pixel_nos):\n",
    "    temp_list.append([a, b])"
   ]
  },
  {
   "cell_type": "code",
   "execution_count": null,
   "metadata": {},
   "outputs": [],
   "source": [
    "?temp_list"
   ]
  },
  {
   "cell_type": "code",
   "execution_count": null,
   "metadata": {},
   "outputs": [],
   "source": [
    "temp_list = []\n",
    "for a, b in zip(x_pixel_nos, y_pixel_nos):\n",
    "   temp_list.append([a, b])\n",
    "\n",
    "polygon = np.array(temp_list)\n",
    "left = np.min(polygon, axis=0)  # Finds the smallest x coordinate and pairs it with the smallest y-coordinate\n",
    "right = np.max(polygon, axis=0)\n",
    "x = np.arange(math.ceil(left[0]), math.floor(right[0])+1)\n",
    "y = np.arange(math.ceil(left[1]), math.floor(right[1])+1)\n",
    "xv, yv = np.meshgrid(x, y, indexing='xy') # do not understand meshgrid...\n",
    "points = np.hstack((xv.reshape((-1,1)), yv.reshape((-1,1)))) # points created \n",
    "\n",
    "path = matplotlib.path.Path(polygon)  # path created from polygon\n",
    "mask = path.contains_points(points)   # i think what is going on here is that we are getting to see what points \n",
    "# are within the path/polygon and what points are not within the \n",
    "#mask.shape = xv.shapes"
   ]
  },
  {
   "cell_type": "code",
   "execution_count": null,
   "metadata": {},
   "outputs": [],
   "source": [
    "points[mask, :].shape"
   ]
  },
  {
   "cell_type": "markdown",
   "metadata": {},
   "source": [
    "Plot this this to see whether it includes the points inside."
   ]
  },
  {
   "cell_type": "markdown",
   "metadata": {},
   "source": [
    "Check if the points you get from a loop are the same number:"
   ]
  },
  {
   "cell_type": "code",
   "execution_count": null,
   "metadata": {},
   "outputs": [],
   "source": []
  },
  {
   "cell_type": "code",
   "execution_count": null,
   "metadata": {},
   "outputs": [],
   "source": [
    "512*512"
   ]
  },
  {
   "cell_type": "code",
   "execution_count": null,
   "metadata": {},
   "outputs": [],
   "source": [
    "444/(512*512)"
   ]
  },
  {
   "cell_type": "code",
   "execution_count": null,
   "metadata": {},
   "outputs": [],
   "source": [
    "pixel_array.shape"
   ]
  },
  {
   "cell_type": "code",
   "execution_count": null,
   "metadata": {},
   "outputs": [],
   "source": [
    "len(contours)/3"
   ]
  },
  {
   "cell_type": "code",
   "execution_count": null,
   "metadata": {},
   "outputs": [],
   "source": [
    "np.dot(points, mask)"
   ]
  },
  {
   "cell_type": "code",
   "execution_count": null,
   "metadata": {},
   "outputs": [],
   "source": [
    "points.shape"
   ]
  },
  {
   "cell_type": "code",
   "execution_count": null,
   "metadata": {},
   "outputs": [],
   "source": [
    "mask.shape"
   ]
  },
  {
   "cell_type": "code",
   "execution_count": null,
   "metadata": {},
   "outputs": [],
   "source": []
  },
  {
   "cell_type": "code",
   "execution_count": null,
   "metadata": {},
   "outputs": [],
   "source": []
  },
  {
   "cell_type": "code",
   "execution_count": null,
   "metadata": {},
   "outputs": [],
   "source": []
  },
  {
   "cell_type": "code",
   "execution_count": null,
   "metadata": {},
   "outputs": [],
   "source": [
    "For questions, ask bordenmike518@gmail.com"
   ]
  },
  {
   "cell_type": "code",
   "execution_count": null,
   "metadata": {},
   "outputs": [],
   "source": [
    "mask.shape"
   ]
  },
  {
   "cell_type": "code",
   "execution_count": null,
   "metadata": {},
   "outputs": [],
   "source": [
    "points.shape"
   ]
  },
  {
   "cell_type": "code",
   "execution_count": null,
   "metadata": {},
   "outputs": [],
   "source": [
    "points"
   ]
  },
  {
   "cell_type": "markdown",
   "metadata": {},
   "source": [
    "The points here that are positive/True are the points that fall within the contours."
   ]
  },
  {
   "cell_type": "markdown",
   "metadata": {},
   "source": [
    "Okay so this problem has been solved but how??"
   ]
  },
  {
   "cell_type": "code",
   "execution_count": null,
   "metadata": {},
   "outputs": [],
   "source": []
  },
  {
   "cell_type": "code",
   "execution_count": null,
   "metadata": {},
   "outputs": [],
   "source": []
  },
  {
   "cell_type": "code",
   "execution_count": null,
   "metadata": {},
   "outputs": [],
   "source": []
  },
  {
   "cell_type": "code",
   "execution_count": null,
   "metadata": {},
   "outputs": [],
   "source": []
  },
  {
   "cell_type": "code",
   "execution_count": null,
   "metadata": {},
   "outputs": [],
   "source": [
    "temp_list"
   ]
  },
  {
   "cell_type": "code",
   "execution_count": null,
   "metadata": {},
   "outputs": [],
   "source": [
    "type(temp_list)"
   ]
  },
  {
   "cell_type": "code",
   "execution_count": null,
   "metadata": {},
   "outputs": [],
   "source": [
    "len(temp_list)"
   ]
  },
  {
   "cell_type": "code",
   "execution_count": null,
   "metadata": {},
   "outputs": [],
   "source": [
    "type(polygon)"
   ]
  },
  {
   "cell_type": "code",
   "execution_count": null,
   "metadata": {},
   "outputs": [],
   "source": [
    "polygon.shape"
   ]
  },
  {
   "cell_type": "code",
   "execution_count": null,
   "metadata": {},
   "outputs": [],
   "source": [
    "type(mask)"
   ]
  },
  {
   "cell_type": "code",
   "execution_count": null,
   "metadata": {},
   "outputs": [],
   "source": [
    "mask.shape"
   ]
  },
  {
   "cell_type": "code",
   "execution_count": null,
   "metadata": {},
   "outputs": [],
   "source": []
  }
 ],
 "metadata": {
  "kernelspec": {
   "display_name": "Python [default]",
   "language": "python",
   "name": "python3"
  },
  "language_info": {
   "codemirror_mode": {
    "name": "ipython",
    "version": 3
   },
   "file_extension": ".py",
   "mimetype": "text/x-python",
   "name": "python",
   "nbconvert_exporter": "python",
   "pygments_lexer": "ipython3",
   "version": "3.5.5"
  }
 },
 "nbformat": 4,
 "nbformat_minor": 2
}
